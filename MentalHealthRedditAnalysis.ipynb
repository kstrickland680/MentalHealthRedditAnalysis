{
  "nbformat": 4,
  "nbformat_minor": 0,
  "metadata": {
    "colab": {
      "name": "MentalHealthRedditAnalysis.ipynb",
      "provenance": [],
      "collapsed_sections": [
        "5KbOpTlnchzo",
        "SyOYbplUcUtf",
        "UwKo__wcFCz-",
        "h9ROvOfoeqMm",
        "xiYojoAIvAqj",
        "RjbQpX7-nKBy",
        "rcYXFf06kkyw",
        "zTyE1_1vu0IY"
      ],
      "mount_file_id": "1AbxoJhB3eHujTEjyZ1xsCNpboaH552YD",
      "authorship_tag": "ABX9TyOqbc5CpdCbqjxB6CcGxnPk",
      "include_colab_link": true
    },
    "kernelspec": {
      "display_name": "Python 3",
      "name": "python3"
    },
    "language_info": {
      "name": "python"
    },
    "widgets": {
      "application/vnd.jupyter.widget-state+json": {
        "71d4d1e90e0b4d118d12659623f73fb2": {
          "model_module": "@jupyter-widgets/controls",
          "model_name": "HBoxModel",
          "state": {
            "_view_name": "HBoxView",
            "_dom_classes": [],
            "_model_name": "HBoxModel",
            "_view_module": "@jupyter-widgets/controls",
            "_model_module_version": "1.5.0",
            "_view_count": null,
            "_view_module_version": "1.5.0",
            "box_style": "",
            "layout": "IPY_MODEL_2b20d759fffa47da89fb0b1e0d824594",
            "_model_module": "@jupyter-widgets/controls",
            "children": [
              "IPY_MODEL_d2137ec611fd435484ad4cf103746cdb",
              "IPY_MODEL_d47be5828e7d4f20a34247caf508249a"
            ]
          }
        },
        "2b20d759fffa47da89fb0b1e0d824594": {
          "model_module": "@jupyter-widgets/base",
          "model_name": "LayoutModel",
          "state": {
            "_view_name": "LayoutView",
            "grid_template_rows": null,
            "right": null,
            "justify_content": null,
            "_view_module": "@jupyter-widgets/base",
            "overflow": null,
            "_model_module_version": "1.2.0",
            "_view_count": null,
            "flex_flow": null,
            "width": null,
            "min_width": null,
            "border": null,
            "align_items": null,
            "bottom": null,
            "_model_module": "@jupyter-widgets/base",
            "top": null,
            "grid_column": null,
            "overflow_y": null,
            "overflow_x": null,
            "grid_auto_flow": null,
            "grid_area": null,
            "grid_template_columns": null,
            "flex": null,
            "_model_name": "LayoutModel",
            "justify_items": null,
            "grid_row": null,
            "max_height": null,
            "align_content": null,
            "visibility": null,
            "align_self": null,
            "height": null,
            "min_height": null,
            "padding": null,
            "grid_auto_rows": null,
            "grid_gap": null,
            "max_width": null,
            "order": null,
            "_view_module_version": "1.2.0",
            "grid_template_areas": null,
            "object_position": null,
            "object_fit": null,
            "grid_auto_columns": null,
            "margin": null,
            "display": null,
            "left": null
          }
        },
        "d2137ec611fd435484ad4cf103746cdb": {
          "model_module": "@jupyter-widgets/controls",
          "model_name": "FloatProgressModel",
          "state": {
            "_view_name": "ProgressView",
            "style": "IPY_MODEL_fec518dab9084e7caf2419118bcaf530",
            "_dom_classes": [],
            "description": "100%",
            "_model_name": "FloatProgressModel",
            "bar_style": "success",
            "max": 305584576,
            "_view_module": "@jupyter-widgets/controls",
            "_model_module_version": "1.5.0",
            "value": 305584576,
            "_view_count": null,
            "_view_module_version": "1.5.0",
            "orientation": "horizontal",
            "min": 0,
            "description_tooltip": null,
            "_model_module": "@jupyter-widgets/controls",
            "layout": "IPY_MODEL_b0e29cbe5d8b469aa08dc114796aefdf"
          }
        },
        "d47be5828e7d4f20a34247caf508249a": {
          "model_module": "@jupyter-widgets/controls",
          "model_name": "HTMLModel",
          "state": {
            "_view_name": "HTMLView",
            "style": "IPY_MODEL_a070393f659747e6887054546ab64bf8",
            "_dom_classes": [],
            "description": "",
            "_model_name": "HTMLModel",
            "placeholder": "​",
            "_view_module": "@jupyter-widgets/controls",
            "_model_module_version": "1.5.0",
            "value": " 306M/306M [00:18&lt;00:00, 16.1MB/s]",
            "_view_count": null,
            "_view_module_version": "1.5.0",
            "description_tooltip": null,
            "_model_module": "@jupyter-widgets/controls",
            "layout": "IPY_MODEL_2797f9085948478b8758af12b2cf9f97"
          }
        },
        "fec518dab9084e7caf2419118bcaf530": {
          "model_module": "@jupyter-widgets/controls",
          "model_name": "ProgressStyleModel",
          "state": {
            "_view_name": "StyleView",
            "_model_name": "ProgressStyleModel",
            "description_width": "initial",
            "_view_module": "@jupyter-widgets/base",
            "_model_module_version": "1.5.0",
            "_view_count": null,
            "_view_module_version": "1.2.0",
            "bar_color": null,
            "_model_module": "@jupyter-widgets/controls"
          }
        },
        "b0e29cbe5d8b469aa08dc114796aefdf": {
          "model_module": "@jupyter-widgets/base",
          "model_name": "LayoutModel",
          "state": {
            "_view_name": "LayoutView",
            "grid_template_rows": null,
            "right": null,
            "justify_content": null,
            "_view_module": "@jupyter-widgets/base",
            "overflow": null,
            "_model_module_version": "1.2.0",
            "_view_count": null,
            "flex_flow": null,
            "width": null,
            "min_width": null,
            "border": null,
            "align_items": null,
            "bottom": null,
            "_model_module": "@jupyter-widgets/base",
            "top": null,
            "grid_column": null,
            "overflow_y": null,
            "overflow_x": null,
            "grid_auto_flow": null,
            "grid_area": null,
            "grid_template_columns": null,
            "flex": null,
            "_model_name": "LayoutModel",
            "justify_items": null,
            "grid_row": null,
            "max_height": null,
            "align_content": null,
            "visibility": null,
            "align_self": null,
            "height": null,
            "min_height": null,
            "padding": null,
            "grid_auto_rows": null,
            "grid_gap": null,
            "max_width": null,
            "order": null,
            "_view_module_version": "1.2.0",
            "grid_template_areas": null,
            "object_position": null,
            "object_fit": null,
            "grid_auto_columns": null,
            "margin": null,
            "display": null,
            "left": null
          }
        },
        "a070393f659747e6887054546ab64bf8": {
          "model_module": "@jupyter-widgets/controls",
          "model_name": "DescriptionStyleModel",
          "state": {
            "_view_name": "StyleView",
            "_model_name": "DescriptionStyleModel",
            "description_width": "",
            "_view_module": "@jupyter-widgets/base",
            "_model_module_version": "1.5.0",
            "_view_count": null,
            "_view_module_version": "1.2.0",
            "_model_module": "@jupyter-widgets/controls"
          }
        },
        "2797f9085948478b8758af12b2cf9f97": {
          "model_module": "@jupyter-widgets/base",
          "model_name": "LayoutModel",
          "state": {
            "_view_name": "LayoutView",
            "grid_template_rows": null,
            "right": null,
            "justify_content": null,
            "_view_module": "@jupyter-widgets/base",
            "overflow": null,
            "_model_module_version": "1.2.0",
            "_view_count": null,
            "flex_flow": null,
            "width": null,
            "min_width": null,
            "border": null,
            "align_items": null,
            "bottom": null,
            "_model_module": "@jupyter-widgets/base",
            "top": null,
            "grid_column": null,
            "overflow_y": null,
            "overflow_x": null,
            "grid_auto_flow": null,
            "grid_area": null,
            "grid_template_columns": null,
            "flex": null,
            "_model_name": "LayoutModel",
            "justify_items": null,
            "grid_row": null,
            "max_height": null,
            "align_content": null,
            "visibility": null,
            "align_self": null,
            "height": null,
            "min_height": null,
            "padding": null,
            "grid_auto_rows": null,
            "grid_gap": null,
            "max_width": null,
            "order": null,
            "_view_module_version": "1.2.0",
            "grid_template_areas": null,
            "object_position": null,
            "object_fit": null,
            "grid_auto_columns": null,
            "margin": null,
            "display": null,
            "left": null
          }
        },
        "3813ebbddf3b4a939a81cc83edafb6e9": {
          "model_module": "@jupyter-widgets/controls",
          "model_name": "HBoxModel",
          "state": {
            "_view_name": "HBoxView",
            "_dom_classes": [],
            "_model_name": "HBoxModel",
            "_view_module": "@jupyter-widgets/controls",
            "_model_module_version": "1.5.0",
            "_view_count": null,
            "_view_module_version": "1.5.0",
            "box_style": "",
            "layout": "IPY_MODEL_857cc271acda40b79e25f2e96f95f53c",
            "_model_module": "@jupyter-widgets/controls",
            "children": [
              "IPY_MODEL_f2040531526c40aa9d4f9429a496dc99",
              "IPY_MODEL_792b636ed2a642ac94a6307b7cd3461b"
            ]
          }
        },
        "857cc271acda40b79e25f2e96f95f53c": {
          "model_module": "@jupyter-widgets/base",
          "model_name": "LayoutModel",
          "state": {
            "_view_name": "LayoutView",
            "grid_template_rows": null,
            "right": null,
            "justify_content": null,
            "_view_module": "@jupyter-widgets/base",
            "overflow": null,
            "_model_module_version": "1.2.0",
            "_view_count": null,
            "flex_flow": null,
            "width": null,
            "min_width": null,
            "border": null,
            "align_items": null,
            "bottom": null,
            "_model_module": "@jupyter-widgets/base",
            "top": null,
            "grid_column": null,
            "overflow_y": null,
            "overflow_x": null,
            "grid_auto_flow": null,
            "grid_area": null,
            "grid_template_columns": null,
            "flex": null,
            "_model_name": "LayoutModel",
            "justify_items": null,
            "grid_row": null,
            "max_height": null,
            "align_content": null,
            "visibility": null,
            "align_self": null,
            "height": null,
            "min_height": null,
            "padding": null,
            "grid_auto_rows": null,
            "grid_gap": null,
            "max_width": null,
            "order": null,
            "_view_module_version": "1.2.0",
            "grid_template_areas": null,
            "object_position": null,
            "object_fit": null,
            "grid_auto_columns": null,
            "margin": null,
            "display": null,
            "left": null
          }
        },
        "f2040531526c40aa9d4f9429a496dc99": {
          "model_module": "@jupyter-widgets/controls",
          "model_name": "FloatProgressModel",
          "state": {
            "_view_name": "ProgressView",
            "style": "IPY_MODEL_55b2232dc91945adb854b4a2ceca33ae",
            "_dom_classes": [],
            "description": "Batches: 100%",
            "_model_name": "FloatProgressModel",
            "bar_style": "success",
            "max": 1837,
            "_view_module": "@jupyter-widgets/controls",
            "_model_module_version": "1.5.0",
            "value": 1837,
            "_view_count": null,
            "_view_module_version": "1.5.0",
            "orientation": "horizontal",
            "min": 0,
            "description_tooltip": null,
            "_model_module": "@jupyter-widgets/controls",
            "layout": "IPY_MODEL_3438f73c779f4529ab94d4065e3b0a4b"
          }
        },
        "792b636ed2a642ac94a6307b7cd3461b": {
          "model_module": "@jupyter-widgets/controls",
          "model_name": "HTMLModel",
          "state": {
            "_view_name": "HTMLView",
            "style": "IPY_MODEL_822ac2ab55e74e61a9af54d2f65552e4",
            "_dom_classes": [],
            "description": "",
            "_model_name": "HTMLModel",
            "placeholder": "​",
            "_view_module": "@jupyter-widgets/controls",
            "_model_module_version": "1.5.0",
            "value": " 1837/1837 [3:02:56&lt;00:00,  5.98s/it]",
            "_view_count": null,
            "_view_module_version": "1.5.0",
            "description_tooltip": null,
            "_model_module": "@jupyter-widgets/controls",
            "layout": "IPY_MODEL_d28fa93791f74f23a2f601a085dbf89e"
          }
        },
        "55b2232dc91945adb854b4a2ceca33ae": {
          "model_module": "@jupyter-widgets/controls",
          "model_name": "ProgressStyleModel",
          "state": {
            "_view_name": "StyleView",
            "_model_name": "ProgressStyleModel",
            "description_width": "initial",
            "_view_module": "@jupyter-widgets/base",
            "_model_module_version": "1.5.0",
            "_view_count": null,
            "_view_module_version": "1.2.0",
            "bar_color": null,
            "_model_module": "@jupyter-widgets/controls"
          }
        },
        "3438f73c779f4529ab94d4065e3b0a4b": {
          "model_module": "@jupyter-widgets/base",
          "model_name": "LayoutModel",
          "state": {
            "_view_name": "LayoutView",
            "grid_template_rows": null,
            "right": null,
            "justify_content": null,
            "_view_module": "@jupyter-widgets/base",
            "overflow": null,
            "_model_module_version": "1.2.0",
            "_view_count": null,
            "flex_flow": null,
            "width": null,
            "min_width": null,
            "border": null,
            "align_items": null,
            "bottom": null,
            "_model_module": "@jupyter-widgets/base",
            "top": null,
            "grid_column": null,
            "overflow_y": null,
            "overflow_x": null,
            "grid_auto_flow": null,
            "grid_area": null,
            "grid_template_columns": null,
            "flex": null,
            "_model_name": "LayoutModel",
            "justify_items": null,
            "grid_row": null,
            "max_height": null,
            "align_content": null,
            "visibility": null,
            "align_self": null,
            "height": null,
            "min_height": null,
            "padding": null,
            "grid_auto_rows": null,
            "grid_gap": null,
            "max_width": null,
            "order": null,
            "_view_module_version": "1.2.0",
            "grid_template_areas": null,
            "object_position": null,
            "object_fit": null,
            "grid_auto_columns": null,
            "margin": null,
            "display": null,
            "left": null
          }
        },
        "822ac2ab55e74e61a9af54d2f65552e4": {
          "model_module": "@jupyter-widgets/controls",
          "model_name": "DescriptionStyleModel",
          "state": {
            "_view_name": "StyleView",
            "_model_name": "DescriptionStyleModel",
            "description_width": "",
            "_view_module": "@jupyter-widgets/base",
            "_model_module_version": "1.5.0",
            "_view_count": null,
            "_view_module_version": "1.2.0",
            "_model_module": "@jupyter-widgets/controls"
          }
        },
        "d28fa93791f74f23a2f601a085dbf89e": {
          "model_module": "@jupyter-widgets/base",
          "model_name": "LayoutModel",
          "state": {
            "_view_name": "LayoutView",
            "grid_template_rows": null,
            "right": null,
            "justify_content": null,
            "_view_module": "@jupyter-widgets/base",
            "overflow": null,
            "_model_module_version": "1.2.0",
            "_view_count": null,
            "flex_flow": null,
            "width": null,
            "min_width": null,
            "border": null,
            "align_items": null,
            "bottom": null,
            "_model_module": "@jupyter-widgets/base",
            "top": null,
            "grid_column": null,
            "overflow_y": null,
            "overflow_x": null,
            "grid_auto_flow": null,
            "grid_area": null,
            "grid_template_columns": null,
            "flex": null,
            "_model_name": "LayoutModel",
            "justify_items": null,
            "grid_row": null,
            "max_height": null,
            "align_content": null,
            "visibility": null,
            "align_self": null,
            "height": null,
            "min_height": null,
            "padding": null,
            "grid_auto_rows": null,
            "grid_gap": null,
            "max_width": null,
            "order": null,
            "_view_module_version": "1.2.0",
            "grid_template_areas": null,
            "object_position": null,
            "object_fit": null,
            "grid_auto_columns": null,
            "margin": null,
            "display": null,
            "left": null
          }
        },
        "bca1ebf452694c9b9b6b742f83b543c3": {
          "model_module": "@jupyter-widgets/controls",
          "model_name": "HBoxModel",
          "state": {
            "_view_name": "HBoxView",
            "_dom_classes": [],
            "_model_name": "HBoxModel",
            "_view_module": "@jupyter-widgets/controls",
            "_model_module_version": "1.5.0",
            "_view_count": null,
            "_view_module_version": "1.5.0",
            "box_style": "",
            "layout": "IPY_MODEL_8548ab24737e4af8bf82596fed25b4ad",
            "_model_module": "@jupyter-widgets/controls",
            "children": [
              "IPY_MODEL_80bdb11d2b10498eb001b0c52ee794b8",
              "IPY_MODEL_364c1156fd39488aafc2642301a6a7e1"
            ]
          }
        },
        "8548ab24737e4af8bf82596fed25b4ad": {
          "model_module": "@jupyter-widgets/base",
          "model_name": "LayoutModel",
          "state": {
            "_view_name": "LayoutView",
            "grid_template_rows": null,
            "right": null,
            "justify_content": null,
            "_view_module": "@jupyter-widgets/base",
            "overflow": null,
            "_model_module_version": "1.2.0",
            "_view_count": null,
            "flex_flow": null,
            "width": null,
            "min_width": null,
            "border": null,
            "align_items": null,
            "bottom": null,
            "_model_module": "@jupyter-widgets/base",
            "top": null,
            "grid_column": null,
            "overflow_y": null,
            "overflow_x": null,
            "grid_auto_flow": null,
            "grid_area": null,
            "grid_template_columns": null,
            "flex": null,
            "_model_name": "LayoutModel",
            "justify_items": null,
            "grid_row": null,
            "max_height": null,
            "align_content": null,
            "visibility": null,
            "align_self": null,
            "height": null,
            "min_height": null,
            "padding": null,
            "grid_auto_rows": null,
            "grid_gap": null,
            "max_width": null,
            "order": null,
            "_view_module_version": "1.2.0",
            "grid_template_areas": null,
            "object_position": null,
            "object_fit": null,
            "grid_auto_columns": null,
            "margin": null,
            "display": null,
            "left": null
          }
        },
        "80bdb11d2b10498eb001b0c52ee794b8": {
          "model_module": "@jupyter-widgets/controls",
          "model_name": "FloatProgressModel",
          "state": {
            "_view_name": "ProgressView",
            "style": "IPY_MODEL_4c0eea7371524e27be5cd61a203cd4ea",
            "_dom_classes": [],
            "description": "Batches: 100%",
            "_model_name": "FloatProgressModel",
            "bar_style": "success",
            "max": 460,
            "_view_module": "@jupyter-widgets/controls",
            "_model_module_version": "1.5.0",
            "value": 460,
            "_view_count": null,
            "_view_module_version": "1.5.0",
            "orientation": "horizontal",
            "min": 0,
            "description_tooltip": null,
            "_model_module": "@jupyter-widgets/controls",
            "layout": "IPY_MODEL_4f37207506d849c0a2fee6c5b1dd4125"
          }
        },
        "364c1156fd39488aafc2642301a6a7e1": {
          "model_module": "@jupyter-widgets/controls",
          "model_name": "HTMLModel",
          "state": {
            "_view_name": "HTMLView",
            "style": "IPY_MODEL_c6d0c3471e1c4a9b806b2a6d3bb00b57",
            "_dom_classes": [],
            "description": "",
            "_model_name": "HTMLModel",
            "placeholder": "​",
            "_view_module": "@jupyter-widgets/controls",
            "_model_module_version": "1.5.0",
            "value": " 460/460 [46:59&lt;00:00,  6.13s/it]",
            "_view_count": null,
            "_view_module_version": "1.5.0",
            "description_tooltip": null,
            "_model_module": "@jupyter-widgets/controls",
            "layout": "IPY_MODEL_d8faef78f2cc47ff8ee6fa4f334ec1c7"
          }
        },
        "4c0eea7371524e27be5cd61a203cd4ea": {
          "model_module": "@jupyter-widgets/controls",
          "model_name": "ProgressStyleModel",
          "state": {
            "_view_name": "StyleView",
            "_model_name": "ProgressStyleModel",
            "description_width": "initial",
            "_view_module": "@jupyter-widgets/base",
            "_model_module_version": "1.5.0",
            "_view_count": null,
            "_view_module_version": "1.2.0",
            "bar_color": null,
            "_model_module": "@jupyter-widgets/controls"
          }
        },
        "4f37207506d849c0a2fee6c5b1dd4125": {
          "model_module": "@jupyter-widgets/base",
          "model_name": "LayoutModel",
          "state": {
            "_view_name": "LayoutView",
            "grid_template_rows": null,
            "right": null,
            "justify_content": null,
            "_view_module": "@jupyter-widgets/base",
            "overflow": null,
            "_model_module_version": "1.2.0",
            "_view_count": null,
            "flex_flow": null,
            "width": null,
            "min_width": null,
            "border": null,
            "align_items": null,
            "bottom": null,
            "_model_module": "@jupyter-widgets/base",
            "top": null,
            "grid_column": null,
            "overflow_y": null,
            "overflow_x": null,
            "grid_auto_flow": null,
            "grid_area": null,
            "grid_template_columns": null,
            "flex": null,
            "_model_name": "LayoutModel",
            "justify_items": null,
            "grid_row": null,
            "max_height": null,
            "align_content": null,
            "visibility": null,
            "align_self": null,
            "height": null,
            "min_height": null,
            "padding": null,
            "grid_auto_rows": null,
            "grid_gap": null,
            "max_width": null,
            "order": null,
            "_view_module_version": "1.2.0",
            "grid_template_areas": null,
            "object_position": null,
            "object_fit": null,
            "grid_auto_columns": null,
            "margin": null,
            "display": null,
            "left": null
          }
        },
        "c6d0c3471e1c4a9b806b2a6d3bb00b57": {
          "model_module": "@jupyter-widgets/controls",
          "model_name": "DescriptionStyleModel",
          "state": {
            "_view_name": "StyleView",
            "_model_name": "DescriptionStyleModel",
            "description_width": "",
            "_view_module": "@jupyter-widgets/base",
            "_model_module_version": "1.5.0",
            "_view_count": null,
            "_view_module_version": "1.2.0",
            "_model_module": "@jupyter-widgets/controls"
          }
        },
        "d8faef78f2cc47ff8ee6fa4f334ec1c7": {
          "model_module": "@jupyter-widgets/base",
          "model_name": "LayoutModel",
          "state": {
            "_view_name": "LayoutView",
            "grid_template_rows": null,
            "right": null,
            "justify_content": null,
            "_view_module": "@jupyter-widgets/base",
            "overflow": null,
            "_model_module_version": "1.2.0",
            "_view_count": null,
            "flex_flow": null,
            "width": null,
            "min_width": null,
            "border": null,
            "align_items": null,
            "bottom": null,
            "_model_module": "@jupyter-widgets/base",
            "top": null,
            "grid_column": null,
            "overflow_y": null,
            "overflow_x": null,
            "grid_auto_flow": null,
            "grid_area": null,
            "grid_template_columns": null,
            "flex": null,
            "_model_name": "LayoutModel",
            "justify_items": null,
            "grid_row": null,
            "max_height": null,
            "align_content": null,
            "visibility": null,
            "align_self": null,
            "height": null,
            "min_height": null,
            "padding": null,
            "grid_auto_rows": null,
            "grid_gap": null,
            "max_width": null,
            "order": null,
            "_view_module_version": "1.2.0",
            "grid_template_areas": null,
            "object_position": null,
            "object_fit": null,
            "grid_auto_columns": null,
            "margin": null,
            "display": null,
            "left": null
          }
        }
      }
    }
  },
  "cells": [
    {
      "cell_type": "markdown",
      "metadata": {
        "id": "view-in-github",
        "colab_type": "text"
      },
      "source": [
        "<a href=\"https://colab.research.google.com/github/kstrickland680/MentalHealthRedditAnalysis/blob/main/MentalHealthRedditAnalysis.ipynb\" target=\"_parent\"><img src=\"https://colab.research.google.com/assets/colab-badge.svg\" alt=\"Open In Colab\"/></a>"
      ]
    },
    {
      "cell_type": "code",
      "metadata": {
        "colab": {
          "base_uri": "https://localhost:8080/",
          "height": 0
        },
        "id": "irbDieGyzkdl",
        "outputId": "99f640ef-c2f3-451b-9fe5-2b910be2b41f"
      },
      "source": [
        "pip install Unidecode"
      ],
      "execution_count": 86,
      "outputs": [
        {
          "output_type": "stream",
          "text": [
            "Requirement already satisfied: Unidecode in /usr/local/lib/python3.7/dist-packages (1.2.0)\n"
          ],
          "name": "stdout"
        }
      ]
    },
    {
      "cell_type": "code",
      "metadata": {
        "colab": {
          "base_uri": "https://localhost:8080/",
          "height": 0
        },
        "id": "L4ZS42JAzroa",
        "outputId": "c58a275f-db95-4cf2-a960-8ef21ffe5283"
      },
      "source": [
        "pip install contractions"
      ],
      "execution_count": 87,
      "outputs": [
        {
          "output_type": "stream",
          "text": [
            "Requirement already satisfied: contractions in /usr/local/lib/python3.7/dist-packages (0.0.50)\n",
            "Requirement already satisfied: textsearch>=0.0.21 in /usr/local/lib/python3.7/dist-packages (from contractions) (0.0.21)\n",
            "Requirement already satisfied: pyahocorasick in /usr/local/lib/python3.7/dist-packages (from textsearch>=0.0.21->contractions) (1.4.2)\n",
            "Requirement already satisfied: anyascii in /usr/local/lib/python3.7/dist-packages (from textsearch>=0.0.21->contractions) (0.2.0)\n"
          ],
          "name": "stdout"
        }
      ]
    },
    {
      "cell_type": "code",
      "metadata": {
        "colab": {
          "base_uri": "https://localhost:8080/",
          "height": 0
        },
        "id": "M7VkNVYgOPdd",
        "outputId": "5803606a-c9a1-46b8-da76-c8dd7ac762e6"
      },
      "source": [
        "import requests\n",
        "import pandas as pd\n",
        "import json\n",
        "import csv\n",
        "import time\n",
        "import datetime\n",
        "import numpy as np\n",
        "import regex as re\n",
        "from collections import Counter\n",
        "from bs4 import BeautifulSoup\n",
        "import spacy\n",
        "from unidecode import unidecode\n",
        "import contractions\n",
        "import re\n",
        "import nltk\n",
        "from nltk.stem import PorterStemmer\n",
        "from sklearn.feature_extraction.text import TfidfVectorizer\n",
        "from gensim.models import word2vec\n",
        "import matplotlib.pyplot as plt\n",
        "from collections import Counter\n",
        "\n",
        "from sklearn.cluster import KMeans\n",
        "from sklearn.neighbors import KDTree\n",
        "\n",
        "from sklearn.model_selection import train_test_split\n",
        "from sklearn.metrics import make_scorer, accuracy_score, precision_score, recall_score, f1_score\n",
        "from sklearn.model_selection import GridSearchCV\n",
        "from sklearn.metrics import classification_report\n",
        "\n",
        "from sklearn.ensemble import RandomForestClassifier\n",
        "from sklearn.pipeline import Pipeline\n",
        "from sklearn.model_selection import cross_val_score\n",
        "\n",
        "from nltk.corpus import stopwords\n",
        "import tensorflow as tf\n",
        "from tensorflow.keras import layers, models\n",
        "\n",
        "import keras\n",
        "from keras.utils import np_utils\n",
        "\n",
        "\n",
        "nltk.download('stopwords')\n",
        "nltk.download('punkt')"
      ],
      "execution_count": 88,
      "outputs": [
        {
          "output_type": "stream",
          "text": [
            "[nltk_data] Downloading package stopwords to /root/nltk_data...\n",
            "[nltk_data]   Package stopwords is already up-to-date!\n",
            "[nltk_data] Downloading package punkt to /root/nltk_data...\n",
            "[nltk_data]   Package punkt is already up-to-date!\n"
          ],
          "name": "stdout"
        },
        {
          "output_type": "execute_result",
          "data": {
            "text/plain": [
              "True"
            ]
          },
          "metadata": {
            "tags": []
          },
          "execution_count": 88
        }
      ]
    },
    {
      "cell_type": "markdown",
      "metadata": {
        "id": "YWDBfUY5YEGc"
      },
      "source": [
        "# Mental Health Reddit Analysis \n",
        "\n",
        "Problem Statement:  A nonprofit agency is interested in new ways to assess mental health using social media.  They want a way to assess someone's mental health using their social media posts.\n",
        "\n",
        "Can we predict if someone has a certain mental illness based on their social media posts about things unrelated to their mental illness?\n",
        "\n",
        "## Data Overview\n",
        "\n",
        "Data will be gathered from Reddit.   Users who post in the following subreddits: PTSD, ADHD, Anxiety, BPD, BipolarReddit, and Depression, as well as a control group chosen randomly from other subreddits that those in the experimental group also post to.\n",
        "Users will be labeled based on flair in subreddits that require users to flag themselves as friend/family member or undiagnosed (BipolarReddit and bpd). Those without that flair will be labeled as having the disorder.   In the other 4 subreddits, self-reported diagnoses will be used to identify users with the disorder (such as \"I was diagnosed with depression\", \"my depression\", etc). Anxiety will not be based on an official diagnosis, but instead on those users who speak about struggling with anxiety (as the problem statement specifies mental health in general, not necessarily diagnosable mental health).  Data will then be gathered from these users' posts in unrelated subreddits."
      ]
    },
    {
      "cell_type": "markdown",
      "metadata": {
        "id": "5KbOpTlnchzo"
      },
      "source": [
        "## Import Data\n",
        "\n",
        "I import the the data for the users that self-identify as having the specified mental illness.  I then make a list of the subreddits they post in most often (not explicitly related to mental health), and export that data to gather the control data. "
      ]
    },
    {
      "cell_type": "code",
      "metadata": {
        "colab": {
          "base_uri": "https://localhost:8080/",
          "height": 0
        },
        "id": "3b9At4kHOekn",
        "outputId": "8247cc26-b164-4e6c-d7da-37974332397c"
      },
      "source": [
        "cd drive/MyDrive/MentalHealthReddit/Data"
      ],
      "execution_count": 89,
      "outputs": [
        {
          "output_type": "stream",
          "text": [
            "[Errno 2] No such file or directory: 'drive/MyDrive/MentalHealthReddit/Data'\n",
            "/content/drive/MyDrive/MentalHealthReddit/Data\n"
          ],
          "name": "stdout"
        }
      ]
    },
    {
      "cell_type": "code",
      "metadata": {
        "id": "-j3YoLbmPIAE"
      },
      "source": [
        "anxiety_coms_df = pd.read_csv('anxiety_coms.csv')\n",
        "anxiety_subs_df = pd.read_csv('anxiety_subs.csv')\n",
        "\n",
        "adhd_coms_df = pd.read_csv('adhd_coms.csv')\n",
        "adhd_subs_df = pd.read_csv('adhd_subs.csv')\n",
        "\n",
        "bipolar_coms_df = pd.read_csv('bipolar_coms.csv')\n",
        "bipolar_subs_df = pd.read_csv('bipolar_subs.csv')\n",
        "\n",
        "bpd_coms_df = pd.read_csv('bpd_coms.csv')\n",
        "bpd_subs_df = pd.read_csv('bpd_subs.csv')\n",
        "\n",
        "dep_coms_df = pd.read_csv('dep_coms.csv')\n",
        "dep_subs_df = pd.read_csv('dep_subs.csv')\n",
        "\n",
        "ptsd_coms_df = pd.read_csv('ptsd_coms.csv')\n",
        "ptsd_subs_df = pd.read_csv('ptsd_subs.csv')"
      ],
      "execution_count": 90,
      "outputs": []
    },
    {
      "cell_type": "code",
      "metadata": {
        "id": "Z8C5f23zu4Et"
      },
      "source": [
        "dep_subs_df.head()"
      ],
      "execution_count": null,
      "outputs": []
    },
    {
      "cell_type": "code",
      "metadata": {
        "id": "ZoVEb0__o-HE"
      },
      "source": [
        "def combineSubreddits(dict, dict2):\n",
        "  \"\"\" combines 2 dictionaries, adds the values in both if they exist in both \"\"\"\n",
        "  for key, value in dict2.items():\n",
        "    if key in dict:\n",
        "      new_count = dict.get(key) + value\n",
        "      dict[key] = new_count\n",
        "    else:\n",
        "      dict[key] = value"
      ],
      "execution_count": 91,
      "outputs": []
    },
    {
      "cell_type": "code",
      "metadata": {
        "id": "aHcNk-O8p-eR"
      },
      "source": [
        "def getSubredditCounts(df1, df2):\n",
        "  \"\"\" Gets the subreddit columns from 2 data frames and combines them together,\n",
        "  returning a dictionary of the value and count. \"\"\" \n",
        "  count1 = df1['subreddit'].value_counts()\n",
        "  count2 = df2['subreddit'].value_counts()\n",
        "  count1 = count1.to_dict()\n",
        "  count2 = count2.to_dict()\n",
        "  final = count2\n",
        "  combineSubreddits(final, count1)\n",
        "  return final"
      ],
      "execution_count": 92,
      "outputs": []
    },
    {
      "cell_type": "code",
      "metadata": {
        "id": "sK4_DpQttTlB"
      },
      "source": [
        "ptsd_subreddits = getSubredditCounts(ptsd_subs_df, ptsd_coms_df)\n",
        "anxiety_subreddits = getSubredditCounts(anxiety_subs_df, anxiety_coms_df)\n",
        "dep_subreddits = getSubredditCounts(dep_subs_df, dep_coms_df)\n",
        "adhd_subreddits = getSubredditCounts(adhd_subs_df, adhd_coms_df)\n",
        "bipolar_subreddits = getSubredditCounts(bipolar_subs_df, bipolar_coms_df)\n",
        "bpd_subreddits = getSubredditCounts(bpd_subs_df, bpd_coms_df)"
      ],
      "execution_count": 93,
      "outputs": []
    },
    {
      "cell_type": "code",
      "metadata": {
        "colab": {
          "base_uri": "https://localhost:8080/",
          "height": 0
        },
        "id": "IZ5USD6OulV8",
        "outputId": "a2aec691-b179-4d01-dd05-4767d70c9157"
      },
      "source": [
        "#now combine them all for a master list: \n",
        "partial_subreddit_list = [anxiety_subreddits, dep_subreddits, adhd_subreddits,\n",
        "                  bipolar_subreddits, bpd_subreddits]\n",
        "\n",
        "all_subreddits = ptsd_subreddits\n",
        "for item in partial_subreddit_list:\n",
        "  combineSubreddits(all_subreddits, item)\n",
        "\n",
        "all_subreddits['atheism']"
      ],
      "execution_count": 94,
      "outputs": [
        {
          "output_type": "execute_result",
          "data": {
            "text/plain": [
              "43"
            ]
          },
          "metadata": {
            "tags": []
          },
          "execution_count": 94
        }
      ]
    },
    {
      "cell_type": "code",
      "metadata": {
        "colab": {
          "base_uri": "https://localhost:8080/",
          "height": 0
        },
        "id": "LGXp_8cBvl_n",
        "outputId": "74634f76-ea4f-41cc-b38a-5bfa34e4fe9c"
      },
      "source": [
        "all_subreddits_sorted = sorted(all_subreddits.items(), key=lambda x: x[1], reverse=True)\n",
        "all_subreddits_sorted"
      ],
      "execution_count": 95,
      "outputs": [
        {
          "output_type": "execute_result",
          "data": {
            "text/plain": [
              "[('AskReddit', 5522),\n",
              " ('BipolarReddit', 3818),\n",
              " ('ADHD', 2936),\n",
              " ('Anxiety', 2105),\n",
              " ('BPD', 1866),\n",
              " ('depression', 1840),\n",
              " ('ptsd', 1384),\n",
              " ('relationship_advice', 1242),\n",
              " ('bipolar', 1186),\n",
              " ('teenagers', 1056),\n",
              " ('AmItheAsshole', 846),\n",
              " ('CPTSD', 752),\n",
              " ('unpopularopinion', 730),\n",
              " ('relationships', 640),\n",
              " ('Advice', 630),\n",
              " ('memes', 600),\n",
              " ('SuicideWatch', 592),\n",
              " ('NoStupidQuestions', 557),\n",
              " ('mentalhealth', 506),\n",
              " ('raisedbynarcissists', 484),\n",
              " ('BPDmemes', 442),\n",
              " ('trees', 438),\n",
              " ('aww', 428),\n",
              " ('offmychest', 428),\n",
              " ('wallstreetbets', 421),\n",
              " ('bipolar2', 392),\n",
              " ('selfharm', 387),\n",
              " ('RedditSessions', 377),\n",
              " ('MadeOfStyrofoam', 368),\n",
              " ('AskDocs', 359),\n",
              " ('sex', 344),\n",
              " ('Drugs', 342),\n",
              " ('cats', 305),\n",
              " ('dogecoin', 294),\n",
              " ('AskWomen', 283),\n",
              " ('NoFap', 283),\n",
              " ('funny', 275),\n",
              " ('TrueOffMyChest', 266),\n",
              " ('Showerthoughts', 265),\n",
              " ('NarcissisticAbuse', 262),\n",
              " ('dating_advice', 254),\n",
              " ('pics', 251),\n",
              " ('playboicarti', 251),\n",
              " ('AskMen', 240),\n",
              " ('PublicFreakout', 236),\n",
              " ('OCD', 235),\n",
              " ('TwoXChromosomes', 227),\n",
              " ('dankmemes', 227),\n",
              " ('Cringetopia', 226),\n",
              " ('nba', 224),\n",
              " ('interestingasfuck', 223),\n",
              " ('amiugly', 212),\n",
              " ('politics', 210),\n",
              " ('BreakUps', 207),\n",
              " ('Vent', 207),\n",
              " ('BorderlinePDisorder', 206),\n",
              " ('todayilearned', 197),\n",
              " ('weed', 196),\n",
              " ('CasualConversation', 196),\n",
              " ('lgbt', 196),\n",
              " ('childfree', 195),\n",
              " ('distantsocializing', 192),\n",
              " ('zoloft', 192),\n",
              " ('AnimalCrossing', 188),\n",
              " ('lonely', 184),\n",
              " ('FashionReps', 184),\n",
              " ('worldnews', 183),\n",
              " ('AMA', 183),\n",
              " ('gaming', 181),\n",
              " ('hiphopheads', 179),\n",
              " ('adhdwomen', 178),\n",
              " ('EDAnonymous', 178),\n",
              " ('infp', 175),\n",
              " ('stopdrinking', 172),\n",
              " ('TooAfraidToAsk', 172),\n",
              " ('socialskills', 172),\n",
              " ('leagueoflegends', 170),\n",
              " ('apexlegends', 170),\n",
              " ('askgaybros', 168),\n",
              " ('mildlyinteresting', 165),\n",
              " ('rant', 164),\n",
              " ('BipolarSOs', 162),\n",
              " ('legaladvice', 161),\n",
              " ('anime', 160),\n",
              " ('LSD', 159),\n",
              " ('aspergers', 155),\n",
              " ('pcmasterrace', 154),\n",
              " ('BPDlovedones', 154),\n",
              " ('news', 151),\n",
              " ('therapy', 151),\n",
              " ('mentalillness', 151),\n",
              " ('BPDlite', 151),\n",
              " ('PoliticalCompassMemes', 149),\n",
              " ('buildapc', 148),\n",
              " ('Aquariums', 147),\n",
              " ('dating', 147),\n",
              " ('ftm', 147),\n",
              " ('ExNoContact', 144),\n",
              " ('insomnia', 144),\n",
              " ('curlyhair', 143),\n",
              " ('benzodiazepines', 141),\n",
              " ('AskPsychiatry', 141),\n",
              " ('AskTeenGirls', 140),\n",
              " ('MakeNewFriendsHere', 140),\n",
              " ('dogs', 139),\n",
              " ('Teachers', 139),\n",
              " ('nfl', 139),\n",
              " ('AskOuija', 138),\n",
              " ('adhdmeme', 138),\n",
              " ('lexapro', 138),\n",
              " ('MakeupAddiction', 136),\n",
              " ('TaylorSwift', 136),\n",
              " ('thesims', 135),\n",
              " ('PewdiepieSubmissions', 135),\n",
              " ('loseit', 133),\n",
              " ('TalkTherapy', 133),\n",
              " ('autism', 133),\n",
              " ('tipofmytongue', 132),\n",
              " ('Mcat', 132),\n",
              " ('AskWomenOver30', 131),\n",
              " ('RoastMe', 131),\n",
              " ('FortNiteBR', 131),\n",
              " ('HealthAnxiety', 130),\n",
              " ('polls', 127),\n",
              " ('WWEGames', 126),\n",
              " ('CoronavirusUK', 126),\n",
              " ('FreeCompliments', 125),\n",
              " ('medical', 125),\n",
              " ('personalfinance', 124),\n",
              " ('asktransgender', 123),\n",
              " ('changemyview', 123),\n",
              " ('confession', 122),\n",
              " ('Epilepsy', 122),\n",
              " ('TheYouShow', 122),\n",
              " ('StarWars', 122),\n",
              " ('bois', 121),\n",
              " ('starterpacks', 121),\n",
              " ('SkincareAddiction', 121),\n",
              " ('Meditation', 120),\n",
              " ('196', 120),\n",
              " ('lawofattraction', 118),\n",
              " ('pregnant', 118),\n",
              " ('socialanxiety', 118),\n",
              " ('MadeMeSmile', 117),\n",
              " ('antidepressants', 117),\n",
              " ('spirituality', 116),\n",
              " ('exmuslim', 116),\n",
              " ('LifeProTips', 113),\n",
              " ('WTF', 112),\n",
              " ('Sims4', 112),\n",
              " ('PurplePillDebate', 111),\n",
              " ('wholesomememes', 110),\n",
              " ('schizophrenia', 110),\n",
              " ('trashy', 108),\n",
              " ('gonewild', 107),\n",
              " ('nyc', 107),\n",
              " ('Osana', 107),\n",
              " ('fasting', 107),\n",
              " ('Tinder', 106),\n",
              " ('Christianity', 106),\n",
              " ('selfimprovement', 106),\n",
              " ('survivor', 105),\n",
              " ('asexuality', 105),\n",
              " ('TikTokCringe', 105),\n",
              " ('Coronavirus', 104),\n",
              " ('college', 103),\n",
              " ('leaves', 103),\n",
              " ('Genshin_Impact', 103),\n",
              " ('soccer', 103),\n",
              " ('cyberpunkgame', 102),\n",
              " ('traaaaaaannnnnnnnnns', 101),\n",
              " ('oddlysatisfying', 101),\n",
              " ('nextfuckinglevel', 101),\n",
              " ('shrooms', 101),\n",
              " ('Anxietyhelp', 101),\n",
              " ('AskAstrologers', 101),\n",
              " ('UnsentLetters', 100),\n",
              " ('piercing', 99),\n",
              " ('Psychosis', 99),\n",
              " ('niceguys', 99),\n",
              " ('Depop', 98),\n",
              " ('ibs', 98),\n",
              " ('thebachelor', 98),\n",
              " ('videos', 95),\n",
              " ('CasualUK', 94),\n",
              " ('indonesia', 93),\n",
              " ('sewing', 92),\n",
              " ('Minecraft', 92),\n",
              " ('apple', 92),\n",
              " ('FemaleDatingStrategy', 92),\n",
              " ('recruitinghell', 92),\n",
              " ('CryptoCurrency', 92),\n",
              " ('BodyDysmorphia', 92),\n",
              " ('tifu', 91),\n",
              " ('service_dogs', 91),\n",
              " ('hockey', 91),\n",
              " ('breakingmom', 91),\n",
              " ('explainlikeimfive', 90),\n",
              " ('NintendoSwitch', 90),\n",
              " ('Psychonaut', 90),\n",
              " ('DecidingToBeBetter', 89),\n",
              " ('COVID19positive', 89),\n",
              " ('insanepeoplefacebook', 88),\n",
              " ('jobs', 88),\n",
              " ('pornfree', 88),\n",
              " ('blackcats', 88),\n",
              " ('CysticFibrosis', 88),\n",
              " ('RealEstate', 87),\n",
              " ('de', 87),\n",
              " ('bisexual', 87),\n",
              " ('Psychic', 87),\n",
              " ('askwomenadvice', 87),\n",
              " ('sportsbook', 87),\n",
              " ('mildlyinfuriating', 86),\n",
              " ('DoesAnybodyElse', 86),\n",
              " ('writing', 86),\n",
              " ('self', 86),\n",
              " ('Fitness', 86),\n",
              " ('benzorecovery', 86),\n",
              " ('Needafriend', 85),\n",
              " ('RedDeadOnline', 85),\n",
              " ('wow', 85),\n",
              " ('CBD', 84),\n",
              " ('birthcontrol', 84),\n",
              " ('antiwork', 84),\n",
              " ('mbti', 84),\n",
              " ('GERD', 83),\n",
              " ('me_irl', 83),\n",
              " ('r4r', 83),\n",
              " ('formula1', 82),\n",
              " ('creepyPMs', 82),\n",
              " ('SelfHarmScars', 82),\n",
              " ('stocks', 82),\n",
              " ('Hellenism', 82),\n",
              " ('AmongUs', 82),\n",
              " ('PokemonTCG', 81),\n",
              " ('2meirl4meirl', 81),\n",
              " ('KGATLW', 81),\n",
              " ('asktrp', 80),\n",
              " ('TeenMomOGandTeenMom2', 80),\n",
              " ('actuallesbians', 79),\n",
              " ('confessions', 79),\n",
              " ('Wishlist', 79),\n",
              " ('movies', 79),\n",
              " ('kroger', 79),\n",
              " ('femalehairadvice', 79),\n",
              " ('ChronicPain', 78),\n",
              " ('BeautyGuruChatter', 78),\n",
              " ('peaceCorpsCoding', 78),\n",
              " ('depression_memes', 78),\n",
              " ('MaddenUltimateTeam', 77),\n",
              " ('Parenting', 77),\n",
              " ('iamatotalpieceofshit', 77),\n",
              " ('DrMartens', 77),\n",
              " ('TumblrInAction', 76),\n",
              " ('bulimia', 76),\n",
              " ('india', 75),\n",
              " ('techsupport', 75),\n",
              " ('Sneakers', 75),\n",
              " ('DunderMifflin', 74),\n",
              " ('Random_Acts_Of_Amazon', 74),\n",
              " ('WhitePeopleTwitter', 74),\n",
              " ('gifs', 73),\n",
              " ('conspiracy', 73),\n",
              " ('medical_advice', 73),\n",
              " ('summonerswar', 73),\n",
              " ('transOCD', 73),\n",
              " ('deadbydaylight', 72),\n",
              " ('TallTeenagers', 72),\n",
              " ('prettyaltgirls', 71),\n",
              " ('harrypotter', 71),\n",
              " ('dpdr', 71),\n",
              " ('Marriage', 71),\n",
              " ('AnimalsOnReddit', 71),\n",
              " ('suggestmeabook', 71),\n",
              " ('JUSTNOMIL', 70),\n",
              " ('SubredditDrama', 70),\n",
              " ('INTP', 70),\n",
              " ('MechanicalKeyboards', 70),\n",
              " ('microdosing', 70),\n",
              " ('SquaredCircle', 70),\n",
              " ('Petloss', 70),\n",
              " ('GoForGold', 70),\n",
              " ('Conservative', 69),\n",
              " ('RocketLeagueExchange', 69),\n",
              " ('Sat', 69),\n",
              " ('tattoos', 68),\n",
              " ('short', 68),\n",
              " ('books', 68),\n",
              " ('EDanonymemes', 68),\n",
              " ('delta8', 67),\n",
              " ('Codependency', 67),\n",
              " ('trumpet', 66),\n",
              " ('TheMandalorianTV', 66),\n",
              " ('Chiraqology', 66),\n",
              " ('cursedcomments', 65),\n",
              " ('2007scape', 65),\n",
              " ('keto', 65),\n",
              " ('AskUK', 65),\n",
              " ('migraine', 65),\n",
              " ('intj', 64),\n",
              " ('careerguidance', 64),\n",
              " ('CallOfDutyMobile', 64),\n",
              " ('Hamilton', 63),\n",
              " ('horror', 63),\n",
              " ('blackdesertonline', 63),\n",
              " ('JoeBiden', 63),\n",
              " ('pan_media', 63),\n",
              " ('depressionregimens', 63),\n",
              " ('NoFeeAC', 63),\n",
              " ('whatisthisthing', 62),\n",
              " ('Rabbits', 62),\n",
              " ('facepalm', 62),\n",
              " ('languagelearning', 62),\n",
              " ('SimDemocracy', 62),\n",
              " ('askanincel', 61),\n",
              " ('ImaginaryHorrors', 61),\n",
              " ('Narcolepsy', 61),\n",
              " ('Amoledbackgrounds', 61),\n",
              " ('onewordeach', 61),\n",
              " ('homestuck', 60),\n",
              " ('AskAnAmerican', 60),\n",
              " ('MakeMeSuffer', 60),\n",
              " ('Supplements', 60),\n",
              " ('houseplants', 60),\n",
              " ('FORTnITE', 60),\n",
              " ('HeadphoneAdvice', 60),\n",
              " ('AvPD', 60),\n",
              " ('SafeMoon', 59),\n",
              " ('MtF', 59),\n",
              " ('Wellthatsucks', 59),\n",
              " ('Music', 59),\n",
              " ('BlackPeopleTwitter', 59),\n",
              " ('PCOS', 59),\n",
              " ('Crystals', 59),\n",
              " ('PokemonGoRaids', 59),\n",
              " ('SamONellaAcademy', 59),\n",
              " ('schizoaffective', 59),\n",
              " ('selfie', 58),\n",
              " ('introvert', 58),\n",
              " ('ChoosingBeggars', 57),\n",
              " ('Hair', 57),\n",
              " ('titanfolk', 57),\n",
              " ('Empaths', 57),\n",
              " ('AreTheStraightsOK', 57),\n",
              " ('AnxiousAttachment', 57),\n",
              " ('DMT', 57),\n",
              " ('science', 56),\n",
              " ('MorbidReality', 56),\n",
              " ('CrohnsDisease', 56),\n",
              " ('4595', 56),\n",
              " ('depression_help', 56),\n",
              " ('Overwatch', 56),\n",
              " ('Periods', 56),\n",
              " ('chat', 56),\n",
              " ('FemaleLevelUpStrategy', 56),\n",
              " ('redscarepod', 56),\n",
              " ('forhonor', 55),\n",
              " ('acne', 55),\n",
              " ('bettafish', 55),\n",
              " ('OldSchoolCool', 55),\n",
              " ('progresspics', 55),\n",
              " ('morbidquestions', 55),\n",
              " ('egg_irl', 55),\n",
              " ('vegan', 55),\n",
              " ('prozac', 55),\n",
              " ('Dentistry', 55),\n",
              " ('ClashOfClans', 55),\n",
              " ('amcstock', 55),\n",
              " ('getdisciplined', 54),\n",
              " ('PsilocybinMushrooms', 54),\n",
              " ('DnD', 54),\n",
              " ('fantasyfootball', 54),\n",
              " ('BingeEatingDisorder', 54),\n",
              " ('Wizard101', 54),\n",
              " ('Eberron', 53),\n",
              " ('entwives', 53),\n",
              " ('narcissisticparents', 53),\n",
              " ('IdiotsInCars', 53),\n",
              " ('AnorexiaNervosa', 53),\n",
              " ('Art', 53),\n",
              " ('pokemongo', 53),\n",
              " ('Saggy', 53),\n",
              " ('UFOs', 53),\n",
              " ('makinghiphop', 53),\n",
              " ('depressed', 53),\n",
              " ('Snus', 53),\n",
              " ('randomactsofamazon', 52),\n",
              " ('LawofAttractionAdvice', 52),\n",
              " ('budgies', 52),\n",
              " ('Cooking', 52),\n",
              " ('food', 52),\n",
              " ('witchcraft', 52),\n",
              " ('commandandconquer', 52),\n",
              " ('FortniteCompetitive', 52),\n",
              " ('ask', 52),\n",
              " ('WritingPrompts', 52),\n",
              " ('RATS', 52),\n",
              " ('h3h3productions', 52),\n",
              " ('GMT400', 52),\n",
              " ('gardening', 51),\n",
              " ('GlobalOffensive', 51),\n",
              " ('kratom', 51),\n",
              " ('AskRedditAfterDark', 51),\n",
              " ('sad', 51),\n",
              " ('masskillers', 51),\n",
              " ('ATBGE', 51),\n",
              " ('Screenwriting', 51),\n",
              " ('datingoverthirty', 51),\n",
              " ('Christian', 51),\n",
              " ('Repsneakers', 51),\n",
              " ('TransTryouts', 51),\n",
              " ('Hashimotos', 50),\n",
              " ('witcher', 50),\n",
              " ('AdviceAnimals', 50),\n",
              " ('polyamory', 50),\n",
              " ('OCPoetry', 50),\n",
              " ('Instagramreality', 50),\n",
              " ('WatchPeopleDieInside', 50),\n",
              " ('stupidpol', 50),\n",
              " ('yungblud', 50),\n",
              " ('LifeAdvice', 50),\n",
              " ('MoneyDiariesACTIVE', 50),\n",
              " ('insaneparents', 49),\n",
              " ('UnresolvedMysteries', 49),\n",
              " ('PMDD', 49),\n",
              " ('europe', 49),\n",
              " ('okbuddyretard', 49),\n",
              " ('entitledparents', 49),\n",
              " ('TheArtistStudio', 49),\n",
              " ('dirtyr4r', 49),\n",
              " ('opiates', 49),\n",
              " ('astrology', 49),\n",
              " ('marvelstudios', 49),\n",
              " ('hsp', 49),\n",
              " ('DotA2', 49),\n",
              " ('Philippines', 49),\n",
              " ('MMA', 49),\n",
              " ('GearsOfWar', 49),\n",
              " ('BBW', 48),\n",
              " ('alcoholism', 48),\n",
              " ('AquaSwap', 48),\n",
              " ('Albany', 48),\n",
              " ('WalgreensStores', 48),\n",
              " ('GetMotivated', 48),\n",
              " ('CongratsLikeImFive', 48),\n",
              " ('puppy101', 48),\n",
              " ('IllegalLifeProTips', 48),\n",
              " ('preppers', 48),\n",
              " ('povertyfinance', 48),\n",
              " ('90DayFiance', 48),\n",
              " ('RandomActsofCards', 48),\n",
              " ('nursing', 48),\n",
              " ('addiction', 48),\n",
              " ('dxm', 48),\n",
              " ('ITCareerQuestions', 48),\n",
              " ('MLB_9Innings', 48),\n",
              " ('heartbreak', 48),\n",
              " ('NPD', 48),\n",
              " ('rupaulsdragrace', 48),\n",
              " ('Enneagram', 48),\n",
              " ('u_PasjrWoctx', 48),\n",
              " ('DissociaDiscourse', 47),\n",
              " ('MGTOW', 47),\n",
              " ('SuicideBereavement', 47),\n",
              " ('popping', 47),\n",
              " ('JusticeServed', 47),\n",
              " ('findareddit', 47),\n",
              " ('OnlyFansPromotions', 47),\n",
              " ('emetophobia', 47),\n",
              " ('PlantedTank', 46),\n",
              " ('NonBinary', 46),\n",
              " ('pokemon', 46),\n",
              " ('Embroidery', 46),\n",
              " ('CrappyDesign', 46),\n",
              " ('Lithium', 46),\n",
              " ('ACTrade', 46),\n",
              " ('AmateurRoomPorn', 46),\n",
              " ('MDMA', 46),\n",
              " ('ApplyingToCollege', 46),\n",
              " ('unclebens', 46),\n",
              " ('entj', 45),\n",
              " ('rage', 45),\n",
              " ('drawing', 45),\n",
              " ('freefolk', 45),\n",
              " ('weddingplanning', 45),\n",
              " ('Stims', 45),\n",
              " ('xxfitness', 45),\n",
              " ('awfuleverything', 45),\n",
              " ('GaySnapchat', 45),\n",
              " ('redditgetsdrawn', 45),\n",
              " ('Poems', 45),\n",
              " ('pennystocks', 45),\n",
              " ('Vindicta', 45),\n",
              " ('fragrancejerks', 45),\n",
              " ('MakingaMurderer', 44),\n",
              " ('OkCupid', 44),\n",
              " ('radiohead', 44),\n",
              " ('Dermatillomania', 44),\n",
              " ('casualiama', 44),\n",
              " ('OverwatchUniversity', 44),\n",
              " ('saplings', 44),\n",
              " ('chubby', 44),\n",
              " ('plantclinic', 44),\n",
              " ('GachaLifeCringe', 44),\n",
              " ('DeadBedrooms', 44),\n",
              " ('Truckers', 44),\n",
              " ('homeless', 44),\n",
              " ('AdmiralBulldog', 44),\n",
              " ('DissociaDID', 43),\n",
              " ('HPPD', 43),\n",
              " ('cuboulder', 43),\n",
              " ('BabyBumps', 43),\n",
              " ('LGBTeens', 43),\n",
              " ('internetparents', 43),\n",
              " ('disability', 43),\n",
              " ('atheism', 43),\n",
              " ('dirtykikpals', 43),\n",
              " ('PS5', 43),\n",
              " ('elderscrollsonline', 43),\n",
              " ('stimuluscheck', 43),\n",
              " ('WouldYouRather', 43),\n",
              " ('vexillology', 43),\n",
              " ('hamsters', 43),\n",
              " ('BipolarMemes', 43),\n",
              " ('auntydonna', 43),\n",
              " ('adultsurvivors', 42),\n",
              " ('GriefSupport', 42),\n",
              " ('Unexpected', 42),\n",
              " ('Equestrian', 42),\n",
              " ('askatherapist', 42),\n",
              " ('PoliticalHumor', 42),\n",
              " ('Qult_Headquarters', 42),\n",
              " ('IndieMusicFeedback', 42),\n",
              " ('seinfeld', 42),\n",
              " ('ClopClop', 42),\n",
              " ('watch_dogs', 42),\n",
              " ('Catholicism', 41),\n",
              " ('longbeach', 41),\n",
              " ('tattoo', 41),\n",
              " ('Horses', 41),\n",
              " ('gameofthrones', 41),\n",
              " ('quotes', 41),\n",
              " ('modernwarfare', 41),\n",
              " ('PS4', 41),\n",
              " ('ForeverAlone', 41),\n",
              " ('AskVet', 41),\n",
              " ('pcgaming', 41),\n",
              " ('firstimpression', 41),\n",
              " ('hardwareswap', 41),\n",
              " ('dune', 41),\n",
              " ('blackopscoldwar', 41),\n",
              " ('DankLeft', 41),\n",
              " ('leangains', 41),\n",
              " ('OtomeIsekai', 41),\n",
              " ('gaybrosgonemild', 41),\n",
              " ('domesticviolence', 40),\n",
              " ('rape', 40),\n",
              " ('Jokes', 40),\n",
              " ('im14andthisisdeep', 40),\n",
              " ('psychology', 40),\n",
              " ('CPTSDmemes', 40),\n",
              " ('PiercingAdvice', 40),\n",
              " ('FreeKarma4U', 40),\n",
              " ('exchristian', 40),\n",
              " ('youngadults', 40),\n",
              " ('popheads', 40),\n",
              " ('FemBoys', 40),\n",
              " ('Bahrain', 39),\n",
              " ('namenerds', 39),\n",
              " ('whatsthisplant', 39),\n",
              " ('applehelp', 39),\n",
              " ('PlasticSurgery', 39),\n",
              " ('nottheonion', 39),\n",
              " ('LongDistance', 39),\n",
              " ('xboxone', 39),\n",
              " ('KidCudi', 39),\n",
              " ('MapPorn', 39),\n",
              " ('MeetPeople', 39),\n",
              " ('Tau40K', 39),\n",
              " ('isfp', 38),\n",
              " ('GCSE', 38),\n",
              " ('technology', 38),\n",
              " ('Assistance', 38),\n",
              " ('Crushes', 38),\n",
              " ('WitchesVsPatriarchy', 38),\n",
              " ('Etsy', 38),\n",
              " ('adhd_anxiety', 38),\n",
              " ('NewJerseyMarijuana', 38),\n",
              " ('HolUp', 38),\n",
              " ('bose', 38),\n",
              " ('Eldenring', 38),\n",
              " ('BattleForDreamIsland', 38),\n",
              " ('ffxiv', 37),\n",
              " ('IAmA', 37),\n",
              " ('AskMenOver30', 37),\n",
              " ('PokemonGoFriends', 37),\n",
              " ('jacksepticeye', 37),\n",
              " ('AutisticPride', 37),\n",
              " ('ThriftStoreHauls', 37),\n",
              " ('TheVampireDiaries', 37),\n",
              " ('intermittentfasting', 37),\n",
              " ('EscapefromTarkov', 37),\n",
              " ('AnxietyDepression', 37),\n",
              " ('Arrangedmarriage', 37),\n",
              " ('tinytower', 37),\n",
              " ('fakedisordercringe', 37),\n",
              " ('pathofexile', 37),\n",
              " ('FindingFennsGold', 36),\n",
              " ('Bumble', 36),\n",
              " ('unitedkingdom', 36),\n",
              " ('youngpeopleyoutube', 36),\n",
              " ('Eyebleach', 36),\n",
              " ('liluzivert', 36),\n",
              " ('FanFiction', 36),\n",
              " ('TIHI', 36),\n",
              " ('Justrolledintotheshop', 36),\n",
              " ('askscience', 36),\n",
              " ('infj', 36),\n",
              " ('socialwork', 36),\n",
              " ('astrologyreadings', 36),\n",
              " ('borrow', 36),\n",
              " ('drunk', 36),\n",
              " ('meirl', 36),\n",
              " ('oilpen', 36),\n",
              " ('HotMoms', 36),\n",
              " ('abortion', 36),\n",
              " ('njpw', 36),\n",
              " ('Buddhism', 36),\n",
              " ('Libertarian', 36),\n",
              " ('buffy', 36),\n",
              " ('Dolls', 36),\n",
              " ('sugarlifestyleforum', 36),\n",
              " ('lifeisstrange', 35),\n",
              " ('TrollXChromosomes', 35),\n",
              " ('BlueMidterm2018', 35),\n",
              " ('VALORANT', 35),\n",
              " ('Damnthatsinteresting', 35),\n",
              " ('trans', 35),\n",
              " ('BoJackHorseman', 35),\n",
              " ('toastme', 35),\n",
              " ('coolguides', 35),\n",
              " ('6thForm', 35),\n",
              " ('TheGirlSurvivalGuide', 35),\n",
              " ('Dreams', 35),\n",
              " ('helpme', 35),\n",
              " ('copypasta', 35),\n",
              " ('gtaonline', 35),\n",
              " ('Entrepreneur', 35),\n",
              " ('adderall', 35),\n",
              " ('bigdickproblems', 35),\n",
              " ('ECEProfessionals', 35),\n",
              " ('GME', 35),\n",
              " ('NCSU', 35),\n",
              " ('antiMLM', 34),\n",
              " ('nosleep', 34),\n",
              " ('tumblr', 34),\n",
              " ('Healthyhooha', 34),\n",
              " ('blursedimages', 34),\n",
              " ('comedyheaven', 34),\n",
              " ('youtube', 34),\n",
              " ('StudentNurse', 34),\n",
              " ('tarot', 34),\n",
              " ('help', 34),\n",
              " ('askteenboys', 34),\n",
              " ('BlackLivesMatter', 34),\n",
              " ('nutrition', 34),\n",
              " ('ShaneDawson', 34),\n",
              " ('IWantToLearn', 34),\n",
              " ('furry', 34),\n",
              " ('obeyme', 34),\n",
              " ('Dreadlocks', 34),\n",
              " ('DressUpTimePrincess', 34),\n",
              " ('fitbit', 33),\n",
              " ('punk', 33),\n",
              " ('DeathStranding', 33),\n",
              " ('makeupexchange', 33),\n",
              " ('Fibromyalgia', 33),\n",
              " ('thatHappened', 33),\n",
              " ('Wicca', 33),\n",
              " ('Guitar', 33),\n",
              " ('Illustration', 33),\n",
              " ('OnePiece', 33),\n",
              " ('GenZedong', 33),\n",
              " ('TownofSalemgame', 33),\n",
              " ('shittyfoodporn', 33),\n",
              " ('reddevils', 33),\n",
              " ('Lyme', 33),\n",
              " ('amateurradio', 33),\n",
              " ('TheGamerLounge', 33),\n",
              " ('linux_gaming', 33),\n",
              " ('seculartalk', 33),\n",
              " ('u_John_Malanca', 33),\n",
              " ('tennis', 32),\n",
              " ('boulder', 32),\n",
              " ('nostalgia', 32),\n",
              " ('bigboobproblems', 32),\n",
              " ('FantasyPL', 32),\n",
              " ('photography', 32),\n",
              " ('Rollerskating', 32),\n",
              " ('CrossStitch', 32),\n",
              " ('Whatcouldgowrong', 32),\n",
              " ('TwoSentenceHorror', 32),\n",
              " ('classicwow', 32),\n",
              " ('onlyfansgirls101', 32),\n",
              " ('Gamingcirclejerk', 32),\n",
              " ('findfashion', 32),\n",
              " ('seduction', 32),\n",
              " ('selfharmpics', 32),\n",
              " ('Target', 32),\n",
              " ('Paranormal', 32),\n",
              " ('halloween', 32),\n",
              " ('MortalKombat', 32),\n",
              " ('assassinscreed', 32),\n",
              " ('Gunners', 32),\n",
              " ('COVID19_support', 32),\n",
              " ('Smite', 32),\n",
              " ('nespresso', 32),\n",
              " ('SpaceflightSimulator', 32),\n",
              " ('EIDL', 32),\n",
              " ('MarvelStudiosSpoilers', 32),\n",
              " ('NYYankees', 31),\n",
              " ('EntitledPeople', 31),\n",
              " ('rapecounseling', 31),\n",
              " ('vancouver', 31),\n",
              " ('MacMiller', 31),\n",
              " ('talentShow', 31),\n",
              " ('needadvice', 31),\n",
              " ('NEET', 31),\n",
              " ('NatureIsFuckingLit', 31),\n",
              " ('StardewValley', 31),\n",
              " ('1200isplenty', 31),\n",
              " ('USPS', 31),\n",
              " ('AsianParentStories', 31),\n",
              " ('beauty', 31),\n",
              " ('ABraThatFits', 31),\n",
              " ('ACPocketCamp', 31),\n",
              " ('MechanicAdvice', 31),\n",
              " ('sales', 31),\n",
              " ('ThePortal', 31),\n",
              " ('walmart', 31),\n",
              " ('SchoolSystemBroke', 31),\n",
              " ('IndianGaming', 31),\n",
              " ('traderjoes', 31),\n",
              " ('ENLIGHTENEDCENTRISM', 31),\n",
              " ('u_Immensity3127', 31),\n",
              " ('dataisbeautiful', 30),\n",
              " ('Dabs', 30),\n",
              " ('AdultChildren', 30),\n",
              " ('HistoryMemes', 30),\n",
              " ('feemagers', 30),\n",
              " ('Hypothyroidism', 30),\n",
              " ('fo76', 30),\n",
              " ('fatlogic', 30),\n",
              " ('intrusivethoughts', 30),\n",
              " ('KansasCityChiefs', 30),\n",
              " ('DiagnoseMe', 30),\n",
              " ('titanfall', 30),\n",
              " ('TeensMeetTeens', 30),\n",
              " ('WeightLossAdvice', 30),\n",
              " ('PathOfExileBuilds', 30),\n",
              " ('britishproblems', 30),\n",
              " ('bodyweightfitness', 30),\n",
              " ('vagina', 30),\n",
              " ('narcissism', 30),\n",
              " ('FreeKarma4You', 29),\n",
              " ('LifeAfterNarcissism', 29),\n",
              " ('teenagersnew', 29),\n",
              " ('JoeRogan', 29),\n",
              " ('guineapigs', 29),\n",
              " ('iamverysmart', 29),\n",
              " ('Effexor', 29),\n",
              " ('reddeadredemption', 29),\n",
              " ('Calgary', 29),\n",
              " ('badwomensanatomy', 29),\n",
              " ('HumansBeingBros', 29),\n",
              " ('LivestreamFail', 29),\n",
              " ('aromantic', 29),\n",
              " ('neoliberal', 29),\n",
              " ('woahdude', 29),\n",
              " ('PrequelMemes', 29),\n",
              " ('Instagram', 29),\n",
              " ('highdeas', 29),\n",
              " ('KidsAreFuckingStupid', 29),\n",
              " ('dogelore', 29),\n",
              " ('AnimalsBeingDerps', 29),\n",
              " ('whereintheworld', 29),\n",
              " ('JustNoSO', 29),\n",
              " ('Baking', 29),\n",
              " ('SmashBrosUltimate', 29),\n",
              " ('cameltoe', 29),\n",
              " ('Gastritis', 29),\n",
              " ('HelpMeFind', 29),\n",
              " ('exmormon', 29),\n",
              " ('LoveIslandTV', 29),\n",
              " ('shadowofmordor', 29),\n",
              " ('kdramarecommends', 29),\n",
              " ('Hydroponics', 29),\n",
              " ('FashionRepsBST', 29),\n",
              " ('productivity', 29),\n",
              " ('limerence', 29),\n",
              " ('running', 29),\n",
              " ('premed', 29),\n",
              " ('bapcsalesgermany', 29),\n",
              " ('TalesFromThePizzaGuy', 28),\n",
              " ('brandnew', 28),\n",
              " ('BattlefieldV', 28),\n",
              " ('macsetups', 28),\n",
              " ('thick', 28),\n",
              " ('skyrim', 28),\n",
              " ('Rateme', 28),\n",
              " ('CompulsiveSkinPicking', 28),\n",
              " ('Twitch', 28),\n",
              " ('Allergies', 28),\n",
              " ('Asexual', 28),\n",
              " ('TeenAmIUgly', 28),\n",
              " ('TheSilphRoad', 28),\n",
              " ('MomForAMinute', 28),\n",
              " ('FuckYouKaren', 28),\n",
              " ('snakes', 28),\n",
              " ('TheMonkeysPaw', 28),\n",
              " ('cscareerquestions', 28),\n",
              " ('Divorce', 28),\n",
              " ('ToiletPaperUSA', 28),\n",
              " ('SoCalR4R', 28),\n",
              " ('Interstitialcystitis', 28),\n",
              " ('cycling', 28),\n",
              " ('KidneyStones', 28),\n",
              " ('falcons', 28),\n",
              " ('churningcanada', 28),\n",
              " ('McMaster', 28),\n",
              " ('driving', 28),\n",
              " ('BachelorNation', 28),\n",
              " ('WomensHealth', 28),\n",
              " ('BrainFog', 28),\n",
              " ('plants', 28),\n",
              " ('Madden', 28),\n",
              " ('ShitLiberalsSay', 28),\n",
              " ('cptsdcreatives', 27),\n",
              " ('abuse', 27),\n",
              " ('space', 27),\n",
              " ('90dayfianceuncensored', 27),\n",
              " ('StackAdvice', 27),\n",
              " ('wedding', 27),\n",
              " ('facebook', 27),\n",
              " ('succulents', 27),\n",
              " ('Glitch_in_the_Matrix', 27),\n",
              " ('alcohol', 27),\n",
              " ('WhatsWrongWithYourDog', 27),\n",
              " ('DAE', 27),\n",
              " ('BitLifeApp', 27),\n",
              " ('endometriosis', 27),\n",
              " ('pokemontrades', 27),\n",
              " ('ENFP', 27),\n",
              " ('Paladins', 27),\n",
              " ('gabagoodness', 27),\n",
              " ('mac', 27),\n",
              " ('capetown', 27),\n",
              " ('scoliosis', 27),\n",
              " ('Kombucha', 27),\n",
              " ('sociopath', 27),\n",
              " ('femalefashionadvice', 27),\n",
              " ('southpark', 27),\n",
              " ('Tekken', 27),\n",
              " ('bathandbodyworks', 27),\n",
              " ('Warzone', 27),\n",
              " ('miraculousladybug', 27),\n",
              " ('buffalobills', 27),\n",
              " ('hearthstone', 26),\n",
              " ('SSBM', 26),\n",
              " ('transpassing', 26),\n",
              " ('CreepyArt', 26),\n",
              " ('ratterriers', 26),\n",
              " ('mixedrace', 26),\n",
              " ('COMPLETEANARCHY', 26),\n",
              " ('FireEmblemHeroes', 26),\n",
              " ('smashbros', 26),\n",
              " ('diabetes', 26),\n",
              " ('Fallout', 26),\n",
              " ('television', 26),\n",
              " ('burdurland', 26),\n",
              " ('Stretched', 26),\n",
              " ('notliketheothergirls', 26),\n",
              " ('CozyPlaces', 26),\n",
              " ('neopets', 26),\n",
              " ('twentyonepilots', 26),\n",
              " ('MaladaptiveDreaming', 26),\n",
              " ('chemistry', 26),\n",
              " ('minimalism', 26),\n",
              " ('singing', 26),\n",
              " ('happy', 26),\n",
              " ('ireland', 26),\n",
              " ('UniUK', 26),\n",
              " ('Bandnames', 26),\n",
              " ('friendship', 26),\n",
              " ('slavelabour', 26),\n",
              " ('shameless', 26),\n",
              " ('AusFinance', 26),\n",
              " ('Chodi', 26),\n",
              " ('CallOfDuty', 26),\n",
              " ('otomegames', 26),\n",
              " ('askphilosophy', 26),\n",
              " ('UCalgary', 26),\n",
              " ('publix', 25),\n",
              " ('Barber', 25),\n",
              " ('shorthairchicks', 25),\n",
              " ('pyrocynical', 25),\n",
              " ('amihot', 25),\n",
              " ('cringepics', 25),\n",
              " ('therewasanattempt', 25),\n",
              " ('battlestations', 25),\n",
              " ('LowSodiumCyberpunk', 25),\n",
              " ('u_mythicalvisionary', 25),\n",
              " ('FoodPorn', 25),\n",
              " ('cars', 25),\n",
              " ('natureismetal', 25),\n",
              " ('booksuggestions', 25),\n",
              " ('DestinyTheGame', 25),\n",
              " ('abusiverelationships', 25),\n",
              " ('awakened', 25),\n",
              " ('learnprogramming', 25),\n",
              " ('ColoradoSprings', 25),\n",
              " ('UofT', 25),\n",
              " ('newjersey', 25),\n",
              " ('CrazyIdeas', 25),\n",
              " ('Unemployment', 25),\n",
              " ('samsung', 25),\n",
              " ('ifyoulikeblank', 25),\n",
              " ('askdrugs', 25),\n",
              " ('Android', 25),\n",
              " ('GameSale', 25),\n",
              " ('starbucks', 25),\n",
              " ('parrots', 25),\n",
              " ('madmen', 25),\n",
              " ('datascience', 25),\n",
              " ('playstation', 25),\n",
              " ('AnimalCrossingNewHor', 25),\n",
              " ('thyroidcancer', 25),\n",
              " ('bmx', 25),\n",
              " ('LSAT', 25),\n",
              " ('eyeblech', 25),\n",
              " ('killteam', 25),\n",
              " ('TwoBestFriendsPlay', 25),\n",
              " ('Concerta', 25),\n",
              " ('starbucksbaristas', 25),\n",
              " ('mkxmobile', 25),\n",
              " ('pussypassdenied', 24),\n",
              " ('cornsnakes', 24),\n",
              " ('acturnips', 24),\n",
              " ('bayarea', 24),\n",
              " ('proED', 24),\n",
              " ('crafts', 24),\n",
              " ('HaircareScience', 24),\n",
              " ('ShittyLifeProTips', 24),\n",
              " ('estp', 24),\n",
              " ('antinatalism', 24),\n",
              " ('Soulnexus', 24),\n",
              " ('crochet', 24),\n",
              " ('pitbulls', 24),\n",
              " ('fightporn', 24),\n",
              " ('Tourettes', 24),\n",
              " ('IWantOut', 24),\n",
              " ('arttocope', 24),\n",
              " ('RationalPsychonaut', 24),\n",
              " ('disabledfriends', 24),\n",
              " ('IDAP', 24),\n",
              " ('Dogtraining', 24),\n",
              " ('resumes', 24),\n",
              " ('travisscott', 24),\n",
              " ('alcoholicsanonymous', 24),\n",
              " ('ShitAmericansSay', 24),\n",
              " ('AskEurope', 24),\n",
              " ('TherapeuticKetamine', 24),\n",
              " ('3dspiracy', 24),\n",
              " ('TeamRedditTeams', 24),\n",
              " ('thedavidpakmanshow', 24),\n",
              " ('MyTeam', 24),\n",
              " ('VeteransBenefits', 24),\n",
              " ('ukpolitics', 24),\n",
              " ('StopSpeeding', 24),\n",
              " ('AustralianPolitics', 24),\n",
              " ('sadism', 24),\n",
              " ('HotPeppers', 24),\n",
              " ('exjw', 23),\n",
              " ('postmates', 23),\n",
              " ('sweden', 23),\n",
              " ('bipolar1', 23),\n",
              " ('wowthanksimcured', 23),\n",
              " ('GothStyle', 23),\n",
              " ('StrangerThings', 23),\n",
              " ('MurderedByWords', 23),\n",
              " ('bulletjournal', 23),\n",
              " ('sadcringe', 23),\n",
              " ('vinyl', 23),\n",
              " ('LesbianActually', 23),\n",
              " ('JUSTNOFAMILY', 23),\n",
              " ('ForeverAloneDating', 23),\n",
              " ('YouShouldKnow', 23),\n",
              " ('PokemonSwordAndShield', 23),\n",
              " ('buildapcsales', 23),\n",
              " ...]"
            ]
          },
          "metadata": {
            "tags": []
          },
          "execution_count": 95
        }
      ]
    },
    {
      "cell_type": "code",
      "metadata": {
        "colab": {
          "base_uri": "https://localhost:8080/",
          "height": 0
        },
        "id": "OgK-jhgbwqti",
        "outputId": "fa6642eb-22f4-4eef-d4f0-c88f61c7ffc1"
      },
      "source": [
        "#only keep the subreddits that at least 50 users have posted to for the list to gather control data from\n",
        "all_subreddits_above50 = {key:val for key, val in all_subreddits.items() if val >= 50}\n",
        "len(all_subreddits_above50)\n"
      ],
      "execution_count": 96,
      "outputs": [
        {
          "output_type": "execute_result",
          "data": {
            "text/plain": [
              "423"
            ]
          },
          "metadata": {
            "tags": []
          },
          "execution_count": 96
        }
      ]
    },
    {
      "cell_type": "code",
      "metadata": {
        "colab": {
          "base_uri": "https://localhost:8080/",
          "height": 0
        },
        "id": "xgXnvP9g4joj",
        "outputId": "b390f5b0-dcdf-49f1-8faf-322b8c7cbc45"
      },
      "source": [
        "subreddits_todelete = ['BipolarReddit', 'depressed', 'ADHD', 'Anxiety', 'BPD', 'ptsd', 'bipolar', 'depression', 'CPTSD',\n",
        "'mentalhealth', 'BPDmemes', 'SuicideWatch','bipolar', 'bipolar2', 'raisedbynarcissists', 'depression_memes',\n",
        "'selfharm', 'NarcissisticAbuse', 'OCD', 'BorderlinePDisorder', 'zoloft', 'adhdwomen', \n",
        "'BipolarSOs', 'aspergers', 'BPDlite','AskPsychiatry',  'therapy', 'insomnia', 'adhdmeme', 'prozac',\n",
        "'lexapro', 'TalkTherapy', 'HealthAnxiety', 'benzodiazepines', 'mentalillness', 'BPDlovedones',\n",
        "'autism', 'schizophrenia', 'socialanxiety','Anxietyhelp', 'antidepressants', 'Psychosis', \n",
        "'BodyDysmorphia',  'SelfHarmScars', 'transOCD', 'dpdr', 'depressionregimens', 'bupropion', 'AnorexiaRecovery',\n",
        "'schizoaffective', 'AnxiousAttachment', 'AnorexiaNervosa', 'EDAnonymous', 'EDanonymemes','desabafos', 'de' ]\n",
        "\n",
        "subreddits_for_control_group = list(all_subreddits_above50.keys())\n",
        "subreddits_for_control_group = [x for x in subreddits_for_control_group if x not in subreddits_todelete]\n",
        "len(subreddits_for_control_group)"
      ],
      "execution_count": 97,
      "outputs": [
        {
          "output_type": "execute_result",
          "data": {
            "text/plain": [
              "371"
            ]
          },
          "metadata": {
            "tags": []
          },
          "execution_count": 97
        }
      ]
    },
    {
      "cell_type": "code",
      "metadata": {
        "id": "MIdo72UO6Dhe"
      },
      "source": [
        "subreddits_for_control_group"
      ],
      "execution_count": null,
      "outputs": []
    },
    {
      "cell_type": "markdown",
      "metadata": {
        "id": "SyOYbplUcUtf"
      },
      "source": [
        "## Data Combination\n",
        "\n",
        "I create a label for each class, and apply it as necessary. "
      ]
    },
    {
      "cell_type": "code",
      "metadata": {
        "id": "9OhTArZzYmTG"
      },
      "source": [
        "classes = {'anxiety': 1, 'adhd': 2, 'bipolar': 3, 'bpd': 4, 'depression': 5, 'ptsd': 6, 'control': 0}"
      ],
      "execution_count": 98,
      "outputs": []
    },
    {
      "cell_type": "code",
      "metadata": {
        "id": "ClbhfU_2Y-_G"
      },
      "source": [
        "anxiety_subs_df['class'] = 1\n",
        "anxiety_coms_df['class'] = 1\n",
        "adhd_subs_df['class'] = 2\n",
        "adhd_coms_df['class'] = 2\n",
        "bipolar_subs_df['class'] = 3\n",
        "bipolar_coms_df['class'] = 3\n",
        "bpd_coms_df['class'] = 4\n",
        "bpd_subs_df['class'] = 4\n",
        "dep_coms_df['class'] = 5\n",
        "dep_subs_df['class'] = 5\n",
        "ptsd_coms_df['class'] = 6\n",
        "ptsd_subs_df['class'] = 6"
      ],
      "execution_count": 99,
      "outputs": []
    },
    {
      "cell_type": "code",
      "metadata": {
        "colab": {
          "base_uri": "https://localhost:8080/",
          "height": 642
        },
        "id": "RlPhrE3eqe8C",
        "outputId": "6c0d205a-875f-4d1d-d5f4-e2c0cff619b9"
      },
      "source": [
        "anxiety_coms_df.head()"
      ],
      "execution_count": null,
      "outputs": [
        {
          "output_type": "execute_result",
          "data": {
            "text/html": [
              "<div>\n",
              "<style scoped>\n",
              "    .dataframe tbody tr th:only-of-type {\n",
              "        vertical-align: middle;\n",
              "    }\n",
              "\n",
              "    .dataframe tbody tr th {\n",
              "        vertical-align: top;\n",
              "    }\n",
              "\n",
              "    .dataframe thead th {\n",
              "        text-align: right;\n",
              "    }\n",
              "</style>\n",
              "<table border=\"1\" class=\"dataframe\">\n",
              "  <thead>\n",
              "    <tr style=\"text-align: right;\">\n",
              "      <th></th>\n",
              "      <th>Unnamed: 0</th>\n",
              "      <th>com_id</th>\n",
              "      <th>author</th>\n",
              "      <th>score</th>\n",
              "      <th>created</th>\n",
              "      <th>created_utc</th>\n",
              "      <th>url</th>\n",
              "      <th>body</th>\n",
              "      <th>subreddit</th>\n",
              "      <th>class</th>\n",
              "    </tr>\n",
              "  </thead>\n",
              "  <tbody>\n",
              "    <tr>\n",
              "      <th>0</th>\n",
              "      <td>0</td>\n",
              "      <td>gcvp6f9</td>\n",
              "      <td>3045</td>\n",
              "      <td>2</td>\n",
              "      <td>2020-11-19 22:36:34</td>\n",
              "      <td>1605825394</td>\n",
              "      <td>/r/Anxiety/comments/jxc8vp/how_come_after_i_wa...</td>\n",
              "      <td>Yeah you are right it’s probably my brain anti...</td>\n",
              "      <td>Anxiety</td>\n",
              "      <td>1</td>\n",
              "    </tr>\n",
              "    <tr>\n",
              "      <th>1</th>\n",
              "      <td>1</td>\n",
              "      <td>gcw1cwq</td>\n",
              "      <td>3045</td>\n",
              "      <td>1</td>\n",
              "      <td>2020-11-20 00:10:50</td>\n",
              "      <td>1605831050</td>\n",
              "      <td>/r/latinas/comments/jxdt28/what_do_you_think_a...</td>\n",
              "      <td>Weak</td>\n",
              "      <td>latinas</td>\n",
              "      <td>1</td>\n",
              "    </tr>\n",
              "    <tr>\n",
              "      <th>2</th>\n",
              "      <td>2</td>\n",
              "      <td>gcw94v3</td>\n",
              "      <td>3045</td>\n",
              "      <td>1</td>\n",
              "      <td>2020-11-20 01:22:45</td>\n",
              "      <td>1605835365</td>\n",
              "      <td>/r/Anxiety/comments/jxeq5h/can_anxiety_general...</td>\n",
              "      <td>Yes. For me when my anxiety started after havi...</td>\n",
              "      <td>Anxiety</td>\n",
              "      <td>1</td>\n",
              "    </tr>\n",
              "    <tr>\n",
              "      <th>3</th>\n",
              "      <td>3</td>\n",
              "      <td>gcyec2m</td>\n",
              "      <td>3045</td>\n",
              "      <td>1</td>\n",
              "      <td>2020-11-20 16:42:34</td>\n",
              "      <td>1605890554</td>\n",
              "      <td>/r/DaniellePertusiello/comments/jsu516/hooters...</td>\n",
              "      <td>What’s her new ig</td>\n",
              "      <td>DaniellePertusiello</td>\n",
              "      <td>1</td>\n",
              "    </tr>\n",
              "    <tr>\n",
              "      <th>4</th>\n",
              "      <td>4</td>\n",
              "      <td>gcyoq7d</td>\n",
              "      <td>3045</td>\n",
              "      <td>1</td>\n",
              "      <td>2020-11-20 18:04:59</td>\n",
              "      <td>1605895499</td>\n",
              "      <td>/r/Anxiety/comments/jxtpgy/always_lightheadedd...</td>\n",
              "      <td>Yes I find myself kind of light headed and diz...</td>\n",
              "      <td>Anxiety</td>\n",
              "      <td>1</td>\n",
              "    </tr>\n",
              "  </tbody>\n",
              "</table>\n",
              "</div>"
            ],
            "text/plain": [
              "   Unnamed: 0   com_id  ...            subreddit  class\n",
              "0           0  gcvp6f9  ...              Anxiety      1\n",
              "1           1  gcw1cwq  ...              latinas      1\n",
              "2           2  gcw94v3  ...              Anxiety      1\n",
              "3           3  gcyec2m  ...  DaniellePertusiello      1\n",
              "4           4  gcyoq7d  ...              Anxiety      1\n",
              "\n",
              "[5 rows x 10 columns]"
            ]
          },
          "metadata": {
            "tags": []
          },
          "execution_count": 18
        }
      ]
    },
    {
      "cell_type": "code",
      "metadata": {
        "id": "Lv4R5Gx8mk1T"
      },
      "source": [
        "def prepareDataFrame(df, type):\n",
        "  \"\"\" Takes in a Dataframe and type (submission or comment).  Returns new data frame that has removed entries \n",
        "  from mentalhealth subreddits and posts than 50 words long. \"\"\"\n",
        "  #remove subreddits related to mental health \n",
        "  return_df = df.loc[~df['subreddit'].isin(subreddits_todelete)]\n",
        "\n",
        "  #create word count column\n",
        "  if type == ('sub'):\n",
        "    try:\n",
        "      return_df['word_count'] = return_df['selftext'].str.split().str.len()\n",
        "    except:\n",
        "      return_df['word_count'] = return_df['selftex'].str.split().str.len()\n",
        "      return_df['selftext'] = return_df['selftex']\n",
        "  else:\n",
        "    return_df['word_count'] = return_df['body'].str.split().str.len()\n",
        "\n",
        "  #remove rows with text less than 50 words\n",
        "  return_df = return_df.loc[return_df['word_count'] >= 50]\n",
        "\n",
        "  return return_df\n"
      ],
      "execution_count": 100,
      "outputs": []
    },
    {
      "cell_type": "code",
      "metadata": {
        "colab": {
          "base_uri": "https://localhost:8080/",
          "height": 0
        },
        "id": "mHK6bZkUnDQP",
        "outputId": "1fe69872-911c-484c-ab5c-c19e143ad5dd"
      },
      "source": [
        "anxiety_coms_df_shortened = prepareDataFrame(anxiety_coms_df, 'com')\n",
        "bpd_coms_df_shortened = prepareDataFrame(bpd_coms_df, 'com')\n",
        "bipolar_coms_df_shortened = prepareDataFrame(bipolar_coms_df, 'com')\n",
        "dep_coms_df_shortened = prepareDataFrame(dep_coms_df, 'com')\n",
        "adhd_coms_df_shortened = prepareDataFrame(adhd_coms_df, 'com')\n",
        "ptsd_coms_df_shortened = prepareDataFrame(ptsd_coms_df, 'com')"
      ],
      "execution_count": 101,
      "outputs": [
        {
          "output_type": "stream",
          "text": [
            "/usr/local/lib/python3.7/dist-packages/ipykernel_launcher.py:15: SettingWithCopyWarning: \n",
            "A value is trying to be set on a copy of a slice from a DataFrame.\n",
            "Try using .loc[row_indexer,col_indexer] = value instead\n",
            "\n",
            "See the caveats in the documentation: https://pandas.pydata.org/pandas-docs/stable/user_guide/indexing.html#returning-a-view-versus-a-copy\n",
            "  from ipykernel import kernelapp as app\n",
            "/usr/local/lib/python3.7/dist-packages/ipykernel_launcher.py:15: SettingWithCopyWarning: \n",
            "A value is trying to be set on a copy of a slice from a DataFrame.\n",
            "Try using .loc[row_indexer,col_indexer] = value instead\n",
            "\n",
            "See the caveats in the documentation: https://pandas.pydata.org/pandas-docs/stable/user_guide/indexing.html#returning-a-view-versus-a-copy\n",
            "  from ipykernel import kernelapp as app\n",
            "/usr/local/lib/python3.7/dist-packages/ipykernel_launcher.py:15: SettingWithCopyWarning: \n",
            "A value is trying to be set on a copy of a slice from a DataFrame.\n",
            "Try using .loc[row_indexer,col_indexer] = value instead\n",
            "\n",
            "See the caveats in the documentation: https://pandas.pydata.org/pandas-docs/stable/user_guide/indexing.html#returning-a-view-versus-a-copy\n",
            "  from ipykernel import kernelapp as app\n",
            "/usr/local/lib/python3.7/dist-packages/ipykernel_launcher.py:15: SettingWithCopyWarning: \n",
            "A value is trying to be set on a copy of a slice from a DataFrame.\n",
            "Try using .loc[row_indexer,col_indexer] = value instead\n",
            "\n",
            "See the caveats in the documentation: https://pandas.pydata.org/pandas-docs/stable/user_guide/indexing.html#returning-a-view-versus-a-copy\n",
            "  from ipykernel import kernelapp as app\n",
            "/usr/local/lib/python3.7/dist-packages/ipykernel_launcher.py:15: SettingWithCopyWarning: \n",
            "A value is trying to be set on a copy of a slice from a DataFrame.\n",
            "Try using .loc[row_indexer,col_indexer] = value instead\n",
            "\n",
            "See the caveats in the documentation: https://pandas.pydata.org/pandas-docs/stable/user_guide/indexing.html#returning-a-view-versus-a-copy\n",
            "  from ipykernel import kernelapp as app\n",
            "/usr/local/lib/python3.7/dist-packages/ipykernel_launcher.py:15: SettingWithCopyWarning: \n",
            "A value is trying to be set on a copy of a slice from a DataFrame.\n",
            "Try using .loc[row_indexer,col_indexer] = value instead\n",
            "\n",
            "See the caveats in the documentation: https://pandas.pydata.org/pandas-docs/stable/user_guide/indexing.html#returning-a-view-versus-a-copy\n",
            "  from ipykernel import kernelapp as app\n"
          ],
          "name": "stderr"
        }
      ]
    },
    {
      "cell_type": "code",
      "metadata": {
        "colab": {
          "base_uri": "https://localhost:8080/",
          "height": 0
        },
        "id": "GwsDWjguo8-j",
        "outputId": "c2984f33-971e-4f52-cf19-21c1af5da920"
      },
      "source": [
        "anxiety_subs_df_shortened = prepareDataFrame(anxiety_subs_df, 'sub')\n",
        "bpd_subs_df_shortened = prepareDataFrame(bpd_subs_df, 'sub')\n",
        "bipolar_subs_df_shortened = prepareDataFrame(bipolar_subs_df, 'sub')\n",
        "dep_subs_df_shortened = prepareDataFrame(dep_subs_df, 'sub')\n",
        "adhd_subs_df_shortened = prepareDataFrame(adhd_subs_df, 'sub')\n",
        "ptsd_subs_df_shortened = prepareDataFrame(ptsd_subs_df, 'sub')"
      ],
      "execution_count": 102,
      "outputs": [
        {
          "output_type": "stream",
          "text": [
            "/usr/local/lib/python3.7/dist-packages/ipykernel_launcher.py:12: SettingWithCopyWarning: \n",
            "A value is trying to be set on a copy of a slice from a DataFrame.\n",
            "Try using .loc[row_indexer,col_indexer] = value instead\n",
            "\n",
            "See the caveats in the documentation: https://pandas.pydata.org/pandas-docs/stable/user_guide/indexing.html#returning-a-view-versus-a-copy\n",
            "  if sys.path[0] == '':\n",
            "/usr/local/lib/python3.7/dist-packages/ipykernel_launcher.py:13: SettingWithCopyWarning: \n",
            "A value is trying to be set on a copy of a slice from a DataFrame.\n",
            "Try using .loc[row_indexer,col_indexer] = value instead\n",
            "\n",
            "See the caveats in the documentation: https://pandas.pydata.org/pandas-docs/stable/user_guide/indexing.html#returning-a-view-versus-a-copy\n",
            "  del sys.path[0]\n",
            "/usr/local/lib/python3.7/dist-packages/ipykernel_launcher.py:12: SettingWithCopyWarning: \n",
            "A value is trying to be set on a copy of a slice from a DataFrame.\n",
            "Try using .loc[row_indexer,col_indexer] = value instead\n",
            "\n",
            "See the caveats in the documentation: https://pandas.pydata.org/pandas-docs/stable/user_guide/indexing.html#returning-a-view-versus-a-copy\n",
            "  if sys.path[0] == '':\n",
            "/usr/local/lib/python3.7/dist-packages/ipykernel_launcher.py:13: SettingWithCopyWarning: \n",
            "A value is trying to be set on a copy of a slice from a DataFrame.\n",
            "Try using .loc[row_indexer,col_indexer] = value instead\n",
            "\n",
            "See the caveats in the documentation: https://pandas.pydata.org/pandas-docs/stable/user_guide/indexing.html#returning-a-view-versus-a-copy\n",
            "  del sys.path[0]\n",
            "/usr/local/lib/python3.7/dist-packages/ipykernel_launcher.py:12: SettingWithCopyWarning: \n",
            "A value is trying to be set on a copy of a slice from a DataFrame.\n",
            "Try using .loc[row_indexer,col_indexer] = value instead\n",
            "\n",
            "See the caveats in the documentation: https://pandas.pydata.org/pandas-docs/stable/user_guide/indexing.html#returning-a-view-versus-a-copy\n",
            "  if sys.path[0] == '':\n",
            "/usr/local/lib/python3.7/dist-packages/ipykernel_launcher.py:13: SettingWithCopyWarning: \n",
            "A value is trying to be set on a copy of a slice from a DataFrame.\n",
            "Try using .loc[row_indexer,col_indexer] = value instead\n",
            "\n",
            "See the caveats in the documentation: https://pandas.pydata.org/pandas-docs/stable/user_guide/indexing.html#returning-a-view-versus-a-copy\n",
            "  del sys.path[0]\n",
            "/usr/local/lib/python3.7/dist-packages/ipykernel_launcher.py:12: SettingWithCopyWarning: \n",
            "A value is trying to be set on a copy of a slice from a DataFrame.\n",
            "Try using .loc[row_indexer,col_indexer] = value instead\n",
            "\n",
            "See the caveats in the documentation: https://pandas.pydata.org/pandas-docs/stable/user_guide/indexing.html#returning-a-view-versus-a-copy\n",
            "  if sys.path[0] == '':\n",
            "/usr/local/lib/python3.7/dist-packages/ipykernel_launcher.py:13: SettingWithCopyWarning: \n",
            "A value is trying to be set on a copy of a slice from a DataFrame.\n",
            "Try using .loc[row_indexer,col_indexer] = value instead\n",
            "\n",
            "See the caveats in the documentation: https://pandas.pydata.org/pandas-docs/stable/user_guide/indexing.html#returning-a-view-versus-a-copy\n",
            "  del sys.path[0]\n",
            "/usr/local/lib/python3.7/dist-packages/ipykernel_launcher.py:12: SettingWithCopyWarning: \n",
            "A value is trying to be set on a copy of a slice from a DataFrame.\n",
            "Try using .loc[row_indexer,col_indexer] = value instead\n",
            "\n",
            "See the caveats in the documentation: https://pandas.pydata.org/pandas-docs/stable/user_guide/indexing.html#returning-a-view-versus-a-copy\n",
            "  if sys.path[0] == '':\n",
            "/usr/local/lib/python3.7/dist-packages/ipykernel_launcher.py:13: SettingWithCopyWarning: \n",
            "A value is trying to be set on a copy of a slice from a DataFrame.\n",
            "Try using .loc[row_indexer,col_indexer] = value instead\n",
            "\n",
            "See the caveats in the documentation: https://pandas.pydata.org/pandas-docs/stable/user_guide/indexing.html#returning-a-view-versus-a-copy\n",
            "  del sys.path[0]\n",
            "/usr/local/lib/python3.7/dist-packages/ipykernel_launcher.py:12: SettingWithCopyWarning: \n",
            "A value is trying to be set on a copy of a slice from a DataFrame.\n",
            "Try using .loc[row_indexer,col_indexer] = value instead\n",
            "\n",
            "See the caveats in the documentation: https://pandas.pydata.org/pandas-docs/stable/user_guide/indexing.html#returning-a-view-versus-a-copy\n",
            "  if sys.path[0] == '':\n",
            "/usr/local/lib/python3.7/dist-packages/ipykernel_launcher.py:13: SettingWithCopyWarning: \n",
            "A value is trying to be set on a copy of a slice from a DataFrame.\n",
            "Try using .loc[row_indexer,col_indexer] = value instead\n",
            "\n",
            "See the caveats in the documentation: https://pandas.pydata.org/pandas-docs/stable/user_guide/indexing.html#returning-a-view-versus-a-copy\n",
            "  del sys.path[0]\n"
          ],
          "name": "stderr"
        }
      ]
    },
    {
      "cell_type": "code",
      "metadata": {
        "colab": {
          "base_uri": "https://localhost:8080/",
          "height": 798
        },
        "id": "NlLu4-FvFPNa",
        "outputId": "46dcc529-734a-4dbc-f578-aa2167ca724c"
      },
      "source": [
        "anxiety_subs_df_shortened.head()"
      ],
      "execution_count": 111,
      "outputs": [
        {
          "output_type": "execute_result",
          "data": {
            "text/html": [
              "<div>\n",
              "<style scoped>\n",
              "    .dataframe tbody tr th:only-of-type {\n",
              "        vertical-align: middle;\n",
              "    }\n",
              "\n",
              "    .dataframe tbody tr th {\n",
              "        vertical-align: top;\n",
              "    }\n",
              "\n",
              "    .dataframe thead th {\n",
              "        text-align: right;\n",
              "    }\n",
              "</style>\n",
              "<table border=\"1\" class=\"dataframe\">\n",
              "  <thead>\n",
              "    <tr style=\"text-align: right;\">\n",
              "      <th></th>\n",
              "      <th>Unnamed: 0</th>\n",
              "      <th>sub_id</th>\n",
              "      <th>author</th>\n",
              "      <th>title</th>\n",
              "      <th>url</th>\n",
              "      <th>score</th>\n",
              "      <th>created</th>\n",
              "      <th>created_utc</th>\n",
              "      <th>numComms</th>\n",
              "      <th>permalink</th>\n",
              "      <th>flair</th>\n",
              "      <th>selftex</th>\n",
              "      <th>subreddit</th>\n",
              "      <th>class</th>\n",
              "      <th>word_count</th>\n",
              "      <th>selftext</th>\n",
              "    </tr>\n",
              "  </thead>\n",
              "  <tbody>\n",
              "    <tr>\n",
              "      <th>1</th>\n",
              "      <td>1</td>\n",
              "      <td>lm55xj</td>\n",
              "      <td>3045</td>\n",
              "      <td>Quick Question on fake percs</td>\n",
              "      <td>https://www.reddit.com/r/opiates/comments/lm55...</td>\n",
              "      <td>1</td>\n",
              "      <td>2021-02-17 21:27:01</td>\n",
              "      <td>1613597221</td>\n",
              "      <td>17</td>\n",
              "      <td>/r/opiates/comments/lm55xj/quick_question_on_f...</td>\n",
              "      <td>NaN</td>\n",
              "      <td>So a homie of mine got some suspect looking pe...</td>\n",
              "      <td>opiates</td>\n",
              "      <td>1</td>\n",
              "      <td>66.0</td>\n",
              "      <td>So a homie of mine got some suspect looking pe...</td>\n",
              "    </tr>\n",
              "    <tr>\n",
              "      <th>3</th>\n",
              "      <td>3</td>\n",
              "      <td>mkvmp8</td>\n",
              "      <td>3045</td>\n",
              "      <td>Noob</td>\n",
              "      <td>https://www.reddit.com/r/HappyEndingMassage/co...</td>\n",
              "      <td>1</td>\n",
              "      <td>2021-04-05 21:39:26</td>\n",
              "      <td>1617658766</td>\n",
              "      <td>5</td>\n",
              "      <td>/r/HappyEndingMassage/comments/mkvmp8/noob/</td>\n",
              "      <td>NaN</td>\n",
              "      <td>I’m 23, short and people have said I looked li...</td>\n",
              "      <td>HappyEndingMassage</td>\n",
              "      <td>1</td>\n",
              "      <td>52.0</td>\n",
              "      <td>I’m 23, short and people have said I looked li...</td>\n",
              "    </tr>\n",
              "    <tr>\n",
              "      <th>4</th>\n",
              "      <td>4</td>\n",
              "      <td>mmf49y</td>\n",
              "      <td>3045</td>\n",
              "      <td>Scored First Time</td>\n",
              "      <td>https://www.reddit.com/r/HappyEndingMassage/co...</td>\n",
              "      <td>1</td>\n",
              "      <td>2021-04-07 23:45:20</td>\n",
              "      <td>1617839120</td>\n",
              "      <td>3</td>\n",
              "      <td>/r/HappyEndingMassage/comments/mmf49y/scored_f...</td>\n",
              "      <td>NaN</td>\n",
              "      <td>I’ve never done this before but decided to giv...</td>\n",
              "      <td>HappyEndingMassage</td>\n",
              "      <td>1</td>\n",
              "      <td>53.0</td>\n",
              "      <td>I’ve never done this before but decided to giv...</td>\n",
              "    </tr>\n",
              "    <tr>\n",
              "      <th>5</th>\n",
              "      <td>5</td>\n",
              "      <td>mmveji</td>\n",
              "      <td>3045</td>\n",
              "      <td>Need FS or atleast BBBBJ</td>\n",
              "      <td>https://www.reddit.com/r/HappyEndingMassage/co...</td>\n",
              "      <td>1</td>\n",
              "      <td>2021-04-08 16:22:20</td>\n",
              "      <td>1617898940</td>\n",
              "      <td>7</td>\n",
              "      <td>/r/HappyEndingMassage/comments/mmveji/need_fs_...</td>\n",
              "      <td>NaN</td>\n",
              "      <td>How do I go about getting FS or BJ. Just went ...</td>\n",
              "      <td>HappyEndingMassage</td>\n",
              "      <td>1</td>\n",
              "      <td>54.0</td>\n",
              "      <td>How do I go about getting FS or BJ. Just went ...</td>\n",
              "    </tr>\n",
              "    <tr>\n",
              "      <th>6</th>\n",
              "      <td>6</td>\n",
              "      <td>mn1enc</td>\n",
              "      <td>3045</td>\n",
              "      <td>How to avoid ever getting caught by Leo’s</td>\n",
              "      <td>https://www.reddit.com/r/HappyEndingMassage/co...</td>\n",
              "      <td>1</td>\n",
              "      <td>2021-04-08 21:00:19</td>\n",
              "      <td>1617915619</td>\n",
              "      <td>3</td>\n",
              "      <td>/r/HappyEndingMassage/comments/mn1enc/how_to_a...</td>\n",
              "      <td>Question</td>\n",
              "      <td>I’m new to this and did some research and foun...</td>\n",
              "      <td>HappyEndingMassage</td>\n",
              "      <td>1</td>\n",
              "      <td>52.0</td>\n",
              "      <td>I’m new to this and did some research and foun...</td>\n",
              "    </tr>\n",
              "  </tbody>\n",
              "</table>\n",
              "</div>"
            ],
            "text/plain": [
              "   Unnamed: 0  ...                                           selftext\n",
              "1           1  ...  So a homie of mine got some suspect looking pe...\n",
              "3           3  ...  I’m 23, short and people have said I looked li...\n",
              "4           4  ...  I’ve never done this before but decided to giv...\n",
              "5           5  ...  How do I go about getting FS or BJ. Just went ...\n",
              "6           6  ...  I’m new to this and did some research and foun...\n",
              "\n",
              "[5 rows x 16 columns]"
            ]
          },
          "metadata": {
            "tags": []
          },
          "execution_count": 111
        }
      ]
    },
    {
      "cell_type": "markdown",
      "metadata": {
        "id": "UwKo__wcFCz-"
      },
      "source": [
        "## Import Negative Group\n",
        "\n",
        "I import the control data and create dataframes for it. \n"
      ]
    },
    {
      "cell_type": "code",
      "metadata": {
        "id": "7bryfzZiJJ1U"
      },
      "source": [
        "first_threethousand_coms_df = pd.read_csv('first_threethousand_coms.csv')\n",
        "threetofourthousand_coms_df = pd.read_csv('threetofourthousand_coms.csv')\n",
        "fourthousandtotenthousand_coms_df = pd.read_csv('fourthousandtotenthousand_coms.csv')\n",
        "tenthousandthrutwentythousand_coms_df = pd.read_csv('tenthousandthrutwentythousand_coms.csv')\n",
        "twentythousandthruthirtythousand_coms_df = pd.read_csv('twentythousandthruthirtythousand_coms.csv')\n",
        "thirtythousandthrufourtyfivethousand_coms_df = pd.read_csv('thirtythousandthrufourtyfivethousand_coms.csv')\n",
        "fourtyfivethouthrufiftyfivetho_coms_df = pd.read_csv('fourtyfivethouthrufiftyfivetho_coms.csv')\n",
        "fiftyfivethoutosixtyfivethou_coms_df = pd.read_csv('fiftyfivethoutosixtyfivethou_coms.csv')\n",
        "sixtyfivethouthruseventyfivethou_coms_df = pd.read_csv('sixtyfivethouthruseventyfivethou_coms.csv')\n",
        "seventyfivethouthrueightyfivethou_coms_df = pd.read_csv('seventyfivethouthrueightyfivethou_coms.csv')"
      ],
      "execution_count": 23,
      "outputs": []
    },
    {
      "cell_type": "code",
      "metadata": {
        "colab": {
          "base_uri": "https://localhost:8080/",
          "height": 0
        },
        "id": "60whwz-uLHGP",
        "outputId": "6831d2a1-0bd5-4394-e7e4-c47e6e3b8d2d"
      },
      "source": [
        "first_threethousand_coms_df = prepareDataFrame(first_threethousand_coms_df, 'com')\n",
        "threetofourthousand_coms_df = prepareDataFrame(threetofourthousand_coms_df, 'com')\n",
        "fourthousandtotenthousand_coms_df = prepareDataFrame(fourthousandtotenthousand_coms_df, 'com')\n",
        "tenthousandthrutwentythousand_coms_df = prepareDataFrame(tenthousandthrutwentythousand_coms_df, 'com')\n",
        "twentythousandthruthirtythousand_coms_df = prepareDataFrame(twentythousandthruthirtythousand_coms_df, 'com')\n",
        "thirtythousandthrufourtyfivethousand_coms_df = prepareDataFrame(thirtythousandthrufourtyfivethousand_coms_df, 'com')\n",
        "fourtyfivethouthrufiftyfivetho_coms_df = prepareDataFrame(fourtyfivethouthrufiftyfivetho_coms_df, 'com')\n",
        "fiftyfivethoutosixtyfivethou_coms_df = prepareDataFrame(fiftyfivethoutosixtyfivethou_coms_df, 'com')\n",
        "sixtyfivethouthruseventyfivethou_coms_df = prepareDataFrame(sixtyfivethouthruseventyfivethou_coms_df, 'com')\n",
        "seventyfivethouthrueightyfivethou_coms_df = prepareDataFrame(seventyfivethouthrueightyfivethou_coms_df, 'com')"
      ],
      "execution_count": 24,
      "outputs": [
        {
          "output_type": "stream",
          "text": [
            "/usr/local/lib/python3.7/dist-packages/ipykernel_launcher.py:15: SettingWithCopyWarning: \n",
            "A value is trying to be set on a copy of a slice from a DataFrame.\n",
            "Try using .loc[row_indexer,col_indexer] = value instead\n",
            "\n",
            "See the caveats in the documentation: https://pandas.pydata.org/pandas-docs/stable/user_guide/indexing.html#returning-a-view-versus-a-copy\n",
            "  from ipykernel import kernelapp as app\n",
            "/usr/local/lib/python3.7/dist-packages/ipykernel_launcher.py:15: SettingWithCopyWarning: \n",
            "A value is trying to be set on a copy of a slice from a DataFrame.\n",
            "Try using .loc[row_indexer,col_indexer] = value instead\n",
            "\n",
            "See the caveats in the documentation: https://pandas.pydata.org/pandas-docs/stable/user_guide/indexing.html#returning-a-view-versus-a-copy\n",
            "  from ipykernel import kernelapp as app\n",
            "/usr/local/lib/python3.7/dist-packages/ipykernel_launcher.py:15: SettingWithCopyWarning: \n",
            "A value is trying to be set on a copy of a slice from a DataFrame.\n",
            "Try using .loc[row_indexer,col_indexer] = value instead\n",
            "\n",
            "See the caveats in the documentation: https://pandas.pydata.org/pandas-docs/stable/user_guide/indexing.html#returning-a-view-versus-a-copy\n",
            "  from ipykernel import kernelapp as app\n",
            "/usr/local/lib/python3.7/dist-packages/ipykernel_launcher.py:15: SettingWithCopyWarning: \n",
            "A value is trying to be set on a copy of a slice from a DataFrame.\n",
            "Try using .loc[row_indexer,col_indexer] = value instead\n",
            "\n",
            "See the caveats in the documentation: https://pandas.pydata.org/pandas-docs/stable/user_guide/indexing.html#returning-a-view-versus-a-copy\n",
            "  from ipykernel import kernelapp as app\n",
            "/usr/local/lib/python3.7/dist-packages/ipykernel_launcher.py:15: SettingWithCopyWarning: \n",
            "A value is trying to be set on a copy of a slice from a DataFrame.\n",
            "Try using .loc[row_indexer,col_indexer] = value instead\n",
            "\n",
            "See the caveats in the documentation: https://pandas.pydata.org/pandas-docs/stable/user_guide/indexing.html#returning-a-view-versus-a-copy\n",
            "  from ipykernel import kernelapp as app\n",
            "/usr/local/lib/python3.7/dist-packages/ipykernel_launcher.py:15: SettingWithCopyWarning: \n",
            "A value is trying to be set on a copy of a slice from a DataFrame.\n",
            "Try using .loc[row_indexer,col_indexer] = value instead\n",
            "\n",
            "See the caveats in the documentation: https://pandas.pydata.org/pandas-docs/stable/user_guide/indexing.html#returning-a-view-versus-a-copy\n",
            "  from ipykernel import kernelapp as app\n",
            "/usr/local/lib/python3.7/dist-packages/ipykernel_launcher.py:15: SettingWithCopyWarning: \n",
            "A value is trying to be set on a copy of a slice from a DataFrame.\n",
            "Try using .loc[row_indexer,col_indexer] = value instead\n",
            "\n",
            "See the caveats in the documentation: https://pandas.pydata.org/pandas-docs/stable/user_guide/indexing.html#returning-a-view-versus-a-copy\n",
            "  from ipykernel import kernelapp as app\n",
            "/usr/local/lib/python3.7/dist-packages/ipykernel_launcher.py:15: SettingWithCopyWarning: \n",
            "A value is trying to be set on a copy of a slice from a DataFrame.\n",
            "Try using .loc[row_indexer,col_indexer] = value instead\n",
            "\n",
            "See the caveats in the documentation: https://pandas.pydata.org/pandas-docs/stable/user_guide/indexing.html#returning-a-view-versus-a-copy\n",
            "  from ipykernel import kernelapp as app\n",
            "/usr/local/lib/python3.7/dist-packages/ipykernel_launcher.py:15: SettingWithCopyWarning: \n",
            "A value is trying to be set on a copy of a slice from a DataFrame.\n",
            "Try using .loc[row_indexer,col_indexer] = value instead\n",
            "\n",
            "See the caveats in the documentation: https://pandas.pydata.org/pandas-docs/stable/user_guide/indexing.html#returning-a-view-versus-a-copy\n",
            "  from ipykernel import kernelapp as app\n",
            "/usr/local/lib/python3.7/dist-packages/ipykernel_launcher.py:15: SettingWithCopyWarning: \n",
            "A value is trying to be set on a copy of a slice from a DataFrame.\n",
            "Try using .loc[row_indexer,col_indexer] = value instead\n",
            "\n",
            "See the caveats in the documentation: https://pandas.pydata.org/pandas-docs/stable/user_guide/indexing.html#returning-a-view-versus-a-copy\n",
            "  from ipykernel import kernelapp as app\n"
          ],
          "name": "stderr"
        }
      ]
    },
    {
      "cell_type": "code",
      "metadata": {
        "colab": {
          "base_uri": "https://localhost:8080/",
          "height": 0
        },
        "id": "h0RHlFchLILH",
        "outputId": "f80f8c4a-1652-45f6-c6de-5df55b6477e0"
      },
      "source": [
        "frames = [first_threethousand_coms_df, threetofourthousand_coms_df, fourthousandtotenthousand_coms_df,\n",
        "          tenthousandthrutwentythousand_coms_df, twentythousandthruthirtythousand_coms_df, thirtythousandthrufourtyfivethousand_coms_df,\n",
        "          fourtyfivethouthrufiftyfivetho_coms_df, fiftyfivethoutosixtyfivethou_coms_df, sixtyfivethouthruseventyfivethou_coms_df,\n",
        "          seventyfivethouthrueightyfivethou_coms_df]\n",
        "\n",
        "control_df = pd.concat(frames, ignore_index=True)\n",
        "control_df['class'] = 0\n",
        "len(control_df)"
      ],
      "execution_count": 25,
      "outputs": [
        {
          "output_type": "execute_result",
          "data": {
            "text/plain": [
              "306826"
            ]
          },
          "metadata": {
            "tags": []
          },
          "execution_count": 25
        }
      ]
    },
    {
      "cell_type": "code",
      "metadata": {
        "id": "-D11BQJp7_Bp"
      },
      "source": [
        "firsttenthou_subs_df = pd.read_csv('firsttenthou_subs.csv')\n",
        "tenthouthruwentythou_subs_df = pd.read_csv('tenthouthruwentythou_subs.csv')\n",
        "twentythouthruthirtythou_subs_df = pd.read_csv('twentythouthruthirtythou_subs.csv')\n",
        "thirtythouthrufourtythou_subs_df = pd.read_csv('thirtythouthrufourtythou_subs.csv')\n",
        "fourtythouthrufiftythou_subs_df = pd.read_csv('fourtythouthrufiftythou_subs.csv')\n",
        "fiftythouthrusixtythou_subs_df = pd.read_csv('fiftythouthrusixtythou_subs.csv')\n",
        "sixtythouthruseventythou_subs_df = pd.read_csv('sixtythouthruseventythou_subs.csv')\n",
        "seventythouthrueightythou_subs_df = pd.read_csv('seventythouthrueightythou_subs.csv')\n",
        "eightythouthrueightyfivethou_subs_df = pd.read_csv('eightythouthrueightyfivethou.csv')"
      ],
      "execution_count": 26,
      "outputs": []
    },
    {
      "cell_type": "code",
      "metadata": {
        "colab": {
          "base_uri": "https://localhost:8080/",
          "height": 0
        },
        "id": "YhuTdIR68ggb",
        "outputId": "7afc356f-7f1c-4d04-a786-a91621fe22a0"
      },
      "source": [
        "\n",
        "firsttenthou_subs_df = prepareDataFrame(firsttenthou_subs_df, 'sub')\n",
        "tenthouthruwentythou_subs_df = prepareDataFrame(tenthouthruwentythou_subs_df, 'sub')\n",
        "twentythouthruthirtythou_subs_df =  prepareDataFrame(twentythouthruthirtythou_subs_df, 'sub')\n",
        "thirtythouthrufourtythou_subs_df = prepareDataFrame(thirtythouthrufourtythou_subs_df, 'sub')\n",
        "fourtythouthrufiftythou_subs_df = prepareDataFrame(fourtythouthrufiftythou_subs_df, 'sub')\n",
        "fiftythouthrusixtythou_subs_df = prepareDataFrame(fiftythouthrusixtythou_subs_df, 'sub')\n",
        "sixtythouthruseventythou_subs_df = prepareDataFrame(sixtythouthruseventythou_subs_df, 'sub')\n",
        "seventythouthrueightythou_subs_df = prepareDataFrame(seventythouthrueightythou_subs_df, 'sub')\n",
        "eightythouthrueightyfivethou_subs_df = prepareDataFrame(eightythouthrueightyfivethou_subs_df, 'sub')"
      ],
      "execution_count": 27,
      "outputs": [
        {
          "output_type": "stream",
          "text": [
            "/usr/local/lib/python3.7/dist-packages/ipykernel_launcher.py:10: SettingWithCopyWarning: \n",
            "A value is trying to be set on a copy of a slice from a DataFrame.\n",
            "Try using .loc[row_indexer,col_indexer] = value instead\n",
            "\n",
            "See the caveats in the documentation: https://pandas.pydata.org/pandas-docs/stable/user_guide/indexing.html#returning-a-view-versus-a-copy\n",
            "  # Remove the CWD from sys.path while we load stuff.\n",
            "/usr/local/lib/python3.7/dist-packages/ipykernel_launcher.py:10: SettingWithCopyWarning: \n",
            "A value is trying to be set on a copy of a slice from a DataFrame.\n",
            "Try using .loc[row_indexer,col_indexer] = value instead\n",
            "\n",
            "See the caveats in the documentation: https://pandas.pydata.org/pandas-docs/stable/user_guide/indexing.html#returning-a-view-versus-a-copy\n",
            "  # Remove the CWD from sys.path while we load stuff.\n",
            "/usr/local/lib/python3.7/dist-packages/ipykernel_launcher.py:10: SettingWithCopyWarning: \n",
            "A value is trying to be set on a copy of a slice from a DataFrame.\n",
            "Try using .loc[row_indexer,col_indexer] = value instead\n",
            "\n",
            "See the caveats in the documentation: https://pandas.pydata.org/pandas-docs/stable/user_guide/indexing.html#returning-a-view-versus-a-copy\n",
            "  # Remove the CWD from sys.path while we load stuff.\n",
            "/usr/local/lib/python3.7/dist-packages/ipykernel_launcher.py:10: SettingWithCopyWarning: \n",
            "A value is trying to be set on a copy of a slice from a DataFrame.\n",
            "Try using .loc[row_indexer,col_indexer] = value instead\n",
            "\n",
            "See the caveats in the documentation: https://pandas.pydata.org/pandas-docs/stable/user_guide/indexing.html#returning-a-view-versus-a-copy\n",
            "  # Remove the CWD from sys.path while we load stuff.\n",
            "/usr/local/lib/python3.7/dist-packages/ipykernel_launcher.py:10: SettingWithCopyWarning: \n",
            "A value is trying to be set on a copy of a slice from a DataFrame.\n",
            "Try using .loc[row_indexer,col_indexer] = value instead\n",
            "\n",
            "See the caveats in the documentation: https://pandas.pydata.org/pandas-docs/stable/user_guide/indexing.html#returning-a-view-versus-a-copy\n",
            "  # Remove the CWD from sys.path while we load stuff.\n",
            "/usr/local/lib/python3.7/dist-packages/ipykernel_launcher.py:10: SettingWithCopyWarning: \n",
            "A value is trying to be set on a copy of a slice from a DataFrame.\n",
            "Try using .loc[row_indexer,col_indexer] = value instead\n",
            "\n",
            "See the caveats in the documentation: https://pandas.pydata.org/pandas-docs/stable/user_guide/indexing.html#returning-a-view-versus-a-copy\n",
            "  # Remove the CWD from sys.path while we load stuff.\n",
            "/usr/local/lib/python3.7/dist-packages/ipykernel_launcher.py:10: SettingWithCopyWarning: \n",
            "A value is trying to be set on a copy of a slice from a DataFrame.\n",
            "Try using .loc[row_indexer,col_indexer] = value instead\n",
            "\n",
            "See the caveats in the documentation: https://pandas.pydata.org/pandas-docs/stable/user_guide/indexing.html#returning-a-view-versus-a-copy\n",
            "  # Remove the CWD from sys.path while we load stuff.\n",
            "/usr/local/lib/python3.7/dist-packages/ipykernel_launcher.py:10: SettingWithCopyWarning: \n",
            "A value is trying to be set on a copy of a slice from a DataFrame.\n",
            "Try using .loc[row_indexer,col_indexer] = value instead\n",
            "\n",
            "See the caveats in the documentation: https://pandas.pydata.org/pandas-docs/stable/user_guide/indexing.html#returning-a-view-versus-a-copy\n",
            "  # Remove the CWD from sys.path while we load stuff.\n",
            "/usr/local/lib/python3.7/dist-packages/ipykernel_launcher.py:10: SettingWithCopyWarning: \n",
            "A value is trying to be set on a copy of a slice from a DataFrame.\n",
            "Try using .loc[row_indexer,col_indexer] = value instead\n",
            "\n",
            "See the caveats in the documentation: https://pandas.pydata.org/pandas-docs/stable/user_guide/indexing.html#returning-a-view-versus-a-copy\n",
            "  # Remove the CWD from sys.path while we load stuff.\n"
          ],
          "name": "stderr"
        }
      ]
    },
    {
      "cell_type": "code",
      "metadata": {
        "colab": {
          "base_uri": "https://localhost:8080/",
          "height": 0
        },
        "id": "6BqQy2kl_L_e",
        "outputId": "b994c22b-9031-46de-e890-e342104f96b4"
      },
      "source": [
        "frames_sub_con = [firsttenthou_subs_df, tenthouthruwentythou_subs_df, twentythouthruthirtythou_subs_df,\n",
        "                  thirtythouthrufourtythou_subs_df, fourtythouthrufiftythou_subs_df, fiftythouthrusixtythou_subs_df,\n",
        "                  sixtythouthruseventythou_subs_df, seventythouthrueightythou_subs_df, eightythouthrueightyfivethou_subs_df]\n",
        "\n",
        "subs_control_df = pd.concat(frames_sub_con, ignore_index=True)\n",
        "subs_control_df['class'] = 0\n",
        "len(subs_control_df)"
      ],
      "execution_count": 28,
      "outputs": [
        {
          "output_type": "execute_result",
          "data": {
            "text/plain": [
              "45329"
            ]
          },
          "metadata": {
            "tags": []
          },
          "execution_count": 28
        }
      ]
    },
    {
      "cell_type": "code",
      "metadata": {
        "id": "zep5vXRaYw-j"
      },
      "source": [
        "frames_coms = [anxiety_coms_df_shortened, bpd_coms_df_shortened, bipolar_coms_df_shortened, dep_coms_df_shortened,\n",
        "          adhd_coms_df_shortened, ptsd_coms_df_shortened, control_df]\n",
        "\n",
        "all_comdata_df = pd.concat(frames_coms, ignore_index=True)"
      ],
      "execution_count": 29,
      "outputs": []
    },
    {
      "cell_type": "code",
      "metadata": {
        "colab": {
          "base_uri": "https://localhost:8080/",
          "height": 798
        },
        "id": "99ZRx_tG3ziN",
        "outputId": "0d0db335-83ed-4593-b7ec-d816325aeb0d"
      },
      "source": [
        "frames_sub = [anxiety_subs_df_shortened, bpd_subs_df_shortened, bipolar_subs_df_shortened, dep_subs_df_shortened,\n",
        "              adhd_subs_df_shortened, ptsd_subs_df_shortened, subs_control_df]\n",
        "sub_df = pd.concat(frames_sub, ignore_index=True)\n",
        "sub_df.head()"
      ],
      "execution_count": 30,
      "outputs": [
        {
          "output_type": "execute_result",
          "data": {
            "text/html": [
              "<div>\n",
              "<style scoped>\n",
              "    .dataframe tbody tr th:only-of-type {\n",
              "        vertical-align: middle;\n",
              "    }\n",
              "\n",
              "    .dataframe tbody tr th {\n",
              "        vertical-align: top;\n",
              "    }\n",
              "\n",
              "    .dataframe thead th {\n",
              "        text-align: right;\n",
              "    }\n",
              "</style>\n",
              "<table border=\"1\" class=\"dataframe\">\n",
              "  <thead>\n",
              "    <tr style=\"text-align: right;\">\n",
              "      <th></th>\n",
              "      <th>Unnamed: 0</th>\n",
              "      <th>sub_id</th>\n",
              "      <th>author</th>\n",
              "      <th>title</th>\n",
              "      <th>url</th>\n",
              "      <th>score</th>\n",
              "      <th>created</th>\n",
              "      <th>created_utc</th>\n",
              "      <th>numComms</th>\n",
              "      <th>permalink</th>\n",
              "      <th>flair</th>\n",
              "      <th>selftex</th>\n",
              "      <th>subreddit</th>\n",
              "      <th>class</th>\n",
              "      <th>word_count</th>\n",
              "      <th>selftext</th>\n",
              "    </tr>\n",
              "  </thead>\n",
              "  <tbody>\n",
              "    <tr>\n",
              "      <th>0</th>\n",
              "      <td>1</td>\n",
              "      <td>lm55xj</td>\n",
              "      <td>3045</td>\n",
              "      <td>Quick Question on fake percs</td>\n",
              "      <td>https://www.reddit.com/r/opiates/comments/lm55...</td>\n",
              "      <td>1</td>\n",
              "      <td>2021-02-17 21:27:01</td>\n",
              "      <td>1613597221</td>\n",
              "      <td>17</td>\n",
              "      <td>/r/opiates/comments/lm55xj/quick_question_on_f...</td>\n",
              "      <td>NaN</td>\n",
              "      <td>So a homie of mine got some suspect looking pe...</td>\n",
              "      <td>opiates</td>\n",
              "      <td>1</td>\n",
              "      <td>66.0</td>\n",
              "      <td>So a homie of mine got some suspect looking pe...</td>\n",
              "    </tr>\n",
              "    <tr>\n",
              "      <th>1</th>\n",
              "      <td>3</td>\n",
              "      <td>mkvmp8</td>\n",
              "      <td>3045</td>\n",
              "      <td>Noob</td>\n",
              "      <td>https://www.reddit.com/r/HappyEndingMassage/co...</td>\n",
              "      <td>1</td>\n",
              "      <td>2021-04-05 21:39:26</td>\n",
              "      <td>1617658766</td>\n",
              "      <td>5</td>\n",
              "      <td>/r/HappyEndingMassage/comments/mkvmp8/noob/</td>\n",
              "      <td>NaN</td>\n",
              "      <td>I’m 23, short and people have said I looked li...</td>\n",
              "      <td>HappyEndingMassage</td>\n",
              "      <td>1</td>\n",
              "      <td>52.0</td>\n",
              "      <td>I’m 23, short and people have said I looked li...</td>\n",
              "    </tr>\n",
              "    <tr>\n",
              "      <th>2</th>\n",
              "      <td>4</td>\n",
              "      <td>mmf49y</td>\n",
              "      <td>3045</td>\n",
              "      <td>Scored First Time</td>\n",
              "      <td>https://www.reddit.com/r/HappyEndingMassage/co...</td>\n",
              "      <td>1</td>\n",
              "      <td>2021-04-07 23:45:20</td>\n",
              "      <td>1617839120</td>\n",
              "      <td>3</td>\n",
              "      <td>/r/HappyEndingMassage/comments/mmf49y/scored_f...</td>\n",
              "      <td>NaN</td>\n",
              "      <td>I’ve never done this before but decided to giv...</td>\n",
              "      <td>HappyEndingMassage</td>\n",
              "      <td>1</td>\n",
              "      <td>53.0</td>\n",
              "      <td>I’ve never done this before but decided to giv...</td>\n",
              "    </tr>\n",
              "    <tr>\n",
              "      <th>3</th>\n",
              "      <td>5</td>\n",
              "      <td>mmveji</td>\n",
              "      <td>3045</td>\n",
              "      <td>Need FS or atleast BBBBJ</td>\n",
              "      <td>https://www.reddit.com/r/HappyEndingMassage/co...</td>\n",
              "      <td>1</td>\n",
              "      <td>2021-04-08 16:22:20</td>\n",
              "      <td>1617898940</td>\n",
              "      <td>7</td>\n",
              "      <td>/r/HappyEndingMassage/comments/mmveji/need_fs_...</td>\n",
              "      <td>NaN</td>\n",
              "      <td>How do I go about getting FS or BJ. Just went ...</td>\n",
              "      <td>HappyEndingMassage</td>\n",
              "      <td>1</td>\n",
              "      <td>54.0</td>\n",
              "      <td>How do I go about getting FS or BJ. Just went ...</td>\n",
              "    </tr>\n",
              "    <tr>\n",
              "      <th>4</th>\n",
              "      <td>6</td>\n",
              "      <td>mn1enc</td>\n",
              "      <td>3045</td>\n",
              "      <td>How to avoid ever getting caught by Leo’s</td>\n",
              "      <td>https://www.reddit.com/r/HappyEndingMassage/co...</td>\n",
              "      <td>1</td>\n",
              "      <td>2021-04-08 21:00:19</td>\n",
              "      <td>1617915619</td>\n",
              "      <td>3</td>\n",
              "      <td>/r/HappyEndingMassage/comments/mn1enc/how_to_a...</td>\n",
              "      <td>Question</td>\n",
              "      <td>I’m new to this and did some research and foun...</td>\n",
              "      <td>HappyEndingMassage</td>\n",
              "      <td>1</td>\n",
              "      <td>52.0</td>\n",
              "      <td>I’m new to this and did some research and foun...</td>\n",
              "    </tr>\n",
              "  </tbody>\n",
              "</table>\n",
              "</div>"
            ],
            "text/plain": [
              "   Unnamed: 0  ...                                           selftext\n",
              "0           1  ...  So a homie of mine got some suspect looking pe...\n",
              "1           3  ...  I’m 23, short and people have said I looked li...\n",
              "2           4  ...  I’ve never done this before but decided to giv...\n",
              "3           5  ...  How do I go about getting FS or BJ. Just went ...\n",
              "4           6  ...  I’m new to this and did some research and foun...\n",
              "\n",
              "[5 rows x 16 columns]"
            ]
          },
          "metadata": {
            "tags": []
          },
          "execution_count": 30
        }
      ]
    },
    {
      "cell_type": "code",
      "metadata": {
        "id": "sss1ZulrG2cq"
      },
      "source": [
        "final_frames = [sub_df, all_comdata_df]"
      ],
      "execution_count": 31,
      "outputs": []
    },
    {
      "cell_type": "code",
      "metadata": {
        "id": "WSRctwNqGWMF"
      },
      "source": [
        "all_df = pd.concat(final_frames, ignore_index=True) #dataframe for both comment and submission data, including control\n"
      ],
      "execution_count": 32,
      "outputs": []
    },
    {
      "cell_type": "code",
      "metadata": {
        "colab": {
          "base_uri": "https://localhost:8080/",
          "height": 642
        },
        "id": "xiYXpc8k6n9G",
        "outputId": "284a5aea-38e8-4326-bb74-b2eb7cf91143"
      },
      "source": [
        "all_comdata_df.head() #dataframe for all comment data, including control "
      ],
      "execution_count": 98,
      "outputs": [
        {
          "output_type": "execute_result",
          "data": {
            "text/html": [
              "<div>\n",
              "<style scoped>\n",
              "    .dataframe tbody tr th:only-of-type {\n",
              "        vertical-align: middle;\n",
              "    }\n",
              "\n",
              "    .dataframe tbody tr th {\n",
              "        vertical-align: top;\n",
              "    }\n",
              "\n",
              "    .dataframe thead th {\n",
              "        text-align: right;\n",
              "    }\n",
              "</style>\n",
              "<table border=\"1\" class=\"dataframe\">\n",
              "  <thead>\n",
              "    <tr style=\"text-align: right;\">\n",
              "      <th></th>\n",
              "      <th>Unnamed: 0</th>\n",
              "      <th>com_id</th>\n",
              "      <th>author</th>\n",
              "      <th>score</th>\n",
              "      <th>created</th>\n",
              "      <th>created_utc</th>\n",
              "      <th>url</th>\n",
              "      <th>body</th>\n",
              "      <th>subreddit</th>\n",
              "      <th>class</th>\n",
              "      <th>word_count</th>\n",
              "      <th>tokenized_stemmed</th>\n",
              "      <th>class2</th>\n",
              "    </tr>\n",
              "  </thead>\n",
              "  <tbody>\n",
              "    <tr>\n",
              "      <th>0</th>\n",
              "      <td>28</td>\n",
              "      <td>gwql67g</td>\n",
              "      <td>3045</td>\n",
              "      <td>2</td>\n",
              "      <td>2021-05-03 02:31:25</td>\n",
              "      <td>1620009085</td>\n",
              "      <td>/r/Pharmacist/comments/n3ldn4/new_pharmacist/g...</td>\n",
              "      <td>My networking isn’t the best at the moment but...</td>\n",
              "      <td>Pharmacist</td>\n",
              "      <td>1</td>\n",
              "      <td>59.0</td>\n",
              "      <td>[network, not, best, moment, tri, ask, pharmac...</td>\n",
              "      <td>1</td>\n",
              "    </tr>\n",
              "    <tr>\n",
              "      <th>1</th>\n",
              "      <td>34</td>\n",
              "      <td>gxf135c</td>\n",
              "      <td>3045</td>\n",
              "      <td>1</td>\n",
              "      <td>2021-05-08 19:15:41</td>\n",
              "      <td>1620501341</td>\n",
              "      <td>/r/Pharmacist/comments/n3ldn4/new_pharmacist/g...</td>\n",
              "      <td>Learn how to read and interpret words first, I...</td>\n",
              "      <td>Pharmacist</td>\n",
              "      <td>1</td>\n",
              "      <td>67.0</td>\n",
              "      <td>[learn, read, interpret, word, first, said, pr...</td>\n",
              "      <td>1</td>\n",
              "    </tr>\n",
              "    <tr>\n",
              "      <th>2</th>\n",
              "      <td>62</td>\n",
              "      <td>gcsg709</td>\n",
              "      <td>3215</td>\n",
              "      <td>11</td>\n",
              "      <td>2020-11-19 02:43:15</td>\n",
              "      <td>1605753795</td>\n",
              "      <td>/r/vancouver/comments/jwqmwl/nov_18th_covid19_...</td>\n",
              "      <td>It is not totally our fault. Even the ones who...</td>\n",
              "      <td>vancouver</td>\n",
              "      <td>1</td>\n",
              "      <td>64.0</td>\n",
              "      <td>[not, total, fault, even, one, not, follow, gu...</td>\n",
              "      <td>1</td>\n",
              "    </tr>\n",
              "    <tr>\n",
              "      <th>3</th>\n",
              "      <td>80</td>\n",
              "      <td>gh11adr</td>\n",
              "      <td>3215</td>\n",
              "      <td>1</td>\n",
              "      <td>2020-12-25 23:46:07</td>\n",
              "      <td>1608939967</td>\n",
              "      <td>/r/churningcanada/comments/kjw7a3/daily_questi...</td>\n",
              "      <td>P2 applied for the first US credit card using ...</td>\n",
              "      <td>churningcanada</td>\n",
              "      <td>1</td>\n",
              "      <td>65.0</td>\n",
              "      <td>[p, appli, first, us, credit, card, use, nova,...</td>\n",
              "      <td>1</td>\n",
              "    </tr>\n",
              "    <tr>\n",
              "      <th>4</th>\n",
              "      <td>91</td>\n",
              "      <td>goirx5d</td>\n",
              "      <td>3215</td>\n",
              "      <td>2</td>\n",
              "      <td>2021-02-23 23:23:23</td>\n",
              "      <td>1614122603</td>\n",
              "      <td>/r/cureED/comments/lokiyt/can_someone_please_h...</td>\n",
              "      <td>I know because I am having problems emptying m...</td>\n",
              "      <td>cureED</td>\n",
              "      <td>1</td>\n",
              "      <td>56.0</td>\n",
              "      <td>[know, problem, empti, bladder, well, research...</td>\n",
              "      <td>1</td>\n",
              "    </tr>\n",
              "  </tbody>\n",
              "</table>\n",
              "</div>"
            ],
            "text/plain": [
              "   Unnamed: 0  ... class2\n",
              "0          28  ...      1\n",
              "1          34  ...      1\n",
              "2          62  ...      1\n",
              "3          80  ...      1\n",
              "4          91  ...      1\n",
              "\n",
              "[5 rows x 13 columns]"
            ]
          },
          "metadata": {
            "tags": []
          },
          "execution_count": 98
        }
      ]
    },
    {
      "cell_type": "code",
      "metadata": {
        "colab": {
          "base_uri": "https://localhost:8080/"
        },
        "id": "YwRu9g5LPMln",
        "outputId": "4947c714-9eee-48a4-fafc-16f41b2894b6"
      },
      "source": [
        "len(all_comdata_df)"
      ],
      "execution_count": null,
      "outputs": [
        {
          "output_type": "execute_result",
          "data": {
            "text/plain": [
              "319718"
            ]
          },
          "metadata": {
            "tags": []
          },
          "execution_count": 23
        }
      ]
    },
    {
      "cell_type": "markdown",
      "metadata": {
        "id": "h9ROvOfoeqMm"
      },
      "source": [
        "## Data Exploration\n",
        "\n",
        "Focusing on Comment Data first. "
      ]
    },
    {
      "cell_type": "code",
      "metadata": {
        "id": "73mWsYBkyBAB"
      },
      "source": [
        "def createGraphs(df, title):\n",
        "  \"\"\" Given a dataframe, creates 2 graphs: \n",
        "      Histogram of word counts\n",
        "      Bar graph of top 10 subreddits \"\"\"\n",
        "  fig, (ax1, ax2) = plt.subplots(1, 2)\n",
        "  fig.set_size_inches(18.5, 10.5)\n",
        "  fig.suptitle(title)\n",
        "  df.hist(column='word_count', ax=ax1)\n",
        "  ax1.set_title('Word Count')\n",
        "  ax1.set_xlabel('Word Count')\n",
        "  ax1.set_ylabel('Frequency')\n",
        "\n",
        "  #Subreddits\n",
        "  df_dict = df['subreddit'].value_counts()\n",
        "  df_dict = df_dict.to_dict()\n",
        "  df_dict = dict(sorted(df_dict.items(), key=lambda x: x[1], reverse=True))\n",
        "  keys = list(df_dict.keys())\n",
        "  values = list(df_dict.values())\n",
        "\n",
        "  ax2.bar(keys[:10], values[:10], color='#6600CC')\n",
        "  #plt.bar(keys[:10], values[:10], ax=ax2, color='#6600CC')\n",
        "  ax2.set_title('Top 10 Subreddits')\n",
        "  ax2.set_xlabel('Subreddits')\n",
        "  plt.setp(ax2.get_xticklabels(), rotation=45, ha=\"right\",\n",
        "         rotation_mode=\"anchor\")\n",
        "  ax2.set_ylabel('Count')\n",
        "\n",
        "    "
      ],
      "execution_count": 103,
      "outputs": []
    },
    {
      "cell_type": "code",
      "metadata": {
        "colab": {
          "base_uri": "https://localhost:8080/"
        },
        "id": "oIbeFAGJy9ar",
        "outputId": "7a909de3-2d6b-4584-f267-0234dd24c4c5"
      },
      "source": [
        "createGraphs(anxiety_coms_df_shortened, 'Anxiety Comments')"
      ],
      "execution_count": null,
      "outputs": [
        {
          "output_type": "display_data",
          "data": {
            "image/png": "[encoded data removed]",
            "text/plain": [
              "<Figure size 1332x756 with 2 Axes>"
            ]
          },
          "metadata": {
            "tags": [],
            "needs_background": "light"
          }
        }
      ]
    },
    {
      "cell_type": "code",
      "metadata": {
        "colab": {
          "base_uri": "https://localhost:8080/"
        },
        "id": "DIqdUONa6Cz2",
        "outputId": "1c85c7fa-076e-4199-9b8a-de1cbf0eadc8"
      },
      "source": [
        "createGraphs(ptsd_coms_df_shortened, 'PTSD Comments')"
      ],
      "execution_count": null,
      "outputs": [
        {
          "output_type": "display_data",
          "data": {
            "image/png": "[encoded data removed]",
            "text/plain": [
              "<Figure size 1332x756 with 2 Axes>"
            ]
          },
          "metadata": {
            "tags": [],
            "needs_background": "light"
          }
        }
      ]
    },
    {
      "cell_type": "code",
      "metadata": {
        "colab": {
          "base_uri": "https://localhost:8080/",
          "height": 656
        },
        "id": "G6vLDGe46NVy",
        "outputId": "5f3f0226-d319-416c-a9bd-8c692c70b1a4"
      },
      "source": [
        "createGraphs(adhd_coms_df_shortened, 'ADHD Comments')"
      ],
      "execution_count": 104,
      "outputs": [
        {
          "output_type": "display_data",
          "data": {
            "image/png": "[encoded data removed]",
            "text/plain": [
              "<Figure size 1332x756 with 2 Axes>"
            ]
          },
          "metadata": {
            "tags": [],
            "needs_background": "light"
          }
        }
      ]
    },
    {
      "cell_type": "code",
      "metadata": {
        "colab": {
          "base_uri": "https://localhost:8080/"
        },
        "id": "O6Vl3aj_6WmB",
        "outputId": "5b4d32a5-2173-459d-d0b8-c082c2ab8aed"
      },
      "source": [
        "createGraphs(bpd_coms_df_shortened, 'Borderline Comments')"
      ],
      "execution_count": null,
      "outputs": [
        {
          "output_type": "display_data",
          "data": {
            "image/png": "[encoded data removed]",
            "text/plain": [
              "<Figure size 1332x756 with 2 Axes>"
            ]
          },
          "metadata": {
            "tags": [],
            "needs_background": "light"
          }
        }
      ]
    },
    {
      "cell_type": "code",
      "metadata": {
        "colab": {
          "base_uri": "https://localhost:8080/"
        },
        "id": "JXUux8Xh7TpO",
        "outputId": "4378dfe6-a611-4798-c720-d0ccf8ff97d2"
      },
      "source": [
        "createGraphs(bipolar_coms_df_shortened, 'Bipolar Comments')"
      ],
      "execution_count": null,
      "outputs": [
        {
          "output_type": "display_data",
          "data": {
            "image/png": "[encoded data removed]",
            "text/plain": [
              "<Figure size 1332x756 with 2 Axes>"
            ]
          },
          "metadata": {
            "tags": [],
            "needs_background": "light"
          }
        }
      ]
    },
    {
      "cell_type": "code",
      "metadata": {
        "colab": {
          "base_uri": "https://localhost:8080/",
          "height": 661
        },
        "id": "Yv_skakOIcz_",
        "outputId": "5a876008-c3e0-4a13-c48f-4329de316a18"
      },
      "source": [
        "createGraphs(dep_coms_df_shortened, 'Depression Comments')"
      ],
      "execution_count": 105,
      "outputs": [
        {
          "output_type": "display_data",
          "data": {
            "image/png": "[encoded data removed]",
            "text/plain": [
              "<Figure size 1332x756 with 2 Axes>"
            ]
          },
          "metadata": {
            "tags": [],
            "needs_background": "light"
          }
        }
      ]
    },
    {
      "cell_type": "markdown",
      "metadata": {
        "id": "xiYojoAIvAqj"
      },
      "source": [
        "## Preprocessing the Data\n",
        "\n",
        "I create helper functions and a class to preprocess data in various ways for analysis.  The preprocess_text function prepares data for either Word2Vec models (sentences) or other encoding. "
      ]
    },
    {
      "cell_type": "code",
      "metadata": {
        "id": "VzDwkUv5ydmv"
      },
      "source": [
        "def strip_html_tags(text):\n",
        "    \"\"\"remove html tags from text\"\"\"\n",
        "    soup = BeautifulSoup(text, \"html.parser\")\n",
        "    stripped_text = soup.get_text(separator=\" \")\n",
        "    return stripped_text"
      ],
      "execution_count": 121,
      "outputs": []
    },
    {
      "cell_type": "code",
      "metadata": {
        "id": "QA8xnr3ry2oy"
      },
      "source": [
        "def remove_accented_chars(text):\n",
        "    \"\"\"remove accented characters from text, e.g. café\"\"\"\n",
        "    text = unidecode(text)\n",
        "    return text"
      ],
      "execution_count": 122,
      "outputs": []
    },
    {
      "cell_type": "code",
      "metadata": {
        "id": "Iqt7sNT6zCCL"
      },
      "source": [
        "def expand_contractions(text):\n",
        "    \"\"\"expand shortened words, e.g. don't to do not\"\"\"\n",
        "    text = contractions.fix(text)\n",
        "    return text"
      ],
      "execution_count": 123,
      "outputs": []
    },
    {
      "cell_type": "code",
      "metadata": {
        "id": "KUn-S-zUKd2D"
      },
      "source": [
        "stopwords_list = stopwords.words('english')\n",
        "stopwords_list += [\"''\", '\"\"', '...', '``']\n",
        "stopwords_list.remove('against')\n",
        "stopwords_list.remove('not')"
      ],
      "execution_count": 124,
      "outputs": []
    },
    {
      "cell_type": "code",
      "metadata": {
        "id": "kzjzIPV7CTuz"
      },
      "source": [
        "sentence_tokenizer = nltk.data.load('tokenizers/punkt/english.pickle')"
      ],
      "execution_count": 125,
      "outputs": []
    },
    {
      "cell_type": "code",
      "metadata": {
        "id": "cZrSXtxlrI0-"
      },
      "source": [
        "def preprocess_data(text, stem=True, word2vec=True):\n",
        "  \"\"\" takes in a string and returns it processed: removes HTML tags, accented characters\n",
        "  expands contractions, lowercases the words, removes extra spaces and new lines, \n",
        "  removes punctuation, removes numbers, and tokenizes it \"\"\"\n",
        "\n",
        "  #remove HTML tags\n",
        "  preprocessed_text = strip_html_tags(text)\n",
        "\n",
        "  #remove accented characters\n",
        "  preprocessed_text = remove_accented_chars(preprocessed_text)\n",
        "\n",
        "  #expand contractions\n",
        "  preprocessed_text = expand_contractions(preprocessed_text)\n",
        "\n",
        "  #lowercase the words\n",
        "  preprocessed_text = preprocessed_text.lower()\n",
        "\n",
        "  #delete preceding spaces\n",
        "  preprocessed_text = preprocessed_text.strip()\n",
        "\n",
        "  #normalize spaces to 1\n",
        "  preprocessed_text = re.sub(\" +\", \" \", preprocessed_text)\n",
        "\n",
        "  #remove trailing whitespace\n",
        "  preprocessed_text = preprocessed_text.rstrip()\n",
        "\n",
        "  #remove \\n \\t\n",
        "  preprocessed_text = preprocessed_text.replace(\"\\n\", \" \").replace('\\t', ' ')\n",
        "\n",
        "\n",
        "  if word2vec:\n",
        "    #remove all characters except A-Z and period\n",
        "    preprocessed_text = re.sub(\"[^a-zA-Z\\.]\", \" \", preprocessed_text)\n",
        "    #get sentences from the tokenizer and the remove the period\n",
        "    preprocessed_text = sentence_tokenizer.tokenize(preprocessed_text)\n",
        "    preprocessed_text = [re.sub(\"[\\.]\", \"\", sentence) for sentence in preprocessed_text]\n",
        "  else: \n",
        "     #remove all characters except A-Z \n",
        "     preprocessed_text = re.sub(r'[^a-zA-Z]', ' ', preprocessed_text)\n",
        "     #tokenize it \n",
        "     preprocessed_text = nltk.word_tokenize(preprocessed_text)\n",
        "     \n",
        "\n",
        "\n",
        "\n",
        "  #remove stopwords\n",
        "  preprocessed_text = [word for word in preprocessed_text if word not in stopwords_list]\n",
        "\n",
        "  if stem:\n",
        "    #stem words\n",
        "    ps = PorterStemmer()\n",
        "    preprocessed_text = [ps.stem(word) for word in preprocessed_text]\n",
        "\n",
        "  return preprocessed_text"
      ],
      "execution_count": 159,
      "outputs": []
    },
    {
      "cell_type": "code",
      "metadata": {
        "id": "QgskbfJCCfsY"
      },
      "source": [
        "class W2vVectorizer(object):\n",
        "    #mean embedding vectorizer class \n",
        "    def __init__(self, w2v):\n",
        "        # Takes in a dictionary of words and vectors as input\n",
        "        self.w2v = w2v\n",
        "        if len(w2v) == 0:\n",
        "            self.dimensions = 0\n",
        "        else:\n",
        "            self.dimensions = len(w2v[next(iter(w2v))])\n",
        "    \n",
        "    # Note: Even though it doesn't do anything, it's required that this object implement a fit method or else\n",
        "    # it can't be used in a scikit-learn pipeline  \n",
        "    def fit(self, X, y):\n",
        "        return self\n",
        "            \n",
        "    def transform(self, X):\n",
        "        return np.array([\n",
        "            np.mean([self.w2v[w] for w in words if w in self.w2v] \n",
        "                   or [np.zeros(self.dimensions)], axis=0) for words in X])\n",
        "\n"
      ],
      "execution_count": 127,
      "outputs": []
    },
    {
      "cell_type": "code",
      "metadata": {
        "id": "cl1PwKvVSBWF"
      },
      "source": [
        "def use_word2vec(data, size=100, window_size=5, min_count=5, workers=4, epochs=10, sg=0):\n",
        "  \"\"\" creates Word2Vec model based on paramters entered, and returns the model\n",
        "  and word vectors\n",
        "    Paramaters:\n",
        "      data: The dataset we'll be training on\n",
        "      size: defaults to 100, the size of the word vectors to create\n",
        "      window_size: defaults to 5, the window size\n",
        "      min_count: defaults to 5, minimum number of times a word needs to appear in order to be counted in the model\n",
        "      workers: defaults to 4, number of threads to use during training\n",
        "      epochs: defaults to 10, number of epochs you want to train for\n",
        "  \n",
        "   \"\"\"\n",
        "  model = word2vec.Word2Vec(data, size=size, window=window_size, min_count=min_count, workers=workers, sg=sg)\n",
        "\n",
        "  #train the model\n",
        "  model.train(data, total_examples=model.corpus_count, epochs=epochs)\n",
        "\n",
        "  #save the word vectors\n",
        "  wv = model.wv\n",
        "\n",
        "  return model, wv\n"
      ],
      "execution_count": 141,
      "outputs": []
    },
    {
      "cell_type": "markdown",
      "metadata": {
        "id": "RjbQpX7-nKBy"
      },
      "source": [
        "## Data Preparation \n",
        "\n",
        "For the comments and submissions combined dataframe (all_df), I create a new column that combines the text entries, as they were under different columns in different dataframes.  This dataframe isn't analyzed until the end, as I try to build models off of comment data alone first. \n",
        "\n",
        "I create 2 columns, one with data preprocessed for Word2Vec, and one that is tokenized and stemmed for other embedding. "
      ]
    },
    {
      "cell_type": "code",
      "metadata": {
        "id": "LPLRe_-sJoLL"
      },
      "source": [
        "#creates column that has the text for each entry (as it was named different things in different dataframes)\n",
        "all_df['text'] = all_df['body'].fillna('') + all_df['selftex'].fillna('') + all_df['selftext'].fillna('')"
      ],
      "execution_count": 33,
      "outputs": []
    },
    {
      "cell_type": "code",
      "metadata": {
        "id": "A2hMGE4nX3AR"
      },
      "source": [
        "all_comdata_df['tokenized_word2vec'] = [preprocess_data(x, stem=False) for x in all_comdata_df['body']]"
      ],
      "execution_count": null,
      "outputs": []
    },
    {
      "cell_type": "code",
      "metadata": {
        "id": "keAzxkWFTeGe"
      },
      "source": [
        "all_comdata_df['tokenized_stemmed'] = [preprocess_data(x, stem=True, word2vec=False) for x in all_comdata_df['body']]"
      ],
      "execution_count": 28,
      "outputs": []
    },
    {
      "cell_type": "code",
      "metadata": {
        "id": "4LKNPbodf1eS"
      },
      "source": [
        "all_df['tokenized_word2vec'] =  [preprocess_data(x, stem=False) for x in all_df['text']]"
      ],
      "execution_count": 160,
      "outputs": []
    },
    {
      "cell_type": "code",
      "metadata": {
        "colab": {
          "base_uri": "https://localhost:8080/"
        },
        "id": "5KQX9e59VTS3",
        "outputId": "df1a9f74-9453-42f2-ae63-f4db096ba6f3"
      },
      "source": [
        "all_comdata_df['tokenized_stemmed'][1]"
      ],
      "execution_count": null,
      "outputs": [
        {
          "output_type": "execute_result",
          "data": {
            "text/plain": [
              "['learn',\n",
              " 'read',\n",
              " 'interpret',\n",
              " 'word',\n",
              " 'first',\n",
              " 'said',\n",
              " 'pretti',\n",
              " 'sure',\n",
              " 'resid',\n",
              " 'pharmacist',\n",
              " 'recommend',\n",
              " 'certain',\n",
              " 'medic',\n",
              " 'would',\n",
              " 'benefit',\n",
              " 'patient',\n",
              " 'deem',\n",
              " 'prescrib',\n",
              " 'prescript',\n",
              " 'inadequ',\n",
              " 'knowledg',\n",
              " 'drug',\n",
              " 'interact',\n",
              " 'well',\n",
              " 'method',\n",
              " 'drug',\n",
              " 'therapi',\n",
              " 'nitpick',\n",
              " 'part',\n",
              " 'post',\n",
              " 'not',\n",
              " 'make',\n",
              " 'smart',\n",
              " 'dickhead']"
            ]
          },
          "metadata": {
            "tags": []
          },
          "execution_count": 91
        }
      ]
    },
    {
      "cell_type": "markdown",
      "metadata": {
        "id": "rcYXFf06kkyw"
      },
      "source": [
        "## Model 1: Word2Vec with Random Forest\n",
        "\n",
        "I train a word2vec model using gensim and obtain word embeddings from it.  I then use those embeddngs with a Random Forest Classifier. This model performs very poorly, even with paramater hypertuning.  This is likely due to the number of classes and the class imbalance.  In addition, we do not know if there is enough of a language difference to be able to classify someone as struggling with a certain mental health diagnosis based solely on how they communicate online about non-diagnose subjects.  "
      ]
    },
    {
      "cell_type": "code",
      "metadata": {
        "id": "irku5wPjDq-i"
      },
      "source": [
        "X = all_comdata_df['tokenized_word2vec']\n",
        "y = all_comdata_df['class']\n",
        "\n",
        "X_train, X_test, y_train, y_test = train_test_split(X, y, test_size = 0.20, random_state=42)"
      ],
      "execution_count": null,
      "outputs": []
    },
    {
      "cell_type": "code",
      "metadata": {
        "colab": {
          "base_uri": "https://localhost:8080/"
        },
        "id": "q_CQonYX2pLX",
        "outputId": "0d10eb97-e168-4b0f-e9a0-cbf6001bc762"
      },
      "source": [
        "y.value_counts()"
      ],
      "execution_count": null,
      "outputs": [
        {
          "output_type": "execute_result",
          "data": {
            "text/plain": [
              "0    306826\n",
              "6      3474\n",
              "1      3233\n",
              "2      2420\n",
              "3      1709\n",
              "4      1328\n",
              "5       728\n",
              "Name: class, dtype: int64"
            ]
          },
          "metadata": {
            "tags": []
          },
          "execution_count": 93
        }
      ]
    },
    {
      "cell_type": "code",
      "metadata": {
        "id": "OuKf60WIy_lU"
      },
      "source": [
        "w2vmodel, wv = use_word2vec(X_train)"
      ],
      "execution_count": null,
      "outputs": []
    },
    {
      "cell_type": "code",
      "metadata": {
        "colab": {
          "base_uri": "https://localhost:8080/"
        },
        "id": "qH-yp1xL0X_1",
        "outputId": "d1924959-05ce-4b33-99b7-95b6f7aec8d2"
      },
      "source": [
        "wv_dict = dict(zip(wv.index2word, wv.syn0))"
      ],
      "execution_count": null,
      "outputs": [
        {
          "output_type": "stream",
          "text": [
            "/usr/local/lib/python3.7/dist-packages/ipykernel_launcher.py:1: DeprecationWarning: Call to deprecated `syn0` (Attribute will be removed in 4.0.0, use self.wv.vectors instead).\n",
            "  \"\"\"Entry point for launching an IPython kernel.\n"
          ],
          "name": "stderr"
        }
      ]
    },
    {
      "cell_type": "code",
      "metadata": {
        "id": "BDxON-2MFmsK"
      },
      "source": [
        "rf =  Pipeline([('Word2Vec Vectorizer', W2vVectorizer(wv_dict)),\n",
        "              ('Random Forest', RandomForestClassifier(n_estimators=100, verbose=True))])"
      ],
      "execution_count": null,
      "outputs": []
    },
    {
      "cell_type": "code",
      "metadata": {
        "id": "ERgr4PPdztL2"
      },
      "source": [
        "score = cross_val_score(rf, X_train, y_train, cv=2, n_jobs=4).mean()"
      ],
      "execution_count": null,
      "outputs": []
    },
    {
      "cell_type": "code",
      "metadata": {
        "colab": {
          "base_uri": "https://localhost:8080/"
        },
        "id": "8wPYflAp0oXQ",
        "outputId": "897f1a88-a834-41c8-b050-e96e355995f7"
      },
      "source": [
        "score"
      ],
      "execution_count": null,
      "outputs": [
        {
          "output_type": "execute_result",
          "data": {
            "text/plain": [
              "0.9593117361420629"
            ]
          },
          "metadata": {
            "tags": []
          },
          "execution_count": 122
        }
      ]
    },
    {
      "cell_type": "code",
      "metadata": {
        "colab": {
          "base_uri": "https://localhost:8080/"
        },
        "id": "4NKZMCrP261X",
        "outputId": "b0cbd512-016f-4749-a7f8-9c049e5f531e"
      },
      "source": [
        "rf.fit(X_train, y_train)"
      ],
      "execution_count": null,
      "outputs": [
        {
          "output_type": "stream",
          "text": [
            "[Parallel(n_jobs=1)]: Using backend SequentialBackend with 1 concurrent workers.\n",
            "[Parallel(n_jobs=1)]: Done 100 out of 100 | elapsed:  2.7min finished\n"
          ],
          "name": "stderr"
        },
        {
          "output_type": "execute_result",
          "data": {
            "text/plain": [
              "Pipeline(memory=None,\n",
              "         steps=[('Word2Vec Vectorizer',\n",
              "                 <__main__.W2vVectorizer object at 0x7f793421d590>),\n",
              "                ('Random Forest',\n",
              "                 RandomForestClassifier(bootstrap=True, ccp_alpha=0.0,\n",
              "                                        class_weight=None, criterion='gini',\n",
              "                                        max_depth=None, max_features='auto',\n",
              "                                        max_leaf_nodes=None, max_samples=None,\n",
              "                                        min_impurity_decrease=0.0,\n",
              "                                        min_impurity_split=None,\n",
              "                                        min_samples_leaf=1, min_samples_split=2,\n",
              "                                        min_weight_fraction_leaf=0.0,\n",
              "                                        n_estimators=100, n_jobs=None,\n",
              "                                        oob_score=False, random_state=None,\n",
              "                                        verbose=True, warm_start=False))],\n",
              "         verbose=False)"
            ]
          },
          "metadata": {
            "tags": []
          },
          "execution_count": 130
        }
      ]
    },
    {
      "cell_type": "code",
      "metadata": {
        "colab": {
          "base_uri": "https://localhost:8080/"
        },
        "id": "OpzWeNQf3KTg",
        "outputId": "a8e45ec8-87e4-4b2c-9500-2d86b712d511"
      },
      "source": [
        "y_pred_test = rf.predict(X_test)"
      ],
      "execution_count": null,
      "outputs": [
        {
          "output_type": "stream",
          "text": [
            "[Parallel(n_jobs=1)]: Using backend SequentialBackend with 1 concurrent workers.\n",
            "[Parallel(n_jobs=1)]: Done 100 out of 100 | elapsed:    1.3s finished\n"
          ],
          "name": "stderr"
        }
      ]
    },
    {
      "cell_type": "code",
      "metadata": {
        "colab": {
          "base_uri": "https://localhost:8080/"
        },
        "id": "_b_E_h473ZIz",
        "outputId": "bb2dd62f-6a51-404d-beab-f5d16680fb60"
      },
      "source": [
        "print(classification_report(y_test, y_pred_test))"
      ],
      "execution_count": null,
      "outputs": [
        {
          "output_type": "stream",
          "text": [
            "              precision    recall  f1-score   support\n",
            "\n",
            "           1       0.33      0.00      0.00       652\n",
            "           2       0.00      0.00      0.00       432\n",
            "           3       0.00      0.00      0.00       319\n",
            "           4       0.00      0.00      0.00       303\n",
            "           5       0.00      0.00      0.00       146\n",
            "           6       0.50      0.00      0.00       682\n",
            "           7       0.96      1.00      0.98     61410\n",
            "\n",
            "    accuracy                           0.96     63944\n",
            "   macro avg       0.26      0.14      0.14     63944\n",
            "weighted avg       0.93      0.96      0.94     63944\n",
            "\n"
          ],
          "name": "stdout"
        },
        {
          "output_type": "stream",
          "text": [
            "/usr/local/lib/python3.7/dist-packages/sklearn/metrics/_classification.py:1272: UndefinedMetricWarning: Precision and F-score are ill-defined and being set to 0.0 in labels with no predicted samples. Use `zero_division` parameter to control this behavior.\n",
            "  _warn_prf(average, modifier, msg_start, len(result))\n"
          ],
          "name": "stderr"
        }
      ]
    },
    {
      "cell_type": "code",
      "metadata": {
        "id": "CP7KQPfdvJZQ"
      },
      "source": [
        "rf2pipeline =  Pipeline([('Word2Vec Vectorizer', W2vVectorizer(wv_dict)),\n",
        "              ('rf_classifier', RandomForestClassifier(verbose=True))])"
      ],
      "execution_count": null,
      "outputs": []
    },
    {
      "cell_type": "code",
      "metadata": {
        "id": "LLDReSqwm7ct"
      },
      "source": [
        "n_estimators=[100, 500]\n",
        "max_features = ['auto', 'sqrt', 'log2']\n",
        "max_depth = [10, 20, 30, 40, 50]\n",
        "min_samples_split = [2, 5, 12, 18]\n",
        "min_samples_leaf = [1, 2, 5, 10, 15]\n",
        "\n",
        "rf_grid_param = {'rf_classifier__n_estimators': n_estimators}\n",
        "\n",
        "rf_grid_param4 = {'rf_classifier__max_depth': max_depth}\n",
        "\n",
        "rf_grid_param3 = {'rf_classifier__min_samples_split': min_samples_split}\n",
        "\n",
        "rf_grid_param2 = {'rf_classifier__max_features': max_features}\n",
        "rf_grid_param5 = {'rf_classifier__min_samples_leaf': min_samples_leaf}"
      ],
      "execution_count": null,
      "outputs": []
    },
    {
      "cell_type": "code",
      "metadata": {
        "id": "GpC6NoMyylbl"
      },
      "source": [
        "rf_grid_pipeline = GridSearchCV(rf2pipeline, rf_grid_param4, n_jobs=-1, scoring='f1_macro')"
      ],
      "execution_count": null,
      "outputs": []
    },
    {
      "cell_type": "code",
      "metadata": {
        "colab": {
          "base_uri": "https://localhost:8080/"
        },
        "id": "jJ2YrBYxy_oz",
        "outputId": "e283a641-5218-4794-dbbf-16b5aa994d36"
      },
      "source": [
        "rf_grid_pipeline.fit(X_train,y_train)"
      ],
      "execution_count": null,
      "outputs": [
        {
          "output_type": "stream",
          "text": [
            "[Parallel(n_jobs=1)]: Using backend SequentialBackend with 1 concurrent workers.\n",
            "[Parallel(n_jobs=1)]: Done 100 out of 100 | elapsed:  1.4min finished\n"
          ],
          "name": "stderr"
        },
        {
          "output_type": "execute_result",
          "data": {
            "text/plain": [
              "GridSearchCV(cv=None, error_score=nan,\n",
              "             estimator=Pipeline(memory=None,\n",
              "                                steps=[('Word2Vec Vectorizer',\n",
              "                                        <__main__.W2vVectorizer object at 0x7f6ba3c777d0>),\n",
              "                                       ('rf_classifier',\n",
              "                                        RandomForestClassifier(bootstrap=True,\n",
              "                                                               ccp_alpha=0.0,\n",
              "                                                               class_weight=None,\n",
              "                                                               criterion='gini',\n",
              "                                                               max_depth=None,\n",
              "                                                               max_features='auto',\n",
              "                                                               max_leaf_nodes=None,\n",
              "                                                               max_samples=None,\n",
              "                                                               min_impurity_decrease=0.0,\n",
              "                                                               min...\n",
              "                                                               min_samples_leaf=1,\n",
              "                                                               min_samples_split=2,\n",
              "                                                               min_weight_fraction_leaf=0.0,\n",
              "                                                               n_estimators=100,\n",
              "                                                               n_jobs=None,\n",
              "                                                               oob_score=False,\n",
              "                                                               random_state=None,\n",
              "                                                               verbose=True,\n",
              "                                                               warm_start=False))],\n",
              "                                verbose=False),\n",
              "             iid='deprecated', n_jobs=-1,\n",
              "             param_grid={'rf_classifier__max_depth': [10, 20, 30, 40, 50]},\n",
              "             pre_dispatch='2*n_jobs', refit=True, return_train_score=False,\n",
              "             scoring='f1_macro', verbose=0)"
            ]
          },
          "metadata": {
            "tags": []
          },
          "execution_count": 165
        }
      ]
    },
    {
      "cell_type": "code",
      "metadata": {
        "colab": {
          "base_uri": "https://localhost:8080/"
        },
        "id": "sTVErM3fV8df",
        "outputId": "b1ca3289-35c3-4ac1-b99b-7bf0262878c5"
      },
      "source": [
        "#took 40 mins to run the fit\n",
        "rf_grid_pipeline.best_params_, rf_grid_pipeline.best_score_, "
      ],
      "execution_count": null,
      "outputs": [
        {
          "output_type": "execute_result",
          "data": {
            "text/plain": [
              "({'rf_classifier__max_depth': 20}, 0.14116868997337426)"
            ]
          },
          "metadata": {
            "tags": []
          },
          "execution_count": 166
        }
      ]
    },
    {
      "cell_type": "code",
      "metadata": {
        "colab": {
          "base_uri": "https://localhost:8080/"
        },
        "id": "ZxbXX_glJDoL",
        "outputId": "26ffdc27-cd1a-4e41-9a9b-dfc25d3d4420"
      },
      "source": [
        "y_pred_test = rf_grid_pipeline.predict(X_test)"
      ],
      "execution_count": null,
      "outputs": [
        {
          "output_type": "stream",
          "text": [
            "[Parallel(n_jobs=1)]: Using backend SequentialBackend with 1 concurrent workers.\n",
            "[Parallel(n_jobs=1)]: Done 100 out of 100 | elapsed:    0.9s finished\n"
          ],
          "name": "stderr"
        }
      ]
    },
    {
      "cell_type": "code",
      "metadata": {
        "colab": {
          "base_uri": "https://localhost:8080/"
        },
        "id": "J84K6BLZJY41",
        "outputId": "bc86029a-40cd-4fa7-e4fb-41ed1145bce6"
      },
      "source": [
        "print(classification_report(y_test, y_pred_test))"
      ],
      "execution_count": null,
      "outputs": [
        {
          "output_type": "stream",
          "text": [
            "              precision    recall  f1-score   support\n",
            "\n",
            "           0       0.96      1.00      0.98     61410\n",
            "           1       1.00      0.00      0.00       652\n",
            "           2       0.00      0.00      0.00       432\n",
            "           3       0.00      0.00      0.00       319\n",
            "           4       0.00      0.00      0.00       303\n",
            "           5       0.00      0.00      0.00       146\n",
            "           6       1.00      0.00      0.00       682\n",
            "\n",
            "    accuracy                           0.96     63944\n",
            "   macro avg       0.42      0.14      0.14     63944\n",
            "weighted avg       0.94      0.96      0.94     63944\n",
            "\n"
          ],
          "name": "stdout"
        },
        {
          "output_type": "stream",
          "text": [
            "/usr/local/lib/python3.7/dist-packages/sklearn/metrics/_classification.py:1272: UndefinedMetricWarning: Precision and F-score are ill-defined and being set to 0.0 in labels with no predicted samples. Use `zero_division` parameter to control this behavior.\n",
            "  _warn_prf(average, modifier, msg_start, len(result))\n"
          ],
          "name": "stderr"
        }
      ]
    },
    {
      "cell_type": "code",
      "metadata": {
        "id": "WglAyRFYWtI6"
      },
      "source": [
        "rf2pipeline2 =  Pipeline([('Word2Vec Vectorizer', W2vVectorizer(wv_dict)),\n",
        "              ('rf_classifier', RandomForestClassifier(max_depth=10, verbose=True))])"
      ],
      "execution_count": null,
      "outputs": []
    },
    {
      "cell_type": "code",
      "metadata": {
        "id": "yzAhwsZCW4Nj"
      },
      "source": [
        "rf_grid_pipeline2 = GridSearchCV(rf2pipeline2, rf_grid_param, n_jobs=-1, scoring='f1_weighted')"
      ],
      "execution_count": null,
      "outputs": []
    },
    {
      "cell_type": "code",
      "metadata": {
        "colab": {
          "base_uri": "https://localhost:8080/"
        },
        "id": "40EbGp-EXPAC",
        "outputId": "38ff051d-c2fc-487f-b32c-6306a82c2931"
      },
      "source": [
        "rf_grid_pipeline2.fit(X_train,y_train)"
      ],
      "execution_count": null,
      "outputs": [
        {
          "output_type": "stream",
          "text": [
            "[Parallel(n_jobs=1)]: Using backend SequentialBackend with 1 concurrent workers.\n",
            "[Parallel(n_jobs=1)]: Done 500 out of 500 | elapsed:  5.0min finished\n"
          ],
          "name": "stderr"
        },
        {
          "output_type": "execute_result",
          "data": {
            "text/plain": [
              "GridSearchCV(cv=None, error_score=nan,\n",
              "             estimator=Pipeline(memory=None,\n",
              "                                steps=[('Word2Vec Vectorizer',\n",
              "                                        <__main__.W2vVectorizer object at 0x7fb6fcd217d0>),\n",
              "                                       ('rf_classifier',\n",
              "                                        RandomForestClassifier(bootstrap=True,\n",
              "                                                               ccp_alpha=0.0,\n",
              "                                                               class_weight=None,\n",
              "                                                               criterion='gini',\n",
              "                                                               max_depth=10,\n",
              "                                                               max_features='auto',\n",
              "                                                               max_leaf_nodes=None,\n",
              "                                                               max_samples=None,\n",
              "                                                               min_impurity_decrease=0.0,\n",
              "                                                               min_i...\n",
              "                                                               min_samples_leaf=1,\n",
              "                                                               min_samples_split=2,\n",
              "                                                               min_weight_fraction_leaf=0.0,\n",
              "                                                               n_estimators=100,\n",
              "                                                               n_jobs=None,\n",
              "                                                               oob_score=False,\n",
              "                                                               random_state=None,\n",
              "                                                               verbose=True,\n",
              "                                                               warm_start=False))],\n",
              "                                verbose=False),\n",
              "             iid='deprecated', n_jobs=-1,\n",
              "             param_grid={'rf_classifier__n_estimators': [100, 500]},\n",
              "             pre_dispatch='2*n_jobs', refit=True, return_train_score=False,\n",
              "             scoring='f1_weighted', verbose=0)"
            ]
          },
          "metadata": {
            "tags": []
          },
          "execution_count": 64
        }
      ]
    },
    {
      "cell_type": "code",
      "metadata": {
        "colab": {
          "base_uri": "https://localhost:8080/"
        },
        "id": "Ifrj0bLvg7Tk",
        "outputId": "22c2b747-2f10-4d2f-a495-93e5b1756fdf"
      },
      "source": [
        "rf_grid_pipeline2.best_params_, rf_grid_pipeline2.best_score_"
      ],
      "execution_count": null,
      "outputs": [
        {
          "output_type": "execute_result",
          "data": {
            "text/plain": [
              "({'rf_classifier__n_estimators': 500}, 0.9397835607502179)"
            ]
          },
          "metadata": {
            "tags": []
          },
          "execution_count": 72
        }
      ]
    },
    {
      "cell_type": "code",
      "metadata": {
        "id": "a9e_To1QhM1C"
      },
      "source": [
        "rf2pipeline3 =  Pipeline([('Word2Vec Vectorizer', W2vVectorizer(wv_dict)),\n",
        "              ('rf_classifier', RandomForestClassifier(max_depth=10, n_estimators=500, verbose=True))])"
      ],
      "execution_count": null,
      "outputs": []
    },
    {
      "cell_type": "code",
      "metadata": {
        "id": "QIc6bOulh1nC"
      },
      "source": [
        "rf_grid_pipeline3 = GridSearchCV(rf2pipeline3, rf_grid_param3, n_jobs=-1, scoring='f1_weighted')"
      ],
      "execution_count": null,
      "outputs": []
    },
    {
      "cell_type": "code",
      "metadata": {
        "colab": {
          "base_uri": "https://localhost:8080/"
        },
        "id": "8fbwISQZieAE",
        "outputId": "8d2e1100-a433-4276-d764-991ead9bef57"
      },
      "source": [
        "rf_grid_pipeline3.fit(X_train,y_train)"
      ],
      "execution_count": null,
      "outputs": [
        {
          "output_type": "stream",
          "text": [
            "/usr/local/lib/python3.7/dist-packages/joblib/externals/loky/process_executor.py:691: UserWarning: A worker stopped while some jobs were given to the executor. This can be caused by a too short worker timeout or by a memory leak.\n",
            "  \"timeout or by a memory leak.\", UserWarning\n",
            "[Parallel(n_jobs=1)]: Using backend SequentialBackend with 1 concurrent workers.\n",
            "[Parallel(n_jobs=1)]: Done 500 out of 500 | elapsed:  5.5min finished\n"
          ],
          "name": "stderr"
        },
        {
          "output_type": "execute_result",
          "data": {
            "text/plain": [
              "GridSearchCV(cv=None, error_score=nan,\n",
              "             estimator=Pipeline(memory=None,\n",
              "                                steps=[('Word2Vec Vectorizer',\n",
              "                                        <__main__.W2vVectorizer object at 0x7fb6fb3abb50>),\n",
              "                                       ('rf_classifier',\n",
              "                                        RandomForestClassifier(bootstrap=True,\n",
              "                                                               ccp_alpha=0.0,\n",
              "                                                               class_weight=None,\n",
              "                                                               criterion='gini',\n",
              "                                                               max_depth=10,\n",
              "                                                               max_features='auto',\n",
              "                                                               max_leaf_nodes=None,\n",
              "                                                               max_samples=None,\n",
              "                                                               min_impurity_decrease=0.0,\n",
              "                                                               min_i...\n",
              "                                                               min_samples_leaf=1,\n",
              "                                                               min_samples_split=2,\n",
              "                                                               min_weight_fraction_leaf=0.0,\n",
              "                                                               n_estimators=500,\n",
              "                                                               n_jobs=None,\n",
              "                                                               oob_score=False,\n",
              "                                                               random_state=None,\n",
              "                                                               verbose=True,\n",
              "                                                               warm_start=False))],\n",
              "                                verbose=False),\n",
              "             iid='deprecated', n_jobs=-1,\n",
              "             param_grid={'rf_classifier__min_samples_split': [2, 5, 12, 18]},\n",
              "             pre_dispatch='2*n_jobs', refit=True, return_train_score=False,\n",
              "             scoring='f1_weighted', verbose=0)"
            ]
          },
          "metadata": {
            "tags": []
          },
          "execution_count": 71
        }
      ]
    },
    {
      "cell_type": "code",
      "metadata": {
        "colab": {
          "base_uri": "https://localhost:8080/"
        },
        "id": "i5ndgUUD0LVp",
        "outputId": "07d89d51-118b-4355-9ff9-baa1c3dbcf02"
      },
      "source": [
        "rf_grid_pipeline3.best_params_, rf_grid_pipeline3.best_score_"
      ],
      "execution_count": null,
      "outputs": [
        {
          "output_type": "execute_result",
          "data": {
            "text/plain": [
              "({'rf_classifier__min_samples_split': 5}, 0.9397835607502179)"
            ]
          },
          "metadata": {
            "tags": []
          },
          "execution_count": 73
        }
      ]
    },
    {
      "cell_type": "code",
      "metadata": {
        "id": "AlH97aKK0jrj"
      },
      "source": [
        "rf2pipeline4 =  Pipeline([('Word2Vec Vectorizer', W2vVectorizer(wv_dict)),\n",
        "              ('rf_classifier', RandomForestClassifier(max_depth=10, n_estimators=500, min_samples_split=5, verbose=True))])"
      ],
      "execution_count": null,
      "outputs": []
    },
    {
      "cell_type": "code",
      "metadata": {
        "colab": {
          "base_uri": "https://localhost:8080/"
        },
        "id": "YhoBQR5503H1",
        "outputId": "1a340032-34b7-4329-bc5d-90b28bb99300"
      },
      "source": [
        "rf2pipeline4.fit(X_train,y_train)"
      ],
      "execution_count": null,
      "outputs": [
        {
          "output_type": "stream",
          "text": [
            "[Parallel(n_jobs=1)]: Using backend SequentialBackend with 1 concurrent workers.\n",
            "[Parallel(n_jobs=1)]: Done 500 out of 500 | elapsed:  5.5min finished\n"
          ],
          "name": "stderr"
        },
        {
          "output_type": "execute_result",
          "data": {
            "text/plain": [
              "Pipeline(memory=None,\n",
              "         steps=[('Word2Vec Vectorizer',\n",
              "                 <__main__.W2vVectorizer object at 0x7fb6fd015290>),\n",
              "                ('rf_classifier',\n",
              "                 RandomForestClassifier(bootstrap=True, ccp_alpha=0.0,\n",
              "                                        class_weight=None, criterion='gini',\n",
              "                                        max_depth=10, max_features='auto',\n",
              "                                        max_leaf_nodes=None, max_samples=None,\n",
              "                                        min_impurity_decrease=0.0,\n",
              "                                        min_impurity_split=None,\n",
              "                                        min_samples_leaf=1, min_samples_split=5,\n",
              "                                        min_weight_fraction_leaf=0.0,\n",
              "                                        n_estimators=500, n_jobs=None,\n",
              "                                        oob_score=False, random_state=None,\n",
              "                                        verbose=True, warm_start=False))],\n",
              "         verbose=False)"
            ]
          },
          "metadata": {
            "tags": []
          },
          "execution_count": 75
        }
      ]
    },
    {
      "cell_type": "code",
      "metadata": {
        "colab": {
          "base_uri": "https://localhost:8080/"
        },
        "id": "IjAx1_tz2aJO",
        "outputId": "1dde56e0-3891-441f-a712-ce07b4b66b34"
      },
      "source": [
        "y_pred_test = rf2pipeline4.predict(X_test)"
      ],
      "execution_count": null,
      "outputs": [
        {
          "output_type": "stream",
          "text": [
            "[Parallel(n_jobs=1)]: Using backend SequentialBackend with 1 concurrent workers.\n",
            "[Parallel(n_jobs=1)]: Done 500 out of 500 | elapsed:    4.5s finished\n"
          ],
          "name": "stderr"
        }
      ]
    },
    {
      "cell_type": "code",
      "metadata": {
        "colab": {
          "base_uri": "https://localhost:8080/"
        },
        "id": "7ZgH3ObU2YuW",
        "outputId": "26467ca9-10a1-4788-9218-5486f149d58e"
      },
      "source": [
        "print(classification_report(y_test, y_pred_test))"
      ],
      "execution_count": null,
      "outputs": [
        {
          "output_type": "stream",
          "text": [
            "              precision    recall  f1-score   support\n",
            "\n",
            "           1       1.00      0.00      0.00       652\n",
            "           2       0.00      0.00      0.00       432\n",
            "           3       0.00      0.00      0.00       319\n",
            "           4       0.00      0.00      0.00       303\n",
            "           5       0.00      0.00      0.00       146\n",
            "           6       1.00      0.00      0.00       682\n",
            "           7       0.96      1.00      0.98     61410\n",
            "\n",
            "    accuracy                           0.96     63944\n",
            "   macro avg       0.42      0.14      0.14     63944\n",
            "weighted avg       0.94      0.96      0.94     63944\n",
            "\n"
          ],
          "name": "stdout"
        },
        {
          "output_type": "stream",
          "text": [
            "/usr/local/lib/python3.7/dist-packages/sklearn/metrics/_classification.py:1272: UndefinedMetricWarning: Precision and F-score are ill-defined and being set to 0.0 in labels with no predicted samples. Use `zero_division` parameter to control this behavior.\n",
            "  _warn_prf(average, modifier, msg_start, len(result))\n"
          ],
          "name": "stderr"
        }
      ]
    },
    {
      "cell_type": "markdown",
      "metadata": {
        "id": "zTyE1_1vu0IY"
      },
      "source": [
        "## Model 2: LSTM \n",
        "\n",
        "I create encodings for the 50,000 most common words in the comment data, and train them using Keras LSTM. I do this because the vocabulary is very large, with numerous strange \"words\" that are only used once.  I then try to classify indviduals as neutral (not-diagnosed), or in one of the 6 diagnoses.  This model also does not perform well, likely because I chose poorly for the hidden dimension sizes. It completely ignores several classes and does not atempt to predict them.  \n"
      ]
    },
    {
      "cell_type": "code",
      "metadata": {
        "id": "4eFXJG7cu4M8"
      },
      "source": [
        "def check_encoding(word, token_map):\n",
        "  \"\"\" This function checks if encoding exists for a word. \n",
        "\n",
        "  Parameters:\n",
        "  word (string): word to check\n",
        "  token_map (set): mapping of words to their numerical representation\n",
        "\n",
        "  Returns:\n",
        "  int: encoding if it exists, 0 if it does not \n",
        "\n",
        "  \"\"\"\n",
        "  if word in token_map:\n",
        "    return token_map.get(word)\n",
        "  else: \n",
        "    return 0"
      ],
      "execution_count": 29,
      "outputs": []
    },
    {
      "cell_type": "code",
      "metadata": {
        "colab": {
          "base_uri": "https://localhost:8080/",
          "height": 206
        },
        "id": "ydTRUVunjSdI",
        "outputId": "f1455a28-3d72-4714-cb6d-6a8b42350ebb"
      },
      "source": [
        "comdata_df = all_comdata_df[['tokenized_stemmed', 'class']]\n",
        "comdata_df.head()"
      ],
      "execution_count": null,
      "outputs": [
        {
          "output_type": "execute_result",
          "data": {
            "text/html": [
              "<div>\n",
              "<style scoped>\n",
              "    .dataframe tbody tr th:only-of-type {\n",
              "        vertical-align: middle;\n",
              "    }\n",
              "\n",
              "    .dataframe tbody tr th {\n",
              "        vertical-align: top;\n",
              "    }\n",
              "\n",
              "    .dataframe thead th {\n",
              "        text-align: right;\n",
              "    }\n",
              "</style>\n",
              "<table border=\"1\" class=\"dataframe\">\n",
              "  <thead>\n",
              "    <tr style=\"text-align: right;\">\n",
              "      <th></th>\n",
              "      <th>tokenized_stemmed</th>\n",
              "      <th>class</th>\n",
              "    </tr>\n",
              "  </thead>\n",
              "  <tbody>\n",
              "    <tr>\n",
              "      <th>0</th>\n",
              "      <td>['network', 'not', 'best', 'moment', 'tri', 'a...</td>\n",
              "      <td>1</td>\n",
              "    </tr>\n",
              "    <tr>\n",
              "      <th>1</th>\n",
              "      <td>['learn', 'read', 'interpret', 'word', 'first'...</td>\n",
              "      <td>1</td>\n",
              "    </tr>\n",
              "    <tr>\n",
              "      <th>2</th>\n",
              "      <td>['not', 'total', 'fault', 'even', 'one', 'not'...</td>\n",
              "      <td>1</td>\n",
              "    </tr>\n",
              "    <tr>\n",
              "      <th>3</th>\n",
              "      <td>['p', 'appli', 'first', 'us', 'credit', 'card'...</td>\n",
              "      <td>1</td>\n",
              "    </tr>\n",
              "    <tr>\n",
              "      <th>4</th>\n",
              "      <td>['know', 'problem', 'empti', 'bladder', 'well'...</td>\n",
              "      <td>1</td>\n",
              "    </tr>\n",
              "  </tbody>\n",
              "</table>\n",
              "</div>"
            ],
            "text/plain": [
              "                                   tokenized_stemmed  class\n",
              "0  ['network', 'not', 'best', 'moment', 'tri', 'a...      1\n",
              "1  ['learn', 'read', 'interpret', 'word', 'first'...      1\n",
              "2  ['not', 'total', 'fault', 'even', 'one', 'not'...      1\n",
              "3  ['p', 'appli', 'first', 'us', 'credit', 'card'...      1\n",
              "4  ['know', 'problem', 'empti', 'bladder', 'well'...      1"
            ]
          },
          "metadata": {
            "tags": []
          },
          "execution_count": 7
        }
      ]
    },
    {
      "cell_type": "code",
      "metadata": {
        "id": "gQpWUeCAzrIl"
      },
      "source": [
        "X = all_comdata_df['tokenized_stemmed']\n",
        "y = all_comdata_df['class']\n",
        "\n",
        "#write train and test data to file\n",
        "\n",
        "X_train, X_test, y_train, y_test = train_test_split(X, y, test_size = 0.20, random_state=42)"
      ],
      "execution_count": 31,
      "outputs": []
    },
    {
      "cell_type": "code",
      "metadata": {
        "id": "SZwuxr9bDBGV"
      },
      "source": [
        "X_train_list = X_train.tolist()"
      ],
      "execution_count": null,
      "outputs": []
    },
    {
      "cell_type": "code",
      "metadata": {
        "id": "A0NAHeoEpTQv"
      },
      "source": [
        "#calculates the frequency of each word\n",
        "word_freq = Counter()\n",
        "for entry in X_train:\n",
        "  word_freq.update(entry)"
      ],
      "execution_count": 33,
      "outputs": []
    },
    {
      "cell_type": "code",
      "metadata": {
        "colab": {
          "base_uri": "https://localhost:8080/"
        },
        "id": "DDIkU-vwq0Uq",
        "outputId": "9972f5c9-d27e-4b2f-fc0e-5abb51b9746b"
      },
      "source": [
        "word_freq.most_common(20)"
      ],
      "execution_count": null,
      "outputs": [
        {
          "output_type": "execute_result",
          "data": {
            "text/plain": [
              "[('not', 484811),\n",
              " ('like', 146625),\n",
              " ('would', 127425),\n",
              " ('get', 121092),\n",
              " ('peopl', 99389),\n",
              " ('go', 88870),\n",
              " ('one', 83401),\n",
              " ('time', 78674),\n",
              " ('think', 76290),\n",
              " ('make', 73678),\n",
              " ('want', 73167),\n",
              " ('know', 66332),\n",
              " ('thing', 64082),\n",
              " ('also', 57171),\n",
              " ('even', 57125),\n",
              " ('realli', 54117),\n",
              " ('work', 54088),\n",
              " ('say', 53782),\n",
              " ('need', 53586),\n",
              " ('feel', 53557)]"
            ]
          },
          "metadata": {
            "tags": []
          },
          "execution_count": 39
        }
      ]
    },
    {
      "cell_type": "code",
      "metadata": {
        "colab": {
          "base_uri": "https://localhost:8080/"
        },
        "id": "zWiwEJlduG_T",
        "outputId": "85381818-4a87-47c0-bc2a-bfa71ef5bb2f"
      },
      "source": [
        "word_freq.most_common()[:-5-1:-1]"
      ],
      "execution_count": null,
      "outputs": [
        {
          "output_type": "execute_result",
          "data": {
            "text/plain": [
              "[('columbiasurgeri', 1),\n",
              " ('colesterol', 1),\n",
              " ('fandem', 1),\n",
              " ('stramm', 1),\n",
              " ('leverandorern', 1)]"
            ]
          },
          "metadata": {
            "tags": []
          },
          "execution_count": 40
        }
      ]
    },
    {
      "cell_type": "code",
      "metadata": {
        "id": "JFUit5VWuQAz"
      },
      "source": [
        "final_word = word_freq.most_common(50000) #list of tuples of word and frequency "
      ],
      "execution_count": 34,
      "outputs": []
    },
    {
      "cell_type": "code",
      "metadata": {
        "colab": {
          "base_uri": "https://localhost:8080/"
        },
        "id": "F2susamauxfy",
        "outputId": "098c4593-cbc0-4d49-bd25-cb52410c72e0"
      },
      "source": [
        "final_word[0:10] "
      ],
      "execution_count": null,
      "outputs": [
        {
          "output_type": "execute_result",
          "data": {
            "text/plain": [
              "[('not', 484811),\n",
              " ('like', 146625),\n",
              " ('would', 127425),\n",
              " ('get', 121092),\n",
              " ('peopl', 99389),\n",
              " ('go', 88870),\n",
              " ('one', 83401),\n",
              " ('time', 78674),\n",
              " ('think', 76290),\n",
              " ('make', 73678)]"
            ]
          },
          "metadata": {
            "tags": []
          },
          "execution_count": 44
        }
      ]
    },
    {
      "cell_type": "code",
      "metadata": {
        "id": "pcvlqkzYvWGm"
      },
      "source": [
        "final_word_dict = dict(final_word)"
      ],
      "execution_count": 35,
      "outputs": []
    },
    {
      "cell_type": "code",
      "metadata": {
        "id": "1AwTB3mSvuov"
      },
      "source": [
        "vocab = final_word_dict.keys()"
      ],
      "execution_count": 36,
      "outputs": []
    },
    {
      "cell_type": "code",
      "metadata": {
        "colab": {
          "base_uri": "https://localhost:8080/"
        },
        "id": "XzbszWb88pyA",
        "outputId": "ae4d511f-14cd-444e-aede-a0821012a36f"
      },
      "source": [
        "word_list = [[i for i in sent if ] for sent in X_train] #just to see some of the unique words..."
      ],
      "execution_count": null,
      "outputs": [
        {
          "output_type": "execute_result",
          "data": {
            "text/plain": [
              "{'famou',\n",
              " 'mizuiyama',\n",
              " 'dbl',\n",
              " 'nibl',\n",
              " 'mowisz',\n",
              " 'intelegi',\n",
              " 'camazot',\n",
              " 'zzzquil',\n",
              " 'relationschip',\n",
              " 'sulki',\n",
              " 'cancelo',\n",
              " 'icim',\n",
              " 'hemostasi',\n",
              " 'liceeni',\n",
              " 'hawkmoon',\n",
              " 'marinara',\n",
              " 'begrundet',\n",
              " 'boren',\n",
              " 'yrke',\n",
              " 'freebe',\n",
              " 'chidaruma',\n",
              " 'gogurt',\n",
              " 'recogniz',\n",
              " 'fascist',\n",
              " 'astrali',\n",
              " 'kisird',\n",
              " 'stiffi',\n",
              " 'dettol',\n",
              " 'monowitz',\n",
              " 'headwear',\n",
              " 'yiffi',\n",
              " 'glower',\n",
              " 'pancra',\n",
              " 'rau',\n",
              " 'mcpoyl',\n",
              " 'kazdej',\n",
              " 'drugiego',\n",
              " 'disintigr',\n",
              " 'aul',\n",
              " 'enhang',\n",
              " 'przez',\n",
              " 'havesom',\n",
              " 'musico',\n",
              " 'stoa',\n",
              " 'aguirr',\n",
              " 'xpr',\n",
              " 'pudg',\n",
              " 'oqgbola',\n",
              " 'dozynkach',\n",
              " 'shap',\n",
              " 'anguish',\n",
              " 'eef',\n",
              " 'ubermittelt',\n",
              " 'definet',\n",
              " 'punctul',\n",
              " 'bukuculuguyl',\n",
              " 'sarrafo',\n",
              " 'wike',\n",
              " 'lbrh',\n",
              " 'erhitzt',\n",
              " 'mayer',\n",
              " 'dicevi',\n",
              " 'lvg',\n",
              " 'holbox',\n",
              " 'maladictum',\n",
              " 'ennagram',\n",
              " 'deano',\n",
              " 'llevala',\n",
              " 'altnew',\n",
              " 'sebag',\n",
              " 'derrumb',\n",
              " 'clapham',\n",
              " 'marombeiro',\n",
              " 'erzielen',\n",
              " 'puri',\n",
              " 'vanweg',\n",
              " 'arugula',\n",
              " 'xluq',\n",
              " 'heavyish',\n",
              " 'identischen',\n",
              " 'skippi',\n",
              " 'kilkukrotni',\n",
              " 'divid',\n",
              " 'nishki',\n",
              " 'sinnfrei',\n",
              " 'schrieber',\n",
              " 'tabe',\n",
              " 'heyerdahl',\n",
              " 'kirtland',\n",
              " 'oldu',\n",
              " 'ka',\n",
              " 'tjvhhggerjg',\n",
              " 'smorgasbord',\n",
              " 'sagitt',\n",
              " 'circadian',\n",
              " 'zorunda',\n",
              " 'outcal',\n",
              " 'noci',\n",
              " 'goedgekeurd',\n",
              " 'microbrand',\n",
              " 'troublemak',\n",
              " 'capitolium',\n",
              " 'matabol',\n",
              " 'nottttt',\n",
              " 'myheritag',\n",
              " 'aja',\n",
              " 'maimai',\n",
              " 'wellston',\n",
              " 'atw',\n",
              " 'gynocentr',\n",
              " 'comt',\n",
              " 'nto',\n",
              " 'racehors',\n",
              " 'ntd',\n",
              " 'urmar',\n",
              " 'abbracci',\n",
              " 'argv',\n",
              " 'conservat',\n",
              " 'unprovok',\n",
              " 'fuuuuck',\n",
              " 'rubbermaid',\n",
              " 'synerget',\n",
              " 'freedomflightsparrotrescu',\n",
              " 'viro',\n",
              " 'transmisandri',\n",
              " 'lausd',\n",
              " 'avalokiteshvara',\n",
              " 'zaroorat',\n",
              " 'cwifi',\n",
              " 'fglafwu',\n",
              " 'micropreemi',\n",
              " 'asol',\n",
              " 'allevi',\n",
              " 'kamado',\n",
              " 'puttingg',\n",
              " 'biolig',\n",
              " 'mcveigh',\n",
              " 'evrhfyiumatn',\n",
              " 'maaaani',\n",
              " 'breastestess',\n",
              " 'nervi',\n",
              " 'check',\n",
              " 'parhta',\n",
              " 'hooplahobo',\n",
              " 'wunna',\n",
              " 'sana',\n",
              " 'chociazbi',\n",
              " 'catachan',\n",
              " 'evel',\n",
              " 'amitabh',\n",
              " 'storg',\n",
              " 'syndicat',\n",
              " 'pssq',\n",
              " 'modest',\n",
              " 'hmvkhlt',\n",
              " 'crabber',\n",
              " 'duckgo',\n",
              " 'tribal',\n",
              " 'daug',\n",
              " 'kleinanzeigen',\n",
              " 'trasfer',\n",
              " 'csed',\n",
              " 'tuwu',\n",
              " 'suspensio',\n",
              " 'abgepackt',\n",
              " 'eyetest',\n",
              " 'umbl',\n",
              " 'noch',\n",
              " 'chino',\n",
              " 'gorsuch',\n",
              " 'sarlona',\n",
              " 'oqvpg',\n",
              " 'verwendung',\n",
              " 'speedglass',\n",
              " 'wohlstand',\n",
              " 'billfold',\n",
              " 'pujari',\n",
              " 'hydroxymitragynin',\n",
              " 'pbdetail',\n",
              " 'er',\n",
              " 'decidono',\n",
              " 'happy',\n",
              " 'slovak',\n",
              " 'kingus',\n",
              " 'gapapa',\n",
              " 'sirui',\n",
              " 'kuwait',\n",
              " 'partenariat',\n",
              " 'faaaaaaaaaaar',\n",
              " 'resm',\n",
              " 'beckford',\n",
              " 'distribut',\n",
              " 'mir',\n",
              " 'ocm',\n",
              " 'objasnim',\n",
              " 'palhaco',\n",
              " 'scooch',\n",
              " 'bulli',\n",
              " 'hyperdict',\n",
              " 'solstic',\n",
              " 'bshbyl',\n",
              " 'kehuja',\n",
              " 'sino',\n",
              " 'copyedit',\n",
              " 'jujutsu',\n",
              " 'wavaw',\n",
              " 'denettian',\n",
              " 'nagon',\n",
              " 'rintoul',\n",
              " 'fata',\n",
              " 'vivio',\n",
              " 'cabem',\n",
              " 'fuscia',\n",
              " 'bedoelt',\n",
              " 'kur',\n",
              " 'hdcp',\n",
              " 'clampdown',\n",
              " 'plateau',\n",
              " 'mmmm',\n",
              " 'derieri',\n",
              " 'subclass',\n",
              " 'posess',\n",
              " 'airjab',\n",
              " 'commissar',\n",
              " 'orbanistan',\n",
              " 'hurr',\n",
              " 'midband',\n",
              " 'woudn',\n",
              " 'typewrit',\n",
              " 'alphalet',\n",
              " 'restaur',\n",
              " 'verecundiam',\n",
              " 'ctg',\n",
              " 'gilsonit',\n",
              " 'camisol',\n",
              " 'laazar',\n",
              " 'gemisei',\n",
              " 'muziek',\n",
              " 'perl',\n",
              " 'dagpeng',\n",
              " 'castro',\n",
              " 'nazeem',\n",
              " 'cream',\n",
              " 'bedrm',\n",
              " 'mogen',\n",
              " 'pelvi',\n",
              " 'dentistri',\n",
              " 'dof',\n",
              " 'xntj',\n",
              " 'acciari',\n",
              " 'etmc',\n",
              " 'commieland',\n",
              " 'neuralsci',\n",
              " 'swiatlo',\n",
              " 'buchermess',\n",
              " 'djokov',\n",
              " 'tabt',\n",
              " 'omiss',\n",
              " 'dermot',\n",
              " 'idunno',\n",
              " 'iono',\n",
              " 'mobilebas',\n",
              " 'greendorg',\n",
              " 'vast',\n",
              " 'classifi',\n",
              " 'orangemen',\n",
              " 'leaver',\n",
              " 'kuscheln',\n",
              " 'minneapoli',\n",
              " 'usun',\n",
              " 'binbok',\n",
              " 'abfuhren',\n",
              " 'escapad',\n",
              " 'alamo',\n",
              " 'aje',\n",
              " 'maatschappij',\n",
              " 'polskich',\n",
              " 'welv',\n",
              " 'clapclapclapclapclapclap',\n",
              " 'sectoid',\n",
              " 'gelip',\n",
              " 'peakstat',\n",
              " 'ujjivan',\n",
              " 'payscal',\n",
              " 'shiver',\n",
              " 'esqu',\n",
              " 'crackeada',\n",
              " 'featherbed',\n",
              " 'maconha',\n",
              " 'vb',\n",
              " 'fluge',\n",
              " 'criacao',\n",
              " 'memet',\n",
              " 'chiquito',\n",
              " 'gift',\n",
              " 'niemanden',\n",
              " 'witea',\n",
              " 'donusum',\n",
              " 'raobj',\n",
              " 'beem',\n",
              " 'hirihito',\n",
              " 'tortoiseforum',\n",
              " 'perigosa',\n",
              " 'shnmtsaym',\n",
              " 'felul',\n",
              " 'nhung',\n",
              " 'reglan',\n",
              " 'noura',\n",
              " 'jean',\n",
              " 'runepag',\n",
              " 'oppust',\n",
              " 'bosum',\n",
              " 'miter',\n",
              " 'foodi',\n",
              " 'rangoli',\n",
              " 'offit',\n",
              " 'beurocraci',\n",
              " 'ichikawa',\n",
              " 'wessonforum',\n",
              " 'huggin',\n",
              " 'rewind',\n",
              " 'wypadku',\n",
              " 'wensleydal',\n",
              " 'ethermin',\n",
              " 'mne',\n",
              " 'indegen',\n",
              " 'comentarl',\n",
              " 'psct',\n",
              " 'speeler',\n",
              " 'cjwkcaia',\n",
              " 'kallvan',\n",
              " 'brawley',\n",
              " 'loveeee',\n",
              " 'rotisseri',\n",
              " 'scherzing',\n",
              " 'medillin',\n",
              " 'aaaaaaaaall',\n",
              " 'diciplin',\n",
              " 'dyad',\n",
              " 'smittebomb',\n",
              " 'baglantisi',\n",
              " 'paliou',\n",
              " 'ornata',\n",
              " 'dallasnew',\n",
              " 'trink',\n",
              " 'anol',\n",
              " 'monstrum',\n",
              " 'gagasgarden',\n",
              " 'chassi',\n",
              " 'alest',\n",
              " 'fehlend',\n",
              " 'qcm',\n",
              " 'tegan',\n",
              " 'wingnut',\n",
              " 'pripremit',\n",
              " 'priciest',\n",
              " 'mechanisch',\n",
              " 'emelan',\n",
              " 'phasen',\n",
              " 'consolid',\n",
              " 'ellig',\n",
              " 'svengali',\n",
              " 'compter',\n",
              " 'zur',\n",
              " 'theyvar',\n",
              " 'vfw',\n",
              " 'docil',\n",
              " 'artron',\n",
              " 'bddc',\n",
              " 'carolin',\n",
              " 'nddd',\n",
              " 'farti',\n",
              " 'menn',\n",
              " 'faktisch',\n",
              " 'enema',\n",
              " 'stucko',\n",
              " 'jrhumobedhyqyp',\n",
              " 'chavo',\n",
              " 'splunk',\n",
              " 'brilho',\n",
              " 'dotti',\n",
              " 'einsatzgruppen',\n",
              " 'multist',\n",
              " 'lora',\n",
              " 'everynight',\n",
              " 'scrather',\n",
              " 'jano',\n",
              " 'particuarili',\n",
              " 'improvisiert',\n",
              " 'pfsenc',\n",
              " 'utnil',\n",
              " 'psilocin',\n",
              " 'bobert',\n",
              " 'trayarch',\n",
              " 'jxq',\n",
              " 'parmi',\n",
              " 'emboss',\n",
              " 'turtli',\n",
              " 'quella',\n",
              " 'jpnc',\n",
              " 'disucss',\n",
              " 'brocken',\n",
              " 'mcwhorter',\n",
              " 'depsit',\n",
              " 'overserv',\n",
              " 'kmc',\n",
              " 'raft',\n",
              " 'clarinet',\n",
              " 'beyondtyp',\n",
              " 'gangi',\n",
              " 'testifi',\n",
              " 'maxwel',\n",
              " 'seiryu',\n",
              " 'defjit',\n",
              " 'gleichgeschlechtlichen',\n",
              " 'worser',\n",
              " 'kaurinkoski',\n",
              " 'ausgerottet',\n",
              " 'gmvq',\n",
              " 'inch',\n",
              " 'pseudotyp',\n",
              " 'zerstort',\n",
              " 'macklin',\n",
              " 'pierpeach',\n",
              " 'frd',\n",
              " 'cheshir',\n",
              " 'noos',\n",
              " 'anemon',\n",
              " 'proprieti',\n",
              " 'niceish',\n",
              " 'lolicon',\n",
              " 'uberzeugungssach',\n",
              " 'faglar',\n",
              " 'waterston',\n",
              " 'egypt',\n",
              " 'keinerlei',\n",
              " 'xindi',\n",
              " 'creeptast',\n",
              " 'thought',\n",
              " 'disphoria',\n",
              " 'expiri',\n",
              " 'adul',\n",
              " 'betta',\n",
              " 'tranch',\n",
              " 'glkpk',\n",
              " 'ambien',\n",
              " 'circumslic',\n",
              " 'biblegateway',\n",
              " 'parcero',\n",
              " 'eulu',\n",
              " 'entour',\n",
              " 'gehaltsniveau',\n",
              " 'riiiiiiiiiiight',\n",
              " 'harm',\n",
              " 'sympa',\n",
              " 'konservativa',\n",
              " 'carv',\n",
              " 'boc',\n",
              " 'ntm',\n",
              " 'elephant',\n",
              " 'lfn',\n",
              " 'ww',\n",
              " 'grat',\n",
              " 'fiet',\n",
              " 'tikka',\n",
              " 'evergarden',\n",
              " 'beneficiari',\n",
              " 'killi',\n",
              " 'lipton',\n",
              " 'sekiro',\n",
              " 'licker',\n",
              " 'genetica',\n",
              " 'calient',\n",
              " 'kenntnisprufung',\n",
              " 'timelin',\n",
              " 'guna',\n",
              " 'numerolog',\n",
              " 'pob',\n",
              " 'iheartradio',\n",
              " 'flagg',\n",
              " 'ctfhkcko',\n",
              " 'idneifti',\n",
              " 'nontransfer',\n",
              " 'molassi',\n",
              " 'begejstred',\n",
              " 'krepo',\n",
              " 'webinject',\n",
              " 'tishler',\n",
              " 'currenct',\n",
              " 'egrp',\n",
              " 'waterpark',\n",
              " 'usrussiarel',\n",
              " 'ncvwfue',\n",
              " 'tutsi',\n",
              " 'delar',\n",
              " 'ebm',\n",
              " 'interconnect',\n",
              " 'encomienda',\n",
              " 'geektim',\n",
              " 'buttercream',\n",
              " 'verantwortung',\n",
              " 'baik',\n",
              " 'faltam',\n",
              " 'bloch',\n",
              " 'toudai',\n",
              " 'tandav',\n",
              " 'aspeedomodel',\n",
              " 'monoski',\n",
              " 'dumpa',\n",
              " 'homeschool',\n",
              " 'easiwi',\n",
              " 'falcatrua',\n",
              " 'tlou',\n",
              " 'assim',\n",
              " 'altoghet',\n",
              " 'feminism',\n",
              " 'morbol',\n",
              " 'ekko',\n",
              " 'gannett',\n",
              " 'kleppner',\n",
              " 'wozu',\n",
              " 'sensatez',\n",
              " 'excelsior',\n",
              " 'haar',\n",
              " 'interfamili',\n",
              " 'bekovetkeztekor',\n",
              " 'yhteiskaytossa',\n",
              " 'plastspaw',\n",
              " 'fallingnout',\n",
              " 'regurg',\n",
              " 'gbe',\n",
              " 'privaleg',\n",
              " 'huggg',\n",
              " 'jamanetwork',\n",
              " 'jmlhvk',\n",
              " 'sadhana',\n",
              " 'redigem',\n",
              " 'thalin',\n",
              " 'score',\n",
              " 'mansion',\n",
              " 'ambilor',\n",
              " 'konuda',\n",
              " 'pauschal',\n",
              " 'coronari',\n",
              " 'myne',\n",
              " 'cudno',\n",
              " 'gmvjofe',\n",
              " 'lsf',\n",
              " 'socialbot',\n",
              " 'pseudocod',\n",
              " 'conan',\n",
              " 'batendo',\n",
              " 'cuceonhaejusil',\n",
              " 'speechwrit',\n",
              " 'yute',\n",
              " 'spite',\n",
              " 'mesoamerican',\n",
              " 'gnkbebh',\n",
              " 'omgomg',\n",
              " 'ahornsirup',\n",
              " 'elisha',\n",
              " 'sickl',\n",
              " 'trillionair',\n",
              " 'ool',\n",
              " 'abossa',\n",
              " 'julien',\n",
              " 'lltlnvwkvim',\n",
              " 'aussah',\n",
              " 'stabilizalni',\n",
              " 'nmozgf',\n",
              " 'couscou',\n",
              " 'omeprazol',\n",
              " 'chesnaught',\n",
              " 'digicup',\n",
              " 'provato',\n",
              " 'gulerod',\n",
              " 'boot',\n",
              " 'xinqiu',\n",
              " 'radianc',\n",
              " 'athelic',\n",
              " 'toner',\n",
              " 'sandard',\n",
              " 'kazaku',\n",
              " 'publichnoi',\n",
              " 'outspent',\n",
              " 'filmpj',\n",
              " 'bireyidir',\n",
              " 'stickiest',\n",
              " 'slat',\n",
              " 'lnbfgyqgknlpebl',\n",
              " 'wejsc',\n",
              " 'delious',\n",
              " 'multidimensionn',\n",
              " 'cree',\n",
              " 'agregar',\n",
              " 'vapaa',\n",
              " 'paprikan',\n",
              " 'orthogenesi',\n",
              " 'herbicid',\n",
              " 'currygewurz',\n",
              " 'aka',\n",
              " 'woooahh',\n",
              " 'verilmesini',\n",
              " 'origem',\n",
              " 'schwabmoneywis',\n",
              " 'cagey',\n",
              " 'upi',\n",
              " 'kujay',\n",
              " 'fuegoleon',\n",
              " 'kubuntu',\n",
              " 'halfpip',\n",
              " 'ffb',\n",
              " 'matharu',\n",
              " 'desjardin',\n",
              " 'dded',\n",
              " 'unpow',\n",
              " 'mesma',\n",
              " 'plgsozahg',\n",
              " 'nfor',\n",
              " 'tuplip',\n",
              " 'babayad',\n",
              " 'neca',\n",
              " 'sav',\n",
              " 'ihtim',\n",
              " 'ioann',\n",
              " 'strikethrough',\n",
              " 'overperform',\n",
              " 'eschart',\n",
              " 'daystrominstitut',\n",
              " 'numan',\n",
              " 'rumknubbelt',\n",
              " 'fixa',\n",
              " 'behoorlijk',\n",
              " 'viziunea',\n",
              " 'scalabl',\n",
              " 'risl',\n",
              " 'keqe',\n",
              " 'supervillan',\n",
              " 'tuvieran',\n",
              " 'disquss',\n",
              " 'shizo',\n",
              " 'blp',\n",
              " 'aglrang',\n",
              " 'luge',\n",
              " 'suffolk',\n",
              " 'mncourt',\n",
              " 'rational',\n",
              " 'wikinin',\n",
              " 'cou',\n",
              " 'gaspil',\n",
              " 'dracula',\n",
              " 'fanatismo',\n",
              " 'kvn',\n",
              " 'videogiochi',\n",
              " 'ducato',\n",
              " 'annakarl',\n",
              " 'shipbound',\n",
              " 'teamlou',\n",
              " 'reconstitut',\n",
              " 'interesez',\n",
              " 'consulship',\n",
              " 'accuraci',\n",
              " 'vdpcceml',\n",
              " 'polerio',\n",
              " 'int',\n",
              " 'mainnet',\n",
              " 'kookaid',\n",
              " 'ego',\n",
              " 'anith',\n",
              " 'quinametzin',\n",
              " 'escaneado',\n",
              " 'edil',\n",
              " 'game',\n",
              " 'jwq',\n",
              " 'samtal',\n",
              " 'advis',\n",
              " 'mejai',\n",
              " 'fairladi',\n",
              " 'pointlookout',\n",
              " 'megadeth',\n",
              " 'kroakiest',\n",
              " 'diaorder',\n",
              " 'postimg',\n",
              " 'exaggar',\n",
              " 'maggard',\n",
              " 'yapitaslarindan',\n",
              " 'singedmain',\n",
              " 'burglar',\n",
              " 'erfahrungswert',\n",
              " 'smithereen',\n",
              " 'sentendo',\n",
              " 'multius',\n",
              " 'pokracznym',\n",
              " 'hdstussi',\n",
              " 'tko',\n",
              " 'unicron',\n",
              " 'sheff',\n",
              " 'alc',\n",
              " 'guiliani',\n",
              " 'tyco',\n",
              " 'kzwp',\n",
              " 'reum',\n",
              " 'sadlaugh',\n",
              " 'creditkarma',\n",
              " 'tipican',\n",
              " 'saaaam',\n",
              " 'efcfeff',\n",
              " 'warnock',\n",
              " 'bagley',\n",
              " 'navjot',\n",
              " 'lfr',\n",
              " 'dnag',\n",
              " 'gaybrosgonewild',\n",
              " 'arboresc',\n",
              " 'irrecogniz',\n",
              " 'rakaia',\n",
              " 'gehobenen',\n",
              " 'kendimc',\n",
              " 'gourami',\n",
              " 'observi',\n",
              " 'pik',\n",
              " 'nazarov',\n",
              " 'josean',\n",
              " 'ynt',\n",
              " 'unabl',\n",
              " 'murkkka',\n",
              " 'schloss',\n",
              " 'frametim',\n",
              " 'twelfth',\n",
              " 'ikebana',\n",
              " 'attac',\n",
              " 'wikiwand',\n",
              " 'mindaet',\n",
              " 'mikrotero',\n",
              " 'anglophon',\n",
              " 'qxweqrweyaggamggilhdharcvatiicc',\n",
              " 'globalizatsiiata',\n",
              " 'dumbfuck',\n",
              " 'geithner',\n",
              " 'parentsofmultipl',\n",
              " 'conman',\n",
              " 'dcarier',\n",
              " 'poter',\n",
              " 'custodianship',\n",
              " 'spaz',\n",
              " 'ganestop',\n",
              " 'kathleen',\n",
              " 'contacto',\n",
              " 'guag',\n",
              " 'whdnbk',\n",
              " 'misrabl',\n",
              " 'ludington',\n",
              " 'presetview',\n",
              " 'mytholog',\n",
              " 'oqj',\n",
              " 'wayt',\n",
              " 'ffiec',\n",
              " 'kamehameha',\n",
              " 'flecht',\n",
              " 'depilatorio',\n",
              " 'bgr',\n",
              " 'photoconsci',\n",
              " 'mahngebuhr',\n",
              " 'indicando',\n",
              " 'neuznavaemosti',\n",
              " 'letzt',\n",
              " 'santoku',\n",
              " 'cajol',\n",
              " 'ifraga',\n",
              " 'maywood',\n",
              " 'chieder',\n",
              " 'chandler',\n",
              " 'cstem',\n",
              " 'ajbdrcd',\n",
              " 'chesterton',\n",
              " 'annivia',\n",
              " 'liiiiiiiiiiiigggggggggggghhhhhhhhhhhtttttttt',\n",
              " 'ealli',\n",
              " 'horizont',\n",
              " 'treehous',\n",
              " 'gossip',\n",
              " 'cerev',\n",
              " 'waaaayyy',\n",
              " 'winnin',\n",
              " 'doomstack',\n",
              " 'varbut',\n",
              " 'masterspool',\n",
              " 'sono',\n",
              " 'whitneymuseum',\n",
              " 'pass',\n",
              " 'easiliy',\n",
              " 'greatclip',\n",
              " 'abandonne',\n",
              " 'aircrew',\n",
              " 'sonr',\n",
              " 'estan',\n",
              " 'supin',\n",
              " 'fraw',\n",
              " 'dremmel',\n",
              " 'dado',\n",
              " 'fujin',\n",
              " 'aib',\n",
              " 'alphadeian',\n",
              " 'dsrz',\n",
              " 'kloak',\n",
              " 'fluxuat',\n",
              " 'tradecross',\n",
              " 'kriteri',\n",
              " 'soem',\n",
              " 'asemih',\n",
              " 'korkutmaz',\n",
              " 'glennllopi',\n",
              " 'fahdlan',\n",
              " 'hubstaff',\n",
              " 'biger',\n",
              " 'verzweifelt',\n",
              " 'murmer',\n",
              " 'theclosercoupl',\n",
              " 'kendel',\n",
              " 'scantron',\n",
              " 'archicad',\n",
              " 'unattent',\n",
              " 'protesto',\n",
              " 'helft',\n",
              " 'singlehood',\n",
              " 'kingsolv',\n",
              " 'fram',\n",
              " 'supraland',\n",
              " 'costumo',\n",
              " 'rajnarayanan',\n",
              " 'nikako',\n",
              " 'blackwel',\n",
              " 'shatteringli',\n",
              " 'electroculu',\n",
              " 'pipet',\n",
              " 'venceu',\n",
              " 'laosaj',\n",
              " 'tsumaduit',\n",
              " 'zvlswpj',\n",
              " 'academyofidea',\n",
              " 'abfriend',\n",
              " 'ironmen',\n",
              " 'twork',\n",
              " 'motherhood',\n",
              " 'logan',\n",
              " 'sittin',\n",
              " 'grandpop',\n",
              " 'atelectasi',\n",
              " 'dogtrain',\n",
              " 'preisunterschied',\n",
              " 'mogollon',\n",
              " 'reealli',\n",
              " 'ulik',\n",
              " 'rfid',\n",
              " 'kanicki',\n",
              " 'drugo',\n",
              " 'dishon',\n",
              " 'muncesc',\n",
              " 'foolhardi',\n",
              " 'maryssa',\n",
              " 'diacyt',\n",
              " 'underload',\n",
              " 'saindo',\n",
              " 'dolgrim',\n",
              " 'annukiss',\n",
              " 'fixierung',\n",
              " 'zanarkand',\n",
              " 'opinon',\n",
              " 'contenttypeid',\n",
              " 'unimagin',\n",
              " 'yuki',\n",
              " 'ibdw',\n",
              " 'relstiv',\n",
              " 'parakoloutho',\n",
              " 'enlac',\n",
              " 'cissi',\n",
              " 'anstalla',\n",
              " 'cgjorjpwu',\n",
              " 'maaayyy',\n",
              " 'gelegen',\n",
              " 'runrun',\n",
              " 'deh',\n",
              " 'ccw',\n",
              " 'realta',\n",
              " 'rwb',\n",
              " 'waif',\n",
              " 'por',\n",
              " 'arret',\n",
              " 'chasedown',\n",
              " 'auttanut',\n",
              " 'yandl',\n",
              " 'mangabey',\n",
              " 'reelgood',\n",
              " 'ferra',\n",
              " 'yiff',\n",
              " 'eurotruck',\n",
              " 'aussprechen',\n",
              " 'silkroad',\n",
              " 'reacknowledg',\n",
              " 'skal',\n",
              " 'azura',\n",
              " 'tgt',\n",
              " 'obrigado',\n",
              " 'winchest',\n",
              " 'nemu',\n",
              " 'baga',\n",
              " 'levetiracetam',\n",
              " 'dickpig',\n",
              " 'riter',\n",
              " 'adrafinil',\n",
              " 'india',\n",
              " 'capra',\n",
              " 'myrrh',\n",
              " 'halfback',\n",
              " 'kde',\n",
              " 'isr',\n",
              " 'voie',\n",
              " 'truelesbian',\n",
              " 'letsomeon',\n",
              " 'briefkurs',\n",
              " 'utasinoraptor',\n",
              " 'sidenot',\n",
              " 'batti',\n",
              " 'abordar',\n",
              " 'midir',\n",
              " 'langaug',\n",
              " 'nbcnewyork',\n",
              " 'noghtcor',\n",
              " 'radiolabel',\n",
              " 'grindal',\n",
              " 'kwong',\n",
              " 'de',\n",
              " 'thejujyfruit',\n",
              " 'concert',\n",
              " 'aufschneiden',\n",
              " 'christoph',\n",
              " 'mailboxfolderpermiss',\n",
              " 'cumber',\n",
              " 'depui',\n",
              " 'ayrilip',\n",
              " 'origin',\n",
              " 'lantu',\n",
              " 'srylain',\n",
              " 'raphidophora',\n",
              " 'immor',\n",
              " 'lfrocz',\n",
              " 'xinyao',\n",
              " 'ja',\n",
              " 'oot',\n",
              " 'zimbabu',\n",
              " 'tayrona',\n",
              " 'recpit',\n",
              " 'altough',\n",
              " 'feminen',\n",
              " 'spongebob',\n",
              " 'eplain',\n",
              " 'zie',\n",
              " 'yeezu',\n",
              " 'precoedur',\n",
              " 'at',\n",
              " 'hyakkimaru',\n",
              " 'enigzin',\n",
              " 'ssat',\n",
              " 'ybata',\n",
              " 'xerx',\n",
              " 'tyre',\n",
              " 'englishlearn',\n",
              " 'ykjmao',\n",
              " 'systemitac',\n",
              " 'blight',\n",
              " 'divcom',\n",
              " 'stillstand',\n",
              " 'kurang',\n",
              " 'regelbundet',\n",
              " 'gnocchi',\n",
              " 'theclemsoninsid',\n",
              " 'downld',\n",
              " 'blackforest',\n",
              " 'sqq',\n",
              " 'metanarr',\n",
              " 'appassionato',\n",
              " 'indispos',\n",
              " 'dix',\n",
              " 'sorprendent',\n",
              " 'tooshi',\n",
              " 'ohvza',\n",
              " 'croyai',\n",
              " 'considerar',\n",
              " 'alkoholist',\n",
              " 'threonat',\n",
              " 'jjba',\n",
              " 'vermutungen',\n",
              " 'ulrican',\n",
              " 'dayton',\n",
              " 'heisei',\n",
              " 'adriat',\n",
              " 'inventii',\n",
              " 'intalnir',\n",
              " 'unbrand',\n",
              " 'funaki',\n",
              " ...}"
            ]
          },
          "metadata": {
            "tags": []
          },
          "execution_count": 98
        }
      ]
    },
    {
      "cell_type": "code",
      "metadata": {
        "id": "M0SMs9ytwAWT"
      },
      "source": [
        "#I create a dictionary mapping each word to a number representing it \n",
        "#enumerate returns 2 variables, the count and the value of the item at that iteration \n",
        "token_map = {word: i+1 for i, word in enumerate(vocab)} #offset by 1 to allow for padding value\n",
        "token_map['<#PAD>'] = 0\n"
      ],
      "execution_count": 37,
      "outputs": []
    },
    {
      "cell_type": "code",
      "metadata": {
        "colab": {
          "base_uri": "https://localhost:8080/"
        },
        "id": "Yxu5Pi_5Otus",
        "outputId": "b95945c8-4bad-400a-aa0b-48553ecc4523"
      },
      "source": [
        "X_train.index"
      ],
      "execution_count": null,
      "outputs": [
        {
          "output_type": "execute_result",
          "data": {
            "text/plain": [
              "Int64Index([ 25120, 309073, 276198, 298182, 198410,  54974, 149933, 196096,\n",
              "            206642,  36885,\n",
              "            ...\n",
              "             87498, 137337,  54886, 207892, 110268, 119879, 259178, 131932,\n",
              "            146867, 121958],\n",
              "           dtype='int64', length=255774)"
            ]
          },
          "metadata": {
            "tags": []
          },
          "execution_count": 68
        }
      ]
    },
    {
      "cell_type": "code",
      "metadata": {
        "id": "PIXz8PW9FTBK"
      },
      "source": [
        "#create our sentences\n",
        "X_train_indices = [[check_encoding(word, token_map) for word in sent] for sent in X_train ]\n",
        "\n",
        "#use the encoding on the test data\n",
        "X_test_indices = [[check_encoding(word, token_map) for word in sent] for sent in X_test]\n"
      ],
      "execution_count": 38,
      "outputs": []
    },
    {
      "cell_type": "code",
      "metadata": {
        "id": "qALdnd1iQ6XT"
      },
      "source": [
        "indices_dict = {X_train.index[i]: X_train_indices[i] for i in range(len(X_train_indices))}"
      ],
      "execution_count": 39,
      "outputs": []
    },
    {
      "cell_type": "code",
      "metadata": {
        "id": "7Ol87g6hRYYZ"
      },
      "source": [
        "indices_dict2 = {X_test.index[i]: X_test_indices[i] for i in range(len(X_test_indices))}"
      ],
      "execution_count": 40,
      "outputs": []
    },
    {
      "cell_type": "code",
      "metadata": {
        "id": "G8whzLUDSQUv"
      },
      "source": [
        "indices_dict.update(indices_dict2)"
      ],
      "execution_count": 41,
      "outputs": []
    },
    {
      "cell_type": "code",
      "metadata": {
        "colab": {
          "base_uri": "https://localhost:8080/"
        },
        "id": "0End5cqDTPMj",
        "outputId": "b97e1f4e-9cfa-4559-cf0d-d06671a9e2a7"
      },
      "source": [
        "len(vocab)"
      ],
      "execution_count": null,
      "outputs": [
        {
          "output_type": "execute_result",
          "data": {
            "text/plain": [
              "50000"
            ]
          },
          "metadata": {
            "tags": []
          },
          "execution_count": 54
        }
      ]
    },
    {
      "cell_type": "code",
      "metadata": {
        "id": "7kxHZNTEFN3Z"
      },
      "source": [
        "partition = {}\n",
        "partition['train'] = X_train.index\n",
        "partition['test'] = X_test.index"
      ],
      "execution_count": 42,
      "outputs": []
    },
    {
      "cell_type": "code",
      "metadata": {
        "id": "fh9Hxd6xMYsj"
      },
      "source": [
        "partition['train']"
      ],
      "execution_count": null,
      "outputs": []
    },
    {
      "cell_type": "code",
      "metadata": {
        "colab": {
          "base_uri": "https://localhost:8080/"
        },
        "id": "mqBRFQyBHWIj",
        "outputId": "a930671b-6194-42ce-bbb4-75e410cd8734"
      },
      "source": [
        "partition"
      ],
      "execution_count": null,
      "outputs": [
        {
          "output_type": "execute_result",
          "data": {
            "text/plain": [
              "{'test': Int64Index([ 47532, 297488,  14237, 218198,  17392, 158642, 272790, 271931,\n",
              "             194075,  80521,\n",
              "             ...\n",
              "              81457, 227823, 249990, 112777, 164075, 242027, 229365, 165526,\n",
              "             198524,  16755],\n",
              "            dtype='int64', length=63944),\n",
              " 'train': Int64Index([ 25120, 309073, 276198, 298182, 198410,  54974, 149933, 196096,\n",
              "             206642,  36885,\n",
              "             ...\n",
              "              87498, 137337,  54886, 207892, 110268, 119879, 259178, 131932,\n",
              "             146867, 121958],\n",
              "            dtype='int64', length=255774)}"
            ]
          },
          "metadata": {
            "tags": []
          },
          "execution_count": 58
        }
      ]
    },
    {
      "cell_type": "code",
      "metadata": {
        "id": "YUrkUGKC6k1h"
      },
      "source": [
        "labels = {all_comdata_df.index.values[i]: all_comdata_df['class'][i] for i in range(len(all_comdata_df))}\n"
      ],
      "execution_count": 43,
      "outputs": []
    },
    {
      "cell_type": "code",
      "metadata": {
        "id": "ufDu0Gy6EuKc"
      },
      "source": [
        "class DataGenerator(tf.keras.utils.Sequence):\n",
        "  def __init__(self, list_IDs, indices, labels, batch_size=32, n_classes=7, shuffle=True):\n",
        "    self.batch_size = batch_size\n",
        "    self.labels = labels #{ (ID, class)}\n",
        "    self.list_IDs = list_IDs #Int6rIndex, index of data that we're looking at\n",
        "    self.indices = indices\n",
        "    self.n_classes = n_classes\n",
        "    self.shuffle = shuffle\n",
        "    self.indexes = np.arange(len(self.list_IDs))\n",
        "    #self.on_epoch_end()\n",
        "  \n",
        "\n",
        "  \n",
        "  def __data_generation(self, list_IDs_temp):\n",
        "    #generates data containing batch_size samples\n",
        "    #X = np.empty((self.batch_size))\n",
        "    #y = np.empty((self.batch_size), dtype=int)\n",
        "    X = []\n",
        "    y = []\n",
        "\n",
        "    #generate data\n",
        "    for i, ID in enumerate(list_IDs_temp):\n",
        "      #store sample\n",
        "      X.append(self.indices.get(ID))\n",
        "      #store class\n",
        "      y.append(self.labels.get(ID))\n",
        "\n",
        "    #pad data\n",
        "    X_train_indices = tf.keras.preprocessing.sequence.pad_sequences(X, padding='post').tolist()\n",
        "    X_train_indices = np.array(X_train_indices)\n",
        "\n",
        "    return X_train_indices, np.array(y)\n",
        "\n",
        "  def __len__(self):\n",
        "    #denotes the number of batches per epoch\n",
        "    return int(np.floor(len(self.list_IDs)/ self.batch_size))\n",
        "\n",
        "  def __getitem__(self, index):\n",
        "    #generates one batch of data\n",
        "    #generates indexes of the batch\n",
        "\n",
        "    indexes = self.indexes[index*self.batch_size:(index+1)*self.batch_size]\n",
        "\n",
        "    #Find list of IDs\n",
        "    list_IDs_temp = [self.list_IDs[k] for k in indexes]\n",
        "\n",
        "    #generate Data\n",
        "    X, y = self.__data_generation(list_IDs_temp)\n",
        "\n",
        "    return X, y\n",
        "\n"
      ],
      "execution_count": 45,
      "outputs": []
    },
    {
      "cell_type": "code",
      "metadata": {
        "colab": {
          "base_uri": "https://localhost:8080/"
        },
        "id": "XaxlOpKMvAUz",
        "outputId": "64131ce1-5ac8-4c99-9349-7fcec340dfc2"
      },
      "source": [
        "#building a LSTM model. Creating an embeddg layer with indices to vectors\n",
        "\n",
        "dim = 128\n",
        "hid_dim = 8\n",
        "\n",
        "model_lstm = tf.keras.models.Sequential([\n",
        "                                    tf.keras.layers.Embedding(len(vocab)+1, dim, embeddings_initializer='orthogonal', mask_zero=True), #+1 because of padding index\n",
        "                                    tf.keras.layers.LSTM(hid_dim, return_sequences=False), \n",
        "                                    tf.keras.layers.Dense(7, activation=tf.nn.leaky_relu), \n",
        "                                    tf.keras.layers.Softmax()\n",
        "])\n",
        "model_lstm.summary()"
      ],
      "execution_count": null,
      "outputs": [
        {
          "output_type": "stream",
          "text": [
            "Model: \"sequential_1\"\n",
            "_________________________________________________________________\n",
            "Layer (type)                 Output Shape              Param #   \n",
            "=================================================================\n",
            "embedding_1 (Embedding)      (None, None, 128)         6400128   \n",
            "_________________________________________________________________\n",
            "lstm_1 (LSTM)                (None, 8)                 4384      \n",
            "_________________________________________________________________\n",
            "dense_1 (Dense)              (None, 7)                 63        \n",
            "_________________________________________________________________\n",
            "softmax_1 (Softmax)          (None, 7)                 0         \n",
            "=================================================================\n",
            "Total params: 6,404,575\n",
            "Trainable params: 6,404,575\n",
            "Non-trainable params: 0\n",
            "_________________________________________________________________\n"
          ],
          "name": "stdout"
        }
      ]
    },
    {
      "cell_type": "code",
      "metadata": {
        "id": "9YG4fYqt5E77"
      },
      "source": [
        "model_lstm.compile(optimizer='adam', loss=tf.keras.losses.SparseCategoricalCrossentropy(),\n",
        "              metrics=[keras.metrics.SparseCategoricalAccuracy()]) \n",
        "callback = tf.keras.callbacks.EarlyStopping(monitor='loss', patience=2)"
      ],
      "execution_count": null,
      "outputs": []
    },
    {
      "cell_type": "code",
      "metadata": {
        "colab": {
          "base_uri": "https://localhost:8080/"
        },
        "id": "JH2FNHq9abvo",
        "outputId": "f13eb872-bffe-4109-ec1e-b96427628070"
      },
      "source": [
        "params = {'batch_size': 64,\n",
        "          'n_classes': 7,\n",
        "          'shuffle': False}\n",
        "#Generators \n",
        "training_generator = DataGenerator(partition['train'], indices=indices_dict, labels=labels, **params)\n",
        "#testing_generator = DataGenerator(parition['test'], indices=indices_dict, labels=labels, **params)\n",
        "\n",
        "history = model_lstm.fit(x=training_generator,\n",
        "                         workers=4,\n",
        "                         epochs=5, callbacks=callback)"
      ],
      "execution_count": null,
      "outputs": [
        {
          "output_type": "stream",
          "text": [
            "Epoch 1/5\n",
            "3996/3996 [==============================] - 861s 215ms/step - loss: 0.2628 - sparse_categorical_accuracy: 0.9572\n",
            "Epoch 2/5\n",
            "3996/3996 [==============================] - 862s 216ms/step - loss: 0.2289 - sparse_categorical_accuracy: 0.9591\n",
            "Epoch 3/5\n",
            "3996/3996 [==============================] - 858s 215ms/step - loss: 0.2113 - sparse_categorical_accuracy: 0.9594\n",
            "Epoch 4/5\n",
            "3996/3996 [==============================] - 856s 214ms/step - loss: 0.1934 - sparse_categorical_accuracy: 0.9595\n",
            "Epoch 5/5\n",
            "3996/3996 [==============================] - 859s 215ms/step - loss: 0.1747 - sparse_categorical_accuracy: 0.9599\n"
          ],
          "name": "stdout"
        }
      ]
    },
    {
      "cell_type": "code",
      "metadata": {
        "colab": {
          "base_uri": "https://localhost:8080/"
        },
        "id": "5PB-jKr4Ugla",
        "outputId": "18ecd634-ec81-4f09-aeae-8e3eb56e0815"
      },
      "source": [
        "params = {'batch_size': 64,\n",
        "          'n_classes': 7,\n",
        "          'shuffle': False}\n",
        "testing_generator = DataGenerator(partition['test'], indices=indices_dict, labels=labels, **params)\n",
        "\n",
        "score = model_lstm.evaluate(testing_generator, verbose = 1)\n",
        "score_train = model_lstm.evaluate(training_generator, verbose = 1)\n",
        "target_names = ['class 0', 'class 1', 'class 2', 'class 3', 'class 4', 'class 5', 'class 6']\n",
        "\n",
        "print(\"Evaluate on test data\")\n",
        "print(f'Test loss: {score[0]} / Test accuracy: {score[1]}')\n",
        "\n",
        "print(\"Evaluate on train data\")\n",
        "print(f'Train loss: {score_train[0]} / Train accuracy: {score_train[1]}')\n"
      ],
      "execution_count": null,
      "outputs": [
        {
          "output_type": "stream",
          "text": [
            "999/999 [==============================] - 36s 36ms/step - loss: 0.2446 - sparse_categorical_accuracy: 0.9607\n",
            "3996/3996 [==============================] - 147s 37ms/step - loss: 0.1496 - sparse_categorical_accuracy: 0.9609\n",
            "Evaluate on test data\n",
            "Evaluate on train data\n"
          ],
          "name": "stdout"
        }
      ]
    },
    {
      "cell_type": "code",
      "metadata": {
        "colab": {
          "base_uri": "https://localhost:8080/"
        },
        "id": "swZI8VopWIBY",
        "outputId": "66e1c534-85c0-4bc3-b586-577defb25582"
      },
      "source": [
        "from sklearn.metrics import classification_report\n",
        "X_test_indices_padded = tf.keras.preprocessing.sequence.pad_sequences(X_test_indices, padding = 'post').tolist()\n",
        "y_pred1 = model_lstm.predict(X_test_indices_padded)\n",
        "y_pred = np.argmax(y_pred1, axis=1).astype(int)\n",
        "\n",
        "print(classification_report(y_test, y_pred))"
      ],
      "execution_count": null,
      "outputs": [
        {
          "output_type": "stream",
          "text": [
            "              precision    recall  f1-score   support\n",
            "\n",
            "     class 1       0.96      1.00      0.98     61410\n",
            "     class 2       0.32      0.03      0.05       652\n",
            "     class 3       0.00      0.00      0.00       432\n",
            "     class 4       0.00      0.00      0.00       319\n",
            "     class 5       0.00      0.00      0.00       303\n",
            "     class 6       0.00      0.00      0.00       146\n",
            "     class 0       0.17      0.01      0.02       682\n",
            "\n",
            "    accuracy                           0.96     63944\n",
            "   macro avg       0.21      0.15      0.15     63944\n",
            "weighted avg       0.93      0.96      0.94     63944\n",
            "\n"
          ],
          "name": "stdout"
        },
        {
          "output_type": "stream",
          "text": [
            "/usr/local/lib/python3.7/dist-packages/sklearn/metrics/_classification.py:1272: UndefinedMetricWarning: Precision and F-score are ill-defined and being set to 0.0 in labels with no predicted samples. Use `zero_division` parameter to control this behavior.\n",
            "  _warn_prf(average, modifier, msg_start, len(result))\n"
          ],
          "name": "stderr"
        }
      ]
    },
    {
      "cell_type": "markdown",
      "metadata": {
        "id": "Ejh9q_dI7o-l"
      },
      "source": [
        "## LSTM Model Try 2\n",
        "\n",
        "I once again try to build a LSTM model. This time, I increase the size of the hidden dimensions. I also increase the weights of the \"experimental\" classes, to try to force the model to pay attention to them. This model still does not do well, ignoring several classes completely.  \n"
      ]
    },
    {
      "cell_type": "code",
      "metadata": {
        "id": "j3ZZF3HP7ohV",
        "colab": {
          "base_uri": "https://localhost:8080/",
          "height": 0
        },
        "outputId": "32f9b5d8-dce4-4073-f76a-27db3f95b31f"
      },
      "source": [
        "#building a LSTM model. Creating an embeddg layer with indices to vectors\n",
        "\n",
        "dim = 256\n",
        "hidden_dim1 = 128\n",
        "hidden_dim2 = 64\n",
        "\n",
        "model_lstm2 = tf.keras.models.Sequential([\n",
        "                                    tf.keras.layers.Embedding(len(vocab)+1, dim, embeddings_initializer='orthogonal', mask_zero=True), #+1 because of padding index\n",
        "                                    tf.keras.layers.LSTM(hidden_dim1, return_sequences=True), \n",
        "                                    tf.keras.layers.LSTM(hidden_dim2, return_sequences=False),\n",
        "                                    tf.keras.layers.Dense(7, activation=tf.nn.leaky_relu), \n",
        "                                    tf.keras.layers.Dense(7),\n",
        "                                    tf.keras.layers.Softmax()\n",
        "])\n",
        "\n",
        "\n",
        "model_lstm2.summary()"
      ],
      "execution_count": 46,
      "outputs": [
        {
          "output_type": "stream",
          "text": [
            "Model: \"sequential\"\n",
            "_________________________________________________________________\n",
            "Layer (type)                 Output Shape              Param #   \n",
            "=================================================================\n",
            "embedding (Embedding)        (None, None, 256)         12800256  \n",
            "_________________________________________________________________\n",
            "lstm (LSTM)                  (None, None, 128)         197120    \n",
            "_________________________________________________________________\n",
            "lstm_1 (LSTM)                (None, 64)                49408     \n",
            "_________________________________________________________________\n",
            "dense (Dense)                (None, 7)                 455       \n",
            "_________________________________________________________________\n",
            "dense_1 (Dense)              (None, 7)                 56        \n",
            "_________________________________________________________________\n",
            "softmax (Softmax)            (None, 7)                 0         \n",
            "=================================================================\n",
            "Total params: 13,047,295\n",
            "Trainable params: 13,047,295\n",
            "Non-trainable params: 0\n",
            "_________________________________________________________________\n"
          ],
          "name": "stdout"
        }
      ]
    },
    {
      "cell_type": "code",
      "metadata": {
        "id": "NxO1l3FB91NZ"
      },
      "source": [
        "model_lstm2.compile(optimizer='adam', loss=tf.keras.losses.SparseCategoricalCrossentropy(),\n",
        "              metrics=[keras.metrics.SparseCategoricalAccuracy()]) \n",
        "callback = tf.keras.callbacks.EarlyStopping(monitor='loss', patience=2)\n",
        "\n",
        "##macro f1 score is what I want, so all classes threated equally "
      ],
      "execution_count": 47,
      "outputs": []
    },
    {
      "cell_type": "code",
      "metadata": {
        "id": "oQpz_aXkEXIL",
        "colab": {
          "base_uri": "https://localhost:8080/",
          "height": 0
        },
        "outputId": "421bc4db-eec2-4814-ab0a-fd48ad857daf"
      },
      "source": [
        "from sklearn.utils import class_weight\n",
        "#class_weight = class_weight.compute_class_weight(None, np.unique(y_train), y_train)\n",
        "class_weight = {0: 1, 1:50., 2:50., 3:50., 4:50., 5:50., 6:50.}\n",
        "params = {'batch_size': 64,\n",
        "          'n_classes': 7,\n",
        "          'shuffle': False}\n",
        "#Generators \n",
        "training_generator = DataGenerator(partition['train'], indices=indices_dict, labels=labels, **params)\n",
        "#testing_generator = DataGenerator(parition['test'], indices=indices_dict, labels=labels, **params)\n",
        "\n",
        "history2 = model_lstm2.fit(x=training_generator, class_weight=class_weight,\n",
        "                         workers=4,\n",
        "                         epochs=3, callbacks=callback)"
      ],
      "execution_count": 48,
      "outputs": [
        {
          "output_type": "stream",
          "text": [
            "WARNING:tensorflow:From /usr/local/lib/python3.7/dist-packages/tensorflow/python/ops/array_ops.py:5049: calling gather (from tensorflow.python.ops.array_ops) with validate_indices is deprecated and will be removed in a future version.\n",
            "Instructions for updating:\n",
            "The `validate_indices` argument has no effect. Indices are always validated on CPU and never validated on GPU.\n",
            "Epoch 1/3\n",
            "3996/3996 [==============================] - 4628s 1s/step - loss: 5.2370 - sparse_categorical_accuracy: 0.9359\n",
            "Epoch 2/3\n",
            "3996/3996 [==============================] - 4436s 1s/step - loss: 5.0310 - sparse_categorical_accuracy: 0.8730\n",
            "Epoch 3/3\n",
            "3996/3996 [==============================] - 4459s 1s/step - loss: 4.7995 - sparse_categorical_accuracy: 0.8424\n"
          ],
          "name": "stdout"
        }
      ]
    },
    {
      "cell_type": "code",
      "metadata": {
        "id": "HhV4kWLvdI3Z",
        "colab": {
          "base_uri": "https://localhost:8080/",
          "height": 0
        },
        "outputId": "9226baf1-0d94-4777-8d6a-31a4e341b42f"
      },
      "source": [
        "params = {'batch_size': 64,\n",
        "          'n_classes': 7,\n",
        "          'shuffle': False}\n",
        "testing_generator = DataGenerator(partition['test'], indices=indices_dict, labels=labels, **params)\n",
        "\n",
        "score = model_lstm2.evaluate(testing_generator, verbose = 1)\n",
        "score_train = model_lstm2.evaluate(training_generator, verbose = 1)\n",
        "target_names = ['class 0', 'class 1', 'class 2', 'class 3', 'class 4', 'class 5', 'class 6']\n",
        "\n",
        "print(\"Evaluate on test data\")\n",
        "print(f'Test loss: {score[0]} / Test accuracy: {score[1]}')\n",
        "\n",
        "print(\"Evaluate on train data\")\n",
        "print(f'Train loss: {score_train[0]} / Train accuracy: {score_train[1]}')\n"
      ],
      "execution_count": 49,
      "outputs": [
        {
          "output_type": "stream",
          "text": [
            "999/999 [==============================] - 258s 256ms/step - loss: 1.1336 - sparse_categorical_accuracy: 0.8213\n",
            "3996/3996 [==============================] - 1053s 263ms/step - loss: 1.0898 - sparse_categorical_accuracy: 0.7941\n",
            "Evaluate on test data\n",
            "Test loss: 1.133597731590271 / Test accuracy: 0.8212946653366089\n",
            "Evaluate on train data\n",
            "Train loss: 1.0897870063781738 / Train accuracy: 0.794141948223114\n"
          ],
          "name": "stdout"
        }
      ]
    },
    {
      "cell_type": "code",
      "metadata": {
        "id": "b9W0tQtedaGj"
      },
      "source": [
        "from sklearn.metrics import classification_report\n",
        "X_test_indices_padded = tf.keras.preprocessing.sequence.pad_sequences(X_test_indices, padding = 'post').tolist()\n",
        "y_pred1 = model_lstm2.predict(training_generator)\n",
        "#y_pred = np.argmax(y_pred1, axis=1).astype(int)\n",
        "\n",
        "print(classification_report(y_test, y_pred1, target_names=target_names))"
      ],
      "execution_count": null,
      "outputs": []
    },
    {
      "cell_type": "code",
      "metadata": {
        "colab": {
          "base_uri": "https://localhost:8080/",
          "height": 0
        },
        "id": "2LSon-ERYp6a",
        "outputId": "d40ba4b1-4b54-4ebb-b512-85d5d55d2a1d"
      },
      "source": [
        "from sklearn.metrics import classification_report\n",
        "X_test_indices_padded = tf.keras.preprocessing.sequence.pad_sequences(X_test_indices, padding = 'post').tolist()\n",
        "y_pred1 = model_lstm2.predict(X_test_indices_padded)\n",
        "y_pred = np.argmax(y_pred1, axis=1).astype(int)\n",
        "\n",
        "print(classification_report(y_test, y_pred, target_names=target_names))"
      ],
      "execution_count": 88,
      "outputs": [
        {
          "output_type": "stream",
          "text": [
            "              precision    recall  f1-score   support\n",
            "\n",
            "     class 0       0.97      0.65      0.78     61410\n",
            "     class 1       0.03      0.15      0.05       652\n",
            "     class 2       0.00      0.00      0.00       432\n",
            "     class 3       0.00      0.00      0.00       319\n",
            "     class 4       0.00      0.00      0.00       303\n",
            "     class 5       0.00      0.00      0.00       146\n",
            "     class 6       0.02      0.49      0.03       682\n",
            "\n",
            "    accuracy                           0.63     63944\n",
            "   macro avg       0.15      0.18      0.12     63944\n",
            "weighted avg       0.94      0.63      0.75     63944\n",
            "\n"
          ],
          "name": "stdout"
        },
        {
          "output_type": "stream",
          "text": [
            "/usr/local/lib/python3.7/dist-packages/sklearn/metrics/_classification.py:1272: UndefinedMetricWarning: Precision and F-score are ill-defined and being set to 0.0 in labels with no predicted samples. Use `zero_division` parameter to control this behavior.\n",
            "  _warn_prf(average, modifier, msg_start, len(result))\n"
          ],
          "name": "stderr"
        }
      ]
    },
    {
      "cell_type": "code",
      "metadata": {
        "colab": {
          "base_uri": "https://localhost:8080/",
          "height": 0
        },
        "id": "LQ9hZHkGZ1Cr",
        "outputId": "bbc0968e-a8c7-43b6-8927-64e1bd34ac0f"
      },
      "source": [
        "all_comdata_df['class2'] = [y if y == 0 else 1 for y in all_comdata_df['class']]\n",
        "all_comdata_df['class2'].value_counts()"
      ],
      "execution_count": 90,
      "outputs": [
        {
          "output_type": "execute_result",
          "data": {
            "text/plain": [
              "0    306826\n",
              "1     12892\n",
              "Name: class2, dtype: int64"
            ]
          },
          "metadata": {
            "tags": []
          },
          "execution_count": 90
        }
      ]
    },
    {
      "cell_type": "code",
      "metadata": {
        "id": "s4QvkgO_KdbC"
      },
      "source": [
        "model_lstm2.save('model_lstm2.h5')\n"
      ],
      "execution_count": 52,
      "outputs": []
    },
    {
      "cell_type": "markdown",
      "metadata": {
        "id": "h31oaTbDN1eb"
      },
      "source": [
        "## Strategy Change, and a More Successful Model\n",
        "\n",
        "I decide that comment data alone is not enough, so I use both the submission and comment data. I also use sbert to increase the accuracy of my word embeddings. In addition, I undersample from the \"control\" group. Finally, I break the process into 2 different classifications - first a binary classification of whether someone is struggling with their mental health or not, and then for those that are, a second model to classify which mental illness they may be struggling with.  \n",
        "\n",
        "### Model with all data from non-mental health subreddits\n"
      ]
    },
    {
      "cell_type": "code",
      "metadata": {
        "colab": {
          "base_uri": "https://localhost:8080/",
          "height": 0
        },
        "id": "5CrjAvwZO2vy",
        "outputId": "78eede08-c527-45c2-89cf-52ba71cf3eaf"
      },
      "source": [
        "pip install -U sentence-transformers\n"
      ],
      "execution_count": 34,
      "outputs": [
        {
          "output_type": "stream",
          "text": [
            "Requirement already up-to-date: sentence-transformers in /usr/local/lib/python3.7/dist-packages (1.2.0)\n",
            "Requirement already satisfied, skipping upgrade: sentencepiece in /usr/local/lib/python3.7/dist-packages (from sentence-transformers) (0.1.95)\n",
            "Requirement already satisfied, skipping upgrade: numpy in /usr/local/lib/python3.7/dist-packages (from sentence-transformers) (1.19.5)\n",
            "Requirement already satisfied, skipping upgrade: tqdm in /usr/local/lib/python3.7/dist-packages (from sentence-transformers) (4.41.1)\n",
            "Requirement already satisfied, skipping upgrade: torch>=1.6.0 in /usr/local/lib/python3.7/dist-packages (from sentence-transformers) (1.8.1+cu101)\n",
            "Requirement already satisfied, skipping upgrade: torchvision in /usr/local/lib/python3.7/dist-packages (from sentence-transformers) (0.9.1+cu101)\n",
            "Requirement already satisfied, skipping upgrade: nltk in /usr/local/lib/python3.7/dist-packages (from sentence-transformers) (3.2.5)\n",
            "Requirement already satisfied, skipping upgrade: scipy in /usr/local/lib/python3.7/dist-packages (from sentence-transformers) (1.4.1)\n",
            "Requirement already satisfied, skipping upgrade: scikit-learn in /usr/local/lib/python3.7/dist-packages (from sentence-transformers) (0.22.2.post1)\n",
            "Requirement already satisfied, skipping upgrade: transformers<5.0.0,>=3.1.0 in /usr/local/lib/python3.7/dist-packages (from sentence-transformers) (4.6.1)\n",
            "Requirement already satisfied, skipping upgrade: typing-extensions in /usr/local/lib/python3.7/dist-packages (from torch>=1.6.0->sentence-transformers) (3.7.4.3)\n",
            "Requirement already satisfied, skipping upgrade: pillow>=4.1.1 in /usr/local/lib/python3.7/dist-packages (from torchvision->sentence-transformers) (7.1.2)\n",
            "Requirement already satisfied, skipping upgrade: six in /usr/local/lib/python3.7/dist-packages (from nltk->sentence-transformers) (1.15.0)\n",
            "Requirement already satisfied, skipping upgrade: joblib>=0.11 in /usr/local/lib/python3.7/dist-packages (from scikit-learn->sentence-transformers) (1.0.1)\n",
            "Requirement already satisfied, skipping upgrade: tokenizers<0.11,>=0.10.1 in /usr/local/lib/python3.7/dist-packages (from transformers<5.0.0,>=3.1.0->sentence-transformers) (0.10.3)\n",
            "Requirement already satisfied, skipping upgrade: packaging in /usr/local/lib/python3.7/dist-packages (from transformers<5.0.0,>=3.1.0->sentence-transformers) (20.9)\n",
            "Requirement already satisfied, skipping upgrade: huggingface-hub==0.0.8 in /usr/local/lib/python3.7/dist-packages (from transformers<5.0.0,>=3.1.0->sentence-transformers) (0.0.8)\n",
            "Requirement already satisfied, skipping upgrade: filelock in /usr/local/lib/python3.7/dist-packages (from transformers<5.0.0,>=3.1.0->sentence-transformers) (3.0.12)\n",
            "Requirement already satisfied, skipping upgrade: regex!=2019.12.17 in /usr/local/lib/python3.7/dist-packages (from transformers<5.0.0,>=3.1.0->sentence-transformers) (2019.12.20)\n",
            "Requirement already satisfied, skipping upgrade: requests in /usr/local/lib/python3.7/dist-packages (from transformers<5.0.0,>=3.1.0->sentence-transformers) (2.23.0)\n",
            "Requirement already satisfied, skipping upgrade: sacremoses in /usr/local/lib/python3.7/dist-packages (from transformers<5.0.0,>=3.1.0->sentence-transformers) (0.0.45)\n",
            "Requirement already satisfied, skipping upgrade: importlib-metadata; python_version < \"3.8\" in /usr/local/lib/python3.7/dist-packages (from transformers<5.0.0,>=3.1.0->sentence-transformers) (4.5.0)\n",
            "Requirement already satisfied, skipping upgrade: pyparsing>=2.0.2 in /usr/local/lib/python3.7/dist-packages (from packaging->transformers<5.0.0,>=3.1.0->sentence-transformers) (2.4.7)\n",
            "Requirement already satisfied, skipping upgrade: urllib3!=1.25.0,!=1.25.1,<1.26,>=1.21.1 in /usr/local/lib/python3.7/dist-packages (from requests->transformers<5.0.0,>=3.1.0->sentence-transformers) (1.24.3)\n",
            "Requirement already satisfied, skipping upgrade: certifi>=2017.4.17 in /usr/local/lib/python3.7/dist-packages (from requests->transformers<5.0.0,>=3.1.0->sentence-transformers) (2021.5.30)\n",
            "Requirement already satisfied, skipping upgrade: idna<3,>=2.5 in /usr/local/lib/python3.7/dist-packages (from requests->transformers<5.0.0,>=3.1.0->sentence-transformers) (2.10)\n",
            "Requirement already satisfied, skipping upgrade: chardet<4,>=3.0.2 in /usr/local/lib/python3.7/dist-packages (from requests->transformers<5.0.0,>=3.1.0->sentence-transformers) (3.0.4)\n",
            "Requirement already satisfied, skipping upgrade: click in /usr/local/lib/python3.7/dist-packages (from sacremoses->transformers<5.0.0,>=3.1.0->sentence-transformers) (7.1.2)\n",
            "Requirement already satisfied, skipping upgrade: zipp>=0.5 in /usr/local/lib/python3.7/dist-packages (from importlib-metadata; python_version < \"3.8\"->transformers<5.0.0,>=3.1.0->sentence-transformers) (3.4.1)\n"
          ],
          "name": "stdout"
        }
      ]
    },
    {
      "cell_type": "code",
      "metadata": {
        "id": "YC5OzmVGmC5o"
      },
      "source": [
        "from sentence_transformers import SentenceTransformer\n"
      ],
      "execution_count": 35,
      "outputs": []
    },
    {
      "cell_type": "code",
      "metadata": {
        "id": "VVsbg5XOvPla"
      },
      "source": [
        "neutral_indices = all_df[all_df['class'] == 0].index"
      ],
      "execution_count": 42,
      "outputs": []
    },
    {
      "cell_type": "code",
      "metadata": {
        "id": "T0g9hu34wVs2"
      },
      "source": [
        "undersampled = all_df.loc[neutral_indices].sample(50000).index"
      ],
      "execution_count": 43,
      "outputs": []
    },
    {
      "cell_type": "code",
      "metadata": {
        "id": "pj9htm9hxc2J"
      },
      "source": [
        "non_neutral_indices = all_df[all_df['class'] !=0].index"
      ],
      "execution_count": 44,
      "outputs": []
    },
    {
      "cell_type": "code",
      "metadata": {
        "id": "NAPG8hQgxklI"
      },
      "source": [
        "undersampled_df = all_df.loc[undersampled.union(non_neutral_indices)]"
      ],
      "execution_count": 45,
      "outputs": []
    },
    {
      "cell_type": "code",
      "metadata": {
        "id": "vhqMPWMXmFyC"
      },
      "source": [
        "X=undersampled_df['text']\n",
        "y=undersampled_df['class']\n",
        "X_train, X_test, y_train, y_test = train_test_split(X, y, test_size = 0.20, random_state=42)"
      ],
      "execution_count": 46,
      "outputs": []
    },
    {
      "cell_type": "code",
      "metadata": {
        "id": "uxZRJL2RedQC"
      },
      "source": [
        "y_train_bin = [y if y == 0 else 1 for y in y_train]\n",
        "y_test_bin = [y if y == 0 else 1 for y in y_test]"
      ],
      "execution_count": 52,
      "outputs": []
    },
    {
      "cell_type": "code",
      "metadata": {
        "colab": {
          "base_uri": "https://localhost:8080/",
          "height": 66,
          "referenced_widgets": [
            "71d4d1e90e0b4d118d12659623f73fb2",
            "2b20d759fffa47da89fb0b1e0d824594",
            "d2137ec611fd435484ad4cf103746cdb",
            "d47be5828e7d4f20a34247caf508249a",
            "fec518dab9084e7caf2419118bcaf530",
            "b0e29cbe5d8b469aa08dc114796aefdf",
            "a070393f659747e6887054546ab64bf8",
            "2797f9085948478b8758af12b2cf9f97"
          ]
        },
        "id": "vAg3ShF9nK7V",
        "outputId": "3be5d7ad-e055-43fa-fd74-c331330ac0eb"
      },
      "source": [
        "model_sbert = SentenceTransformer('paraphrase-distilroberta-base-v1')\n"
      ],
      "execution_count": 39,
      "outputs": [
        {
          "output_type": "display_data",
          "data": {
            "application/vnd.jupyter.widget-view+json": {
              "model_id": "71d4d1e90e0b4d118d12659623f73fb2",
              "version_minor": 0,
              "version_major": 2
            },
            "text/plain": [
              "HBox(children=(FloatProgress(value=0.0, max=305584576.0), HTML(value='')))"
            ]
          },
          "metadata": {
            "tags": []
          }
        },
        {
          "output_type": "stream",
          "text": [
            "\n"
          ],
          "name": "stdout"
        }
      ]
    },
    {
      "cell_type": "code",
      "metadata": {
        "colab": {
          "base_uri": "https://localhost:8080/",
          "height": 66,
          "referenced_widgets": [
            "3813ebbddf3b4a939a81cc83edafb6e9",
            "857cc271acda40b79e25f2e96f95f53c",
            "f2040531526c40aa9d4f9429a496dc99",
            "792b636ed2a642ac94a6307b7cd3461b",
            "55b2232dc91945adb854b4a2ceca33ae",
            "3438f73c779f4529ab94d4065e3b0a4b",
            "822ac2ab55e74e61a9af54d2f65552e4",
            "d28fa93791f74f23a2f601a085dbf89e"
          ]
        },
        "id": "COrKI-MLoepD",
        "outputId": "8ed2fac4-d307-4201-c65f-fc7833893b7e"
      },
      "source": [
        "embeddings = model_sbert.encode(X_train.to_list(), show_progress_bar=True)"
      ],
      "execution_count": 40,
      "outputs": [
        {
          "output_type": "display_data",
          "data": {
            "application/vnd.jupyter.widget-view+json": {
              "model_id": "3813ebbddf3b4a939a81cc83edafb6e9",
              "version_minor": 0,
              "version_major": 2
            },
            "text/plain": [
              "HBox(children=(FloatProgress(value=0.0, description='Batches', max=1837.0, style=ProgressStyle(description_wid…"
            ]
          },
          "metadata": {
            "tags": []
          }
        },
        {
          "output_type": "stream",
          "text": [
            "\n"
          ],
          "name": "stdout"
        }
      ]
    },
    {
      "cell_type": "code",
      "metadata": {
        "id": "5GEFsGg2ck6H"
      },
      "source": [
        "import pickle\n",
        "with open('embeddings.pkl', \"wb\") as fOut:\n",
        "  pickle.dump({'sentences': X_train, 'embeddings': embeddings}, fOut, protocol=pickle.HIGHEST_PROTOCOL)"
      ],
      "execution_count": 42,
      "outputs": []
    },
    {
      "cell_type": "code",
      "metadata": {
        "colab": {
          "base_uri": "https://localhost:8080/",
          "height": 0
        },
        "id": "kRcn-N8ndXhP",
        "outputId": "f279735a-88d2-4e26-f561-7906b49f9595"
      },
      "source": [
        "embeddings.shape"
      ],
      "execution_count": 44,
      "outputs": [
        {
          "output_type": "execute_result",
          "data": {
            "text/plain": [
              "(58763, 768)"
            ]
          },
          "metadata": {
            "tags": []
          },
          "execution_count": 44
        }
      ]
    },
    {
      "cell_type": "code",
      "metadata": {
        "id": "mQXYG1sj6CSR"
      },
      "source": [
        "#load it back: \n",
        "import pickle\n",
        "with open('embeddings.pkl', 'rb') as fIn:\n",
        "  stored_data = pickle.load(fIn)\n",
        "  stored_sentences = stored_data['sentences']\n",
        "  stored_embeddings = stored_data['embeddings']"
      ],
      "execution_count": 37,
      "outputs": []
    },
    {
      "cell_type": "code",
      "metadata": {
        "id": "yQpLFlQ36kra"
      },
      "source": [
        "X_train_dict = stored_data"
      ],
      "execution_count": 40,
      "outputs": []
    },
    {
      "cell_type": "code",
      "metadata": {
        "colab": {
          "base_uri": "https://localhost:8080/",
          "height": 0
        },
        "id": "qqY2-s_Y7Tts",
        "outputId": "c51da880-592f-4bb4-8144-594155d69759"
      },
      "source": [
        "type(X_train_dict['sentences'])"
      ],
      "execution_count": 50,
      "outputs": [
        {
          "output_type": "execute_result",
          "data": {
            "text/plain": [
              "pandas.core.series.Series"
            ]
          },
          "metadata": {
            "tags": []
          },
          "execution_count": 50
        }
      ]
    },
    {
      "cell_type": "code",
      "metadata": {
        "id": "tff3h_Oh7jxz"
      },
      "source": [
        "X_train = X_train_dict['sentences']"
      ],
      "execution_count": 51,
      "outputs": []
    },
    {
      "cell_type": "code",
      "metadata": {
        "id": "qokGS2U06y_A"
      },
      "source": [
        "with open('embeddings_test.pkl', \"rb\") as fIn:\n",
        "  X_test_dict = pickle.load(fIn)\n",
        "  X_test_sentences = X_test_dict['sentences']\n",
        "  X_test_embeddings = X_test_dict['embeddings']"
      ],
      "execution_count": 41,
      "outputs": []
    },
    {
      "cell_type": "code",
      "metadata": {
        "id": "Tux7NrND8HEp"
      },
      "source": [
        "X_test = X_test_dict['sentences']"
      ],
      "execution_count": 53,
      "outputs": []
    },
    {
      "cell_type": "code",
      "metadata": {
        "id": "Cfk_vBvL9WbH"
      },
      "source": [
        "embeddings_test = X_test_dict['embeddings']"
      ],
      "execution_count": 60,
      "outputs": []
    },
    {
      "cell_type": "code",
      "metadata": {
        "id": "Ofyr-bpg9emN"
      },
      "source": [
        "embeddings = X_train_dict['embeddings']"
      ],
      "execution_count": 61,
      "outputs": []
    },
    {
      "cell_type": "code",
      "metadata": {
        "id": "tzM_qxFi8S-y"
      },
      "source": [
        "y_train = all_df.loc[X_train.index]['class']"
      ],
      "execution_count": 54,
      "outputs": []
    },
    {
      "cell_type": "code",
      "metadata": {
        "id": "oIlGJfZL87CQ"
      },
      "source": [
        "y_test = all_df.loc[X_test.index]['class']"
      ],
      "execution_count": 57,
      "outputs": []
    },
    {
      "cell_type": "code",
      "metadata": {
        "colab": {
          "base_uri": "https://localhost:8080/",
          "height": 66,
          "referenced_widgets": [
            "bca1ebf452694c9b9b6b742f83b543c3",
            "8548ab24737e4af8bf82596fed25b4ad",
            "80bdb11d2b10498eb001b0c52ee794b8",
            "364c1156fd39488aafc2642301a6a7e1",
            "4c0eea7371524e27be5cd61a203cd4ea",
            "4f37207506d849c0a2fee6c5b1dd4125",
            "c6d0c3471e1c4a9b806b2a6d3bb00b57",
            "d8faef78f2cc47ff8ee6fa4f334ec1c7"
          ]
        },
        "id": "Xj4DjN0Ef8Ih",
        "outputId": "ad506d64-77ff-4333-b20a-156f9515ee08"
      },
      "source": [
        "embeddings_test = model_sbert.encode(X_test.to_list(), show_progress_bar=True)"
      ],
      "execution_count": 58,
      "outputs": [
        {
          "output_type": "display_data",
          "data": {
            "application/vnd.jupyter.widget-view+json": {
              "model_id": "bca1ebf452694c9b9b6b742f83b543c3",
              "version_minor": 0,
              "version_major": 2
            },
            "text/plain": [
              "HBox(children=(FloatProgress(value=0.0, description='Batches', max=460.0, style=ProgressStyle(description_widt…"
            ]
          },
          "metadata": {
            "tags": []
          }
        },
        {
          "output_type": "stream",
          "text": [
            "\n"
          ],
          "name": "stdout"
        }
      ]
    },
    {
      "cell_type": "code",
      "metadata": {
        "id": "UGEmjMJxsfYQ"
      },
      "source": [
        "with open('embeddings_test.pkl', \"wb\") as fOut:\n",
        "  pickle.dump({'sentences': X_test, 'embeddings': embeddings_test}, fOut, protocol=pickle.HIGHEST_PROTOCOL)"
      ],
      "execution_count": 59,
      "outputs": []
    },
    {
      "cell_type": "code",
      "metadata": {
        "id": "nFI2rnr8eAy3"
      },
      "source": [
        "import tensorflow as tf"
      ],
      "execution_count": 46,
      "outputs": []
    },
    {
      "cell_type": "code",
      "metadata": {
        "id": "DqsYmRIXrVcu"
      },
      "source": [
        "hid_dim1 = 768\n",
        "hid_dim2 = 384\n",
        "model_bin_sbert = tf.keras.models.Sequential([\n",
        "                                             tf.keras.layers.Dense(hid_dim1, activation=tf.nn.leaky_relu),\n",
        "                                             tf.keras.layers.Dense(hid_dim2, activation=tf.nn.leaky_relu),\n",
        "                                             tf.keras.layers.Dense(2, activation=tf.nn.leaky_relu),\n",
        "                                             tf.keras.layers.Dense(1, activation='sigmoid')\n",
        "])\n"
      ],
      "execution_count": 49,
      "outputs": []
    },
    {
      "cell_type": "code",
      "metadata": {
        "id": "PiEzDWWq0mNm"
      },
      "source": [
        "model_bin_sbert.compile(optimizer='adam', loss=tf.keras.losses.BinaryCrossentropy(),\n",
        "                   metrics=[tf.keras.metrics.Recall()])"
      ],
      "execution_count": 51,
      "outputs": []
    },
    {
      "cell_type": "code",
      "metadata": {
        "colab": {
          "base_uri": "https://localhost:8080/",
          "height": 0
        },
        "id": "OjxSZjJg0tq9",
        "outputId": "35b49743-6172-4d83-adb1-65ae566bc949"
      },
      "source": [
        "history = model_bin_sbert.fit(x=np.array(embeddings), y=np.array(y_train_bin), workers=-1, epochs=3)\n"
      ],
      "execution_count": 57,
      "outputs": [
        {
          "output_type": "stream",
          "text": [
            "Epoch 1/3\n",
            "1837/1837 [==============================] - 27s 14ms/step - loss: 0.5451 - recall: 0.3658\n",
            "Epoch 2/3\n",
            "1837/1837 [==============================] - 25s 14ms/step - loss: 0.5207 - recall: 0.4055\n",
            "Epoch 3/3\n",
            "1837/1837 [==============================] - 25s 14ms/step - loss: 0.5085 - recall: 0.4268\n"
          ],
          "name": "stdout"
        }
      ]
    },
    {
      "cell_type": "code",
      "metadata": {
        "colab": {
          "base_uri": "https://localhost:8080/",
          "height": 0
        },
        "id": "xqCfPq_0fSgl",
        "outputId": "d721114c-93e2-4891-d527-d19deecf028a"
      },
      "source": [
        "score = model_bin_sbert.evaluate(np.array(embeddings_test), np.array(y_test_bin), verbose = 1)\n",
        "score_train = model_bin_sbert.evaluate(np.array(embeddings), np.array(y_train_bin), verbose = 1)\n",
        "\n",
        "print()\n",
        "print(\"Evaluate on test data\")\n",
        "print(f'Test loss: {score[0]} / Test accuracy: {score[1]}')\n",
        "\n",
        "print(\"Evaluate on train data\")\n",
        "print(f'Train loss: {score_train[0]} / Train accuracy: {score_train[1]}')\n",
        "\n",
        "#from sklearn.metrics import f1_score, precision_score, recall_score\n",
        "y_pred1 = model_bin_sbert.predict(np.array(embeddings_test))\n",
        "#y_pred = np.argmax(y_pred1, axis=1)\n",
        "y_pred = np.round(y_pred1).astype(int)\n",
        "\n",
        "print((y_pred==1).sum())\n",
        "\n",
        "from sklearn.metrics import f1_score, precision_score, recall_score\n",
        "\n",
        "print()\n",
        "print('Precision Score')\n",
        "print(precision_score(y_test_bin, y_pred, average='macro'))\n",
        "print()\n",
        "print('Recall Score')\n",
        "print(recall_score(y_test_bin, y_pred, average='macro'))\n",
        "print()\n",
        "print('F1 Score')\n",
        "print(f1_score(y_test_bin, y_pred, average='macro'))"
      ],
      "execution_count": 62,
      "outputs": [
        {
          "output_type": "stream",
          "text": [
            "460/460 [==============================] - 2s 4ms/step - loss: 0.5203 - recall: 0.5008\n",
            "1837/1837 [==============================] - 8s 4ms/step - loss: 0.4914 - recall: 0.5284\n",
            "\n",
            "Evaluate on test data\n",
            "Test loss: 0.5202813744544983 / Test accuracy: 0.5007535219192505\n",
            "Evaluate on train data\n",
            "Train loss: 0.491449236869812 / Train accuracy: 0.5284172296524048\n",
            "3644\n",
            "\n",
            "Precision Score\n",
            "0.714194152179039\n",
            "\n",
            "Recall Score\n",
            "0.6847785011337514\n",
            "\n",
            "F1 Score\n",
            "0.6943994246804464\n"
          ],
          "name": "stdout"
        }
      ]
    },
    {
      "cell_type": "code",
      "metadata": {
        "colab": {
          "base_uri": "https://localhost:8080/",
          "height": 0
        },
        "id": "UFKogfvJtqgR",
        "outputId": "6b9a9629-ff52-412e-b594-da8441c293ef"
      },
      "source": [
        "#train it for more epochs \n",
        "history = model_bin_sbert.fit(x=np.array(embeddings), y=np.array(y_train_bin), workers=-1, epochs=15)\n"
      ],
      "execution_count": 63,
      "outputs": [
        {
          "output_type": "stream",
          "text": [
            "Epoch 1/15\n",
            "1837/1837 [==============================] - 19s 11ms/step - loss: 0.4956 - recall: 0.4488\n",
            "Epoch 2/15\n",
            "1837/1837 [==============================] - 19s 10ms/step - loss: 0.4795 - recall: 0.4728\n",
            "Epoch 3/15\n",
            "1837/1837 [==============================] - 19s 10ms/step - loss: 0.4614 - recall: 0.5005\n",
            "Epoch 4/15\n",
            "1837/1837 [==============================] - 19s 10ms/step - loss: 0.4424 - recall: 0.5330\n",
            "Epoch 5/15\n",
            "1837/1837 [==============================] - 19s 11ms/step - loss: 0.4170 - recall: 0.5727\n",
            "Epoch 6/15\n",
            "1837/1837 [==============================] - 20s 11ms/step - loss: 0.3866 - recall: 0.6172\n",
            "Epoch 7/15\n",
            "1837/1837 [==============================] - 19s 11ms/step - loss: 0.3563 - recall: 0.6593\n",
            "Epoch 8/15\n",
            "1837/1837 [==============================] - 19s 10ms/step - loss: 0.3243 - recall: 0.7054\n",
            "Epoch 9/15\n",
            "1837/1837 [==============================] - 19s 10ms/step - loss: 0.2904 - recall: 0.7483\n",
            "Epoch 10/15\n",
            "1837/1837 [==============================] - 19s 10ms/step - loss: 0.2549 - recall: 0.7899\n",
            "Epoch 11/15\n",
            "1837/1837 [==============================] - 19s 10ms/step - loss: 0.2255 - recall: 0.8208\n",
            "Epoch 12/15\n",
            "1837/1837 [==============================] - 19s 11ms/step - loss: 0.2033 - recall: 0.8486\n",
            "Epoch 13/15\n",
            "1837/1837 [==============================] - 19s 10ms/step - loss: 0.1699 - recall: 0.8740\n",
            "Epoch 14/15\n",
            "1837/1837 [==============================] - 20s 11ms/step - loss: 0.1604 - recall: 0.8863\n",
            "Epoch 15/15\n",
            "1837/1837 [==============================] - 20s 11ms/step - loss: 0.1438 - recall: 0.8984\n"
          ],
          "name": "stdout"
        }
      ]
    },
    {
      "cell_type": "code",
      "metadata": {
        "colab": {
          "base_uri": "https://localhost:8080/",
          "height": 0
        },
        "id": "_LQn8Dqau9Hk",
        "outputId": "e05257d9-bcdb-4602-dde9-4185e62445e7"
      },
      "source": [
        "score = model_bin_sbert.evaluate(np.array(embeddings_test), np.array(y_test_bin), verbose = 1)\n",
        "score_train = model_bin_sbert.evaluate(np.array(embeddings), np.array(y_train_bin), verbose = 1)\n",
        "\n",
        "print()\n",
        "print(\"Evaluate on test data\")\n",
        "print(f'Test loss: {score[0]} / Test accuracy: {score[1]}')\n",
        "\n",
        "print(\"Evaluate on train data\")\n",
        "print(f'Train loss: {score_train[0]} / Train accuracy: {score_train[1]}')\n",
        "\n",
        "#from sklearn.metrics import f1_score, precision_score, recall_score\n",
        "y_pred1 = model_bin_sbert.predict(np.array(embeddings_test))\n",
        "#y_pred = np.argmax(y_pred1, axis=1)\n",
        "y_pred = np.round(y_pred1).astype(int)\n",
        "\n",
        "print((y_pred==1).sum())\n",
        "\n",
        "\n",
        "print()\n",
        "print('Precision Score')\n",
        "print(precision_score(y_test_bin, y_pred, average='macro'))\n",
        "print()\n",
        "print('Recall Score')\n",
        "print(recall_score(y_test_bin, y_pred, average='macro'))\n",
        "print()\n",
        "print('F1 Score')\n",
        "print(f1_score(y_test_bin, y_pred, average='macro'))"
      ],
      "execution_count": 64,
      "outputs": [
        {
          "output_type": "stream",
          "text": [
            "460/460 [==============================] - 2s 4ms/step - loss: 1.2200 - recall: 0.4889\n",
            "1837/1837 [==============================] - 8s 4ms/step - loss: 0.1005 - recall: 0.9282\n",
            "\n",
            "Evaluate on test data\n",
            "Test loss: 1.219954490661621 / Test accuracy: 0.48891282081604004\n",
            "Evaluate on train data\n",
            "Train loss: 0.1005297377705574 / Train accuracy: 0.9281727075576782\n",
            "4101\n",
            "\n",
            "Precision Score\n",
            "0.6647968124958121\n",
            "\n",
            "Recall Score\n",
            "0.6533753774617383\n",
            "\n",
            "F1 Score\n",
            "0.6578007338286663\n"
          ],
          "name": "stdout"
        }
      ]
    },
    {
      "cell_type": "markdown",
      "metadata": {
        "id": "KMk2qpeovK73"
      },
      "source": [
        "### Second model to classify which mental health diagnosis someone has "
      ]
    },
    {
      "cell_type": "code",
      "metadata": {
        "id": "0D0P-KBo0FGZ"
      },
      "source": [
        "X_train_second = []\n",
        "y_train_second = []\n",
        "for i, val in enumerate(y_train):\n",
        "  if val != 0:\n",
        "    X_train_second.append(embeddings[i])\n",
        "    if val == 6:\n",
        "      y_train_second.append(0)\n",
        "    else:\n",
        "      y_train_second.append(val)\n",
        "    \n"
      ],
      "execution_count": 69,
      "outputs": []
    },
    {
      "cell_type": "code",
      "metadata": {
        "id": "1LNggwsK1MOx"
      },
      "source": [
        "X_test_second = []\n",
        "y_test_second = []\n",
        "for i, val in enumerate(y_test):\n",
        "  if val != 0:\n",
        "    X_test_second.append(embeddings_test[i])\n",
        "    if val == 6:\n",
        "      y_test_second.append(0)\n",
        "    else:\n",
        "      y_test_second.append(val)\n",
        "    "
      ],
      "execution_count": 70,
      "outputs": []
    },
    {
      "cell_type": "code",
      "metadata": {
        "id": "vxihH5HF9qgd"
      },
      "source": [
        "import tensorflow as tf"
      ],
      "execution_count": 65,
      "outputs": []
    },
    {
      "cell_type": "code",
      "metadata": {
        "id": "5LDj5W-H2z7N"
      },
      "source": [
        "hid_dim1 = 768\n",
        "hid_dim2 = 384\n",
        "model_sbert_subclass = tf.keras.models.Sequential([\n",
        "                                             tf.keras.layers.Dense(hid_dim1, activation=tf.nn.leaky_relu),\n",
        "                                             tf.keras.layers.Dense(hid_dim2, activation=tf.nn.leaky_relu),\n",
        "                                             tf.keras.layers.Dense(6, activation=tf.nn.leaky_relu),\n",
        "                                             tf.keras.layers.Dense(6, use_bias=False),\n",
        "                                              tf.keras.layers.Softmax()\n",
        "\n",
        "])\n"
      ],
      "execution_count": 66,
      "outputs": []
    },
    {
      "cell_type": "code",
      "metadata": {
        "id": "st1VCy263dNs"
      },
      "source": [
        "model_sbert_subclass.compile(optimizer='adam', loss=tf.keras.losses.SparseCategoricalCrossentropy(),\n",
        "              metrics=['accuracy']) "
      ],
      "execution_count": 67,
      "outputs": []
    },
    {
      "cell_type": "code",
      "metadata": {
        "colab": {
          "base_uri": "https://localhost:8080/",
          "height": 0
        },
        "id": "uAe3mMLm3Syf",
        "outputId": "3fe422cd-d7d8-4060-d1ea-8312438d7b81"
      },
      "source": [
        "history = model_sbert_subclass.fit(x=np.array(X_train_second), y=np.array(y_train_second), workers=-1, epochs=3)\n"
      ],
      "execution_count": 71,
      "outputs": [
        {
          "output_type": "stream",
          "text": [
            "Epoch 1/3\n",
            "588/588 [==============================] - 8s 14ms/step - loss: 1.6610 - accuracy: 0.3078\n",
            "Epoch 2/3\n",
            "588/588 [==============================] - 8s 14ms/step - loss: 1.5922 - accuracy: 0.3516\n",
            "Epoch 3/3\n",
            "588/588 [==============================] - 8s 14ms/step - loss: 1.5342 - accuracy: 0.3770\n"
          ],
          "name": "stdout"
        }
      ]
    },
    {
      "cell_type": "code",
      "metadata": {
        "colab": {
          "base_uri": "https://localhost:8080/",
          "height": 0
        },
        "id": "r9_XNRdq-jOm",
        "outputId": "cd2d12f7-d944-43a0-9042-ff99d18ef36c"
      },
      "source": [
        "score = model_sbert_subclass.evaluate(np.array(X_test_second), np.array(y_test_second), verbose = 1)\n",
        "score_train = model_sbert_subclass.evaluate(np.array(X_train_second), np.array(y_train_second), verbose = 1)\n",
        "target_names = ['class 0', 'class 1', 'class 2', 'class 3', 'class 4', 'class 5']\n",
        "\n",
        "#print(model(np.array(df['indices'].to_list())).numpy().tolist())\n",
        "\n",
        "print(\"Evaluate on test data\")\n",
        "print(f'Test loss: {score[0]} / Test accuracy: {score[1]}')\n",
        "\n",
        "print(\"Evaluate on train data\")\n",
        "print(f'Train loss: {score_train[0]} / Train accuracy: {score_train[1]}')\n",
        "\n",
        "from sklearn.metrics import classification_report\n",
        "\n",
        "y_pred1 = model_sbert_subclass.predict(np.array(X_test_second))\n",
        "y_pred = np.argmax(y_pred1, axis=1).astype(int)\n",
        "\n",
        "\n",
        "print(classification_report(y_test_second, y_pred, target_names=target_names))"
      ],
      "execution_count": 79,
      "outputs": [
        {
          "output_type": "stream",
          "text": [
            "146/146 [==============================] - 1s 7ms/step - loss: 1.6229 - accuracy: 0.3494\n",
            "588/588 [==============================] - 4s 7ms/step - loss: 1.4553 - accuracy: 0.4186\n",
            "Evaluate on test data\n",
            "Test loss: 1.6229251623153687 / Test accuracy: 0.34940797090530396\n",
            "Evaluate on train data\n",
            "Train loss: 1.455259084701538 / Train accuracy: 0.41862937808036804\n",
            "              precision    recall  f1-score   support\n",
            "\n",
            "     class 0       0.35      0.62      0.45      1220\n",
            "     class 1       0.38      0.51      0.44      1298\n",
            "     class 2       0.29      0.14      0.19       775\n",
            "     class 3       0.52      0.05      0.10       559\n",
            "     class 4       0.23      0.06      0.10       448\n",
            "     class 5       0.18      0.11      0.14       345\n",
            "\n",
            "    accuracy                           0.35      4645\n",
            "   macro avg       0.33      0.25      0.23      4645\n",
            "weighted avg       0.35      0.35      0.30      4645\n",
            "\n"
          ],
          "name": "stdout"
        }
      ]
    },
    {
      "cell_type": "code",
      "metadata": {
        "colab": {
          "base_uri": "https://localhost:8080/",
          "height": 0
        },
        "id": "xSEQ_d0VAjmj",
        "outputId": "80c44c45-b56c-435a-d538-6599149da057"
      },
      "source": [
        "history = model_sbert_subclass.fit(x=np.array(X_train_second), y=np.array(y_train_second), workers=-1, epochs=10)\n"
      ],
      "execution_count": 80,
      "outputs": [
        {
          "output_type": "stream",
          "text": [
            "Epoch 1/10\n",
            "588/588 [==============================] - 9s 15ms/step - loss: 1.4620 - accuracy: 0.4151\n",
            "Epoch 2/10\n",
            "588/588 [==============================] - 9s 15ms/step - loss: 1.3724 - accuracy: 0.4520\n",
            "Epoch 3/10\n",
            "588/588 [==============================] - 8s 14ms/step - loss: 1.2639 - accuracy: 0.5043\n",
            "Epoch 4/10\n",
            "588/588 [==============================] - 8s 14ms/step - loss: 1.1417 - accuracy: 0.5546\n",
            "Epoch 5/10\n",
            "588/588 [==============================] - 9s 15ms/step - loss: 1.0102 - accuracy: 0.6129\n",
            "Epoch 6/10\n",
            "588/588 [==============================] - 9s 15ms/step - loss: 0.8836 - accuracy: 0.6652\n",
            "Epoch 7/10\n",
            "588/588 [==============================] - 8s 14ms/step - loss: 0.7532 - accuracy: 0.7180\n",
            "Epoch 8/10\n",
            "588/588 [==============================] - 9s 15ms/step - loss: 0.6547 - accuracy: 0.7564\n",
            "Epoch 9/10\n",
            "588/588 [==============================] - 8s 14ms/step - loss: 0.5567 - accuracy: 0.7958\n",
            "Epoch 10/10\n",
            "588/588 [==============================] - 8s 14ms/step - loss: 0.4771 - accuracy: 0.8229\n"
          ],
          "name": "stdout"
        }
      ]
    },
    {
      "cell_type": "code",
      "metadata": {
        "colab": {
          "base_uri": "https://localhost:8080/",
          "height": 0
        },
        "id": "s9csAHulArMw",
        "outputId": "46f8f20f-45ce-4145-a0b0-b3555ea943bd"
      },
      "source": [
        "score = model_sbert_subclass.evaluate(np.array(X_test_second), np.array(y_test_second), verbose = 1)\n",
        "score_train = model_sbert_subclass.evaluate(np.array(X_train_second), np.array(y_train_second), verbose = 1)\n",
        "target_names = ['class 0', 'class 1', 'class 2', 'class 3', 'class 4', 'class 5']\n",
        "\n",
        "#print(model(np.array(df['indices'].to_list())).numpy().tolist())\n",
        "\n",
        "print(\"Evaluate on test data\")\n",
        "print(f'Test loss: {score[0]} / Test accuracy: {score[1]}')\n",
        "\n",
        "print(\"Evaluate on train data\")\n",
        "print(f'Train loss: {score_train[0]} / Train accuracy: {score_train[1]}')\n",
        "\n",
        "from sklearn.metrics import classification_report\n",
        "\n",
        "y_pred1 = model_sbert_subclass.predict(np.array(X_test_second))\n",
        "y_pred = np.argmax(y_pred1, axis=1).astype(int)\n",
        "\n",
        "\n",
        "print(classification_report(y_test_second, y_pred))"
      ],
      "execution_count": 82,
      "outputs": [
        {
          "output_type": "stream",
          "text": [
            "146/146 [==============================] - 1s 6ms/step - loss: 2.7900 - accuracy: 0.3453\n",
            "588/588 [==============================] - 3s 6ms/step - loss: 0.3728 - accuracy: 0.8727\n",
            "Evaluate on test data\n",
            "Test loss: 2.7900102138519287 / Test accuracy: 0.345317542552948\n",
            "Evaluate on train data\n",
            "Train loss: 0.37275442481040955 / Train accuracy: 0.87272047996521\n",
            "              precision    recall  f1-score   support\n",
            "\n",
            "           0       0.40      0.46      0.42      1220\n",
            "           1       0.43      0.39      0.41      1298\n",
            "           2       0.31      0.24      0.27       775\n",
            "           3       0.33      0.26      0.29       559\n",
            "           4       0.22      0.26      0.24       448\n",
            "           5       0.19      0.28      0.22       345\n",
            "\n",
            "    accuracy                           0.35      4645\n",
            "   macro avg       0.31      0.31      0.31      4645\n",
            "weighted avg       0.35      0.35      0.35      4645\n",
            "\n"
          ],
          "name": "stdout"
        }
      ]
    },
    {
      "cell_type": "markdown",
      "metadata": {
        "id": "e5fxhqlsVYk1"
      },
      "source": [
        "# Conclusions \n",
        "\n",
        "Posts in non-mental health subreddits can also show a lot about whether someone is struggling with their mental health, whether from patterns in speech or from the content of the posts. The model had the easiest time idenifying those with PTSD or anxiety. \n",
        "\n",
        "## Business Recommendations \n",
        "\n",
        "*   Create an online support group: Many people form strong relationships and groups online.  Some people feel more comfortable opening up when not having to speak out loud or show their face.  Creating a support group that's entirely online could be very successful and helpful for individuals. \n",
        "*   Respond to users: Talk about the benefits of counseling, programs the agency offers, post information.  Always obey subreddit/community rules! \n",
        "*   Subreddits of note: AskReddit, Relationships, RelationshipAdvice, AmITheAsshole - had high post rates for users struggling wth their mental health.  Monitor those subreddits as well as the subreddits focused on mental health. \n",
        "\n",
        "## Future Work\n",
        "\n",
        "*   Continue to refine the models to analyze language\n",
        "*   Creating an informational and encouraging (not too positive) bot \n",
        "*   Examine comorbidity and how it could affect language\n",
        "\n",
        "\n"
      ]
    },
    {
      "cell_type": "code",
      "metadata": {
        "id": "oEDiOAt1ZhnD"
      },
      "source": [
        ""
      ],
      "execution_count": null,
      "outputs": []
    }
  ]
}