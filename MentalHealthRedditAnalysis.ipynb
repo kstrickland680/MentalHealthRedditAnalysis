{
  "nbformat": 4,
  "nbformat_minor": 0,
  "metadata": {
    "colab": {
      "name": "MentalHealthRedditAnalysis.ipynb",
      "provenance": [],
      "collapsed_sections": [
        "5KbOpTlnchzo",
        "SyOYbplUcUtf",
        "UwKo__wcFCz-",
        "h9ROvOfoeqMm",
        "xiYojoAIvAqj",
        "RjbQpX7-nKBy",
        "nmvPnvOwMXBx",
        "vzJ1AYIdY4W3"
      ],
      "machine_shape": "hm",
      "include_colab_link": true
    },
    "kernelspec": {
      "display_name": "Python 3",
      "name": "python3"
    },
    "language_info": {
      "name": "python"
    },
    "widgets": {
      "application/vnd.jupyter.widget-state+json": {
        "351f9be5087b4030be43a2075f931e5a": {
          "model_module": "@jupyter-widgets/controls",
          "model_name": "HBoxModel",
          "state": {
            "_view_name": "HBoxView",
            "_dom_classes": [],
            "_model_name": "HBoxModel",
            "_view_module": "@jupyter-widgets/controls",
            "_model_module_version": "1.5.0",
            "_view_count": null,
            "_view_module_version": "1.5.0",
            "box_style": "",
            "layout": "IPY_MODEL_bb080793a9dd4661a3426e28caf26df7",
            "_model_module": "@jupyter-widgets/controls",
            "children": [
              "IPY_MODEL_d5dca2284dae4285ac74d88b09fece54",
              "IPY_MODEL_41f0e4f95b694697b30ec06af4323e0d"
            ]
          }
        },
        "bb080793a9dd4661a3426e28caf26df7": {
          "model_module": "@jupyter-widgets/base",
          "model_name": "LayoutModel",
          "state": {
            "_view_name": "LayoutView",
            "grid_template_rows": null,
            "right": null,
            "justify_content": null,
            "_view_module": "@jupyter-widgets/base",
            "overflow": null,
            "_model_module_version": "1.2.0",
            "_view_count": null,
            "flex_flow": null,
            "width": null,
            "min_width": null,
            "border": null,
            "align_items": null,
            "bottom": null,
            "_model_module": "@jupyter-widgets/base",
            "top": null,
            "grid_column": null,
            "overflow_y": null,
            "overflow_x": null,
            "grid_auto_flow": null,
            "grid_area": null,
            "grid_template_columns": null,
            "flex": null,
            "_model_name": "LayoutModel",
            "justify_items": null,
            "grid_row": null,
            "max_height": null,
            "align_content": null,
            "visibility": null,
            "align_self": null,
            "height": null,
            "min_height": null,
            "padding": null,
            "grid_auto_rows": null,
            "grid_gap": null,
            "max_width": null,
            "order": null,
            "_view_module_version": "1.2.0",
            "grid_template_areas": null,
            "object_position": null,
            "object_fit": null,
            "grid_auto_columns": null,
            "margin": null,
            "display": null,
            "left": null
          }
        },
        "d5dca2284dae4285ac74d88b09fece54": {
          "model_module": "@jupyter-widgets/controls",
          "model_name": "FloatProgressModel",
          "state": {
            "_view_name": "ProgressView",
            "style": "IPY_MODEL_950d904d2a5e42f8916424ed71db09fe",
            "_dom_classes": [],
            "description": "100%",
            "_model_name": "FloatProgressModel",
            "bar_style": "success",
            "max": 305584576,
            "_view_module": "@jupyter-widgets/controls",
            "_model_module_version": "1.5.0",
            "value": 305584576,
            "_view_count": null,
            "_view_module_version": "1.5.0",
            "orientation": "horizontal",
            "min": 0,
            "description_tooltip": null,
            "_model_module": "@jupyter-widgets/controls",
            "layout": "IPY_MODEL_bbbffe27781e4bdeb520e8f13975e4b0"
          }
        },
        "41f0e4f95b694697b30ec06af4323e0d": {
          "model_module": "@jupyter-widgets/controls",
          "model_name": "HTMLModel",
          "state": {
            "_view_name": "HTMLView",
            "style": "IPY_MODEL_75466c07be494caa96abc8c4df284525",
            "_dom_classes": [],
            "description": "",
            "_model_name": "HTMLModel",
            "placeholder": "​",
            "_view_module": "@jupyter-widgets/controls",
            "_model_module_version": "1.5.0",
            "value": " 306M/306M [00:38&lt;00:00, 7.92MB/s]",
            "_view_count": null,
            "_view_module_version": "1.5.0",
            "description_tooltip": null,
            "_model_module": "@jupyter-widgets/controls",
            "layout": "IPY_MODEL_70599b8fa5484baeb3664cff591f24aa"
          }
        },
        "950d904d2a5e42f8916424ed71db09fe": {
          "model_module": "@jupyter-widgets/controls",
          "model_name": "ProgressStyleModel",
          "state": {
            "_view_name": "StyleView",
            "_model_name": "ProgressStyleModel",
            "description_width": "initial",
            "_view_module": "@jupyter-widgets/base",
            "_model_module_version": "1.5.0",
            "_view_count": null,
            "_view_module_version": "1.2.0",
            "bar_color": null,
            "_model_module": "@jupyter-widgets/controls"
          }
        },
        "bbbffe27781e4bdeb520e8f13975e4b0": {
          "model_module": "@jupyter-widgets/base",
          "model_name": "LayoutModel",
          "state": {
            "_view_name": "LayoutView",
            "grid_template_rows": null,
            "right": null,
            "justify_content": null,
            "_view_module": "@jupyter-widgets/base",
            "overflow": null,
            "_model_module_version": "1.2.0",
            "_view_count": null,
            "flex_flow": null,
            "width": null,
            "min_width": null,
            "border": null,
            "align_items": null,
            "bottom": null,
            "_model_module": "@jupyter-widgets/base",
            "top": null,
            "grid_column": null,
            "overflow_y": null,
            "overflow_x": null,
            "grid_auto_flow": null,
            "grid_area": null,
            "grid_template_columns": null,
            "flex": null,
            "_model_name": "LayoutModel",
            "justify_items": null,
            "grid_row": null,
            "max_height": null,
            "align_content": null,
            "visibility": null,
            "align_self": null,
            "height": null,
            "min_height": null,
            "padding": null,
            "grid_auto_rows": null,
            "grid_gap": null,
            "max_width": null,
            "order": null,
            "_view_module_version": "1.2.0",
            "grid_template_areas": null,
            "object_position": null,
            "object_fit": null,
            "grid_auto_columns": null,
            "margin": null,
            "display": null,
            "left": null
          }
        },
        "75466c07be494caa96abc8c4df284525": {
          "model_module": "@jupyter-widgets/controls",
          "model_name": "DescriptionStyleModel",
          "state": {
            "_view_name": "StyleView",
            "_model_name": "DescriptionStyleModel",
            "description_width": "",
            "_view_module": "@jupyter-widgets/base",
            "_model_module_version": "1.5.0",
            "_view_count": null,
            "_view_module_version": "1.2.0",
            "_model_module": "@jupyter-widgets/controls"
          }
        },
        "70599b8fa5484baeb3664cff591f24aa": {
          "model_module": "@jupyter-widgets/base",
          "model_name": "LayoutModel",
          "state": {
            "_view_name": "LayoutView",
            "grid_template_rows": null,
            "right": null,
            "justify_content": null,
            "_view_module": "@jupyter-widgets/base",
            "overflow": null,
            "_model_module_version": "1.2.0",
            "_view_count": null,
            "flex_flow": null,
            "width": null,
            "min_width": null,
            "border": null,
            "align_items": null,
            "bottom": null,
            "_model_module": "@jupyter-widgets/base",
            "top": null,
            "grid_column": null,
            "overflow_y": null,
            "overflow_x": null,
            "grid_auto_flow": null,
            "grid_area": null,
            "grid_template_columns": null,
            "flex": null,
            "_model_name": "LayoutModel",
            "justify_items": null,
            "grid_row": null,
            "max_height": null,
            "align_content": null,
            "visibility": null,
            "align_self": null,
            "height": null,
            "min_height": null,
            "padding": null,
            "grid_auto_rows": null,
            "grid_gap": null,
            "max_width": null,
            "order": null,
            "_view_module_version": "1.2.0",
            "grid_template_areas": null,
            "object_position": null,
            "object_fit": null,
            "grid_auto_columns": null,
            "margin": null,
            "display": null,
            "left": null
          }
        },
        "56ab178ba9d64275973947677ffe91f4": {
          "model_module": "@jupyter-widgets/controls",
          "model_name": "HBoxModel",
          "state": {
            "_view_name": "HBoxView",
            "_dom_classes": [],
            "_model_name": "HBoxModel",
            "_view_module": "@jupyter-widgets/controls",
            "_model_module_version": "1.5.0",
            "_view_count": null,
            "_view_module_version": "1.5.0",
            "box_style": "",
            "layout": "IPY_MODEL_ddbdb53c2d2b44f1b5da1c3ada59e7b0",
            "_model_module": "@jupyter-widgets/controls",
            "children": [
              "IPY_MODEL_5e9ca23163124e98966ad1f90cb27aa5",
              "IPY_MODEL_4d65db8ac595491eba6a4ffb95be1e1c"
            ]
          }
        },
        "ddbdb53c2d2b44f1b5da1c3ada59e7b0": {
          "model_module": "@jupyter-widgets/base",
          "model_name": "LayoutModel",
          "state": {
            "_view_name": "LayoutView",
            "grid_template_rows": null,
            "right": null,
            "justify_content": null,
            "_view_module": "@jupyter-widgets/base",
            "overflow": null,
            "_model_module_version": "1.2.0",
            "_view_count": null,
            "flex_flow": null,
            "width": null,
            "min_width": null,
            "border": null,
            "align_items": null,
            "bottom": null,
            "_model_module": "@jupyter-widgets/base",
            "top": null,
            "grid_column": null,
            "overflow_y": null,
            "overflow_x": null,
            "grid_auto_flow": null,
            "grid_area": null,
            "grid_template_columns": null,
            "flex": null,
            "_model_name": "LayoutModel",
            "justify_items": null,
            "grid_row": null,
            "max_height": null,
            "align_content": null,
            "visibility": null,
            "align_self": null,
            "height": null,
            "min_height": null,
            "padding": null,
            "grid_auto_rows": null,
            "grid_gap": null,
            "max_width": null,
            "order": null,
            "_view_module_version": "1.2.0",
            "grid_template_areas": null,
            "object_position": null,
            "object_fit": null,
            "grid_auto_columns": null,
            "margin": null,
            "display": null,
            "left": null
          }
        },
        "5e9ca23163124e98966ad1f90cb27aa5": {
          "model_module": "@jupyter-widgets/controls",
          "model_name": "FloatProgressModel",
          "state": {
            "_view_name": "ProgressView",
            "style": "IPY_MODEL_291485dbfbeb401caf7a286404c73fe6",
            "_dom_classes": [],
            "description": "Batches: 100%",
            "_model_name": "FloatProgressModel",
            "bar_style": "success",
            "max": 1836,
            "_view_module": "@jupyter-widgets/controls",
            "_model_module_version": "1.5.0",
            "value": 1836,
            "_view_count": null,
            "_view_module_version": "1.5.0",
            "orientation": "horizontal",
            "min": 0,
            "description_tooltip": null,
            "_model_module": "@jupyter-widgets/controls",
            "layout": "IPY_MODEL_bc410813979847f5975172cd1d67d197"
          }
        },
        "4d65db8ac595491eba6a4ffb95be1e1c": {
          "model_module": "@jupyter-widgets/controls",
          "model_name": "HTMLModel",
          "state": {
            "_view_name": "HTMLView",
            "style": "IPY_MODEL_2e6396bfc311446da9da16199de1ddb3",
            "_dom_classes": [],
            "description": "",
            "_model_name": "HTMLModel",
            "placeholder": "​",
            "_view_module": "@jupyter-widgets/controls",
            "_model_module_version": "1.5.0",
            "value": " 1836/1836 [02:04&lt;00:00, 14.70it/s]",
            "_view_count": null,
            "_view_module_version": "1.5.0",
            "description_tooltip": null,
            "_model_module": "@jupyter-widgets/controls",
            "layout": "IPY_MODEL_e08881a7230e40999d6dddd1b6ec675e"
          }
        },
        "291485dbfbeb401caf7a286404c73fe6": {
          "model_module": "@jupyter-widgets/controls",
          "model_name": "ProgressStyleModel",
          "state": {
            "_view_name": "StyleView",
            "_model_name": "ProgressStyleModel",
            "description_width": "initial",
            "_view_module": "@jupyter-widgets/base",
            "_model_module_version": "1.5.0",
            "_view_count": null,
            "_view_module_version": "1.2.0",
            "bar_color": null,
            "_model_module": "@jupyter-widgets/controls"
          }
        },
        "bc410813979847f5975172cd1d67d197": {
          "model_module": "@jupyter-widgets/base",
          "model_name": "LayoutModel",
          "state": {
            "_view_name": "LayoutView",
            "grid_template_rows": null,
            "right": null,
            "justify_content": null,
            "_view_module": "@jupyter-widgets/base",
            "overflow": null,
            "_model_module_version": "1.2.0",
            "_view_count": null,
            "flex_flow": null,
            "width": null,
            "min_width": null,
            "border": null,
            "align_items": null,
            "bottom": null,
            "_model_module": "@jupyter-widgets/base",
            "top": null,
            "grid_column": null,
            "overflow_y": null,
            "overflow_x": null,
            "grid_auto_flow": null,
            "grid_area": null,
            "grid_template_columns": null,
            "flex": null,
            "_model_name": "LayoutModel",
            "justify_items": null,
            "grid_row": null,
            "max_height": null,
            "align_content": null,
            "visibility": null,
            "align_self": null,
            "height": null,
            "min_height": null,
            "padding": null,
            "grid_auto_rows": null,
            "grid_gap": null,
            "max_width": null,
            "order": null,
            "_view_module_version": "1.2.0",
            "grid_template_areas": null,
            "object_position": null,
            "object_fit": null,
            "grid_auto_columns": null,
            "margin": null,
            "display": null,
            "left": null
          }
        },
        "2e6396bfc311446da9da16199de1ddb3": {
          "model_module": "@jupyter-widgets/controls",
          "model_name": "DescriptionStyleModel",
          "state": {
            "_view_name": "StyleView",
            "_model_name": "DescriptionStyleModel",
            "description_width": "",
            "_view_module": "@jupyter-widgets/base",
            "_model_module_version": "1.5.0",
            "_view_count": null,
            "_view_module_version": "1.2.0",
            "_model_module": "@jupyter-widgets/controls"
          }
        },
        "e08881a7230e40999d6dddd1b6ec675e": {
          "model_module": "@jupyter-widgets/base",
          "model_name": "LayoutModel",
          "state": {
            "_view_name": "LayoutView",
            "grid_template_rows": null,
            "right": null,
            "justify_content": null,
            "_view_module": "@jupyter-widgets/base",
            "overflow": null,
            "_model_module_version": "1.2.0",
            "_view_count": null,
            "flex_flow": null,
            "width": null,
            "min_width": null,
            "border": null,
            "align_items": null,
            "bottom": null,
            "_model_module": "@jupyter-widgets/base",
            "top": null,
            "grid_column": null,
            "overflow_y": null,
            "overflow_x": null,
            "grid_auto_flow": null,
            "grid_area": null,
            "grid_template_columns": null,
            "flex": null,
            "_model_name": "LayoutModel",
            "justify_items": null,
            "grid_row": null,
            "max_height": null,
            "align_content": null,
            "visibility": null,
            "align_self": null,
            "height": null,
            "min_height": null,
            "padding": null,
            "grid_auto_rows": null,
            "grid_gap": null,
            "max_width": null,
            "order": null,
            "_view_module_version": "1.2.0",
            "grid_template_areas": null,
            "object_position": null,
            "object_fit": null,
            "grid_auto_columns": null,
            "margin": null,
            "display": null,
            "left": null
          }
        },
        "7e213241f77f478e8a13e14812072cea": {
          "model_module": "@jupyter-widgets/controls",
          "model_name": "HBoxModel",
          "state": {
            "_view_name": "HBoxView",
            "_dom_classes": [],
            "_model_name": "HBoxModel",
            "_view_module": "@jupyter-widgets/controls",
            "_model_module_version": "1.5.0",
            "_view_count": null,
            "_view_module_version": "1.5.0",
            "box_style": "",
            "layout": "IPY_MODEL_b52013f9a0ad490c88945d86779fb6f4",
            "_model_module": "@jupyter-widgets/controls",
            "children": [
              "IPY_MODEL_7541c43940c44cf99b76f9ee549eeb9f",
              "IPY_MODEL_b7e2d652fbc24eafb74502c2ebcd94a6"
            ]
          }
        },
        "b52013f9a0ad490c88945d86779fb6f4": {
          "model_module": "@jupyter-widgets/base",
          "model_name": "LayoutModel",
          "state": {
            "_view_name": "LayoutView",
            "grid_template_rows": null,
            "right": null,
            "justify_content": null,
            "_view_module": "@jupyter-widgets/base",
            "overflow": null,
            "_model_module_version": "1.2.0",
            "_view_count": null,
            "flex_flow": null,
            "width": null,
            "min_width": null,
            "border": null,
            "align_items": null,
            "bottom": null,
            "_model_module": "@jupyter-widgets/base",
            "top": null,
            "grid_column": null,
            "overflow_y": null,
            "overflow_x": null,
            "grid_auto_flow": null,
            "grid_area": null,
            "grid_template_columns": null,
            "flex": null,
            "_model_name": "LayoutModel",
            "justify_items": null,
            "grid_row": null,
            "max_height": null,
            "align_content": null,
            "visibility": null,
            "align_self": null,
            "height": null,
            "min_height": null,
            "padding": null,
            "grid_auto_rows": null,
            "grid_gap": null,
            "max_width": null,
            "order": null,
            "_view_module_version": "1.2.0",
            "grid_template_areas": null,
            "object_position": null,
            "object_fit": null,
            "grid_auto_columns": null,
            "margin": null,
            "display": null,
            "left": null
          }
        },
        "7541c43940c44cf99b76f9ee549eeb9f": {
          "model_module": "@jupyter-widgets/controls",
          "model_name": "FloatProgressModel",
          "state": {
            "_view_name": "ProgressView",
            "style": "IPY_MODEL_a3450694134e4fc9837d421b5e2c8cd2",
            "_dom_classes": [],
            "description": "Batches: 100%",
            "_model_name": "FloatProgressModel",
            "bar_style": "success",
            "max": 459,
            "_view_module": "@jupyter-widgets/controls",
            "_model_module_version": "1.5.0",
            "value": 459,
            "_view_count": null,
            "_view_module_version": "1.5.0",
            "orientation": "horizontal",
            "min": 0,
            "description_tooltip": null,
            "_model_module": "@jupyter-widgets/controls",
            "layout": "IPY_MODEL_48fc26714572466494b249a079457eb6"
          }
        },
        "b7e2d652fbc24eafb74502c2ebcd94a6": {
          "model_module": "@jupyter-widgets/controls",
          "model_name": "HTMLModel",
          "state": {
            "_view_name": "HTMLView",
            "style": "IPY_MODEL_23cd21e1db0748cbbf597872a71db77b",
            "_dom_classes": [],
            "description": "",
            "_model_name": "HTMLModel",
            "placeholder": "​",
            "_view_module": "@jupyter-widgets/controls",
            "_model_module_version": "1.5.0",
            "value": " 459/459 [00:31&lt;00:00, 14.63it/s]",
            "_view_count": null,
            "_view_module_version": "1.5.0",
            "description_tooltip": null,
            "_model_module": "@jupyter-widgets/controls",
            "layout": "IPY_MODEL_d55bf629404c431db06f41daf9fce587"
          }
        },
        "a3450694134e4fc9837d421b5e2c8cd2": {
          "model_module": "@jupyter-widgets/controls",
          "model_name": "ProgressStyleModel",
          "state": {
            "_view_name": "StyleView",
            "_model_name": "ProgressStyleModel",
            "description_width": "initial",
            "_view_module": "@jupyter-widgets/base",
            "_model_module_version": "1.5.0",
            "_view_count": null,
            "_view_module_version": "1.2.0",
            "bar_color": null,
            "_model_module": "@jupyter-widgets/controls"
          }
        },
        "48fc26714572466494b249a079457eb6": {
          "model_module": "@jupyter-widgets/base",
          "model_name": "LayoutModel",
          "state": {
            "_view_name": "LayoutView",
            "grid_template_rows": null,
            "right": null,
            "justify_content": null,
            "_view_module": "@jupyter-widgets/base",
            "overflow": null,
            "_model_module_version": "1.2.0",
            "_view_count": null,
            "flex_flow": null,
            "width": null,
            "min_width": null,
            "border": null,
            "align_items": null,
            "bottom": null,
            "_model_module": "@jupyter-widgets/base",
            "top": null,
            "grid_column": null,
            "overflow_y": null,
            "overflow_x": null,
            "grid_auto_flow": null,
            "grid_area": null,
            "grid_template_columns": null,
            "flex": null,
            "_model_name": "LayoutModel",
            "justify_items": null,
            "grid_row": null,
            "max_height": null,
            "align_content": null,
            "visibility": null,
            "align_self": null,
            "height": null,
            "min_height": null,
            "padding": null,
            "grid_auto_rows": null,
            "grid_gap": null,
            "max_width": null,
            "order": null,
            "_view_module_version": "1.2.0",
            "grid_template_areas": null,
            "object_position": null,
            "object_fit": null,
            "grid_auto_columns": null,
            "margin": null,
            "display": null,
            "left": null
          }
        },
        "23cd21e1db0748cbbf597872a71db77b": {
          "model_module": "@jupyter-widgets/controls",
          "model_name": "DescriptionStyleModel",
          "state": {
            "_view_name": "StyleView",
            "_model_name": "DescriptionStyleModel",
            "description_width": "",
            "_view_module": "@jupyter-widgets/base",
            "_model_module_version": "1.5.0",
            "_view_count": null,
            "_view_module_version": "1.2.0",
            "_model_module": "@jupyter-widgets/controls"
          }
        },
        "d55bf629404c431db06f41daf9fce587": {
          "model_module": "@jupyter-widgets/base",
          "model_name": "LayoutModel",
          "state": {
            "_view_name": "LayoutView",
            "grid_template_rows": null,
            "right": null,
            "justify_content": null,
            "_view_module": "@jupyter-widgets/base",
            "overflow": null,
            "_model_module_version": "1.2.0",
            "_view_count": null,
            "flex_flow": null,
            "width": null,
            "min_width": null,
            "border": null,
            "align_items": null,
            "bottom": null,
            "_model_module": "@jupyter-widgets/base",
            "top": null,
            "grid_column": null,
            "overflow_y": null,
            "overflow_x": null,
            "grid_auto_flow": null,
            "grid_area": null,
            "grid_template_columns": null,
            "flex": null,
            "_model_name": "LayoutModel",
            "justify_items": null,
            "grid_row": null,
            "max_height": null,
            "align_content": null,
            "visibility": null,
            "align_self": null,
            "height": null,
            "min_height": null,
            "padding": null,
            "grid_auto_rows": null,
            "grid_gap": null,
            "max_width": null,
            "order": null,
            "_view_module_version": "1.2.0",
            "grid_template_areas": null,
            "object_position": null,
            "object_fit": null,
            "grid_auto_columns": null,
            "margin": null,
            "display": null,
            "left": null
          }
        }
      }
    },
    "accelerator": "GPU"
  },
  "cells": [
    {
      "cell_type": "markdown",
      "metadata": {
        "id": "view-in-github",
        "colab_type": "text"
      },
      "source": [
        "<a href=\"https://colab.research.google.com/github/kstrickland680/MentalHealthRedditAnalysis/blob/main/MentalHealthRedditAnalysis.ipynb\" target=\"_parent\"><img src=\"https://colab.research.google.com/assets/colab-badge.svg\" alt=\"Open In Colab\"/></a>"
      ]
    },
    {
      "cell_type": "code",
      "metadata": {
        "colab": {
          "base_uri": "https://localhost:8080/"
        },
        "id": "irbDieGyzkdl",
        "outputId": "44a6f89a-5fe2-48b7-e354-d7c04c90314a"
      },
      "source": [
        "pip install Unidecode"
      ],
      "execution_count": 166,
      "outputs": [
        {
          "output_type": "stream",
          "text": [
            "Requirement already satisfied: Unidecode in /usr/local/lib/python3.7/dist-packages (1.2.0)\n"
          ],
          "name": "stdout"
        }
      ]
    },
    {
      "cell_type": "code",
      "metadata": {
        "colab": {
          "base_uri": "https://localhost:8080/"
        },
        "id": "L4ZS42JAzroa",
        "outputId": "af8ba13d-6d12-47a7-d03a-d5d64bc3f286"
      },
      "source": [
        "pip install contractions"
      ],
      "execution_count": 167,
      "outputs": [
        {
          "output_type": "stream",
          "text": [
            "Requirement already satisfied: contractions in /usr/local/lib/python3.7/dist-packages (0.0.50)\n",
            "Requirement already satisfied: textsearch>=0.0.21 in /usr/local/lib/python3.7/dist-packages (from contractions) (0.0.21)\n",
            "Requirement already satisfied: pyahocorasick in /usr/local/lib/python3.7/dist-packages (from textsearch>=0.0.21->contractions) (1.4.2)\n",
            "Requirement already satisfied: anyascii in /usr/local/lib/python3.7/dist-packages (from textsearch>=0.0.21->contractions) (0.2.0)\n"
          ],
          "name": "stdout"
        }
      ]
    },
    {
      "cell_type": "code",
      "metadata": {
        "colab": {
          "base_uri": "https://localhost:8080/"
        },
        "id": "N_x0nWgSEhuQ",
        "outputId": "a97048c9-33a6-4c2a-ae85-6e8de9d43a47"
      },
      "source": [
        "pip install -U sentence-transformers"
      ],
      "execution_count": 168,
      "outputs": [
        {
          "output_type": "stream",
          "text": [
            "Requirement already up-to-date: sentence-transformers in /usr/local/lib/python3.7/dist-packages (1.2.0)\n",
            "Requirement already satisfied, skipping upgrade: scikit-learn in /usr/local/lib/python3.7/dist-packages (from sentence-transformers) (0.22.2.post1)\n",
            "Requirement already satisfied, skipping upgrade: nltk in /usr/local/lib/python3.7/dist-packages (from sentence-transformers) (3.2.5)\n",
            "Requirement already satisfied, skipping upgrade: sentencepiece in /usr/local/lib/python3.7/dist-packages (from sentence-transformers) (0.1.95)\n",
            "Requirement already satisfied, skipping upgrade: scipy in /usr/local/lib/python3.7/dist-packages (from sentence-transformers) (1.4.1)\n",
            "Requirement already satisfied, skipping upgrade: torch>=1.6.0 in /usr/local/lib/python3.7/dist-packages (from sentence-transformers) (1.8.1+cu101)\n",
            "Requirement already satisfied, skipping upgrade: tqdm in /usr/local/lib/python3.7/dist-packages (from sentence-transformers) (4.41.1)\n",
            "Requirement already satisfied, skipping upgrade: torchvision in /usr/local/lib/python3.7/dist-packages (from sentence-transformers) (0.9.1+cu101)\n",
            "Requirement already satisfied, skipping upgrade: transformers<5.0.0,>=3.1.0 in /usr/local/lib/python3.7/dist-packages (from sentence-transformers) (4.6.1)\n",
            "Requirement already satisfied, skipping upgrade: numpy in /usr/local/lib/python3.7/dist-packages (from sentence-transformers) (1.19.5)\n",
            "Requirement already satisfied, skipping upgrade: joblib>=0.11 in /usr/local/lib/python3.7/dist-packages (from scikit-learn->sentence-transformers) (1.0.1)\n",
            "Requirement already satisfied, skipping upgrade: six in /usr/local/lib/python3.7/dist-packages (from nltk->sentence-transformers) (1.15.0)\n",
            "Requirement already satisfied, skipping upgrade: typing-extensions in /usr/local/lib/python3.7/dist-packages (from torch>=1.6.0->sentence-transformers) (3.7.4.3)\n",
            "Requirement already satisfied, skipping upgrade: pillow>=4.1.1 in /usr/local/lib/python3.7/dist-packages (from torchvision->sentence-transformers) (7.1.2)\n",
            "Requirement already satisfied, skipping upgrade: packaging in /usr/local/lib/python3.7/dist-packages (from transformers<5.0.0,>=3.1.0->sentence-transformers) (20.9)\n",
            "Requirement already satisfied, skipping upgrade: huggingface-hub==0.0.8 in /usr/local/lib/python3.7/dist-packages (from transformers<5.0.0,>=3.1.0->sentence-transformers) (0.0.8)\n",
            "Requirement already satisfied, skipping upgrade: sacremoses in /usr/local/lib/python3.7/dist-packages (from transformers<5.0.0,>=3.1.0->sentence-transformers) (0.0.45)\n",
            "Requirement already satisfied, skipping upgrade: requests in /usr/local/lib/python3.7/dist-packages (from transformers<5.0.0,>=3.1.0->sentence-transformers) (2.23.0)\n",
            "Requirement already satisfied, skipping upgrade: regex!=2019.12.17 in /usr/local/lib/python3.7/dist-packages (from transformers<5.0.0,>=3.1.0->sentence-transformers) (2019.12.20)\n",
            "Requirement already satisfied, skipping upgrade: importlib-metadata; python_version < \"3.8\" in /usr/local/lib/python3.7/dist-packages (from transformers<5.0.0,>=3.1.0->sentence-transformers) (4.5.0)\n",
            "Requirement already satisfied, skipping upgrade: tokenizers<0.11,>=0.10.1 in /usr/local/lib/python3.7/dist-packages (from transformers<5.0.0,>=3.1.0->sentence-transformers) (0.10.3)\n",
            "Requirement already satisfied, skipping upgrade: filelock in /usr/local/lib/python3.7/dist-packages (from transformers<5.0.0,>=3.1.0->sentence-transformers) (3.0.12)\n",
            "Requirement already satisfied, skipping upgrade: pyparsing>=2.0.2 in /usr/local/lib/python3.7/dist-packages (from packaging->transformers<5.0.0,>=3.1.0->sentence-transformers) (2.4.7)\n",
            "Requirement already satisfied, skipping upgrade: click in /usr/local/lib/python3.7/dist-packages (from sacremoses->transformers<5.0.0,>=3.1.0->sentence-transformers) (7.1.2)\n",
            "Requirement already satisfied, skipping upgrade: idna<3,>=2.5 in /usr/local/lib/python3.7/dist-packages (from requests->transformers<5.0.0,>=3.1.0->sentence-transformers) (2.10)\n",
            "Requirement already satisfied, skipping upgrade: certifi>=2017.4.17 in /usr/local/lib/python3.7/dist-packages (from requests->transformers<5.0.0,>=3.1.0->sentence-transformers) (2021.5.30)\n",
            "Requirement already satisfied, skipping upgrade: chardet<4,>=3.0.2 in /usr/local/lib/python3.7/dist-packages (from requests->transformers<5.0.0,>=3.1.0->sentence-transformers) (3.0.4)\n",
            "Requirement already satisfied, skipping upgrade: urllib3!=1.25.0,!=1.25.1,<1.26,>=1.21.1 in /usr/local/lib/python3.7/dist-packages (from requests->transformers<5.0.0,>=3.1.0->sentence-transformers) (1.24.3)\n",
            "Requirement already satisfied, skipping upgrade: zipp>=0.5 in /usr/local/lib/python3.7/dist-packages (from importlib-metadata; python_version < \"3.8\"->transformers<5.0.0,>=3.1.0->sentence-transformers) (3.4.1)\n"
          ],
          "name": "stdout"
        }
      ]
    },
    {
      "cell_type": "code",
      "metadata": {
        "colab": {
          "base_uri": "https://localhost:8080/"
        },
        "id": "M7VkNVYgOPdd",
        "outputId": "1aae3cc9-8d45-45a2-aa5b-5daca533bedd"
      },
      "source": [
        "import requests\n",
        "import pandas as pd\n",
        "import json\n",
        "import csv\n",
        "import time\n",
        "import datetime\n",
        "import numpy as np\n",
        "import regex as re\n",
        "from collections import Counter\n",
        "from bs4 import BeautifulSoup\n",
        "import spacy\n",
        "from unidecode import unidecode\n",
        "import contractions\n",
        "import re\n",
        "import nltk\n",
        "from nltk.stem import PorterStemmer\n",
        "from sklearn.feature_extraction.text import TfidfVectorizer\n",
        "from gensim.models import word2vec\n",
        "import matplotlib.pyplot as plt\n",
        "from collections import Counter\n",
        "import pprint\n",
        "\n",
        "from sklearn.cluster import KMeans\n",
        "from sklearn.neighbors import KDTree\n",
        "\n",
        "from keras import backend as K\n",
        "\n",
        "from sklearn.model_selection import train_test_split\n",
        "from sklearn.metrics import make_scorer, accuracy_score, precision_score, recall_score, f1_score, confusion_matrix\n",
        "from sklearn.metrics import classification_report\n",
        "\n",
        "from sklearn.model_selection import GridSearchCV\n",
        "from sklearn.metrics import classification_report\n",
        "\n",
        "from sklearn.ensemble import RandomForestClassifier\n",
        "from sklearn.pipeline import Pipeline\n",
        "from sklearn.model_selection import cross_val_score\n",
        "\n",
        "from nltk.corpus import stopwords\n",
        "import tensorflow as tf\n",
        "from tensorflow.keras import layers, models\n",
        "\n",
        "import pickle\n",
        "from sentence_transformers import SentenceTransformer\n",
        "\n",
        "import keras\n",
        "from keras.utils import np_utils\n",
        "from sklearn.utils import class_weight\n",
        "from keras.utils.vis_utils import plot_model\n",
        "\n",
        "import seaborn as sns\n",
        "\n",
        "\n",
        "\n",
        "nltk.download('stopwords')\n",
        "nltk.download('punkt')"
      ],
      "execution_count": 269,
      "outputs": [
        {
          "output_type": "stream",
          "text": [
            "[nltk_data] Downloading package stopwords to /root/nltk_data...\n",
            "[nltk_data]   Package stopwords is already up-to-date!\n",
            "[nltk_data] Downloading package punkt to /root/nltk_data...\n",
            "[nltk_data]   Package punkt is already up-to-date!\n"
          ],
          "name": "stdout"
        },
        {
          "output_type": "execute_result",
          "data": {
            "text/plain": [
              "True"
            ]
          },
          "metadata": {
            "tags": []
          },
          "execution_count": 269
        }
      ]
    },
    {
      "cell_type": "markdown",
      "metadata": {
        "id": "YWDBfUY5YEGc"
      },
      "source": [
        "# Mental Health Reddit Analysis \n",
        "\n",
        "Problem Statement:  A nonprofit agency is interested in new ways to assess mental health using social media.  They want a way to assess someone's mental health using their social media posts.\n",
        "\n",
        "Can we predict if someone has a certain mental illness based on their social media posts about things unrelated to their mental illness?\n",
        "\n",
        "## Data Overview\n",
        "\n",
        "Data will be gathered from Reddit.   Users who post in the following subreddits: PTSD, ADHD, Anxiety, BPD, BipolarReddit, and Depression, as well as a control group chosen randomly from other subreddits that those in the experimental group also post to.\n",
        "Users will be labeled based on flair in subreddits that require users to flag themselves as friend/family member or undiagnosed (BipolarReddit and bpd). Those without that flair will be labeled as having the disorder.   In the other 4 subreddits, self-reported diagnoses will be used to identify users with the disorder (such as \"I was diagnosed with depression\", \"my depression\", etc). Anxiety will not be based on an official diagnosis, but instead on those users who speak about struggling with anxiety (as the problem statement specifies mental health in general, not necessarily diagnosable mental health).  Data will then be gathered from these users' posts in unrelated subreddits."
      ]
    },
    {
      "cell_type": "code",
      "metadata": {
        "colab": {
          "base_uri": "https://localhost:8080/"
        },
        "id": "bhtLFfFnI7-m",
        "outputId": "9bc0e32f-d6df-48b9-b73f-269df5807fdb"
      },
      "source": [
        "from google.colab import drive\n",
        "drive.mount('/content/drive')"
      ],
      "execution_count": 170,
      "outputs": [
        {
          "output_type": "stream",
          "text": [
            "Drive already mounted at /content/drive; to attempt to forcibly remount, call drive.mount(\"/content/drive\", force_remount=True).\n"
          ],
          "name": "stdout"
        }
      ]
    },
    {
      "cell_type": "markdown",
      "metadata": {
        "id": "5KbOpTlnchzo"
      },
      "source": [
        "## Import Data\n",
        "\n",
        "I import the the data for the users that self-identify as having the specified mental illness.  I then make a list of the subreddits they post in most often (not explicitly related to mental health), and export that data to gather the control data. "
      ]
    },
    {
      "cell_type": "code",
      "metadata": {
        "colab": {
          "base_uri": "https://localhost:8080/"
        },
        "id": "3b9At4kHOekn",
        "outputId": "bf7b6fc8-ada6-438d-f5d8-a1d2e1e17155"
      },
      "source": [
        "cd drive/MyDrive/MentalHealthRedditAnalysis/Data/"
      ],
      "execution_count": 171,
      "outputs": [
        {
          "output_type": "stream",
          "text": [
            "[Errno 2] No such file or directory: 'drive/MyDrive/MentalHealthRedditAnalysis/Data/'\n",
            "/content/drive/MyDrive/MentalHealthRedditAnalysis/Data\n"
          ],
          "name": "stdout"
        }
      ]
    },
    {
      "cell_type": "code",
      "metadata": {
        "id": "-j3YoLbmPIAE"
      },
      "source": [
        "#importing the \"experimental\" classes for each mental health group, for both comments and subs\n",
        "anxiety_coms_df = pd.read_csv('anxiety_coms.csv')\n",
        "anxiety_subs_df = pd.read_csv('anxiety_subs.csv')\n",
        "\n",
        "adhd_coms_df = pd.read_csv('adhd_coms.csv')\n",
        "adhd_subs_df = pd.read_csv('adhd_subs.csv')\n",
        "\n",
        "bipolar_coms_df = pd.read_csv('bipolar_coms.csv')\n",
        "bipolar_subs_df = pd.read_csv('bipolar_subs.csv')\n",
        "\n",
        "bpd_coms_df = pd.read_csv('bpd_coms.csv')\n",
        "bpd_subs_df = pd.read_csv('bpd_subs.csv')\n",
        "\n",
        "dep_coms_df = pd.read_csv('dep_coms.csv')\n",
        "dep_subs_df = pd.read_csv('dep_subs.csv')\n",
        "\n",
        "ptsd_coms_df = pd.read_csv('ptsd_coms.csv')\n",
        "ptsd_subs_df = pd.read_csv('ptsd_subs.csv')"
      ],
      "execution_count": 172,
      "outputs": []
    },
    {
      "cell_type": "code",
      "metadata": {
        "id": "Z8C5f23zu4Et",
        "colab": {
          "base_uri": "https://localhost:8080/",
          "height": 625
        },
        "outputId": "898fc082-3180-41a7-c83f-8934664cc9ac"
      },
      "source": [
        "dep_subs_df.head()"
      ],
      "execution_count": 173,
      "outputs": [
        {
          "output_type": "execute_result",
          "data": {
            "text/html": [
              "<div>\n",
              "<style scoped>\n",
              "    .dataframe tbody tr th:only-of-type {\n",
              "        vertical-align: middle;\n",
              "    }\n",
              "\n",
              "    .dataframe tbody tr th {\n",
              "        vertical-align: top;\n",
              "    }\n",
              "\n",
              "    .dataframe thead th {\n",
              "        text-align: right;\n",
              "    }\n",
              "</style>\n",
              "<table border=\"1\" class=\"dataframe\">\n",
              "  <thead>\n",
              "    <tr style=\"text-align: right;\">\n",
              "      <th></th>\n",
              "      <th>Unnamed: 0</th>\n",
              "      <th>sub_id</th>\n",
              "      <th>author</th>\n",
              "      <th>title</th>\n",
              "      <th>url</th>\n",
              "      <th>score</th>\n",
              "      <th>created</th>\n",
              "      <th>created_utc</th>\n",
              "      <th>numComms</th>\n",
              "      <th>permalink</th>\n",
              "      <th>flair</th>\n",
              "      <th>selftex</th>\n",
              "      <th>subreddit</th>\n",
              "    </tr>\n",
              "  </thead>\n",
              "  <tbody>\n",
              "    <tr>\n",
              "      <th>0</th>\n",
              "      <td>0</td>\n",
              "      <td>k40gmp</td>\n",
              "      <td>778</td>\n",
              "      <td>After breakup, I feel completely numb, is this...</td>\n",
              "      <td>https://www.reddit.com/r/relationship_advice/c...</td>\n",
              "      <td>1</td>\n",
              "      <td>2020-11-30 17:29:42</td>\n",
              "      <td>1606757382</td>\n",
              "      <td>2</td>\n",
              "      <td>/r/relationship_advice/comments/k40gmp/after_b...</td>\n",
              "      <td>NaN</td>\n",
              "      <td>[removed]</td>\n",
              "      <td>relationship_advice</td>\n",
              "    </tr>\n",
              "    <tr>\n",
              "      <th>1</th>\n",
              "      <td>1</td>\n",
              "      <td>k416rs</td>\n",
              "      <td>778</td>\n",
              "      <td>I’ve been feeling numb since my breakup that h...</td>\n",
              "      <td>https://www.reddit.com/r/relationship_advice/c...</td>\n",
              "      <td>1</td>\n",
              "      <td>2020-11-30 18:00:53</td>\n",
              "      <td>1606759253</td>\n",
              "      <td>2</td>\n",
              "      <td>/r/relationship_advice/comments/k416rs/ive_bee...</td>\n",
              "      <td>NaN</td>\n",
              "      <td>[removed]</td>\n",
              "      <td>relationship_advice</td>\n",
              "    </tr>\n",
              "    <tr>\n",
              "      <th>2</th>\n",
              "      <td>2</td>\n",
              "      <td>k41j0f</td>\n",
              "      <td>778</td>\n",
              "      <td>Why is this happening? After breakup, I feel c...</td>\n",
              "      <td>https://www.reddit.com/r/relationship_advice/c...</td>\n",
              "      <td>1</td>\n",
              "      <td>2020-11-30 18:15:51</td>\n",
              "      <td>1606760151</td>\n",
              "      <td>3</td>\n",
              "      <td>/r/relationship_advice/comments/k41j0f/why_is_...</td>\n",
              "      <td>NaN</td>\n",
              "      <td>\\nFeeling numb after breakup, is this a normal...</td>\n",
              "      <td>relationship_advice</td>\n",
              "    </tr>\n",
              "    <tr>\n",
              "      <th>3</th>\n",
              "      <td>3</td>\n",
              "      <td>k4b7mu</td>\n",
              "      <td>778</td>\n",
              "      <td>Why is this happening? After breakup, I feel c...</td>\n",
              "      <td>https://www.reddit.com/r/relationship_advice/c...</td>\n",
              "      <td>1</td>\n",
              "      <td>2020-12-01 02:10:18</td>\n",
              "      <td>1606788618</td>\n",
              "      <td>1</td>\n",
              "      <td>/r/relationship_advice/comments/k4b7mu/why_is_...</td>\n",
              "      <td>NaN</td>\n",
              "      <td>\\n\\nFeeling numb after breakup, is this a norm...</td>\n",
              "      <td>relationship_advice</td>\n",
              "    </tr>\n",
              "    <tr>\n",
              "      <th>4</th>\n",
              "      <td>4</td>\n",
              "      <td>k4rqs5</td>\n",
              "      <td>778</td>\n",
              "      <td>I don’t know why this is happening. It’s been ...</td>\n",
              "      <td>https://www.reddit.com/r/relationship_advice/c...</td>\n",
              "      <td>1</td>\n",
              "      <td>2020-12-01 19:13:17</td>\n",
              "      <td>1606849997</td>\n",
              "      <td>9</td>\n",
              "      <td>/r/relationship_advice/comments/k4rqs5/i_dont_...</td>\n",
              "      <td>NaN</td>\n",
              "      <td>I’m confused about my feelings. So, I have a h...</td>\n",
              "      <td>relationship_advice</td>\n",
              "    </tr>\n",
              "  </tbody>\n",
              "</table>\n",
              "</div>"
            ],
            "text/plain": [
              "   Unnamed: 0  ...            subreddit\n",
              "0           0  ...  relationship_advice\n",
              "1           1  ...  relationship_advice\n",
              "2           2  ...  relationship_advice\n",
              "3           3  ...  relationship_advice\n",
              "4           4  ...  relationship_advice\n",
              "\n",
              "[5 rows x 13 columns]"
            ]
          },
          "metadata": {
            "tags": []
          },
          "execution_count": 173
        }
      ]
    },
    {
      "cell_type": "code",
      "metadata": {
        "id": "ZoVEb0__o-HE"
      },
      "source": [
        "#helper functions to count how popular subreddits are\n",
        "def combineSubreddits(dict, dict2):\n",
        "  \"\"\" combines 2 dictionaries, adds the values in both if they exist in both \"\"\"\n",
        "  for key, value in dict2.items():\n",
        "    if key in dict:\n",
        "      new_count = dict.get(key) + value\n",
        "      dict[key] = new_count\n",
        "    else:\n",
        "      dict[key] = value"
      ],
      "execution_count": 174,
      "outputs": []
    },
    {
      "cell_type": "code",
      "metadata": {
        "id": "aHcNk-O8p-eR"
      },
      "source": [
        "def getSubredditCounts(df1, df2):\n",
        "  \"\"\" Gets the subreddit columns from 2 data frames and combines them together,\n",
        "  returning a dictionary of the value and count. \"\"\" \n",
        "  count1 = df1['subreddit'].value_counts()\n",
        "  count2 = df2['subreddit'].value_counts()\n",
        "  count1 = count1.to_dict()\n",
        "  count2 = count2.to_dict()\n",
        "  final = count2\n",
        "  combineSubreddits(final, count1)\n",
        "  return final"
      ],
      "execution_count": 175,
      "outputs": []
    },
    {
      "cell_type": "code",
      "metadata": {
        "id": "sK4_DpQttTlB"
      },
      "source": [
        "ptsd_subreddits = getSubredditCounts(ptsd_subs_df, ptsd_coms_df)\n",
        "anxiety_subreddits = getSubredditCounts(anxiety_subs_df, anxiety_coms_df)\n",
        "dep_subreddits = getSubredditCounts(dep_subs_df, dep_coms_df)\n",
        "adhd_subreddits = getSubredditCounts(adhd_subs_df, adhd_coms_df)\n",
        "bipolar_subreddits = getSubredditCounts(bipolar_subs_df, bipolar_coms_df)\n",
        "bpd_subreddits = getSubredditCounts(bpd_subs_df, bpd_coms_df)"
      ],
      "execution_count": 176,
      "outputs": []
    },
    {
      "cell_type": "code",
      "metadata": {
        "id": "IZ5USD6OulV8",
        "colab": {
          "base_uri": "https://localhost:8080/"
        },
        "outputId": "9688b2ae-e713-49f0-8f91-bf184eba2a88"
      },
      "source": [
        "#now combine them all for a master list: \n",
        "partial_subreddit_list = [anxiety_subreddits, dep_subreddits, adhd_subreddits,\n",
        "                  bipolar_subreddits, bpd_subreddits]\n",
        "\n",
        "all_subreddits = ptsd_subreddits\n",
        "for item in partial_subreddit_list:\n",
        "  combineSubreddits(all_subreddits, item)\n",
        "\n",
        "all_subreddits['atheism']"
      ],
      "execution_count": 177,
      "outputs": [
        {
          "output_type": "execute_result",
          "data": {
            "text/plain": [
              "43"
            ]
          },
          "metadata": {
            "tags": []
          },
          "execution_count": 177
        }
      ]
    },
    {
      "cell_type": "code",
      "metadata": {
        "id": "LGXp_8cBvl_n",
        "colab": {
          "base_uri": "https://localhost:8080/"
        },
        "outputId": "6a6555e3-c5e9-4b9e-cbc2-d9e52a9abe37"
      },
      "source": [
        "#sort the list in terms of frequency \n",
        "all_subreddits_sorted = sorted(all_subreddits.items(), key=lambda x: x[1], reverse=True)\n",
        "all_subreddits_sorted"
      ],
      "execution_count": 178,
      "outputs": [
        {
          "output_type": "execute_result",
          "data": {
            "text/plain": [
              "[('AskReddit', 5522),\n",
              " ('BipolarReddit', 3818),\n",
              " ('ADHD', 2936),\n",
              " ('Anxiety', 2105),\n",
              " ('BPD', 1866),\n",
              " ('depression', 1840),\n",
              " ('ptsd', 1384),\n",
              " ('relationship_advice', 1242),\n",
              " ('bipolar', 1186),\n",
              " ('teenagers', 1056),\n",
              " ('AmItheAsshole', 846),\n",
              " ('CPTSD', 752),\n",
              " ('unpopularopinion', 730),\n",
              " ('relationships', 640),\n",
              " ('Advice', 630),\n",
              " ('memes', 600),\n",
              " ('SuicideWatch', 592),\n",
              " ('NoStupidQuestions', 557),\n",
              " ('mentalhealth', 506),\n",
              " ('raisedbynarcissists', 484),\n",
              " ('BPDmemes', 442),\n",
              " ('trees', 438),\n",
              " ('offmychest', 428),\n",
              " ('aww', 428),\n",
              " ('wallstreetbets', 421),\n",
              " ('bipolar2', 392),\n",
              " ('selfharm', 387),\n",
              " ('RedditSessions', 377),\n",
              " ('MadeOfStyrofoam', 368),\n",
              " ('AskDocs', 359),\n",
              " ('sex', 344),\n",
              " ('Drugs', 342),\n",
              " ('cats', 305),\n",
              " ('dogecoin', 294),\n",
              " ('AskWomen', 283),\n",
              " ('NoFap', 283),\n",
              " ('funny', 275),\n",
              " ('TrueOffMyChest', 266),\n",
              " ('Showerthoughts', 265),\n",
              " ('NarcissisticAbuse', 262),\n",
              " ('dating_advice', 254),\n",
              " ('pics', 251),\n",
              " ('playboicarti', 251),\n",
              " ('AskMen', 240),\n",
              " ('PublicFreakout', 236),\n",
              " ('OCD', 235),\n",
              " ('TwoXChromosomes', 227),\n",
              " ('dankmemes', 227),\n",
              " ('Cringetopia', 226),\n",
              " ('nba', 224),\n",
              " ('interestingasfuck', 223),\n",
              " ('amiugly', 212),\n",
              " ('politics', 210),\n",
              " ('BreakUps', 207),\n",
              " ('Vent', 207),\n",
              " ('BorderlinePDisorder', 206),\n",
              " ('todayilearned', 197),\n",
              " ('weed', 196),\n",
              " ('CasualConversation', 196),\n",
              " ('lgbt', 196),\n",
              " ('childfree', 195),\n",
              " ('distantsocializing', 192),\n",
              " ('zoloft', 192),\n",
              " ('AnimalCrossing', 188),\n",
              " ('lonely', 184),\n",
              " ('FashionReps', 184),\n",
              " ('worldnews', 183),\n",
              " ('AMA', 183),\n",
              " ('gaming', 181),\n",
              " ('hiphopheads', 179),\n",
              " ('adhdwomen', 178),\n",
              " ('EDAnonymous', 178),\n",
              " ('infp', 175),\n",
              " ('stopdrinking', 172),\n",
              " ('TooAfraidToAsk', 172),\n",
              " ('socialskills', 172),\n",
              " ('leagueoflegends', 170),\n",
              " ('apexlegends', 170),\n",
              " ('askgaybros', 168),\n",
              " ('mildlyinteresting', 165),\n",
              " ('rant', 164),\n",
              " ('BipolarSOs', 162),\n",
              " ('legaladvice', 161),\n",
              " ('anime', 160),\n",
              " ('LSD', 159),\n",
              " ('aspergers', 155),\n",
              " ('pcmasterrace', 154),\n",
              " ('BPDlovedones', 154),\n",
              " ('news', 151),\n",
              " ('therapy', 151),\n",
              " ('mentalillness', 151),\n",
              " ('BPDlite', 151),\n",
              " ('PoliticalCompassMemes', 149),\n",
              " ('buildapc', 148),\n",
              " ('Aquariums', 147),\n",
              " ('dating', 147),\n",
              " ('ftm', 147),\n",
              " ('ExNoContact', 144),\n",
              " ('insomnia', 144),\n",
              " ('curlyhair', 143),\n",
              " ('benzodiazepines', 141),\n",
              " ('AskPsychiatry', 141),\n",
              " ('AskTeenGirls', 140),\n",
              " ('MakeNewFriendsHere', 140),\n",
              " ('dogs', 139),\n",
              " ('Teachers', 139),\n",
              " ('nfl', 139),\n",
              " ('AskOuija', 138),\n",
              " ('adhdmeme', 138),\n",
              " ('lexapro', 138),\n",
              " ('MakeupAddiction', 136),\n",
              " ('TaylorSwift', 136),\n",
              " ('thesims', 135),\n",
              " ('PewdiepieSubmissions', 135),\n",
              " ('loseit', 133),\n",
              " ('TalkTherapy', 133),\n",
              " ('autism', 133),\n",
              " ('tipofmytongue', 132),\n",
              " ('Mcat', 132),\n",
              " ('AskWomenOver30', 131),\n",
              " ('RoastMe', 131),\n",
              " ('FortNiteBR', 131),\n",
              " ('HealthAnxiety', 130),\n",
              " ('polls', 127),\n",
              " ('WWEGames', 126),\n",
              " ('CoronavirusUK', 126),\n",
              " ('FreeCompliments', 125),\n",
              " ('medical', 125),\n",
              " ('personalfinance', 124),\n",
              " ('asktransgender', 123),\n",
              " ('changemyview', 123),\n",
              " ('confession', 122),\n",
              " ('Epilepsy', 122),\n",
              " ('TheYouShow', 122),\n",
              " ('StarWars', 122),\n",
              " ('bois', 121),\n",
              " ('starterpacks', 121),\n",
              " ('SkincareAddiction', 121),\n",
              " ('Meditation', 120),\n",
              " ('196', 120),\n",
              " ('lawofattraction', 118),\n",
              " ('pregnant', 118),\n",
              " ('socialanxiety', 118),\n",
              " ('MadeMeSmile', 117),\n",
              " ('antidepressants', 117),\n",
              " ('spirituality', 116),\n",
              " ('exmuslim', 116),\n",
              " ('LifeProTips', 113),\n",
              " ('WTF', 112),\n",
              " ('Sims4', 112),\n",
              " ('PurplePillDebate', 111),\n",
              " ('wholesomememes', 110),\n",
              " ('schizophrenia', 110),\n",
              " ('trashy', 108),\n",
              " ('gonewild', 107),\n",
              " ('nyc', 107),\n",
              " ('Osana', 107),\n",
              " ('fasting', 107),\n",
              " ('Tinder', 106),\n",
              " ('Christianity', 106),\n",
              " ('selfimprovement', 106),\n",
              " ('survivor', 105),\n",
              " ('asexuality', 105),\n",
              " ('TikTokCringe', 105),\n",
              " ('Coronavirus', 104),\n",
              " ('college', 103),\n",
              " ('leaves', 103),\n",
              " ('Genshin_Impact', 103),\n",
              " ('soccer', 103),\n",
              " ('cyberpunkgame', 102),\n",
              " ('traaaaaaannnnnnnnnns', 101),\n",
              " ('oddlysatisfying', 101),\n",
              " ('nextfuckinglevel', 101),\n",
              " ('shrooms', 101),\n",
              " ('Anxietyhelp', 101),\n",
              " ('AskAstrologers', 101),\n",
              " ('UnsentLetters', 100),\n",
              " ('piercing', 99),\n",
              " ('Psychosis', 99),\n",
              " ('niceguys', 99),\n",
              " ('Depop', 98),\n",
              " ('ibs', 98),\n",
              " ('thebachelor', 98),\n",
              " ('videos', 95),\n",
              " ('CasualUK', 94),\n",
              " ('indonesia', 93),\n",
              " ('sewing', 92),\n",
              " ('Minecraft', 92),\n",
              " ('apple', 92),\n",
              " ('FemaleDatingStrategy', 92),\n",
              " ('recruitinghell', 92),\n",
              " ('CryptoCurrency', 92),\n",
              " ('BodyDysmorphia', 92),\n",
              " ('tifu', 91),\n",
              " ('service_dogs', 91),\n",
              " ('hockey', 91),\n",
              " ('breakingmom', 91),\n",
              " ('explainlikeimfive', 90),\n",
              " ('NintendoSwitch', 90),\n",
              " ('Psychonaut', 90),\n",
              " ('DecidingToBeBetter', 89),\n",
              " ('COVID19positive', 89),\n",
              " ('insanepeoplefacebook', 88),\n",
              " ('jobs', 88),\n",
              " ('pornfree', 88),\n",
              " ('blackcats', 88),\n",
              " ('CysticFibrosis', 88),\n",
              " ('RealEstate', 87),\n",
              " ('de', 87),\n",
              " ('bisexual', 87),\n",
              " ('Psychic', 87),\n",
              " ('askwomenadvice', 87),\n",
              " ('sportsbook', 87),\n",
              " ('mildlyinfuriating', 86),\n",
              " ('DoesAnybodyElse', 86),\n",
              " ('writing', 86),\n",
              " ('Fitness', 86),\n",
              " ('self', 86),\n",
              " ('benzorecovery', 86),\n",
              " ('Needafriend', 85),\n",
              " ('RedDeadOnline', 85),\n",
              " ('wow', 85),\n",
              " ('CBD', 84),\n",
              " ('birthcontrol', 84),\n",
              " ('antiwork', 84),\n",
              " ('mbti', 84),\n",
              " ('GERD', 83),\n",
              " ('me_irl', 83),\n",
              " ('r4r', 83),\n",
              " ('formula1', 82),\n",
              " ('creepyPMs', 82),\n",
              " ('SelfHarmScars', 82),\n",
              " ('stocks', 82),\n",
              " ('Hellenism', 82),\n",
              " ('AmongUs', 82),\n",
              " ('PokemonTCG', 81),\n",
              " ('2meirl4meirl', 81),\n",
              " ('KGATLW', 81),\n",
              " ('asktrp', 80),\n",
              " ('TeenMomOGandTeenMom2', 80),\n",
              " ('actuallesbians', 79),\n",
              " ('confessions', 79),\n",
              " ('Wishlist', 79),\n",
              " ('movies', 79),\n",
              " ('kroger', 79),\n",
              " ('femalehairadvice', 79),\n",
              " ('ChronicPain', 78),\n",
              " ('BeautyGuruChatter', 78),\n",
              " ('peaceCorpsCoding', 78),\n",
              " ('depression_memes', 78),\n",
              " ('MaddenUltimateTeam', 77),\n",
              " ('Parenting', 77),\n",
              " ('iamatotalpieceofshit', 77),\n",
              " ('DrMartens', 77),\n",
              " ('TumblrInAction', 76),\n",
              " ('bulimia', 76),\n",
              " ('india', 75),\n",
              " ('techsupport', 75),\n",
              " ('Sneakers', 75),\n",
              " ('DunderMifflin', 74),\n",
              " ('Random_Acts_Of_Amazon', 74),\n",
              " ('WhitePeopleTwitter', 74),\n",
              " ('gifs', 73),\n",
              " ('conspiracy', 73),\n",
              " ('medical_advice', 73),\n",
              " ('summonerswar', 73),\n",
              " ('transOCD', 73),\n",
              " ('deadbydaylight', 72),\n",
              " ('TallTeenagers', 72),\n",
              " ('prettyaltgirls', 71),\n",
              " ('harrypotter', 71),\n",
              " ('dpdr', 71),\n",
              " ('Marriage', 71),\n",
              " ('AnimalsOnReddit', 71),\n",
              " ('suggestmeabook', 71),\n",
              " ('JUSTNOMIL', 70),\n",
              " ('SubredditDrama', 70),\n",
              " ('MechanicalKeyboards', 70),\n",
              " ('INTP', 70),\n",
              " ('microdosing', 70),\n",
              " ('SquaredCircle', 70),\n",
              " ('Petloss', 70),\n",
              " ('GoForGold', 70),\n",
              " ('Conservative', 69),\n",
              " ('RocketLeagueExchange', 69),\n",
              " ('Sat', 69),\n",
              " ('tattoos', 68),\n",
              " ('short', 68),\n",
              " ('books', 68),\n",
              " ('EDanonymemes', 68),\n",
              " ('delta8', 67),\n",
              " ('Codependency', 67),\n",
              " ('trumpet', 66),\n",
              " ('TheMandalorianTV', 66),\n",
              " ('Chiraqology', 66),\n",
              " ('cursedcomments', 65),\n",
              " ('2007scape', 65),\n",
              " ('keto', 65),\n",
              " ('AskUK', 65),\n",
              " ('migraine', 65),\n",
              " ('intj', 64),\n",
              " ('careerguidance', 64),\n",
              " ('CallOfDutyMobile', 64),\n",
              " ('Hamilton', 63),\n",
              " ('horror', 63),\n",
              " ('blackdesertonline', 63),\n",
              " ('JoeBiden', 63),\n",
              " ('pan_media', 63),\n",
              " ('depressionregimens', 63),\n",
              " ('NoFeeAC', 63),\n",
              " ('whatisthisthing', 62),\n",
              " ('Rabbits', 62),\n",
              " ('facepalm', 62),\n",
              " ('languagelearning', 62),\n",
              " ('SimDemocracy', 62),\n",
              " ('askanincel', 61),\n",
              " ('ImaginaryHorrors', 61),\n",
              " ('Narcolepsy', 61),\n",
              " ('Amoledbackgrounds', 61),\n",
              " ('onewordeach', 61),\n",
              " ('homestuck', 60),\n",
              " ('AskAnAmerican', 60),\n",
              " ('MakeMeSuffer', 60),\n",
              " ('houseplants', 60),\n",
              " ('Supplements', 60),\n",
              " ('FORTnITE', 60),\n",
              " ('HeadphoneAdvice', 60),\n",
              " ('AvPD', 60),\n",
              " ('SafeMoon', 59),\n",
              " ('MtF', 59),\n",
              " ('Wellthatsucks', 59),\n",
              " ('BlackPeopleTwitter', 59),\n",
              " ('Music', 59),\n",
              " ('PCOS', 59),\n",
              " ('Crystals', 59),\n",
              " ('PokemonGoRaids', 59),\n",
              " ('SamONellaAcademy', 59),\n",
              " ('schizoaffective', 59),\n",
              " ('selfie', 58),\n",
              " ('introvert', 58),\n",
              " ('ChoosingBeggars', 57),\n",
              " ('Hair', 57),\n",
              " ('titanfolk', 57),\n",
              " ('Empaths', 57),\n",
              " ('AreTheStraightsOK', 57),\n",
              " ('AnxiousAttachment', 57),\n",
              " ('DMT', 57),\n",
              " ('science', 56),\n",
              " ('MorbidReality', 56),\n",
              " ('CrohnsDisease', 56),\n",
              " ('4595', 56),\n",
              " ('depression_help', 56),\n",
              " ('Overwatch', 56),\n",
              " ('Periods', 56),\n",
              " ('chat', 56),\n",
              " ('FemaleLevelUpStrategy', 56),\n",
              " ('redscarepod', 56),\n",
              " ('forhonor', 55),\n",
              " ('acne', 55),\n",
              " ('bettafish', 55),\n",
              " ('OldSchoolCool', 55),\n",
              " ('progresspics', 55),\n",
              " ('morbidquestions', 55),\n",
              " ('egg_irl', 55),\n",
              " ('vegan', 55),\n",
              " ('prozac', 55),\n",
              " ('Dentistry', 55),\n",
              " ('ClashOfClans', 55),\n",
              " ('amcstock', 55),\n",
              " ('PsilocybinMushrooms', 54),\n",
              " ('getdisciplined', 54),\n",
              " ('DnD', 54),\n",
              " ('fantasyfootball', 54),\n",
              " ('BingeEatingDisorder', 54),\n",
              " ('Wizard101', 54),\n",
              " ('Eberron', 53),\n",
              " ('entwives', 53),\n",
              " ('narcissisticparents', 53),\n",
              " ('IdiotsInCars', 53),\n",
              " ('AnorexiaNervosa', 53),\n",
              " ('Art', 53),\n",
              " ('pokemongo', 53),\n",
              " ('Saggy', 53),\n",
              " ('UFOs', 53),\n",
              " ('makinghiphop', 53),\n",
              " ('depressed', 53),\n",
              " ('Snus', 53),\n",
              " ('randomactsofamazon', 52),\n",
              " ('LawofAttractionAdvice', 52),\n",
              " ('budgies', 52),\n",
              " ('Cooking', 52),\n",
              " ('food', 52),\n",
              " ('witchcraft', 52),\n",
              " ('commandandconquer', 52),\n",
              " ('FortniteCompetitive', 52),\n",
              " ('ask', 52),\n",
              " ('WritingPrompts', 52),\n",
              " ('RATS', 52),\n",
              " ('h3h3productions', 52),\n",
              " ('GMT400', 52),\n",
              " ('gardening', 51),\n",
              " ('GlobalOffensive', 51),\n",
              " ('kratom', 51),\n",
              " ('AskRedditAfterDark', 51),\n",
              " ('sad', 51),\n",
              " ('ATBGE', 51),\n",
              " ('masskillers', 51),\n",
              " ('Screenwriting', 51),\n",
              " ('datingoverthirty', 51),\n",
              " ('Christian', 51),\n",
              " ('Repsneakers', 51),\n",
              " ('TransTryouts', 51),\n",
              " ('Hashimotos', 50),\n",
              " ('witcher', 50),\n",
              " ('AdviceAnimals', 50),\n",
              " ('polyamory', 50),\n",
              " ('OCPoetry', 50),\n",
              " ('Instagramreality', 50),\n",
              " ('WatchPeopleDieInside', 50),\n",
              " ('stupidpol', 50),\n",
              " ('yungblud', 50),\n",
              " ('LifeAdvice', 50),\n",
              " ('MoneyDiariesACTIVE', 50),\n",
              " ('insaneparents', 49),\n",
              " ('UnresolvedMysteries', 49),\n",
              " ('PMDD', 49),\n",
              " ('europe', 49),\n",
              " ('okbuddyretard', 49),\n",
              " ('entitledparents', 49),\n",
              " ('dirtyr4r', 49),\n",
              " ('TheArtistStudio', 49),\n",
              " ('opiates', 49),\n",
              " ('hsp', 49),\n",
              " ('DotA2', 49),\n",
              " ('marvelstudios', 49),\n",
              " ('astrology', 49),\n",
              " ('Philippines', 49),\n",
              " ('MMA', 49),\n",
              " ('GearsOfWar', 49),\n",
              " ('BBW', 48),\n",
              " ('alcoholism', 48),\n",
              " ('AquaSwap', 48),\n",
              " ('WalgreensStores', 48),\n",
              " ('Albany', 48),\n",
              " ('GetMotivated', 48),\n",
              " ('CongratsLikeImFive', 48),\n",
              " ('puppy101', 48),\n",
              " ('IllegalLifeProTips', 48),\n",
              " ('preppers', 48),\n",
              " ('RandomActsofCards', 48),\n",
              " ('90DayFiance', 48),\n",
              " ('nursing', 48),\n",
              " ('povertyfinance', 48),\n",
              " ('addiction', 48),\n",
              " ('dxm', 48),\n",
              " ('ITCareerQuestions', 48),\n",
              " ('MLB_9Innings', 48),\n",
              " ('heartbreak', 48),\n",
              " ('NPD', 48),\n",
              " ('rupaulsdragrace', 48),\n",
              " ('Enneagram', 48),\n",
              " ('u_PasjrWoctx', 48),\n",
              " ('DissociaDiscourse', 47),\n",
              " ('MGTOW', 47),\n",
              " ('SuicideBereavement', 47),\n",
              " ('popping', 47),\n",
              " ('JusticeServed', 47),\n",
              " ('findareddit', 47),\n",
              " ('OnlyFansPromotions', 47),\n",
              " ('emetophobia', 47),\n",
              " ('PlantedTank', 46),\n",
              " ('NonBinary', 46),\n",
              " ('pokemon', 46),\n",
              " ('Embroidery', 46),\n",
              " ('CrappyDesign', 46),\n",
              " ('Lithium', 46),\n",
              " ('ACTrade', 46),\n",
              " ('AmateurRoomPorn', 46),\n",
              " ('MDMA', 46),\n",
              " ('ApplyingToCollege', 46),\n",
              " ('unclebens', 46),\n",
              " ('entj', 45),\n",
              " ('rage', 45),\n",
              " ('drawing', 45),\n",
              " ('freefolk', 45),\n",
              " ('weddingplanning', 45),\n",
              " ('Stims', 45),\n",
              " ('xxfitness', 45),\n",
              " ('awfuleverything', 45),\n",
              " ('GaySnapchat', 45),\n",
              " ('redditgetsdrawn', 45),\n",
              " ('pennystocks', 45),\n",
              " ('Poems', 45),\n",
              " ('Vindicta', 45),\n",
              " ('fragrancejerks', 45),\n",
              " ('MakingaMurderer', 44),\n",
              " ('OkCupid', 44),\n",
              " ('radiohead', 44),\n",
              " ('Dermatillomania', 44),\n",
              " ('casualiama', 44),\n",
              " ('OverwatchUniversity', 44),\n",
              " ('saplings', 44),\n",
              " ('chubby', 44),\n",
              " ('plantclinic', 44),\n",
              " ('GachaLifeCringe', 44),\n",
              " ('DeadBedrooms', 44),\n",
              " ('Truckers', 44),\n",
              " ('homeless', 44),\n",
              " ('AdmiralBulldog', 44),\n",
              " ('HPPD', 43),\n",
              " ('DissociaDID', 43),\n",
              " ('cuboulder', 43),\n",
              " ('BabyBumps', 43),\n",
              " ('LGBTeens', 43),\n",
              " ('internetparents', 43),\n",
              " ('disability', 43),\n",
              " ('atheism', 43),\n",
              " ('dirtykikpals', 43),\n",
              " ('PS5', 43),\n",
              " ('elderscrollsonline', 43),\n",
              " ('stimuluscheck', 43),\n",
              " ('WouldYouRather', 43),\n",
              " ('vexillology', 43),\n",
              " ('hamsters', 43),\n",
              " ('BipolarMemes', 43),\n",
              " ('auntydonna', 43),\n",
              " ('adultsurvivors', 42),\n",
              " ('GriefSupport', 42),\n",
              " ('Unexpected', 42),\n",
              " ('Equestrian', 42),\n",
              " ('askatherapist', 42),\n",
              " ('PoliticalHumor', 42),\n",
              " ('Qult_Headquarters', 42),\n",
              " ('IndieMusicFeedback', 42),\n",
              " ('seinfeld', 42),\n",
              " ('ClopClop', 42),\n",
              " ('watch_dogs', 42),\n",
              " ('Catholicism', 41),\n",
              " ('longbeach', 41),\n",
              " ('tattoo', 41),\n",
              " ('Horses', 41),\n",
              " ('gameofthrones', 41),\n",
              " ('quotes', 41),\n",
              " ('PS4', 41),\n",
              " ('modernwarfare', 41),\n",
              " ('ForeverAlone', 41),\n",
              " ('pcgaming', 41),\n",
              " ('AskVet', 41),\n",
              " ('firstimpression', 41),\n",
              " ('hardwareswap', 41),\n",
              " ('dune', 41),\n",
              " ('blackopscoldwar', 41),\n",
              " ('DankLeft', 41),\n",
              " ('leangains', 41),\n",
              " ('OtomeIsekai', 41),\n",
              " ('gaybrosgonemild', 41),\n",
              " ('domesticviolence', 40),\n",
              " ('rape', 40),\n",
              " ('Jokes', 40),\n",
              " ('im14andthisisdeep', 40),\n",
              " ('psychology', 40),\n",
              " ('CPTSDmemes', 40),\n",
              " ('PiercingAdvice', 40),\n",
              " ('exchristian', 40),\n",
              " ('FreeKarma4U', 40),\n",
              " ('youngadults', 40),\n",
              " ('popheads', 40),\n",
              " ('FemBoys', 40),\n",
              " ('Bahrain', 39),\n",
              " ('namenerds', 39),\n",
              " ('whatsthisplant', 39),\n",
              " ('applehelp', 39),\n",
              " ('PlasticSurgery', 39),\n",
              " ('nottheonion', 39),\n",
              " ('LongDistance', 39),\n",
              " ('xboxone', 39),\n",
              " ('KidCudi', 39),\n",
              " ('MapPorn', 39),\n",
              " ('MeetPeople', 39),\n",
              " ('Tau40K', 39),\n",
              " ('isfp', 38),\n",
              " ('GCSE', 38),\n",
              " ('technology', 38),\n",
              " ('Assistance', 38),\n",
              " ('Crushes', 38),\n",
              " ('WitchesVsPatriarchy', 38),\n",
              " ('Etsy', 38),\n",
              " ('adhd_anxiety', 38),\n",
              " ('NewJerseyMarijuana', 38),\n",
              " ('HolUp', 38),\n",
              " ('bose', 38),\n",
              " ('Eldenring', 38),\n",
              " ('BattleForDreamIsland', 38),\n",
              " ('IAmA', 37),\n",
              " ('ffxiv', 37),\n",
              " ('AskMenOver30', 37),\n",
              " ('PokemonGoFriends', 37),\n",
              " ('jacksepticeye', 37),\n",
              " ('AutisticPride', 37),\n",
              " ('ThriftStoreHauls', 37),\n",
              " ('TheVampireDiaries', 37),\n",
              " ('intermittentfasting', 37),\n",
              " ('EscapefromTarkov', 37),\n",
              " ('AnxietyDepression', 37),\n",
              " ('Arrangedmarriage', 37),\n",
              " ('tinytower', 37),\n",
              " ('fakedisordercringe', 37),\n",
              " ('pathofexile', 37),\n",
              " ('FindingFennsGold', 36),\n",
              " ('Bumble', 36),\n",
              " ('unitedkingdom', 36),\n",
              " ('youngpeopleyoutube', 36),\n",
              " ('Eyebleach', 36),\n",
              " ('FanFiction', 36),\n",
              " ('liluzivert', 36),\n",
              " ('TIHI', 36),\n",
              " ('Justrolledintotheshop', 36),\n",
              " ('askscience', 36),\n",
              " ('infj', 36),\n",
              " ('astrologyreadings', 36),\n",
              " ('socialwork', 36),\n",
              " ('borrow', 36),\n",
              " ('drunk', 36),\n",
              " ('meirl', 36),\n",
              " ('oilpen', 36),\n",
              " ('HotMoms', 36),\n",
              " ('abortion', 36),\n",
              " ('njpw', 36),\n",
              " ('Buddhism', 36),\n",
              " ('Libertarian', 36),\n",
              " ('buffy', 36),\n",
              " ('Dolls', 36),\n",
              " ('sugarlifestyleforum', 36),\n",
              " ('lifeisstrange', 35),\n",
              " ('TrollXChromosomes', 35),\n",
              " ('BlueMidterm2018', 35),\n",
              " ('VALORANT', 35),\n",
              " ('Damnthatsinteresting', 35),\n",
              " ('trans', 35),\n",
              " ('BoJackHorseman', 35),\n",
              " ('toastme', 35),\n",
              " ('coolguides', 35),\n",
              " ('Dreams', 35),\n",
              " ('copypasta', 35),\n",
              " ('TheGirlSurvivalGuide', 35),\n",
              " ('6thForm', 35),\n",
              " ('helpme', 35),\n",
              " ('gtaonline', 35),\n",
              " ('Entrepreneur', 35),\n",
              " ('adderall', 35),\n",
              " ('bigdickproblems', 35),\n",
              " ('ECEProfessionals', 35),\n",
              " ('GME', 35),\n",
              " ('NCSU', 35),\n",
              " ('antiMLM', 34),\n",
              " ('nosleep', 34),\n",
              " ('tumblr', 34),\n",
              " ('Healthyhooha', 34),\n",
              " ('comedyheaven', 34),\n",
              " ('blursedimages', 34),\n",
              " ('youtube', 34),\n",
              " ('tarot', 34),\n",
              " ('StudentNurse', 34),\n",
              " ('help', 34),\n",
              " ('askteenboys', 34),\n",
              " ('BlackLivesMatter', 34),\n",
              " ('nutrition', 34),\n",
              " ('ShaneDawson', 34),\n",
              " ('IWantToLearn', 34),\n",
              " ('furry', 34),\n",
              " ('obeyme', 34),\n",
              " ('Dreadlocks', 34),\n",
              " ('DressUpTimePrincess', 34),\n",
              " ('fitbit', 33),\n",
              " ('punk', 33),\n",
              " ('DeathStranding', 33),\n",
              " ('makeupexchange', 33),\n",
              " ('Fibromyalgia', 33),\n",
              " ('Wicca', 33),\n",
              " ('thatHappened', 33),\n",
              " ('Guitar', 33),\n",
              " ('Illustration', 33),\n",
              " ('OnePiece', 33),\n",
              " ('GenZedong', 33),\n",
              " ('TownofSalemgame', 33),\n",
              " ('shittyfoodporn', 33),\n",
              " ('reddevils', 33),\n",
              " ('Lyme', 33),\n",
              " ('amateurradio', 33),\n",
              " ('TheGamerLounge', 33),\n",
              " ('linux_gaming', 33),\n",
              " ('seculartalk', 33),\n",
              " ('u_John_Malanca', 33),\n",
              " ('tennis', 32),\n",
              " ('boulder', 32),\n",
              " ('nostalgia', 32),\n",
              " ('FantasyPL', 32),\n",
              " ('bigboobproblems', 32),\n",
              " ('Whatcouldgowrong', 32),\n",
              " ('Rollerskating', 32),\n",
              " ('CrossStitch', 32),\n",
              " ('photography', 32),\n",
              " ('classicwow', 32),\n",
              " ('TwoSentenceHorror', 32),\n",
              " ('onlyfansgirls101', 32),\n",
              " ('Gamingcirclejerk', 32),\n",
              " ('findfashion', 32),\n",
              " ('seduction', 32),\n",
              " ('selfharmpics', 32),\n",
              " ('Target', 32),\n",
              " ('Paranormal', 32),\n",
              " ('halloween', 32),\n",
              " ('MortalKombat', 32),\n",
              " ('assassinscreed', 32),\n",
              " ('Gunners', 32),\n",
              " ('COVID19_support', 32),\n",
              " ('Smite', 32),\n",
              " ('nespresso', 32),\n",
              " ('SpaceflightSimulator', 32),\n",
              " ('EIDL', 32),\n",
              " ('MarvelStudiosSpoilers', 32),\n",
              " ('NYYankees', 31),\n",
              " ('EntitledPeople', 31),\n",
              " ('rapecounseling', 31),\n",
              " ('vancouver', 31),\n",
              " ('MacMiller', 31),\n",
              " ('talentShow', 31),\n",
              " ('needadvice', 31),\n",
              " ('NEET', 31),\n",
              " ('NatureIsFuckingLit', 31),\n",
              " ('StardewValley', 31),\n",
              " ('1200isplenty', 31),\n",
              " ('beauty', 31),\n",
              " ('AsianParentStories', 31),\n",
              " ('USPS', 31),\n",
              " ('ABraThatFits', 31),\n",
              " ('MechanicAdvice', 31),\n",
              " ('ACPocketCamp', 31),\n",
              " ('sales', 31),\n",
              " ('ThePortal', 31),\n",
              " ('walmart', 31),\n",
              " ('SchoolSystemBroke', 31),\n",
              " ('IndianGaming', 31),\n",
              " ('traderjoes', 31),\n",
              " ('ENLIGHTENEDCENTRISM', 31),\n",
              " ('u_Immensity3127', 31),\n",
              " ('dataisbeautiful', 30),\n",
              " ('Dabs', 30),\n",
              " ('AdultChildren', 30),\n",
              " ('HistoryMemes', 30),\n",
              " ('feemagers', 30),\n",
              " ('Hypothyroidism', 30),\n",
              " ('fo76', 30),\n",
              " ('fatlogic', 30),\n",
              " ('KansasCityChiefs', 30),\n",
              " ('intrusivethoughts', 30),\n",
              " ('titanfall', 30),\n",
              " ('DiagnoseMe', 30),\n",
              " ('TeensMeetTeens', 30),\n",
              " ('WeightLossAdvice', 30),\n",
              " ('PathOfExileBuilds', 30),\n",
              " ('britishproblems', 30),\n",
              " ('bodyweightfitness', 30),\n",
              " ('narcissism', 30),\n",
              " ('vagina', 30),\n",
              " ('FreeKarma4You', 29),\n",
              " ('teenagersnew', 29),\n",
              " ('LifeAfterNarcissism', 29),\n",
              " ('guineapigs', 29),\n",
              " ('JoeRogan', 29),\n",
              " ('iamverysmart', 29),\n",
              " ('Effexor', 29),\n",
              " ('Calgary', 29),\n",
              " ('reddeadredemption', 29),\n",
              " ('badwomensanatomy', 29),\n",
              " ('HumansBeingBros', 29),\n",
              " ('LivestreamFail', 29),\n",
              " ('aromantic', 29),\n",
              " ('neoliberal', 29),\n",
              " ('AnimalsBeingDerps', 29),\n",
              " ('woahdude', 29),\n",
              " ('highdeas', 29),\n",
              " ('KidsAreFuckingStupid', 29),\n",
              " ('Instagram', 29),\n",
              " ('whereintheworld', 29),\n",
              " ('PrequelMemes', 29),\n",
              " ('dogelore', 29),\n",
              " ('JustNoSO', 29),\n",
              " ('SmashBrosUltimate', 29),\n",
              " ('Baking', 29),\n",
              " ('cameltoe', 29),\n",
              " ('Gastritis', 29),\n",
              " ('HelpMeFind', 29),\n",
              " ('exmormon', 29),\n",
              " ('LoveIslandTV', 29),\n",
              " ('shadowofmordor', 29),\n",
              " ('kdramarecommends', 29),\n",
              " ('Hydroponics', 29),\n",
              " ('FashionRepsBST', 29),\n",
              " ('productivity', 29),\n",
              " ('limerence', 29),\n",
              " ('running', 29),\n",
              " ('premed', 29),\n",
              " ('bapcsalesgermany', 29),\n",
              " ('brandnew', 28),\n",
              " ('TalesFromThePizzaGuy', 28),\n",
              " ('BattlefieldV', 28),\n",
              " ('macsetups', 28),\n",
              " ('skyrim', 28),\n",
              " ('thick', 28),\n",
              " ('Rateme', 28),\n",
              " ('CompulsiveSkinPicking', 28),\n",
              " ('Twitch', 28),\n",
              " ('Asexual', 28),\n",
              " ('Allergies', 28),\n",
              " ('TheSilphRoad', 28),\n",
              " ('TeenAmIUgly', 28),\n",
              " ('MomForAMinute', 28),\n",
              " ('FuckYouKaren', 28),\n",
              " ('TheMonkeysPaw', 28),\n",
              " ('snakes', 28),\n",
              " ('Divorce', 28),\n",
              " ('cscareerquestions', 28),\n",
              " ('ToiletPaperUSA', 28),\n",
              " ('SoCalR4R', 28),\n",
              " ('Interstitialcystitis', 28),\n",
              " ('cycling', 28),\n",
              " ('KidneyStones', 28),\n",
              " ('falcons', 28),\n",
              " ('churningcanada', 28),\n",
              " ('McMaster', 28),\n",
              " ('driving', 28),\n",
              " ('BachelorNation', 28),\n",
              " ('WomensHealth', 28),\n",
              " ('plants', 28),\n",
              " ('BrainFog', 28),\n",
              " ('Madden', 28),\n",
              " ('ShitLiberalsSay', 28),\n",
              " ('cptsdcreatives', 27),\n",
              " ('abuse', 27),\n",
              " ('space', 27),\n",
              " ('90dayfianceuncensored', 27),\n",
              " ('wedding', 27),\n",
              " ('StackAdvice', 27),\n",
              " ('Glitch_in_the_Matrix', 27),\n",
              " ('facebook', 27),\n",
              " ('succulents', 27),\n",
              " ('WhatsWrongWithYourDog', 27),\n",
              " ('alcohol', 27),\n",
              " ('DAE', 27),\n",
              " ('BitLifeApp', 27),\n",
              " ('endometriosis', 27),\n",
              " ('pokemontrades', 27),\n",
              " ('Paladins', 27),\n",
              " ('ENFP', 27),\n",
              " ('gabagoodness', 27),\n",
              " ('mac', 27),\n",
              " ('capetown', 27),\n",
              " ('scoliosis', 27),\n",
              " ('Kombucha', 27),\n",
              " ('sociopath', 27),\n",
              " ('southpark', 27),\n",
              " ('femalefashionadvice', 27),\n",
              " ('Tekken', 27),\n",
              " ('Warzone', 27),\n",
              " ('bathandbodyworks', 27),\n",
              " ('miraculousladybug', 27),\n",
              " ('buffalobills', 27),\n",
              " ('hearthstone', 26),\n",
              " ('SSBM', 26),\n",
              " ('transpassing', 26),\n",
              " ('CreepyArt', 26),\n",
              " ('ratterriers', 26),\n",
              " ('COMPLETEANARCHY', 26),\n",
              " ('mixedrace', 26),\n",
              " ('FireEmblemHeroes', 26),\n",
              " ('Fallout', 26),\n",
              " ('diabetes', 26),\n",
              " ('smashbros', 26),\n",
              " ('burdurland', 26),\n",
              " ('television', 26),\n",
              " ('Stretched', 26),\n",
              " ('notliketheothergirls', 26),\n",
              " ('neopets', 26),\n",
              " ('CozyPlaces', 26),\n",
              " ('twentyonepilots', 26),\n",
              " ('MaladaptiveDreaming', 26),\n",
              " ('chemistry', 26),\n",
              " ('minimalism', 26),\n",
              " ('singing', 26),\n",
              " ('happy', 26),\n",
              " ('UniUK', 26),\n",
              " ('ireland', 26),\n",
              " ('slavelabour', 26),\n",
              " ('Bandnames', 26),\n",
              " ('friendship', 26),\n",
              " ('shameless', 26),\n",
              " ('AusFinance', 26),\n",
              " ('Chodi', 26),\n",
              " ('CallOfDuty', 26),\n",
              " ('otomegames', 26),\n",
              " ('askphilosophy', 26),\n",
              " ('UCalgary', 26),\n",
              " ('publix', 25),\n",
              " ('Barber', 25),\n",
              " ('shorthairchicks', 25),\n",
              " ('pyrocynical', 25),\n",
              " ('amihot', 25),\n",
              " ('cringepics', 25),\n",
              " ('therewasanattempt', 25),\n",
              " ('battlestations', 25),\n",
              " ('LowSodiumCyberpunk', 25),\n",
              " ('u_mythicalvisionary', 25),\n",
              " ('cars', 25),\n",
              " ('FoodPorn', 25),\n",
              " ('natureismetal', 25),\n",
              " ('booksuggestions', 25),\n",
              " ('awakened', 25),\n",
              " ('abusiverelationships', 25),\n",
              " ('DestinyTheGame', 25),\n",
              " ('learnprogramming', 25),\n",
              " ('ColoradoSprings', 25),\n",
              " ('UofT', 25),\n",
              " ('newjersey', 25),\n",
              " ('CrazyIdeas', 25),\n",
              " ('Unemployment', 25),\n",
              " ('samsung', 25),\n",
              " ('ifyoulikeblank', 25),\n",
              " ('askdrugs', 25),\n",
              " ('GameSale', 25),\n",
              " ('starbucks', 25),\n",
              " ('parrots', 25),\n",
              " ('Android', 25),\n",
              " ('madmen', 25),\n",
              " ('datascience', 25),\n",
              " ('playstation', 25),\n",
              " ('AnimalCrossingNewHor', 25),\n",
              " ('thyroidcancer', 25),\n",
              " ('bmx', 25),\n",
              " ('LSAT', 25),\n",
              " ('eyeblech', 25),\n",
              " ('killteam', 25),\n",
              " ('TwoBestFriendsPlay', 25),\n",
              " ('Concerta', 25),\n",
              " ('starbucksbaristas', 25),\n",
              " ('mkxmobile', 25),\n",
              " ('pussypassdenied', 24),\n",
              " ('cornsnakes', 24),\n",
              " ('acturnips', 24),\n",
              " ('bayarea', 24),\n",
              " ('proED', 24),\n",
              " ('crafts', 24),\n",
              " ('HaircareScience', 24),\n",
              " ('ShittyLifeProTips', 24),\n",
              " ('antinatalism', 24),\n",
              " ('estp', 24),\n",
              " ('Soulnexus', 24),\n",
              " ('crochet', 24),\n",
              " ('IWantOut', 24),\n",
              " ('pitbulls', 24),\n",
              " ('fightporn', 24),\n",
              " ('Tourettes', 24),\n",
              " ('RationalPsychonaut', 24),\n",
              " ('arttocope', 24),\n",
              " ('disabledfriends', 24),\n",
              " ('IDAP', 24),\n",
              " ('Dogtraining', 24),\n",
              " ('resumes', 24),\n",
              " ('alcoholicsanonymous', 24),\n",
              " ('travisscott', 24),\n",
              " ('ShitAmericansSay', 24),\n",
              " ('AskEurope', 24),\n",
              " ('TherapeuticKetamine', 24),\n",
              " ('3dspiracy', 24),\n",
              " ('TeamRedditTeams', 24),\n",
              " ('thedavidpakmanshow', 24),\n",
              " ('MyTeam', 24),\n",
              " ('VeteransBenefits', 24),\n",
              " ('ukpolitics', 24),\n",
              " ('StopSpeeding', 24),\n",
              " ('AustralianPolitics', 24),\n",
              " ('sadism', 24),\n",
              " ('HotPeppers', 24),\n",
              " ('exjw', 23),\n",
              " ('postmates', 23),\n",
              " ('sweden', 23),\n",
              " ('wowthanksimcured', 23),\n",
              " ('GothStyle', 23),\n",
              " ('bipolar1', 23),\n",
              " ('StrangerThings', 23),\n",
              " ('bulletjournal', 23),\n",
              " ('MurderedByWords', 23),\n",
              " ('sadcringe', 23),\n",
              " ('vinyl', 23),\n",
              " ('LesbianActually', 23),\n",
              " ('YouShouldKnow', 23),\n",
              " ('ForeverAloneDating', 23),\n",
              " ('JUSTNOFAMILY', 23),\n",
              " ('normalnudes', 23),\n",
              " ('doordash_drivers', 23),\n",
              " ...]"
            ]
          },
          "metadata": {
            "tags": []
          },
          "execution_count": 178
        }
      ]
    },
    {
      "cell_type": "code",
      "metadata": {
        "id": "OgK-jhgbwqti",
        "colab": {
          "base_uri": "https://localhost:8080/"
        },
        "outputId": "a6de71a3-fabd-4101-c48b-ac81d9aa73dc"
      },
      "source": [
        "#only keep the subreddits that at least 50 users have posted to for the list to gather control data from\n",
        "all_subreddits_above50 = {key:val for key, val in all_subreddits.items() if val >= 50}\n",
        "len(all_subreddits_above50)\n"
      ],
      "execution_count": 179,
      "outputs": [
        {
          "output_type": "execute_result",
          "data": {
            "text/plain": [
              "423"
            ]
          },
          "metadata": {
            "tags": []
          },
          "execution_count": 179
        }
      ]
    },
    {
      "cell_type": "code",
      "metadata": {
        "id": "xgXnvP9g4joj",
        "colab": {
          "base_uri": "https://localhost:8080/"
        },
        "outputId": "81145e4a-2949-4292-cca9-109a57d9f701"
      },
      "source": [
        "#removing subreddits related to menal health \n",
        "\n",
        "subreddits_todelete = ['BipolarReddit', 'depressed', 'ADHD', 'Anxiety', 'BPD', 'ptsd', 'bipolar', 'depression', 'CPTSD',\n",
        "'mentalhealth', 'BPDmemes', 'SuicideWatch','bipolar', 'bipolar2', 'raisedbynarcissists', 'depression_memes',\n",
        "'selfharm', 'NarcissisticAbuse', 'OCD', 'BorderlinePDisorder', 'zoloft', 'adhdwomen', \n",
        "'BipolarSOs', 'aspergers', 'BPDlite','AskPsychiatry',  'therapy', 'insomnia', 'adhdmeme', 'prozac',\n",
        "'lexapro', 'TalkTherapy', 'HealthAnxiety', 'benzodiazepines', 'mentalillness', 'BPDlovedones',\n",
        "'autism', 'schizophrenia', 'socialanxiety','Anxietyhelp', 'antidepressants', 'Psychosis', 'bulimia',\n",
        "'BodyDysmorphia',  'SelfHarmScars', 'transOCD', 'dpdr', 'depressionregimens', 'bupropion', 'AnorexiaRecovery',\n",
        "'schizoaffective', 'AnxiousAttachment', 'AnorexiaNervosa', 'EDAnonymous', 'EDanonymemes','desabafos', 'de' ]\n",
        "\n",
        "subreddits_for_control_group = list(all_subreddits_above50.keys())\n",
        "subreddits_for_control_group = [x for x in subreddits_for_control_group if x not in subreddits_todelete]\n",
        "len(subreddits_for_control_group)"
      ],
      "execution_count": 180,
      "outputs": [
        {
          "output_type": "execute_result",
          "data": {
            "text/plain": [
              "370"
            ]
          },
          "metadata": {
            "tags": []
          },
          "execution_count": 180
        }
      ]
    },
    {
      "cell_type": "code",
      "metadata": {
        "id": "MIdo72UO6Dhe",
        "colab": {
          "base_uri": "https://localhost:8080/"
        },
        "outputId": "bdad9044-c4b7-4f02-b83a-5fad6bc9827f"
      },
      "source": [
        "subreddits_for_control_group"
      ],
      "execution_count": 181,
      "outputs": [
        {
          "output_type": "execute_result",
          "data": {
            "text/plain": [
              "['AskReddit',\n",
              " 'AmItheAsshole',\n",
              " 'teenagers',\n",
              " 'relationship_advice',\n",
              " 'relationships',\n",
              " 'offmychest',\n",
              " 'aww',\n",
              " 'NoStupidQuestions',\n",
              " 'unpopularopinion',\n",
              " 'pics',\n",
              " 'PurplePillDebate',\n",
              " 'todayilearned',\n",
              " 'Advice',\n",
              " 'AskTeenGirls',\n",
              " 'hiphopheads',\n",
              " 'bois',\n",
              " 'AskWomen',\n",
              " 'trees',\n",
              " 'stopdrinking',\n",
              " 'PokemonTCG',\n",
              " 'funny',\n",
              " 'gonewild',\n",
              " 'MaddenUltimateTeam',\n",
              " 'worldnews',\n",
              " 'WTF',\n",
              " 'loseit',\n",
              " 'childfree',\n",
              " 'Depop',\n",
              " 'trumpet',\n",
              " 'lawofattraction',\n",
              " 'AskWomenOver30',\n",
              " 'Hamilton',\n",
              " 'askanincel',\n",
              " 'homestuck',\n",
              " 'asktrp',\n",
              " 'Aquariums',\n",
              " 'PoliticalCompassMemes',\n",
              " 'sex',\n",
              " 'MakeNewFriendsHere',\n",
              " 'AskDocs',\n",
              " 'asktransgender',\n",
              " 'Eberron',\n",
              " 'randomactsofamazon',\n",
              " 'Showerthoughts',\n",
              " 'RealEstate',\n",
              " 'actuallesbians',\n",
              " 'MakeupAddiction',\n",
              " 'CBD',\n",
              " 'ImaginaryHorrors',\n",
              " 'politics',\n",
              " 'survivor',\n",
              " 'thesims',\n",
              " 'FreeCompliments',\n",
              " 'WWEGames',\n",
              " 'ExNoContact',\n",
              " 'memes',\n",
              " 'dogecoin',\n",
              " 'weed',\n",
              " 'UnsentLetters',\n",
              " 'confession',\n",
              " 'AskMen',\n",
              " 'intj',\n",
              " 'nba',\n",
              " 'GERD',\n",
              " 'gifs',\n",
              " 'JUSTNOMIL',\n",
              " 'TeenMomOGandTeenMom2',\n",
              " 'TumblrInAction',\n",
              " 'leagueoflegends',\n",
              " 'Hashimotos',\n",
              " 'forhonor',\n",
              " 'mildlyinteresting',\n",
              " 'legaladvice',\n",
              " 'personalfinance',\n",
              " 'TwoXChromosomes',\n",
              " 'TooAfraidToAsk',\n",
              " 'Parenting',\n",
              " 'playboicarti',\n",
              " 'gaming',\n",
              " 'Coronavirus',\n",
              " 'horror',\n",
              " 'CasualConversation',\n",
              " 'india',\n",
              " 'medical',\n",
              " 'dogs',\n",
              " 'Needafriend',\n",
              " 'Narcolepsy',\n",
              " 'Drugs',\n",
              " 'RoastMe',\n",
              " 'cats',\n",
              " 'confessions',\n",
              " 'news',\n",
              " 'videos',\n",
              " 'bisexual',\n",
              " 'tattoos',\n",
              " 'nyc',\n",
              " 'wholesomememes',\n",
              " 'trashy',\n",
              " 'AMA',\n",
              " 'short',\n",
              " 'Wishlist',\n",
              " 'sewing',\n",
              " 'lgbt',\n",
              " 'dating',\n",
              " 'entwives',\n",
              " 'ChoosingBeggars',\n",
              " 'mildlyinfuriating',\n",
              " 'MadeOfStyrofoam',\n",
              " 'prettyaltgirls',\n",
              " 'acne',\n",
              " 'PewdiepieSubmissions',\n",
              " 'AnimalCrossing',\n",
              " 'LawofAttractionAdvice',\n",
              " 'traaaaaaannnnnnnnnns',\n",
              " 'narcissisticparents',\n",
              " 'Epilepsy',\n",
              " 'witcher',\n",
              " 'RedDeadOnline',\n",
              " 'budgies',\n",
              " 'TrueOffMyChest',\n",
              " 'tifu',\n",
              " 'AskOuija',\n",
              " 'RedditSessions',\n",
              " 'PublicFreakout',\n",
              " 'BreakUps',\n",
              " 'college',\n",
              " 'Cringetopia',\n",
              " 'interestingasfuck',\n",
              " 'ftm',\n",
              " 'curlyhair',\n",
              " 'AdviceAnimals',\n",
              " 'starterpacks',\n",
              " 'SubredditDrama',\n",
              " 'bettafish',\n",
              " 'deadbydaylight',\n",
              " 'SafeMoon',\n",
              " 'science',\n",
              " 'rant',\n",
              " 'piercing',\n",
              " 'socialskills',\n",
              " 'Tinder',\n",
              " 'oddlysatisfying',\n",
              " 'insanepeoplefacebook',\n",
              " 'MechanicalKeyboards',\n",
              " 'distantsocializing',\n",
              " 'INTP',\n",
              " 'DunderMifflin',\n",
              " 'polyamory',\n",
              " 'pregnant',\n",
              " 'jobs',\n",
              " 'Cooking',\n",
              " 'Vent',\n",
              " 'careerguidance',\n",
              " 'Psychic',\n",
              " 'conspiracy',\n",
              " 'MorbidReality',\n",
              " 'SkincareAddiction',\n",
              " 'tipofmytongue',\n",
              " 'NoFap',\n",
              " 'Osana',\n",
              " 'nextfuckinglevel',\n",
              " 'formula1',\n",
              " 'CasualUK',\n",
              " 'explainlikeimfive',\n",
              " 'changemyview',\n",
              " 'niceguys',\n",
              " 'askwomenadvice',\n",
              " 'MadeMeSmile',\n",
              " 'askgaybros',\n",
              " 'movies',\n",
              " 'Hair',\n",
              " 'MtF',\n",
              " 'OldSchoolCool',\n",
              " '2meirl4meirl',\n",
              " 'NintendoSwitch',\n",
              " 'medical_advice',\n",
              " 'apexlegends',\n",
              " 'service_dogs',\n",
              " 'ChronicPain',\n",
              " 'CrohnsDisease',\n",
              " 'AskAnAmerican',\n",
              " 'LifeProTips',\n",
              " 'DoesAnybodyElse',\n",
              " 'cursedcomments',\n",
              " 'books',\n",
              " 'gardening',\n",
              " 'iamatotalpieceofshit',\n",
              " 'food',\n",
              " 'amiugly',\n",
              " 'dating_advice',\n",
              " 'progresspics',\n",
              " 'birthcontrol',\n",
              " 'witchcraft',\n",
              " 'Wellthatsucks',\n",
              " 'writing',\n",
              " 'fasting',\n",
              " 'Conservative',\n",
              " 'me_irl',\n",
              " 'dankmemes',\n",
              " '4595',\n",
              " 'depression_help',\n",
              " 'wallstreetbets',\n",
              " 'asexuality',\n",
              " 'Minecraft',\n",
              " 'Christianity',\n",
              " 'IdiotsInCars',\n",
              " 'pornfree',\n",
              " 'TheYouShow',\n",
              " 'TheMandalorianTV',\n",
              " 'morbidquestions',\n",
              " 'FortNiteBR',\n",
              " 'MakeMeSuffer',\n",
              " 'blackdesertonline',\n",
              " 'harrypotter',\n",
              " 'commandandconquer',\n",
              " 'FortniteCompetitive',\n",
              " 'Random_Acts_Of_Amazon',\n",
              " 'BeautyGuruChatter',\n",
              " 'OCPoetry',\n",
              " 'leaves',\n",
              " 'JoeBiden',\n",
              " 'Psychonaut',\n",
              " 'Overwatch',\n",
              " 'Instagramreality',\n",
              " 'Meditation',\n",
              " 'houseplants',\n",
              " 'GlobalOffensive',\n",
              " 'WhitePeopleTwitter',\n",
              " 'StarWars',\n",
              " 'pcmasterrace',\n",
              " 'kratom',\n",
              " 'egg_irl',\n",
              " 'ask',\n",
              " 'Art',\n",
              " 'selfimprovement',\n",
              " 'whatisthisthing',\n",
              " 'Supplements',\n",
              " 'Sims4',\n",
              " 'Rabbits',\n",
              " 'vegan',\n",
              " 'Teachers',\n",
              " 'shrooms',\n",
              " 'lonely',\n",
              " 'selfie',\n",
              " 'techsupport',\n",
              " 'WatchPeopleDieInside',\n",
              " 'pan_media',\n",
              " '2007scape',\n",
              " 'creepyPMs',\n",
              " 'facepalm',\n",
              " 'WritingPrompts',\n",
              " 'Marriage',\n",
              " 'pokemongo',\n",
              " 'BlackPeopleTwitter',\n",
              " 'AnimalsOnReddit',\n",
              " 'DecidingToBeBetter',\n",
              " 'Chiraqology',\n",
              " 'titanfolk',\n",
              " 'Music',\n",
              " 'Fitness',\n",
              " 'languagelearning',\n",
              " 'spirituality',\n",
              " 'keto',\n",
              " 'TikTokCringe',\n",
              " 'self',\n",
              " 'nfl',\n",
              " 'apple',\n",
              " 'antiwork',\n",
              " 'microdosing',\n",
              " 'PsilocybinMushrooms',\n",
              " 'kroger',\n",
              " 'suggestmeabook',\n",
              " 'AskRedditAfterDark',\n",
              " 'wow',\n",
              " 'femalehairadvice',\n",
              " 'Empaths',\n",
              " 'getdisciplined',\n",
              " 'PCOS',\n",
              " 'Periods',\n",
              " 'sad',\n",
              " 'RATS',\n",
              " 'AskUK',\n",
              " 'infp',\n",
              " 'anime',\n",
              " 'h3h3productions',\n",
              " 'mbti',\n",
              " 'Sneakers',\n",
              " 'exmuslim',\n",
              " 'ATBGE',\n",
              " 'CallOfDutyMobile',\n",
              " 'Saggy',\n",
              " 'DnD',\n",
              " 'stocks',\n",
              " 'Genshin_Impact',\n",
              " 'masskillers',\n",
              " 'AskAstrologers',\n",
              " 'migraine',\n",
              " 'LSD',\n",
              " 'peaceCorpsCoding',\n",
              " 'blackcats',\n",
              " 'GMT400',\n",
              " 'r4r',\n",
              " 'buildapc',\n",
              " '196',\n",
              " 'AreTheStraightsOK',\n",
              " 'Dentistry',\n",
              " 'ibs',\n",
              " 'Screenwriting',\n",
              " 'COVID19positive',\n",
              " 'FemaleDatingStrategy',\n",
              " 'Crystals',\n",
              " 'datingoverthirty',\n",
              " 'delta8',\n",
              " 'UFOs',\n",
              " 'hockey',\n",
              " 'chat',\n",
              " 'recruitinghell',\n",
              " 'fantasyfootball',\n",
              " 'Codependency',\n",
              " 'PokemonGoRaids',\n",
              " 'RocketLeagueExchange',\n",
              " 'Hellenism',\n",
              " 'breakingmom',\n",
              " 'stupidpol',\n",
              " 'CryptoCurrency',\n",
              " 'ClashOfClans',\n",
              " 'introvert',\n",
              " 'polls',\n",
              " 'FORTnITE',\n",
              " 'Christian',\n",
              " 'TaylorSwift',\n",
              " 'indonesia',\n",
              " 'CysticFibrosis',\n",
              " 'sportsbook',\n",
              " 'summonerswar',\n",
              " 'Amoledbackgrounds',\n",
              " 'SamONellaAcademy',\n",
              " 'thebachelor',\n",
              " 'TallTeenagers',\n",
              " 'yungblud',\n",
              " 'soccer',\n",
              " 'SquaredCircle',\n",
              " 'Mcat',\n",
              " 'benzorecovery',\n",
              " 'NoFeeAC',\n",
              " 'Sat',\n",
              " 'cyberpunkgame',\n",
              " 'CoronavirusUK',\n",
              " 'FashionReps',\n",
              " 'LifeAdvice',\n",
              " 'Repsneakers',\n",
              " 'DMT',\n",
              " 'HeadphoneAdvice',\n",
              " 'AmongUs',\n",
              " 'makinghiphop',\n",
              " 'FemaleLevelUpStrategy',\n",
              " 'AvPD',\n",
              " 'redscarepod',\n",
              " 'BingeEatingDisorder',\n",
              " 'SimDemocracy',\n",
              " 'DrMartens',\n",
              " 'Petloss',\n",
              " 'Wizard101',\n",
              " 'KGATLW',\n",
              " 'GoForGold',\n",
              " 'TransTryouts',\n",
              " 'Snus',\n",
              " 'amcstock',\n",
              " 'onewordeach',\n",
              " 'MoneyDiariesACTIVE']"
            ]
          },
          "metadata": {
            "tags": []
          },
          "execution_count": 181
        }
      ]
    },
    {
      "cell_type": "markdown",
      "metadata": {
        "id": "SyOYbplUcUtf"
      },
      "source": [
        "## Data Combination\n",
        "\n",
        "I create a label for each class, and apply it as necessary. "
      ]
    },
    {
      "cell_type": "code",
      "metadata": {
        "id": "9OhTArZzYmTG"
      },
      "source": [
        "classes = {'anxiety': 1, 'adhd': 2, 'bipolar': 3, 'bpd': 4, 'depression': 5, 'ptsd': 6, 'control': 0}"
      ],
      "execution_count": 182,
      "outputs": []
    },
    {
      "cell_type": "code",
      "metadata": {
        "id": "ClbhfU_2Y-_G"
      },
      "source": [
        "anxiety_subs_df['class'] = 1\n",
        "anxiety_coms_df['class'] = 1\n",
        "adhd_subs_df['class'] = 2\n",
        "adhd_coms_df['class'] = 2\n",
        "bipolar_subs_df['class'] = 3\n",
        "bipolar_coms_df['class'] = 3\n",
        "bpd_coms_df['class'] = 4\n",
        "bpd_subs_df['class'] = 4\n",
        "dep_coms_df['class'] = 5\n",
        "dep_subs_df['class'] = 5\n",
        "ptsd_coms_df['class'] = 6\n",
        "ptsd_subs_df['class'] = 6"
      ],
      "execution_count": 183,
      "outputs": []
    },
    {
      "cell_type": "code",
      "metadata": {
        "colab": {
          "base_uri": "https://localhost:8080/",
          "height": 362
        },
        "id": "RlPhrE3eqe8C",
        "outputId": "ea434e35-8a72-47da-c978-b343cb6dce3d"
      },
      "source": [
        "anxiety_coms_df.head()"
      ],
      "execution_count": 184,
      "outputs": [
        {
          "output_type": "execute_result",
          "data": {
            "text/html": [
              "<div>\n",
              "<style scoped>\n",
              "    .dataframe tbody tr th:only-of-type {\n",
              "        vertical-align: middle;\n",
              "    }\n",
              "\n",
              "    .dataframe tbody tr th {\n",
              "        vertical-align: top;\n",
              "    }\n",
              "\n",
              "    .dataframe thead th {\n",
              "        text-align: right;\n",
              "    }\n",
              "</style>\n",
              "<table border=\"1\" class=\"dataframe\">\n",
              "  <thead>\n",
              "    <tr style=\"text-align: right;\">\n",
              "      <th></th>\n",
              "      <th>Unnamed: 0</th>\n",
              "      <th>com_id</th>\n",
              "      <th>author</th>\n",
              "      <th>score</th>\n",
              "      <th>created</th>\n",
              "      <th>created_utc</th>\n",
              "      <th>url</th>\n",
              "      <th>body</th>\n",
              "      <th>subreddit</th>\n",
              "      <th>class</th>\n",
              "    </tr>\n",
              "  </thead>\n",
              "  <tbody>\n",
              "    <tr>\n",
              "      <th>0</th>\n",
              "      <td>0</td>\n",
              "      <td>gcvp6f9</td>\n",
              "      <td>3045</td>\n",
              "      <td>2</td>\n",
              "      <td>2020-11-19 22:36:34</td>\n",
              "      <td>1605825394</td>\n",
              "      <td>/r/Anxiety/comments/jxc8vp/how_come_after_i_wa...</td>\n",
              "      <td>Yeah you are right it’s probably my brain anti...</td>\n",
              "      <td>Anxiety</td>\n",
              "      <td>1</td>\n",
              "    </tr>\n",
              "    <tr>\n",
              "      <th>1</th>\n",
              "      <td>1</td>\n",
              "      <td>gcw1cwq</td>\n",
              "      <td>3045</td>\n",
              "      <td>1</td>\n",
              "      <td>2020-11-20 00:10:50</td>\n",
              "      <td>1605831050</td>\n",
              "      <td>/r/latinas/comments/jxdt28/what_do_you_think_a...</td>\n",
              "      <td>Weak</td>\n",
              "      <td>latinas</td>\n",
              "      <td>1</td>\n",
              "    </tr>\n",
              "    <tr>\n",
              "      <th>2</th>\n",
              "      <td>2</td>\n",
              "      <td>gcw94v3</td>\n",
              "      <td>3045</td>\n",
              "      <td>1</td>\n",
              "      <td>2020-11-20 01:22:45</td>\n",
              "      <td>1605835365</td>\n",
              "      <td>/r/Anxiety/comments/jxeq5h/can_anxiety_general...</td>\n",
              "      <td>Yes. For me when my anxiety started after havi...</td>\n",
              "      <td>Anxiety</td>\n",
              "      <td>1</td>\n",
              "    </tr>\n",
              "    <tr>\n",
              "      <th>3</th>\n",
              "      <td>3</td>\n",
              "      <td>gcyec2m</td>\n",
              "      <td>3045</td>\n",
              "      <td>1</td>\n",
              "      <td>2020-11-20 16:42:34</td>\n",
              "      <td>1605890554</td>\n",
              "      <td>/r/DaniellePertusiello/comments/jsu516/hooters...</td>\n",
              "      <td>What’s her new ig</td>\n",
              "      <td>DaniellePertusiello</td>\n",
              "      <td>1</td>\n",
              "    </tr>\n",
              "    <tr>\n",
              "      <th>4</th>\n",
              "      <td>4</td>\n",
              "      <td>gcyoq7d</td>\n",
              "      <td>3045</td>\n",
              "      <td>1</td>\n",
              "      <td>2020-11-20 18:04:59</td>\n",
              "      <td>1605895499</td>\n",
              "      <td>/r/Anxiety/comments/jxtpgy/always_lightheadedd...</td>\n",
              "      <td>Yes I find myself kind of light headed and diz...</td>\n",
              "      <td>Anxiety</td>\n",
              "      <td>1</td>\n",
              "    </tr>\n",
              "  </tbody>\n",
              "</table>\n",
              "</div>"
            ],
            "text/plain": [
              "   Unnamed: 0   com_id  ...            subreddit  class\n",
              "0           0  gcvp6f9  ...              Anxiety      1\n",
              "1           1  gcw1cwq  ...              latinas      1\n",
              "2           2  gcw94v3  ...              Anxiety      1\n",
              "3           3  gcyec2m  ...  DaniellePertusiello      1\n",
              "4           4  gcyoq7d  ...              Anxiety      1\n",
              "\n",
              "[5 rows x 10 columns]"
            ]
          },
          "metadata": {
            "tags": []
          },
          "execution_count": 184
        }
      ]
    },
    {
      "cell_type": "code",
      "metadata": {
        "id": "Lv4R5Gx8mk1T"
      },
      "source": [
        "def prepareDataFrame(df, type):\n",
        "  \"\"\" Takes in a Dataframe and type (submission or comment).  Returns new data frame that has removed entries \n",
        "  from mentalhealth subreddits and posts than 50 words long. \"\"\"\n",
        "  #remove subreddits related to mental health \n",
        "  return_df = df.loc[~df['subreddit'].isin(subreddits_todelete)]\n",
        "\n",
        "  #create word count column\n",
        "  if type == ('sub'):\n",
        "    try:\n",
        "      return_df['word_count'] = return_df['selftext'].str.split().str.len()\n",
        "    except:\n",
        "      return_df['word_count'] = return_df['selftex'].str.split().str.len()\n",
        "      return_df['selftext'] = return_df['selftex']\n",
        "  else:\n",
        "    return_df['word_count'] = return_df['body'].str.split().str.len()\n",
        "\n",
        "  #remove rows with text less than 50 words\n",
        "  return_df = return_df.loc[return_df['word_count'] >= 50]\n",
        "\n",
        "  return return_df\n"
      ],
      "execution_count": 185,
      "outputs": []
    },
    {
      "cell_type": "code",
      "metadata": {
        "colab": {
          "base_uri": "https://localhost:8080/"
        },
        "id": "mHK6bZkUnDQP",
        "outputId": "ebcea7a0-85eb-4fd5-e09d-c1df7d84b306"
      },
      "source": [
        "#Dataframes of comment data with comments shorter than 50 words removed, and with comments in mental health subreddits remved \n",
        "anxiety_coms_df_shortened = prepareDataFrame(anxiety_coms_df, 'com')\n",
        "bpd_coms_df_shortened = prepareDataFrame(bpd_coms_df, 'com')\n",
        "bipolar_coms_df_shortened = prepareDataFrame(bipolar_coms_df, 'com')\n",
        "dep_coms_df_shortened = prepareDataFrame(dep_coms_df, 'com')\n",
        "adhd_coms_df_shortened = prepareDataFrame(adhd_coms_df, 'com')\n",
        "ptsd_coms_df_shortened = prepareDataFrame(ptsd_coms_df, 'com')"
      ],
      "execution_count": 186,
      "outputs": [
        {
          "output_type": "stream",
          "text": [
            "/usr/local/lib/python3.7/dist-packages/ipykernel_launcher.py:15: SettingWithCopyWarning: \n",
            "A value is trying to be set on a copy of a slice from a DataFrame.\n",
            "Try using .loc[row_indexer,col_indexer] = value instead\n",
            "\n",
            "See the caveats in the documentation: https://pandas.pydata.org/pandas-docs/stable/user_guide/indexing.html#returning-a-view-versus-a-copy\n",
            "  from ipykernel import kernelapp as app\n",
            "/usr/local/lib/python3.7/dist-packages/ipykernel_launcher.py:15: SettingWithCopyWarning: \n",
            "A value is trying to be set on a copy of a slice from a DataFrame.\n",
            "Try using .loc[row_indexer,col_indexer] = value instead\n",
            "\n",
            "See the caveats in the documentation: https://pandas.pydata.org/pandas-docs/stable/user_guide/indexing.html#returning-a-view-versus-a-copy\n",
            "  from ipykernel import kernelapp as app\n",
            "/usr/local/lib/python3.7/dist-packages/ipykernel_launcher.py:15: SettingWithCopyWarning: \n",
            "A value is trying to be set on a copy of a slice from a DataFrame.\n",
            "Try using .loc[row_indexer,col_indexer] = value instead\n",
            "\n",
            "See the caveats in the documentation: https://pandas.pydata.org/pandas-docs/stable/user_guide/indexing.html#returning-a-view-versus-a-copy\n",
            "  from ipykernel import kernelapp as app\n",
            "/usr/local/lib/python3.7/dist-packages/ipykernel_launcher.py:15: SettingWithCopyWarning: \n",
            "A value is trying to be set on a copy of a slice from a DataFrame.\n",
            "Try using .loc[row_indexer,col_indexer] = value instead\n",
            "\n",
            "See the caveats in the documentation: https://pandas.pydata.org/pandas-docs/stable/user_guide/indexing.html#returning-a-view-versus-a-copy\n",
            "  from ipykernel import kernelapp as app\n",
            "/usr/local/lib/python3.7/dist-packages/ipykernel_launcher.py:15: SettingWithCopyWarning: \n",
            "A value is trying to be set on a copy of a slice from a DataFrame.\n",
            "Try using .loc[row_indexer,col_indexer] = value instead\n",
            "\n",
            "See the caveats in the documentation: https://pandas.pydata.org/pandas-docs/stable/user_guide/indexing.html#returning-a-view-versus-a-copy\n",
            "  from ipykernel import kernelapp as app\n",
            "/usr/local/lib/python3.7/dist-packages/ipykernel_launcher.py:15: SettingWithCopyWarning: \n",
            "A value is trying to be set on a copy of a slice from a DataFrame.\n",
            "Try using .loc[row_indexer,col_indexer] = value instead\n",
            "\n",
            "See the caveats in the documentation: https://pandas.pydata.org/pandas-docs/stable/user_guide/indexing.html#returning-a-view-versus-a-copy\n",
            "  from ipykernel import kernelapp as app\n"
          ],
          "name": "stderr"
        }
      ]
    },
    {
      "cell_type": "code",
      "metadata": {
        "colab": {
          "base_uri": "https://localhost:8080/"
        },
        "id": "GwsDWjguo8-j",
        "outputId": "8c79b245-1d68-47a0-d315-c90b8ab69606"
      },
      "source": [
        "#Dataframes of Submission data with comments shorter than 50 words removed, and with comments in mental health subreddits remved \n",
        "\n",
        "anxiety_subs_df_shortened = prepareDataFrame(anxiety_subs_df, 'sub')\n",
        "bpd_subs_df_shortened = prepareDataFrame(bpd_subs_df, 'sub')\n",
        "bipolar_subs_df_shortened = prepareDataFrame(bipolar_subs_df, 'sub')\n",
        "dep_subs_df_shortened = prepareDataFrame(dep_subs_df, 'sub')\n",
        "adhd_subs_df_shortened = prepareDataFrame(adhd_subs_df, 'sub')\n",
        "ptsd_subs_df_shortened = prepareDataFrame(ptsd_subs_df, 'sub')"
      ],
      "execution_count": 187,
      "outputs": [
        {
          "output_type": "stream",
          "text": [
            "/usr/local/lib/python3.7/dist-packages/ipykernel_launcher.py:12: SettingWithCopyWarning: \n",
            "A value is trying to be set on a copy of a slice from a DataFrame.\n",
            "Try using .loc[row_indexer,col_indexer] = value instead\n",
            "\n",
            "See the caveats in the documentation: https://pandas.pydata.org/pandas-docs/stable/user_guide/indexing.html#returning-a-view-versus-a-copy\n",
            "  if sys.path[0] == '':\n",
            "/usr/local/lib/python3.7/dist-packages/ipykernel_launcher.py:13: SettingWithCopyWarning: \n",
            "A value is trying to be set on a copy of a slice from a DataFrame.\n",
            "Try using .loc[row_indexer,col_indexer] = value instead\n",
            "\n",
            "See the caveats in the documentation: https://pandas.pydata.org/pandas-docs/stable/user_guide/indexing.html#returning-a-view-versus-a-copy\n",
            "  del sys.path[0]\n",
            "/usr/local/lib/python3.7/dist-packages/ipykernel_launcher.py:12: SettingWithCopyWarning: \n",
            "A value is trying to be set on a copy of a slice from a DataFrame.\n",
            "Try using .loc[row_indexer,col_indexer] = value instead\n",
            "\n",
            "See the caveats in the documentation: https://pandas.pydata.org/pandas-docs/stable/user_guide/indexing.html#returning-a-view-versus-a-copy\n",
            "  if sys.path[0] == '':\n",
            "/usr/local/lib/python3.7/dist-packages/ipykernel_launcher.py:13: SettingWithCopyWarning: \n",
            "A value is trying to be set on a copy of a slice from a DataFrame.\n",
            "Try using .loc[row_indexer,col_indexer] = value instead\n",
            "\n",
            "See the caveats in the documentation: https://pandas.pydata.org/pandas-docs/stable/user_guide/indexing.html#returning-a-view-versus-a-copy\n",
            "  del sys.path[0]\n",
            "/usr/local/lib/python3.7/dist-packages/ipykernel_launcher.py:12: SettingWithCopyWarning: \n",
            "A value is trying to be set on a copy of a slice from a DataFrame.\n",
            "Try using .loc[row_indexer,col_indexer] = value instead\n",
            "\n",
            "See the caveats in the documentation: https://pandas.pydata.org/pandas-docs/stable/user_guide/indexing.html#returning-a-view-versus-a-copy\n",
            "  if sys.path[0] == '':\n",
            "/usr/local/lib/python3.7/dist-packages/ipykernel_launcher.py:13: SettingWithCopyWarning: \n",
            "A value is trying to be set on a copy of a slice from a DataFrame.\n",
            "Try using .loc[row_indexer,col_indexer] = value instead\n",
            "\n",
            "See the caveats in the documentation: https://pandas.pydata.org/pandas-docs/stable/user_guide/indexing.html#returning-a-view-versus-a-copy\n",
            "  del sys.path[0]\n",
            "/usr/local/lib/python3.7/dist-packages/ipykernel_launcher.py:12: SettingWithCopyWarning: \n",
            "A value is trying to be set on a copy of a slice from a DataFrame.\n",
            "Try using .loc[row_indexer,col_indexer] = value instead\n",
            "\n",
            "See the caveats in the documentation: https://pandas.pydata.org/pandas-docs/stable/user_guide/indexing.html#returning-a-view-versus-a-copy\n",
            "  if sys.path[0] == '':\n",
            "/usr/local/lib/python3.7/dist-packages/ipykernel_launcher.py:13: SettingWithCopyWarning: \n",
            "A value is trying to be set on a copy of a slice from a DataFrame.\n",
            "Try using .loc[row_indexer,col_indexer] = value instead\n",
            "\n",
            "See the caveats in the documentation: https://pandas.pydata.org/pandas-docs/stable/user_guide/indexing.html#returning-a-view-versus-a-copy\n",
            "  del sys.path[0]\n",
            "/usr/local/lib/python3.7/dist-packages/ipykernel_launcher.py:12: SettingWithCopyWarning: \n",
            "A value is trying to be set on a copy of a slice from a DataFrame.\n",
            "Try using .loc[row_indexer,col_indexer] = value instead\n",
            "\n",
            "See the caveats in the documentation: https://pandas.pydata.org/pandas-docs/stable/user_guide/indexing.html#returning-a-view-versus-a-copy\n",
            "  if sys.path[0] == '':\n",
            "/usr/local/lib/python3.7/dist-packages/ipykernel_launcher.py:13: SettingWithCopyWarning: \n",
            "A value is trying to be set on a copy of a slice from a DataFrame.\n",
            "Try using .loc[row_indexer,col_indexer] = value instead\n",
            "\n",
            "See the caveats in the documentation: https://pandas.pydata.org/pandas-docs/stable/user_guide/indexing.html#returning-a-view-versus-a-copy\n",
            "  del sys.path[0]\n",
            "/usr/local/lib/python3.7/dist-packages/ipykernel_launcher.py:12: SettingWithCopyWarning: \n",
            "A value is trying to be set on a copy of a slice from a DataFrame.\n",
            "Try using .loc[row_indexer,col_indexer] = value instead\n",
            "\n",
            "See the caveats in the documentation: https://pandas.pydata.org/pandas-docs/stable/user_guide/indexing.html#returning-a-view-versus-a-copy\n",
            "  if sys.path[0] == '':\n",
            "/usr/local/lib/python3.7/dist-packages/ipykernel_launcher.py:13: SettingWithCopyWarning: \n",
            "A value is trying to be set on a copy of a slice from a DataFrame.\n",
            "Try using .loc[row_indexer,col_indexer] = value instead\n",
            "\n",
            "See the caveats in the documentation: https://pandas.pydata.org/pandas-docs/stable/user_guide/indexing.html#returning-a-view-versus-a-copy\n",
            "  del sys.path[0]\n"
          ],
          "name": "stderr"
        }
      ]
    },
    {
      "cell_type": "code",
      "metadata": {
        "colab": {
          "base_uri": "https://localhost:8080/",
          "height": 798
        },
        "id": "NlLu4-FvFPNa",
        "outputId": "3eccf4d3-7aca-4032-abcf-1da4cd137142"
      },
      "source": [
        "anxiety_subs_df_shortened.head()"
      ],
      "execution_count": 188,
      "outputs": [
        {
          "output_type": "execute_result",
          "data": {
            "text/html": [
              "<div>\n",
              "<style scoped>\n",
              "    .dataframe tbody tr th:only-of-type {\n",
              "        vertical-align: middle;\n",
              "    }\n",
              "\n",
              "    .dataframe tbody tr th {\n",
              "        vertical-align: top;\n",
              "    }\n",
              "\n",
              "    .dataframe thead th {\n",
              "        text-align: right;\n",
              "    }\n",
              "</style>\n",
              "<table border=\"1\" class=\"dataframe\">\n",
              "  <thead>\n",
              "    <tr style=\"text-align: right;\">\n",
              "      <th></th>\n",
              "      <th>Unnamed: 0</th>\n",
              "      <th>sub_id</th>\n",
              "      <th>author</th>\n",
              "      <th>title</th>\n",
              "      <th>url</th>\n",
              "      <th>score</th>\n",
              "      <th>created</th>\n",
              "      <th>created_utc</th>\n",
              "      <th>numComms</th>\n",
              "      <th>permalink</th>\n",
              "      <th>flair</th>\n",
              "      <th>selftex</th>\n",
              "      <th>subreddit</th>\n",
              "      <th>class</th>\n",
              "      <th>word_count</th>\n",
              "      <th>selftext</th>\n",
              "    </tr>\n",
              "  </thead>\n",
              "  <tbody>\n",
              "    <tr>\n",
              "      <th>1</th>\n",
              "      <td>1</td>\n",
              "      <td>lm55xj</td>\n",
              "      <td>3045</td>\n",
              "      <td>Quick Question on fake percs</td>\n",
              "      <td>https://www.reddit.com/r/opiates/comments/lm55...</td>\n",
              "      <td>1</td>\n",
              "      <td>2021-02-17 21:27:01</td>\n",
              "      <td>1613597221</td>\n",
              "      <td>17</td>\n",
              "      <td>/r/opiates/comments/lm55xj/quick_question_on_f...</td>\n",
              "      <td>NaN</td>\n",
              "      <td>So a homie of mine got some suspect looking pe...</td>\n",
              "      <td>opiates</td>\n",
              "      <td>1</td>\n",
              "      <td>66.0</td>\n",
              "      <td>So a homie of mine got some suspect looking pe...</td>\n",
              "    </tr>\n",
              "    <tr>\n",
              "      <th>3</th>\n",
              "      <td>3</td>\n",
              "      <td>mkvmp8</td>\n",
              "      <td>3045</td>\n",
              "      <td>Noob</td>\n",
              "      <td>https://www.reddit.com/r/HappyEndingMassage/co...</td>\n",
              "      <td>1</td>\n",
              "      <td>2021-04-05 21:39:26</td>\n",
              "      <td>1617658766</td>\n",
              "      <td>5</td>\n",
              "      <td>/r/HappyEndingMassage/comments/mkvmp8/noob/</td>\n",
              "      <td>NaN</td>\n",
              "      <td>I’m 23, short and people have said I looked li...</td>\n",
              "      <td>HappyEndingMassage</td>\n",
              "      <td>1</td>\n",
              "      <td>52.0</td>\n",
              "      <td>I’m 23, short and people have said I looked li...</td>\n",
              "    </tr>\n",
              "    <tr>\n",
              "      <th>4</th>\n",
              "      <td>4</td>\n",
              "      <td>mmf49y</td>\n",
              "      <td>3045</td>\n",
              "      <td>Scored First Time</td>\n",
              "      <td>https://www.reddit.com/r/HappyEndingMassage/co...</td>\n",
              "      <td>1</td>\n",
              "      <td>2021-04-07 23:45:20</td>\n",
              "      <td>1617839120</td>\n",
              "      <td>3</td>\n",
              "      <td>/r/HappyEndingMassage/comments/mmf49y/scored_f...</td>\n",
              "      <td>NaN</td>\n",
              "      <td>I’ve never done this before but decided to giv...</td>\n",
              "      <td>HappyEndingMassage</td>\n",
              "      <td>1</td>\n",
              "      <td>53.0</td>\n",
              "      <td>I’ve never done this before but decided to giv...</td>\n",
              "    </tr>\n",
              "    <tr>\n",
              "      <th>5</th>\n",
              "      <td>5</td>\n",
              "      <td>mmveji</td>\n",
              "      <td>3045</td>\n",
              "      <td>Need FS or atleast BBBBJ</td>\n",
              "      <td>https://www.reddit.com/r/HappyEndingMassage/co...</td>\n",
              "      <td>1</td>\n",
              "      <td>2021-04-08 16:22:20</td>\n",
              "      <td>1617898940</td>\n",
              "      <td>7</td>\n",
              "      <td>/r/HappyEndingMassage/comments/mmveji/need_fs_...</td>\n",
              "      <td>NaN</td>\n",
              "      <td>How do I go about getting FS or BJ. Just went ...</td>\n",
              "      <td>HappyEndingMassage</td>\n",
              "      <td>1</td>\n",
              "      <td>54.0</td>\n",
              "      <td>How do I go about getting FS or BJ. Just went ...</td>\n",
              "    </tr>\n",
              "    <tr>\n",
              "      <th>6</th>\n",
              "      <td>6</td>\n",
              "      <td>mn1enc</td>\n",
              "      <td>3045</td>\n",
              "      <td>How to avoid ever getting caught by Leo’s</td>\n",
              "      <td>https://www.reddit.com/r/HappyEndingMassage/co...</td>\n",
              "      <td>1</td>\n",
              "      <td>2021-04-08 21:00:19</td>\n",
              "      <td>1617915619</td>\n",
              "      <td>3</td>\n",
              "      <td>/r/HappyEndingMassage/comments/mn1enc/how_to_a...</td>\n",
              "      <td>Question</td>\n",
              "      <td>I’m new to this and did some research and foun...</td>\n",
              "      <td>HappyEndingMassage</td>\n",
              "      <td>1</td>\n",
              "      <td>52.0</td>\n",
              "      <td>I’m new to this and did some research and foun...</td>\n",
              "    </tr>\n",
              "  </tbody>\n",
              "</table>\n",
              "</div>"
            ],
            "text/plain": [
              "   Unnamed: 0  ...                                           selftext\n",
              "1           1  ...  So a homie of mine got some suspect looking pe...\n",
              "3           3  ...  I’m 23, short and people have said I looked li...\n",
              "4           4  ...  I’ve never done this before but decided to giv...\n",
              "5           5  ...  How do I go about getting FS or BJ. Just went ...\n",
              "6           6  ...  I’m new to this and did some research and foun...\n",
              "\n",
              "[5 rows x 16 columns]"
            ]
          },
          "metadata": {
            "tags": []
          },
          "execution_count": 188
        }
      ]
    },
    {
      "cell_type": "markdown",
      "metadata": {
        "id": "UwKo__wcFCz-"
      },
      "source": [
        "## Import Negative Group\n",
        "\n",
        "I import the control data and create dataframes for it. \n"
      ]
    },
    {
      "cell_type": "code",
      "metadata": {
        "id": "7bryfzZiJJ1U"
      },
      "source": [
        "first_threethousand_coms_df = pd.read_csv('first_threethousand_coms.csv')\n",
        "threetofourthousand_coms_df = pd.read_csv('threetofourthousand_coms.csv')\n",
        "fourthousandtotenthousand_coms_df = pd.read_csv('fourthousandtotenthousand_coms.csv')\n",
        "tenthousandthrutwentythousand_coms_df = pd.read_csv('tenthousandthrutwentythousand_coms.csv')\n",
        "twentythousandthruthirtythousand_coms_df = pd.read_csv('twentythousandthruthirtythousand_coms.csv')\n",
        "thirtythousandthrufourtyfivethousand_coms_df = pd.read_csv('thirtythousandthrufourtyfivethousand_coms.csv')\n",
        "fourtyfivethouthrufiftyfivetho_coms_df = pd.read_csv('fourtyfivethouthrufiftyfivetho_coms.csv')\n",
        "fiftyfivethoutosixtyfivethou_coms_df = pd.read_csv('fiftyfivethoutosixtyfivethou_coms.csv')\n",
        "sixtyfivethouthruseventyfivethou_coms_df = pd.read_csv('sixtyfivethouthruseventyfivethou_coms.csv')\n",
        "seventyfivethouthrueightyfivethou_coms_df = pd.read_csv('seventyfivethouthrueightyfivethou_coms.csv')"
      ],
      "execution_count": 189,
      "outputs": []
    },
    {
      "cell_type": "code",
      "metadata": {
        "colab": {
          "base_uri": "https://localhost:8080/"
        },
        "id": "60whwz-uLHGP",
        "outputId": "3252eb88-50e7-4889-85c2-ce24d7807b1c"
      },
      "source": [
        "first_threethousand_coms_df = prepareDataFrame(first_threethousand_coms_df, 'com')\n",
        "threetofourthousand_coms_df = prepareDataFrame(threetofourthousand_coms_df, 'com')\n",
        "fourthousandtotenthousand_coms_df = prepareDataFrame(fourthousandtotenthousand_coms_df, 'com')\n",
        "tenthousandthrutwentythousand_coms_df = prepareDataFrame(tenthousandthrutwentythousand_coms_df, 'com')\n",
        "twentythousandthruthirtythousand_coms_df = prepareDataFrame(twentythousandthruthirtythousand_coms_df, 'com')\n",
        "thirtythousandthrufourtyfivethousand_coms_df = prepareDataFrame(thirtythousandthrufourtyfivethousand_coms_df, 'com')\n",
        "fourtyfivethouthrufiftyfivetho_coms_df = prepareDataFrame(fourtyfivethouthrufiftyfivetho_coms_df, 'com')\n",
        "fiftyfivethoutosixtyfivethou_coms_df = prepareDataFrame(fiftyfivethoutosixtyfivethou_coms_df, 'com')\n",
        "sixtyfivethouthruseventyfivethou_coms_df = prepareDataFrame(sixtyfivethouthruseventyfivethou_coms_df, 'com')\n",
        "seventyfivethouthrueightyfivethou_coms_df = prepareDataFrame(seventyfivethouthrueightyfivethou_coms_df, 'com')"
      ],
      "execution_count": 190,
      "outputs": [
        {
          "output_type": "stream",
          "text": [
            "/usr/local/lib/python3.7/dist-packages/ipykernel_launcher.py:15: SettingWithCopyWarning: \n",
            "A value is trying to be set on a copy of a slice from a DataFrame.\n",
            "Try using .loc[row_indexer,col_indexer] = value instead\n",
            "\n",
            "See the caveats in the documentation: https://pandas.pydata.org/pandas-docs/stable/user_guide/indexing.html#returning-a-view-versus-a-copy\n",
            "  from ipykernel import kernelapp as app\n",
            "/usr/local/lib/python3.7/dist-packages/ipykernel_launcher.py:15: SettingWithCopyWarning: \n",
            "A value is trying to be set on a copy of a slice from a DataFrame.\n",
            "Try using .loc[row_indexer,col_indexer] = value instead\n",
            "\n",
            "See the caveats in the documentation: https://pandas.pydata.org/pandas-docs/stable/user_guide/indexing.html#returning-a-view-versus-a-copy\n",
            "  from ipykernel import kernelapp as app\n",
            "/usr/local/lib/python3.7/dist-packages/ipykernel_launcher.py:15: SettingWithCopyWarning: \n",
            "A value is trying to be set on a copy of a slice from a DataFrame.\n",
            "Try using .loc[row_indexer,col_indexer] = value instead\n",
            "\n",
            "See the caveats in the documentation: https://pandas.pydata.org/pandas-docs/stable/user_guide/indexing.html#returning-a-view-versus-a-copy\n",
            "  from ipykernel import kernelapp as app\n",
            "/usr/local/lib/python3.7/dist-packages/ipykernel_launcher.py:15: SettingWithCopyWarning: \n",
            "A value is trying to be set on a copy of a slice from a DataFrame.\n",
            "Try using .loc[row_indexer,col_indexer] = value instead\n",
            "\n",
            "See the caveats in the documentation: https://pandas.pydata.org/pandas-docs/stable/user_guide/indexing.html#returning-a-view-versus-a-copy\n",
            "  from ipykernel import kernelapp as app\n",
            "/usr/local/lib/python3.7/dist-packages/ipykernel_launcher.py:15: SettingWithCopyWarning: \n",
            "A value is trying to be set on a copy of a slice from a DataFrame.\n",
            "Try using .loc[row_indexer,col_indexer] = value instead\n",
            "\n",
            "See the caveats in the documentation: https://pandas.pydata.org/pandas-docs/stable/user_guide/indexing.html#returning-a-view-versus-a-copy\n",
            "  from ipykernel import kernelapp as app\n",
            "/usr/local/lib/python3.7/dist-packages/ipykernel_launcher.py:15: SettingWithCopyWarning: \n",
            "A value is trying to be set on a copy of a slice from a DataFrame.\n",
            "Try using .loc[row_indexer,col_indexer] = value instead\n",
            "\n",
            "See the caveats in the documentation: https://pandas.pydata.org/pandas-docs/stable/user_guide/indexing.html#returning-a-view-versus-a-copy\n",
            "  from ipykernel import kernelapp as app\n",
            "/usr/local/lib/python3.7/dist-packages/ipykernel_launcher.py:15: SettingWithCopyWarning: \n",
            "A value is trying to be set on a copy of a slice from a DataFrame.\n",
            "Try using .loc[row_indexer,col_indexer] = value instead\n",
            "\n",
            "See the caveats in the documentation: https://pandas.pydata.org/pandas-docs/stable/user_guide/indexing.html#returning-a-view-versus-a-copy\n",
            "  from ipykernel import kernelapp as app\n",
            "/usr/local/lib/python3.7/dist-packages/ipykernel_launcher.py:15: SettingWithCopyWarning: \n",
            "A value is trying to be set on a copy of a slice from a DataFrame.\n",
            "Try using .loc[row_indexer,col_indexer] = value instead\n",
            "\n",
            "See the caveats in the documentation: https://pandas.pydata.org/pandas-docs/stable/user_guide/indexing.html#returning-a-view-versus-a-copy\n",
            "  from ipykernel import kernelapp as app\n",
            "/usr/local/lib/python3.7/dist-packages/ipykernel_launcher.py:15: SettingWithCopyWarning: \n",
            "A value is trying to be set on a copy of a slice from a DataFrame.\n",
            "Try using .loc[row_indexer,col_indexer] = value instead\n",
            "\n",
            "See the caveats in the documentation: https://pandas.pydata.org/pandas-docs/stable/user_guide/indexing.html#returning-a-view-versus-a-copy\n",
            "  from ipykernel import kernelapp as app\n",
            "/usr/local/lib/python3.7/dist-packages/ipykernel_launcher.py:15: SettingWithCopyWarning: \n",
            "A value is trying to be set on a copy of a slice from a DataFrame.\n",
            "Try using .loc[row_indexer,col_indexer] = value instead\n",
            "\n",
            "See the caveats in the documentation: https://pandas.pydata.org/pandas-docs/stable/user_guide/indexing.html#returning-a-view-versus-a-copy\n",
            "  from ipykernel import kernelapp as app\n"
          ],
          "name": "stderr"
        }
      ]
    },
    {
      "cell_type": "code",
      "metadata": {
        "colab": {
          "base_uri": "https://localhost:8080/"
        },
        "id": "h0RHlFchLILH",
        "outputId": "996d2b98-e19f-4f16-c8ea-0b3f903c9199"
      },
      "source": [
        "frames = [first_threethousand_coms_df, threetofourthousand_coms_df, fourthousandtotenthousand_coms_df,\n",
        "          tenthousandthrutwentythousand_coms_df, twentythousandthruthirtythousand_coms_df, thirtythousandthrufourtyfivethousand_coms_df,\n",
        "          fourtyfivethouthrufiftyfivetho_coms_df, fiftyfivethoutosixtyfivethou_coms_df, sixtyfivethouthruseventyfivethou_coms_df,\n",
        "          seventyfivethouthrueightyfivethou_coms_df]\n",
        "\n",
        "control_df = pd.concat(frames, ignore_index=True)\n",
        "control_df['class'] = 0\n",
        "len(control_df)"
      ],
      "execution_count": 191,
      "outputs": [
        {
          "output_type": "execute_result",
          "data": {
            "text/plain": [
              "306815"
            ]
          },
          "metadata": {
            "tags": []
          },
          "execution_count": 191
        }
      ]
    },
    {
      "cell_type": "code",
      "metadata": {
        "id": "-D11BQJp7_Bp"
      },
      "source": [
        "firsttenthou_subs_df = pd.read_csv('firsttenthou_subs.csv')\n",
        "tenthouthruwentythou_subs_df = pd.read_csv('tenthouthruwentythou_subs.csv')\n",
        "twentythouthruthirtythou_subs_df = pd.read_csv('twentythouthruthirtythou_subs.csv')\n",
        "thirtythouthrufourtythou_subs_df = pd.read_csv('thirtythouthrufourtythou_subs.csv')\n",
        "fourtythouthrufiftythou_subs_df = pd.read_csv('fourtythouthrufiftythou_subs.csv')\n",
        "fiftythouthrusixtythou_subs_df = pd.read_csv('fiftythouthrusixtythou_subs.csv')\n",
        "sixtythouthruseventythou_subs_df = pd.read_csv('sixtythouthruseventythou_subs.csv')\n",
        "seventythouthrueightythou_subs_df = pd.read_csv('seventythouthrueightythou_subs.csv')\n",
        "eightythouthrueightyfivethou_subs_df = pd.read_csv('eightythouthrueightyfivethou.csv')"
      ],
      "execution_count": 192,
      "outputs": []
    },
    {
      "cell_type": "code",
      "metadata": {
        "colab": {
          "base_uri": "https://localhost:8080/"
        },
        "id": "YhuTdIR68ggb",
        "outputId": "af3c819a-fcbf-4acd-a0d7-dd9c1c28e00c"
      },
      "source": [
        "\n",
        "firsttenthou_subs_df = prepareDataFrame(firsttenthou_subs_df, 'sub')\n",
        "tenthouthruwentythou_subs_df = prepareDataFrame(tenthouthruwentythou_subs_df, 'sub')\n",
        "twentythouthruthirtythou_subs_df =  prepareDataFrame(twentythouthruthirtythou_subs_df, 'sub')\n",
        "thirtythouthrufourtythou_subs_df = prepareDataFrame(thirtythouthrufourtythou_subs_df, 'sub')\n",
        "fourtythouthrufiftythou_subs_df = prepareDataFrame(fourtythouthrufiftythou_subs_df, 'sub')\n",
        "fiftythouthrusixtythou_subs_df = prepareDataFrame(fiftythouthrusixtythou_subs_df, 'sub')\n",
        "sixtythouthruseventythou_subs_df = prepareDataFrame(sixtythouthruseventythou_subs_df, 'sub')\n",
        "seventythouthrueightythou_subs_df = prepareDataFrame(seventythouthrueightythou_subs_df, 'sub')\n",
        "eightythouthrueightyfivethou_subs_df = prepareDataFrame(eightythouthrueightyfivethou_subs_df, 'sub')"
      ],
      "execution_count": 193,
      "outputs": [
        {
          "output_type": "stream",
          "text": [
            "/usr/local/lib/python3.7/dist-packages/ipykernel_launcher.py:10: SettingWithCopyWarning: \n",
            "A value is trying to be set on a copy of a slice from a DataFrame.\n",
            "Try using .loc[row_indexer,col_indexer] = value instead\n",
            "\n",
            "See the caveats in the documentation: https://pandas.pydata.org/pandas-docs/stable/user_guide/indexing.html#returning-a-view-versus-a-copy\n",
            "  # Remove the CWD from sys.path while we load stuff.\n",
            "/usr/local/lib/python3.7/dist-packages/ipykernel_launcher.py:10: SettingWithCopyWarning: \n",
            "A value is trying to be set on a copy of a slice from a DataFrame.\n",
            "Try using .loc[row_indexer,col_indexer] = value instead\n",
            "\n",
            "See the caveats in the documentation: https://pandas.pydata.org/pandas-docs/stable/user_guide/indexing.html#returning-a-view-versus-a-copy\n",
            "  # Remove the CWD from sys.path while we load stuff.\n",
            "/usr/local/lib/python3.7/dist-packages/ipykernel_launcher.py:10: SettingWithCopyWarning: \n",
            "A value is trying to be set on a copy of a slice from a DataFrame.\n",
            "Try using .loc[row_indexer,col_indexer] = value instead\n",
            "\n",
            "See the caveats in the documentation: https://pandas.pydata.org/pandas-docs/stable/user_guide/indexing.html#returning-a-view-versus-a-copy\n",
            "  # Remove the CWD from sys.path while we load stuff.\n",
            "/usr/local/lib/python3.7/dist-packages/ipykernel_launcher.py:10: SettingWithCopyWarning: \n",
            "A value is trying to be set on a copy of a slice from a DataFrame.\n",
            "Try using .loc[row_indexer,col_indexer] = value instead\n",
            "\n",
            "See the caveats in the documentation: https://pandas.pydata.org/pandas-docs/stable/user_guide/indexing.html#returning-a-view-versus-a-copy\n",
            "  # Remove the CWD from sys.path while we load stuff.\n",
            "/usr/local/lib/python3.7/dist-packages/ipykernel_launcher.py:10: SettingWithCopyWarning: \n",
            "A value is trying to be set on a copy of a slice from a DataFrame.\n",
            "Try using .loc[row_indexer,col_indexer] = value instead\n",
            "\n",
            "See the caveats in the documentation: https://pandas.pydata.org/pandas-docs/stable/user_guide/indexing.html#returning-a-view-versus-a-copy\n",
            "  # Remove the CWD from sys.path while we load stuff.\n",
            "/usr/local/lib/python3.7/dist-packages/ipykernel_launcher.py:10: SettingWithCopyWarning: \n",
            "A value is trying to be set on a copy of a slice from a DataFrame.\n",
            "Try using .loc[row_indexer,col_indexer] = value instead\n",
            "\n",
            "See the caveats in the documentation: https://pandas.pydata.org/pandas-docs/stable/user_guide/indexing.html#returning-a-view-versus-a-copy\n",
            "  # Remove the CWD from sys.path while we load stuff.\n",
            "/usr/local/lib/python3.7/dist-packages/ipykernel_launcher.py:10: SettingWithCopyWarning: \n",
            "A value is trying to be set on a copy of a slice from a DataFrame.\n",
            "Try using .loc[row_indexer,col_indexer] = value instead\n",
            "\n",
            "See the caveats in the documentation: https://pandas.pydata.org/pandas-docs/stable/user_guide/indexing.html#returning-a-view-versus-a-copy\n",
            "  # Remove the CWD from sys.path while we load stuff.\n",
            "/usr/local/lib/python3.7/dist-packages/ipykernel_launcher.py:10: SettingWithCopyWarning: \n",
            "A value is trying to be set on a copy of a slice from a DataFrame.\n",
            "Try using .loc[row_indexer,col_indexer] = value instead\n",
            "\n",
            "See the caveats in the documentation: https://pandas.pydata.org/pandas-docs/stable/user_guide/indexing.html#returning-a-view-versus-a-copy\n",
            "  # Remove the CWD from sys.path while we load stuff.\n",
            "/usr/local/lib/python3.7/dist-packages/ipykernel_launcher.py:10: SettingWithCopyWarning: \n",
            "A value is trying to be set on a copy of a slice from a DataFrame.\n",
            "Try using .loc[row_indexer,col_indexer] = value instead\n",
            "\n",
            "See the caveats in the documentation: https://pandas.pydata.org/pandas-docs/stable/user_guide/indexing.html#returning-a-view-versus-a-copy\n",
            "  # Remove the CWD from sys.path while we load stuff.\n"
          ],
          "name": "stderr"
        }
      ]
    },
    {
      "cell_type": "markdown",
      "metadata": {
        "id": "NoxMzEoUT1c9"
      },
      "source": [
        "### Important Dataframes\n",
        "\n",
        "All_comdata_df contains the comment data we'll be analyzing \n",
        "\n",
        "sub_df contains the submission data. \n",
        "\n",
        "all_df contains both.  "
      ]
    },
    {
      "cell_type": "code",
      "metadata": {
        "colab": {
          "base_uri": "https://localhost:8080/"
        },
        "id": "6BqQy2kl_L_e",
        "outputId": "d25b1ffb-6fca-4f34-b557-58642875acad"
      },
      "source": [
        "frames_sub_con = [firsttenthou_subs_df, tenthouthruwentythou_subs_df, twentythouthruthirtythou_subs_df,\n",
        "                  thirtythouthrufourtythou_subs_df, fourtythouthrufiftythou_subs_df, fiftythouthrusixtythou_subs_df,\n",
        "                  sixtythouthruseventythou_subs_df, seventythouthrueightythou_subs_df, eightythouthrueightyfivethou_subs_df]\n",
        "\n",
        "subs_control_df = pd.concat(frames_sub_con, ignore_index=True)\n",
        "subs_control_df['class'] = 0\n",
        "len(subs_control_df)"
      ],
      "execution_count": 194,
      "outputs": [
        {
          "output_type": "execute_result",
          "data": {
            "text/plain": [
              "45322"
            ]
          },
          "metadata": {
            "tags": []
          },
          "execution_count": 194
        }
      ]
    },
    {
      "cell_type": "code",
      "metadata": {
        "id": "zep5vXRaYw-j"
      },
      "source": [
        "frames_coms = [anxiety_coms_df_shortened, bpd_coms_df_shortened, bipolar_coms_df_shortened, dep_coms_df_shortened,\n",
        "          adhd_coms_df_shortened, ptsd_coms_df_shortened, control_df]\n",
        "\n",
        "all_comdata_df = pd.concat(frames_coms, ignore_index=True)"
      ],
      "execution_count": 195,
      "outputs": []
    },
    {
      "cell_type": "code",
      "metadata": {
        "colab": {
          "base_uri": "https://localhost:8080/",
          "height": 798
        },
        "id": "99ZRx_tG3ziN",
        "outputId": "74bfb4ef-bf3b-4fca-cbf3-32cb7d24e93f"
      },
      "source": [
        "frames_sub = [anxiety_subs_df_shortened, bpd_subs_df_shortened, bipolar_subs_df_shortened, dep_subs_df_shortened,\n",
        "              adhd_subs_df_shortened, ptsd_subs_df_shortened, subs_control_df]\n",
        "sub_df = pd.concat(frames_sub, ignore_index=True)\n",
        "sub_df.head()"
      ],
      "execution_count": 196,
      "outputs": [
        {
          "output_type": "execute_result",
          "data": {
            "text/html": [
              "<div>\n",
              "<style scoped>\n",
              "    .dataframe tbody tr th:only-of-type {\n",
              "        vertical-align: middle;\n",
              "    }\n",
              "\n",
              "    .dataframe tbody tr th {\n",
              "        vertical-align: top;\n",
              "    }\n",
              "\n",
              "    .dataframe thead th {\n",
              "        text-align: right;\n",
              "    }\n",
              "</style>\n",
              "<table border=\"1\" class=\"dataframe\">\n",
              "  <thead>\n",
              "    <tr style=\"text-align: right;\">\n",
              "      <th></th>\n",
              "      <th>Unnamed: 0</th>\n",
              "      <th>sub_id</th>\n",
              "      <th>author</th>\n",
              "      <th>title</th>\n",
              "      <th>url</th>\n",
              "      <th>score</th>\n",
              "      <th>created</th>\n",
              "      <th>created_utc</th>\n",
              "      <th>numComms</th>\n",
              "      <th>permalink</th>\n",
              "      <th>flair</th>\n",
              "      <th>selftex</th>\n",
              "      <th>subreddit</th>\n",
              "      <th>class</th>\n",
              "      <th>word_count</th>\n",
              "      <th>selftext</th>\n",
              "    </tr>\n",
              "  </thead>\n",
              "  <tbody>\n",
              "    <tr>\n",
              "      <th>0</th>\n",
              "      <td>1</td>\n",
              "      <td>lm55xj</td>\n",
              "      <td>3045</td>\n",
              "      <td>Quick Question on fake percs</td>\n",
              "      <td>https://www.reddit.com/r/opiates/comments/lm55...</td>\n",
              "      <td>1</td>\n",
              "      <td>2021-02-17 21:27:01</td>\n",
              "      <td>1613597221</td>\n",
              "      <td>17</td>\n",
              "      <td>/r/opiates/comments/lm55xj/quick_question_on_f...</td>\n",
              "      <td>NaN</td>\n",
              "      <td>So a homie of mine got some suspect looking pe...</td>\n",
              "      <td>opiates</td>\n",
              "      <td>1</td>\n",
              "      <td>66.0</td>\n",
              "      <td>So a homie of mine got some suspect looking pe...</td>\n",
              "    </tr>\n",
              "    <tr>\n",
              "      <th>1</th>\n",
              "      <td>3</td>\n",
              "      <td>mkvmp8</td>\n",
              "      <td>3045</td>\n",
              "      <td>Noob</td>\n",
              "      <td>https://www.reddit.com/r/HappyEndingMassage/co...</td>\n",
              "      <td>1</td>\n",
              "      <td>2021-04-05 21:39:26</td>\n",
              "      <td>1617658766</td>\n",
              "      <td>5</td>\n",
              "      <td>/r/HappyEndingMassage/comments/mkvmp8/noob/</td>\n",
              "      <td>NaN</td>\n",
              "      <td>I’m 23, short and people have said I looked li...</td>\n",
              "      <td>HappyEndingMassage</td>\n",
              "      <td>1</td>\n",
              "      <td>52.0</td>\n",
              "      <td>I’m 23, short and people have said I looked li...</td>\n",
              "    </tr>\n",
              "    <tr>\n",
              "      <th>2</th>\n",
              "      <td>4</td>\n",
              "      <td>mmf49y</td>\n",
              "      <td>3045</td>\n",
              "      <td>Scored First Time</td>\n",
              "      <td>https://www.reddit.com/r/HappyEndingMassage/co...</td>\n",
              "      <td>1</td>\n",
              "      <td>2021-04-07 23:45:20</td>\n",
              "      <td>1617839120</td>\n",
              "      <td>3</td>\n",
              "      <td>/r/HappyEndingMassage/comments/mmf49y/scored_f...</td>\n",
              "      <td>NaN</td>\n",
              "      <td>I’ve never done this before but decided to giv...</td>\n",
              "      <td>HappyEndingMassage</td>\n",
              "      <td>1</td>\n",
              "      <td>53.0</td>\n",
              "      <td>I’ve never done this before but decided to giv...</td>\n",
              "    </tr>\n",
              "    <tr>\n",
              "      <th>3</th>\n",
              "      <td>5</td>\n",
              "      <td>mmveji</td>\n",
              "      <td>3045</td>\n",
              "      <td>Need FS or atleast BBBBJ</td>\n",
              "      <td>https://www.reddit.com/r/HappyEndingMassage/co...</td>\n",
              "      <td>1</td>\n",
              "      <td>2021-04-08 16:22:20</td>\n",
              "      <td>1617898940</td>\n",
              "      <td>7</td>\n",
              "      <td>/r/HappyEndingMassage/comments/mmveji/need_fs_...</td>\n",
              "      <td>NaN</td>\n",
              "      <td>How do I go about getting FS or BJ. Just went ...</td>\n",
              "      <td>HappyEndingMassage</td>\n",
              "      <td>1</td>\n",
              "      <td>54.0</td>\n",
              "      <td>How do I go about getting FS or BJ. Just went ...</td>\n",
              "    </tr>\n",
              "    <tr>\n",
              "      <th>4</th>\n",
              "      <td>6</td>\n",
              "      <td>mn1enc</td>\n",
              "      <td>3045</td>\n",
              "      <td>How to avoid ever getting caught by Leo’s</td>\n",
              "      <td>https://www.reddit.com/r/HappyEndingMassage/co...</td>\n",
              "      <td>1</td>\n",
              "      <td>2021-04-08 21:00:19</td>\n",
              "      <td>1617915619</td>\n",
              "      <td>3</td>\n",
              "      <td>/r/HappyEndingMassage/comments/mn1enc/how_to_a...</td>\n",
              "      <td>Question</td>\n",
              "      <td>I’m new to this and did some research and foun...</td>\n",
              "      <td>HappyEndingMassage</td>\n",
              "      <td>1</td>\n",
              "      <td>52.0</td>\n",
              "      <td>I’m new to this and did some research and foun...</td>\n",
              "    </tr>\n",
              "  </tbody>\n",
              "</table>\n",
              "</div>"
            ],
            "text/plain": [
              "   Unnamed: 0  ...                                           selftext\n",
              "0           1  ...  So a homie of mine got some suspect looking pe...\n",
              "1           3  ...  I’m 23, short and people have said I looked li...\n",
              "2           4  ...  I’ve never done this before but decided to giv...\n",
              "3           5  ...  How do I go about getting FS or BJ. Just went ...\n",
              "4           6  ...  I’m new to this and did some research and foun...\n",
              "\n",
              "[5 rows x 16 columns]"
            ]
          },
          "metadata": {
            "tags": []
          },
          "execution_count": 196
        }
      ]
    },
    {
      "cell_type": "code",
      "metadata": {
        "id": "sss1ZulrG2cq"
      },
      "source": [
        "final_frames = [sub_df, all_comdata_df]"
      ],
      "execution_count": 197,
      "outputs": []
    },
    {
      "cell_type": "code",
      "metadata": {
        "id": "WSRctwNqGWMF"
      },
      "source": [
        "all_df = pd.concat(final_frames, ignore_index=True) #dataframe for both comment and submission data, including control\n"
      ],
      "execution_count": 198,
      "outputs": []
    },
    {
      "cell_type": "code",
      "metadata": {
        "colab": {
          "base_uri": "https://localhost:8080/",
          "height": 622
        },
        "id": "xiYXpc8k6n9G",
        "outputId": "aa56efad-20a7-45bd-ae81-567a4b245c2f"
      },
      "source": [
        "all_comdata_df.head() #dataframe for all comment data, including control "
      ],
      "execution_count": 199,
      "outputs": [
        {
          "output_type": "execute_result",
          "data": {
            "text/html": [
              "<div>\n",
              "<style scoped>\n",
              "    .dataframe tbody tr th:only-of-type {\n",
              "        vertical-align: middle;\n",
              "    }\n",
              "\n",
              "    .dataframe tbody tr th {\n",
              "        vertical-align: top;\n",
              "    }\n",
              "\n",
              "    .dataframe thead th {\n",
              "        text-align: right;\n",
              "    }\n",
              "</style>\n",
              "<table border=\"1\" class=\"dataframe\">\n",
              "  <thead>\n",
              "    <tr style=\"text-align: right;\">\n",
              "      <th></th>\n",
              "      <th>Unnamed: 0</th>\n",
              "      <th>com_id</th>\n",
              "      <th>author</th>\n",
              "      <th>score</th>\n",
              "      <th>created</th>\n",
              "      <th>created_utc</th>\n",
              "      <th>url</th>\n",
              "      <th>body</th>\n",
              "      <th>subreddit</th>\n",
              "      <th>class</th>\n",
              "      <th>word_count</th>\n",
              "    </tr>\n",
              "  </thead>\n",
              "  <tbody>\n",
              "    <tr>\n",
              "      <th>0</th>\n",
              "      <td>28</td>\n",
              "      <td>gwql67g</td>\n",
              "      <td>3045</td>\n",
              "      <td>2</td>\n",
              "      <td>2021-05-03 02:31:25</td>\n",
              "      <td>1620009085</td>\n",
              "      <td>/r/Pharmacist/comments/n3ldn4/new_pharmacist/g...</td>\n",
              "      <td>My networking isn’t the best at the moment but...</td>\n",
              "      <td>Pharmacist</td>\n",
              "      <td>1</td>\n",
              "      <td>59.0</td>\n",
              "    </tr>\n",
              "    <tr>\n",
              "      <th>1</th>\n",
              "      <td>34</td>\n",
              "      <td>gxf135c</td>\n",
              "      <td>3045</td>\n",
              "      <td>1</td>\n",
              "      <td>2021-05-08 19:15:41</td>\n",
              "      <td>1620501341</td>\n",
              "      <td>/r/Pharmacist/comments/n3ldn4/new_pharmacist/g...</td>\n",
              "      <td>Learn how to read and interpret words first, I...</td>\n",
              "      <td>Pharmacist</td>\n",
              "      <td>1</td>\n",
              "      <td>67.0</td>\n",
              "    </tr>\n",
              "    <tr>\n",
              "      <th>2</th>\n",
              "      <td>62</td>\n",
              "      <td>gcsg709</td>\n",
              "      <td>3215</td>\n",
              "      <td>11</td>\n",
              "      <td>2020-11-19 02:43:15</td>\n",
              "      <td>1605753795</td>\n",
              "      <td>/r/vancouver/comments/jwqmwl/nov_18th_covid19_...</td>\n",
              "      <td>It is not totally our fault. Even the ones who...</td>\n",
              "      <td>vancouver</td>\n",
              "      <td>1</td>\n",
              "      <td>64.0</td>\n",
              "    </tr>\n",
              "    <tr>\n",
              "      <th>3</th>\n",
              "      <td>80</td>\n",
              "      <td>gh11adr</td>\n",
              "      <td>3215</td>\n",
              "      <td>1</td>\n",
              "      <td>2020-12-25 23:46:07</td>\n",
              "      <td>1608939967</td>\n",
              "      <td>/r/churningcanada/comments/kjw7a3/daily_questi...</td>\n",
              "      <td>P2 applied for the first US credit card using ...</td>\n",
              "      <td>churningcanada</td>\n",
              "      <td>1</td>\n",
              "      <td>65.0</td>\n",
              "    </tr>\n",
              "    <tr>\n",
              "      <th>4</th>\n",
              "      <td>91</td>\n",
              "      <td>goirx5d</td>\n",
              "      <td>3215</td>\n",
              "      <td>2</td>\n",
              "      <td>2021-02-23 23:23:23</td>\n",
              "      <td>1614122603</td>\n",
              "      <td>/r/cureED/comments/lokiyt/can_someone_please_h...</td>\n",
              "      <td>I know because I am having problems emptying m...</td>\n",
              "      <td>cureED</td>\n",
              "      <td>1</td>\n",
              "      <td>56.0</td>\n",
              "    </tr>\n",
              "  </tbody>\n",
              "</table>\n",
              "</div>"
            ],
            "text/plain": [
              "   Unnamed: 0   com_id author  ...       subreddit class  word_count\n",
              "0          28  gwql67g   3045  ...      Pharmacist     1        59.0\n",
              "1          34  gxf135c   3045  ...      Pharmacist     1        67.0\n",
              "2          62  gcsg709   3215  ...       vancouver     1        64.0\n",
              "3          80  gh11adr   3215  ...  churningcanada     1        65.0\n",
              "4          91  goirx5d   3215  ...          cureED     1        56.0\n",
              "\n",
              "[5 rows x 11 columns]"
            ]
          },
          "metadata": {
            "tags": []
          },
          "execution_count": 199
        }
      ]
    },
    {
      "cell_type": "markdown",
      "metadata": {
        "id": "h9ROvOfoeqMm"
      },
      "source": [
        "## Data Exploration\n",
        "\n",
        "This analysis focuses on comment data first. "
      ]
    },
    {
      "cell_type": "code",
      "metadata": {
        "colab": {
          "base_uri": "https://localhost:8080/",
          "height": 295
        },
        "id": "6Nd4P4x-Udri",
        "outputId": "bb9c6cf0-0cdc-4c56-abcd-fcd9011c56d3"
      },
      "source": [
        "ax = sns.countplot(x=\"class\", data=all_comdata_df).set_title('Class Imbalance')\n"
      ],
      "execution_count": 212,
      "outputs": [
        {
          "output_type": "display_data",
          "data": {
            "image/png": "[encoded data removed]",
            "text/plain": [
              "<Figure size 432x288 with 1 Axes>"
            ]
          },
          "metadata": {
            "tags": [],
            "needs_background": "light"
          }
        }
      ]
    },
    {
      "cell_type": "code",
      "metadata": {
        "id": "73mWsYBkyBAB"
      },
      "source": [
        "def createGraphs(df, title):\n",
        "  \"\"\" Given a dataframe, creates 2 graphs: \n",
        "      Histogram of word counts\n",
        "      Bar graph of top 10 subreddits \"\"\"\n",
        "  fig, (ax1, ax2) = plt.subplots(1, 2)\n",
        "  fig.set_size_inches(18.5, 10.5)\n",
        "  fig.suptitle(title)\n",
        "  df.hist(column='word_count', ax=ax1)\n",
        "  ax1.set_title('Word Count')\n",
        "  ax1.set_xlabel('Word Count')\n",
        "  ax1.set_ylabel('Frequency')\n",
        "\n",
        "  #Subreddits\n",
        "  df_dict = df['subreddit'].value_counts()\n",
        "  df_dict = df_dict.to_dict()\n",
        "  df_dict = dict(sorted(df_dict.items(), key=lambda x: x[1], reverse=True))\n",
        "  keys = list(df_dict.keys())\n",
        "  values = list(df_dict.values())\n",
        "\n",
        "  ax2.bar(keys[:10], values[:10], color='#6600CC')\n",
        "  #plt.bar(keys[:10], values[:10], ax=ax2, color='#6600CC')\n",
        "  ax2.set_title('Top 10 Subreddits')\n",
        "  ax2.set_xlabel('Subreddits')\n",
        "  plt.setp(ax2.get_xticklabels(), rotation=45, ha=\"right\",\n",
        "         rotation_mode=\"anchor\")\n",
        "  ax2.set_ylabel('Count')\n",
        "\n",
        "    "
      ],
      "execution_count": null,
      "outputs": []
    },
    {
      "cell_type": "code",
      "metadata": {
        "colab": {
          "base_uri": "https://localhost:8080/"
        },
        "id": "oIbeFAGJy9ar",
        "outputId": "7a909de3-2d6b-4584-f267-0234dd24c4c5"
      },
      "source": [
        "createGraphs(anxiety_coms_df_shortened, 'Anxiety Comments')"
      ],
      "execution_count": null,
      "outputs": [
        {
          "output_type": "display_data",
          "data": {
            "image/png": "[encoded data removed]",
            "text/plain": [
              "<Figure size 1332x756 with 2 Axes>"
            ]
          },
          "metadata": {
            "tags": [],
            "needs_background": "light"
          }
        }
      ]
    },
    {
      "cell_type": "code",
      "metadata": {
        "colab": {
          "base_uri": "https://localhost:8080/"
        },
        "id": "DIqdUONa6Cz2",
        "outputId": "1c85c7fa-076e-4199-9b8a-de1cbf0eadc8"
      },
      "source": [
        "createGraphs(ptsd_coms_df_shortened, 'PTSD Comments')"
      ],
      "execution_count": null,
      "outputs": [
        {
          "output_type": "display_data",
          "data": {
            "image/png": "[encoded data removed]",
            "text/plain": [
              "<Figure size 1332x756 with 2 Axes>"
            ]
          },
          "metadata": {
            "tags": [],
            "needs_background": "light"
          }
        }
      ]
    },
    {
      "cell_type": "code",
      "metadata": {
        "colab": {
          "base_uri": "https://localhost:8080/",
          "height": 656
        },
        "id": "G6vLDGe46NVy",
        "outputId": "5f3f0226-d319-416c-a9bd-8c692c70b1a4"
      },
      "source": [
        "createGraphs(adhd_coms_df_shortened, 'ADHD Comments')"
      ],
      "execution_count": null,
      "outputs": [
        {
          "output_type": "display_data",
          "data": {
            "image/png": "[encoded data removed]",
            "text/plain": [
              "<Figure size 1332x756 with 2 Axes>"
            ]
          },
          "metadata": {
            "tags": [],
            "needs_background": "light"
          }
        }
      ]
    },
    {
      "cell_type": "code",
      "metadata": {
        "colab": {
          "base_uri": "https://localhost:8080/"
        },
        "id": "O6Vl3aj_6WmB",
        "outputId": "5b4d32a5-2173-459d-d0b8-c082c2ab8aed"
      },
      "source": [
        "createGraphs(bpd_coms_df_shortened, 'Borderline Comments')"
      ],
      "execution_count": null,
      "outputs": [
        {
          "output_type": "display_data",
          "data": {
            "image/png": "[encoded data removed]",
            "text/plain": [
              "<Figure size 1332x756 with 2 Axes>"
            ]
          },
          "metadata": {
            "tags": [],
            "needs_background": "light"
          }
        }
      ]
    },
    {
      "cell_type": "code",
      "metadata": {
        "colab": {
          "base_uri": "https://localhost:8080/"
        },
        "id": "JXUux8Xh7TpO",
        "outputId": "4378dfe6-a611-4798-c720-d0ccf8ff97d2"
      },
      "source": [
        "createGraphs(bipolar_coms_df_shortened, 'Bipolar Comments')"
      ],
      "execution_count": null,
      "outputs": [
        {
          "output_type": "display_data",
          "data": {
            "image/png": "[encoded data removed]",
            "text/plain": [
              "<Figure size 1332x756 with 2 Axes>"
            ]
          },
          "metadata": {
            "tags": [],
            "needs_background": "light"
          }
        }
      ]
    },
    {
      "cell_type": "code",
      "metadata": {
        "colab": {
          "base_uri": "https://localhost:8080/",
          "height": 661
        },
        "id": "Yv_skakOIcz_",
        "outputId": "5a876008-c3e0-4a13-c48f-4329de316a18"
      },
      "source": [
        "createGraphs(dep_coms_df_shortened, 'Depression Comments')"
      ],
      "execution_count": null,
      "outputs": [
        {
          "output_type": "display_data",
          "data": {
            "image/png": "[encoded data removed]",
            "text/plain": [
              "<Figure size 1332x756 with 2 Axes>"
            ]
          },
          "metadata": {
            "tags": [],
            "needs_background": "light"
          }
        }
      ]
    },
    {
      "cell_type": "markdown",
      "metadata": {
        "id": "xiYojoAIvAqj"
      },
      "source": [
        "## Preprocessing the Data\n",
        "\n",
        "I create helper functions and a class to preprocess data in various ways for analysis.  The preprocess_text function prepares data for either Word2Vec models (sentences) or other encoding. "
      ]
    },
    {
      "cell_type": "code",
      "metadata": {
        "id": "VzDwkUv5ydmv"
      },
      "source": [
        "def strip_html_tags(text):\n",
        "    \"\"\"remove html tags from text\"\"\"\n",
        "    soup = BeautifulSoup(text, \"html.parser\")\n",
        "    stripped_text = soup.get_text(separator=\" \")\n",
        "    return stripped_text"
      ],
      "execution_count": 200,
      "outputs": []
    },
    {
      "cell_type": "code",
      "metadata": {
        "id": "QA8xnr3ry2oy"
      },
      "source": [
        "def remove_accented_chars(text):\n",
        "    \"\"\"remove accented characters from text, e.g. café\"\"\"\n",
        "    text = unidecode(text)\n",
        "    return text"
      ],
      "execution_count": 201,
      "outputs": []
    },
    {
      "cell_type": "code",
      "metadata": {
        "id": "Iqt7sNT6zCCL"
      },
      "source": [
        "def expand_contractions(text):\n",
        "    \"\"\"expand shortened words, e.g. don't to do not\"\"\"\n",
        "    text = contractions.fix(text)\n",
        "    return text"
      ],
      "execution_count": 202,
      "outputs": []
    },
    {
      "cell_type": "code",
      "metadata": {
        "id": "KUn-S-zUKd2D"
      },
      "source": [
        "stopwords_list = stopwords.words('english')\n",
        "stopwords_list += [\"''\", '\"\"', '...', '``']\n",
        "stopwords_list.remove('against')\n",
        "stopwords_list.remove('not')"
      ],
      "execution_count": 203,
      "outputs": []
    },
    {
      "cell_type": "code",
      "metadata": {
        "id": "kzjzIPV7CTuz"
      },
      "source": [
        "sentence_tokenizer = nltk.data.load('tokenizers/punkt/english.pickle')"
      ],
      "execution_count": 204,
      "outputs": []
    },
    {
      "cell_type": "code",
      "metadata": {
        "id": "cZrSXtxlrI0-"
      },
      "source": [
        "def preprocess_data(text, stem=True, word2vec=True):\n",
        "  \"\"\" takes in a string and returns it processed: removes HTML tags, accented characters\n",
        "  expands contractions, lowercases the words, removes extra spaces and new lines, \n",
        "  removes punctuation, removes numbers, and tokenizes it \"\"\"\n",
        "\n",
        "  #remove HTML tags\n",
        "  preprocessed_text = strip_html_tags(text)\n",
        "\n",
        "  #remove accented characters\n",
        "  preprocessed_text = remove_accented_chars(preprocessed_text)\n",
        "\n",
        "  #expand contractions\n",
        "  preprocessed_text = expand_contractions(preprocessed_text)\n",
        "\n",
        "  #lowercase the words\n",
        "  preprocessed_text = preprocessed_text.lower()\n",
        "\n",
        "  #delete preceding spaces\n",
        "  preprocessed_text = preprocessed_text.strip()\n",
        "\n",
        "  #normalize spaces to 1\n",
        "  preprocessed_text = re.sub(\" +\", \" \", preprocessed_text)\n",
        "\n",
        "  #remove trailing whitespace\n",
        "  preprocessed_text = preprocessed_text.rstrip()\n",
        "\n",
        "  #remove \\n \\t\n",
        "  preprocessed_text = preprocessed_text.replace(\"\\n\", \" \").replace('\\t', ' ')\n",
        "\n",
        "\n",
        "  if word2vec:\n",
        "    #remove all characters except A-Z and period\n",
        "    preprocessed_text = re.sub(\"[^a-zA-Z\\.]\", \" \", preprocessed_text)\n",
        "    #get sentences from the tokenizer and the remove the period\n",
        "    preprocessed_text = sentence_tokenizer.tokenize(preprocessed_text)\n",
        "    preprocessed_text = [re.sub(\"[\\.]\", \"\", sentence) for sentence in preprocessed_text]\n",
        "  else: \n",
        "     #remove all characters except A-Z \n",
        "     preprocessed_text = re.sub(r'[^a-zA-Z]', ' ', preprocessed_text)\n",
        "     #tokenize it \n",
        "     preprocessed_text = nltk.word_tokenize(preprocessed_text)\n",
        "     \n",
        "\n",
        "\n",
        "\n",
        "  #remove stopwords\n",
        "  preprocessed_text = [word for word in preprocessed_text if word not in stopwords_list]\n",
        "\n",
        "  if stem:\n",
        "    #stem words\n",
        "    ps = PorterStemmer()\n",
        "    preprocessed_text = [ps.stem(word) for word in preprocessed_text]\n",
        "\n",
        "  return preprocessed_text"
      ],
      "execution_count": 205,
      "outputs": []
    },
    {
      "cell_type": "code",
      "metadata": {
        "id": "QgskbfJCCfsY"
      },
      "source": [
        "class W2vVectorizer(object):\n",
        "    #mean embedding vectorizer class \n",
        "    def __init__(self, w2v):\n",
        "        # Takes in a dictionary of words and vectors as input\n",
        "        self.w2v = w2v\n",
        "        if len(w2v) == 0:\n",
        "            self.dimensions = 0\n",
        "        else:\n",
        "            self.dimensions = len(w2v[next(iter(w2v))])\n",
        "    \n",
        "    # Note: Even though it doesn't do anything, it's required that this object implement a fit method or else\n",
        "    # it can't be used in a scikit-learn pipeline  \n",
        "    def fit(self, X, y):\n",
        "        return self\n",
        "            \n",
        "    def transform(self, X):\n",
        "        return np.array([\n",
        "            np.mean([self.w2v[w] for w in words if w in self.w2v] \n",
        "                   or [np.zeros(self.dimensions)], axis=0) for words in X])\n",
        "\n"
      ],
      "execution_count": 206,
      "outputs": []
    },
    {
      "cell_type": "code",
      "metadata": {
        "id": "cl1PwKvVSBWF"
      },
      "source": [
        "def use_word2vec(data, size=100, window_size=5, min_count=5, workers=4, epochs=10, sg=0):\n",
        "  \"\"\" creates Word2Vec model based on paramters entered, and returns the model\n",
        "  and word vectors\n",
        "    Paramaters:\n",
        "      data: The dataset we'll be training on\n",
        "      size: defaults to 100, the size of the word vectors to create\n",
        "      window_size: defaults to 5, the window size\n",
        "      min_count: defaults to 5, minimum number of times a word needs to appear in order to be counted in the model\n",
        "      workers: defaults to 4, number of threads to use during training\n",
        "      epochs: defaults to 10, number of epochs you want to train for\n",
        "  \n",
        "   \"\"\"\n",
        "  model = word2vec.Word2Vec(data, size=size, window=window_size, min_count=min_count, workers=workers, sg=sg)\n",
        "\n",
        "  #train the model\n",
        "  model.train(data, total_examples=model.corpus_count, epochs=epochs)\n",
        "\n",
        "  #save the word vectors\n",
        "  wv = model.wv\n",
        "\n",
        "  return model, wv\n"
      ],
      "execution_count": 207,
      "outputs": []
    },
    {
      "cell_type": "markdown",
      "metadata": {
        "id": "RjbQpX7-nKBy"
      },
      "source": [
        "## Data Preparation \n",
        "\n",
        "For the comments and submissions combined dataframe (all_df), I create a new column that combines the text entries, as they were under different columns in different dataframes.  This dataframe isn't analyzed until the end, as I try to build models off of comment data alone first. \n",
        "\n",
        "I create 2 columns, one with data preprocessed for Word2Vec, and one that is tokenized and stemmed for other embedding. "
      ]
    },
    {
      "cell_type": "code",
      "metadata": {
        "id": "LPLRe_-sJoLL"
      },
      "source": [
        "#all_df is the dataframe containing both submission and comment data, and isn't used until the end\n",
        "#creates one column that has the text for each entry (as it was named different things in different dataframes)\n",
        "all_df['text'] = all_df['body'].fillna('') + all_df['selftex'].fillna('') + all_df['selftext'].fillna('')"
      ],
      "execution_count": 208,
      "outputs": []
    },
    {
      "cell_type": "code",
      "metadata": {
        "id": "A2hMGE4nX3AR"
      },
      "source": [
        "#creates a column processed for the word2vec model \n",
        "all_comdata_df['tokenized_word2vec'] = [preprocess_data(x, stem=False) for x in all_comdata_df['body']]"
      ],
      "execution_count": 209,
      "outputs": []
    },
    {
      "cell_type": "code",
      "metadata": {
        "id": "keAzxkWFTeGe"
      },
      "source": [
        "#creates a column processed for other embedding\n",
        "all_comdata_df['tokenized_stemmed'] = [preprocess_data(x, stem=True, word2vec=False) for x in all_comdata_df['body']]"
      ],
      "execution_count": 210,
      "outputs": []
    },
    {
      "cell_type": "code",
      "metadata": {
        "colab": {
          "base_uri": "https://localhost:8080/"
        },
        "id": "5KQX9e59VTS3",
        "outputId": "df1a9f74-9453-42f2-ae63-f4db096ba6f3"
      },
      "source": [
        "all_comdata_df['tokenized_stemmed'][1]"
      ],
      "execution_count": null,
      "outputs": [
        {
          "output_type": "execute_result",
          "data": {
            "text/plain": [
              "['learn',\n",
              " 'read',\n",
              " 'interpret',\n",
              " 'word',\n",
              " 'first',\n",
              " 'said',\n",
              " 'pretti',\n",
              " 'sure',\n",
              " 'resid',\n",
              " 'pharmacist',\n",
              " 'recommend',\n",
              " 'certain',\n",
              " 'medic',\n",
              " 'would',\n",
              " 'benefit',\n",
              " 'patient',\n",
              " 'deem',\n",
              " 'prescrib',\n",
              " 'prescript',\n",
              " 'inadequ',\n",
              " 'knowledg',\n",
              " 'drug',\n",
              " 'interact',\n",
              " 'well',\n",
              " 'method',\n",
              " 'drug',\n",
              " 'therapi',\n",
              " 'nitpick',\n",
              " 'part',\n",
              " 'post',\n",
              " 'not',\n",
              " 'make',\n",
              " 'smart',\n",
              " 'dickhead']"
            ]
          },
          "metadata": {
            "tags": []
          },
          "execution_count": 91
        }
      ]
    },
    {
      "cell_type": "markdown",
      "metadata": {
        "id": "nmvPnvOwMXBx"
      },
      "source": [
        "## Train Test Split\n",
        "\n",
        "There are over 300,000 data points for users without a mental health classification in the comment data, and only 12,873 data points for those with any sort of mental health classification.  In order to start addressing this class balance, I undersample from the majority class, randomly sampling 50,000 users. \n",
        "\n",
        "I then split the data into training and testing sets, stratifying the data to continue addressing the imbalance. "
      ]
    },
    {
      "cell_type": "code",
      "metadata": {
        "id": "9EOBWf9bOxIC"
      },
      "source": [
        "#add a column that classifies the data into those struggling with mental health and the neutral data\n",
        "all_comdata_df['class_bin'] = [y if y == 0 else 1 for y in all_comdata_df['class']]"
      ],
      "execution_count": 213,
      "outputs": []
    },
    {
      "cell_type": "code",
      "metadata": {
        "colab": {
          "base_uri": "https://localhost:8080/"
        },
        "id": "KCxlVgyRP1Ad",
        "outputId": "5f136264-7017-4cf2-f1d6-6dba59a2fa3e"
      },
      "source": [
        "all_comdata_df['class_bin'].value_counts()"
      ],
      "execution_count": 214,
      "outputs": [
        {
          "output_type": "execute_result",
          "data": {
            "text/plain": [
              "0    306815\n",
              "1     12873\n",
              "Name: class_bin, dtype: int64"
            ]
          },
          "metadata": {
            "tags": []
          },
          "execution_count": 214
        }
      ]
    },
    {
      "cell_type": "code",
      "metadata": {
        "id": "V0Ip5pW-P7cr"
      },
      "source": [
        "#create dataframe without unnecessary columns \n",
        "com_df_for_models = all_comdata_df[['tokenized_word2vec', 'tokenized_stemmed', 'class', 'class_bin']]"
      ],
      "execution_count": 215,
      "outputs": []
    },
    {
      "cell_type": "code",
      "metadata": {
        "id": "LMMsNDJBW7X7"
      },
      "source": [
        "#undersample from the neutral class since it's so much bigger.\n",
        "#undersampled is the indexes for the randomly selected rows. \n",
        "#I then combine it with the other entries  \n",
        "undersampled = com_df_for_models[com_df_for_models['class_bin'] == 0].sample(50000).index\n",
        "non_neutral_indices = com_df_for_models[com_df_for_models['class_bin'] ==1].index\n",
        "com_df_for_models = com_df_for_models.loc[undersampled.union(non_neutral_indices)]"
      ],
      "execution_count": 216,
      "outputs": []
    },
    {
      "cell_type": "code",
      "metadata": {
        "id": "IN-kciB1MZ1c"
      },
      "source": [
        "#tran test split\n",
        "X = com_df_for_models[['tokenized_word2vec', 'tokenized_stemmed']]\n",
        "y = com_df_for_models['class']\n",
        "\n",
        "X_train, X_test, y_train, y_test = train_test_split(X, y, stratify=y, test_size = 0.20, random_state=42)"
      ],
      "execution_count": 217,
      "outputs": []
    },
    {
      "cell_type": "code",
      "metadata": {
        "colab": {
          "base_uri": "https://localhost:8080/"
        },
        "id": "2mXJTEAgRzyh",
        "outputId": "c3980838-171e-4d04-c2c5-025f616529b3"
      },
      "source": [
        "y_train.value_counts()"
      ],
      "execution_count": 218,
      "outputs": [
        {
          "output_type": "execute_result",
          "data": {
            "text/plain": [
              "0    40000\n",
              "6     2779\n",
              "1     2586\n",
              "2     1936\n",
              "3     1367\n",
              "4     1059\n",
              "5      571\n",
              "Name: class, dtype: int64"
            ]
          },
          "metadata": {
            "tags": []
          },
          "execution_count": 218
        }
      ]
    },
    {
      "cell_type": "markdown",
      "metadata": {
        "id": "rcYXFf06kkyw"
      },
      "source": [
        "## Model 1: Word2Vec with Random Forest\n",
        "\n",
        "I train a word2vec model using gensim and obtain word embeddings from it.  I then use those embeddings with a Random Forest Classifier. "
      ]
    },
    {
      "cell_type": "code",
      "metadata": {
        "colab": {
          "base_uri": "https://localhost:8080/"
        },
        "id": "qvJ-VulzRHlD",
        "outputId": "24e2f4fc-3114-4836-ace0-c56b2462d383"
      },
      "source": [
        "X_train['tokenized_word2vec']"
      ],
      "execution_count": null,
      "outputs": [
        {
          "output_type": "execute_result",
          "data": {
            "text/plain": [
              "70900     [yup, it is how it goes, for the most part  yo...\n",
              "55252     [are you keeping the polish on the nail  some ...\n",
              "214189    [hun you need to see a counsellor for strength...\n",
              "199464    [nope  she needed to know, nta, this let us he...\n",
              "225250    [i do not know the name  and would not utter i...\n",
              "                                ...                        \n",
              "173720    [they seem to plan for what is best for most p...\n",
              "278339    [from what i remember  water quality gets wors...\n",
              "171130    [usa today had their own judges experts or who...\n",
              "266601    [i have not, the closest i have been to colora...\n",
              "211089    [neither   there is a lot of debate in the fie...\n",
              "Name: tokenized_word2vec, Length: 255750, dtype: object"
            ]
          },
          "metadata": {
            "tags": []
          },
          "execution_count": 71
        }
      ]
    },
    {
      "cell_type": "code",
      "metadata": {
        "colab": {
          "base_uri": "https://localhost:8080/"
        },
        "id": "q_CQonYX2pLX",
        "outputId": "0d10eb97-e168-4b0f-e9a0-cbf6001bc762"
      },
      "source": [
        "y.value_counts()"
      ],
      "execution_count": null,
      "outputs": [
        {
          "output_type": "execute_result",
          "data": {
            "text/plain": [
              "0    306826\n",
              "6      3474\n",
              "1      3233\n",
              "2      2420\n",
              "3      1709\n",
              "4      1328\n",
              "5       728\n",
              "Name: class, dtype: int64"
            ]
          },
          "metadata": {
            "tags": []
          },
          "execution_count": 93
        }
      ]
    },
    {
      "cell_type": "code",
      "metadata": {
        "id": "OuKf60WIy_lU",
        "colab": {
          "base_uri": "https://localhost:8080/"
        },
        "outputId": "16fd4e39-e0eb-4c07-c482-9a4b531c0578"
      },
      "source": [
        "#w2vmodel is the word2vec model, wv is the wordvectors \n",
        "w2vmodel, wv = use_word2vec(X_train['tokenized_word2vec'])"
      ],
      "execution_count": 219,
      "outputs": [
        {
          "output_type": "stream",
          "text": [
            "WARNING:gensim.models.base_any2vec:Effective 'alpha' higher than previous training cycles\n"
          ],
          "name": "stderr"
        }
      ]
    },
    {
      "cell_type": "code",
      "metadata": {
        "colab": {
          "base_uri": "https://localhost:8080/"
        },
        "id": "qH-yp1xL0X_1",
        "outputId": "6e397c3c-7840-4e2f-bb86-c74321c75ae1"
      },
      "source": [
        "#turn it into a dictionary to pass it into the W2vVectorizer\n",
        "wv_dict = dict(zip(wv.index2word, wv.syn0))"
      ],
      "execution_count": 220,
      "outputs": [
        {
          "output_type": "stream",
          "text": [
            "/usr/local/lib/python3.7/dist-packages/ipykernel_launcher.py:2: DeprecationWarning: Call to deprecated `syn0` (Attribute will be removed in 4.0.0, use self.wv.vectors instead).\n",
            "  \n"
          ],
          "name": "stderr"
        }
      ]
    },
    {
      "cell_type": "markdown",
      "metadata": {
        "id": "vzJ1AYIdY4W3"
      },
      "source": [
        "### Random Forest Classifier Model\n",
        "First I create a base model using the default parameters. "
      ]
    },
    {
      "cell_type": "code",
      "metadata": {
        "id": "BDxON-2MFmsK"
      },
      "source": [
        "rf =  Pipeline([('Word2Vec Vectorizer', W2vVectorizer(wv_dict)),\n",
        "              ('Random Forest', RandomForestClassifier(n_estimators=100, verbose=True))])"
      ],
      "execution_count": null,
      "outputs": []
    },
    {
      "cell_type": "code",
      "metadata": {
        "id": "ERgr4PPdztL2"
      },
      "source": [
        "score = cross_val_score(rf, X_train['tokenized_word2vec'], y_train, cv=2, n_jobs=-1).mean()"
      ],
      "execution_count": null,
      "outputs": []
    },
    {
      "cell_type": "code",
      "metadata": {
        "colab": {
          "base_uri": "https://localhost:8080/"
        },
        "id": "8wPYflAp0oXQ",
        "outputId": "ece17938-9b7a-40e6-d00f-d761e75f56b0"
      },
      "source": [
        "score"
      ],
      "execution_count": null,
      "outputs": [
        {
          "output_type": "execute_result",
          "data": {
            "text/plain": [
              "0.7937094914310708"
            ]
          },
          "metadata": {
            "tags": []
          },
          "execution_count": 65
        }
      ]
    },
    {
      "cell_type": "code",
      "metadata": {
        "colab": {
          "base_uri": "https://localhost:8080/"
        },
        "id": "4NKZMCrP261X",
        "outputId": "1023900a-5d02-44f7-d215-e04ea5442e11"
      },
      "source": [
        "rf.fit(X_train['tokenized_word2vec'], y_train)"
      ],
      "execution_count": null,
      "outputs": [
        {
          "output_type": "stream",
          "text": [
            "[Parallel(n_jobs=1)]: Using backend SequentialBackend with 1 concurrent workers.\n",
            "[Parallel(n_jobs=1)]: Done 100 out of 100 | elapsed:   15.3s finished\n"
          ],
          "name": "stderr"
        },
        {
          "output_type": "execute_result",
          "data": {
            "text/plain": [
              "Pipeline(memory=None,\n",
              "         steps=[('Word2Vec Vectorizer',\n",
              "                 <__main__.W2vVectorizer object at 0x7f2370aa2d10>),\n",
              "                ('Random Forest',\n",
              "                 RandomForestClassifier(bootstrap=True, ccp_alpha=0.0,\n",
              "                                        class_weight=None, criterion='gini',\n",
              "                                        max_depth=None, max_features='auto',\n",
              "                                        max_leaf_nodes=None, max_samples=None,\n",
              "                                        min_impurity_decrease=0.0,\n",
              "                                        min_impurity_split=None,\n",
              "                                        min_samples_leaf=1, min_samples_split=2,\n",
              "                                        min_weight_fraction_leaf=0.0,\n",
              "                                        n_estimators=100, n_jobs=None,\n",
              "                                        oob_score=False, random_state=None,\n",
              "                                        verbose=True, warm_start=False))],\n",
              "         verbose=False)"
            ]
          },
          "metadata": {
            "tags": []
          },
          "execution_count": 66
        }
      ]
    },
    {
      "cell_type": "code",
      "metadata": {
        "colab": {
          "base_uri": "https://localhost:8080/"
        },
        "id": "OpzWeNQf3KTg",
        "outputId": "3372d425-7406-4d24-f8d7-03a040b1ea61"
      },
      "source": [
        "y_pred_test = rf.predict(X_test['tokenized_word2vec'])"
      ],
      "execution_count": null,
      "outputs": [
        {
          "output_type": "stream",
          "text": [
            "[Parallel(n_jobs=1)]: Using backend SequentialBackend with 1 concurrent workers.\n",
            "[Parallel(n_jobs=1)]: Done 100 out of 100 | elapsed:    0.2s finished\n"
          ],
          "name": "stderr"
        }
      ]
    },
    {
      "cell_type": "code",
      "metadata": {
        "colab": {
          "base_uri": "https://localhost:8080/"
        },
        "id": "_b_E_h473ZIz",
        "outputId": "500ab73a-bc45-468f-89a3-71a5f5512b8b"
      },
      "source": [
        "print(classification_report(y_test, y_pred_test))"
      ],
      "execution_count": null,
      "outputs": [
        {
          "output_type": "stream",
          "text": [
            "              precision    recall  f1-score   support\n",
            "\n",
            "           0       0.80      1.00      0.89     10000\n",
            "           1       0.75      0.00      0.01       647\n",
            "           2       0.00      0.00      0.00       484\n",
            "           3       0.00      0.00      0.00       342\n",
            "           4       0.00      0.00      0.00       264\n",
            "           5       0.00      0.00      0.00       143\n",
            "           6       0.36      0.01      0.01       695\n",
            "\n",
            "    accuracy                           0.80     12575\n",
            "   macro avg       0.27      0.14      0.13     12575\n",
            "weighted avg       0.69      0.80      0.71     12575\n",
            "\n"
          ],
          "name": "stdout"
        },
        {
          "output_type": "stream",
          "text": [
            "/usr/local/lib/python3.7/dist-packages/sklearn/metrics/_classification.py:1272: UndefinedMetricWarning: Precision and F-score are ill-defined and being set to 0.0 in labels with no predicted samples. Use `zero_division` parameter to control this behavior.\n",
            "  _warn_prf(average, modifier, msg_start, len(result))\n"
          ],
          "name": "stderr"
        }
      ]
    },
    {
      "cell_type": "markdown",
      "metadata": {
        "id": "HTryljoRY_zj"
      },
      "source": [
        "This model ignores most entries not in the majority class when trained with the default paramaters.  To try to address this class imbalance, my next model runs a gridsearch looking at max features, max depth, min samples split, and min samples leaf. It uses f1_macro to decide which paramaters are best. F1 score helps select a model with a balance between precision and recall scores. Macro F1-score treats all classes the same, regardless of how many entries are in each.  This score will be low for models that are only able to perform well on common classes. \n"
      ]
    },
    {
      "cell_type": "code",
      "metadata": {
        "id": "CP7KQPfdvJZQ"
      },
      "source": [
        "rf2pipeline =  Pipeline([('Word2Vec Vectorizer', W2vVectorizer(wv_dict)),\n",
        "              ('rf_classifier', RandomForestClassifier(verbose=True))])"
      ],
      "execution_count": null,
      "outputs": []
    },
    {
      "cell_type": "code",
      "metadata": {
        "id": "LLDReSqwm7ct"
      },
      "source": [
        "max_features = ['auto', 'sqrt', 'log2']\n",
        "max_depth = [10, 20, 30]\n",
        "min_samples_split = [2, 5, 12]\n",
        "min_samples_leaf = [1, 2, 5, 10]\n",
        "\n",
        "rf_grid_param = {'rf_classifier__max_depth': max_depth,\n",
        "                 'rf_classifier__min_samples_split': min_samples_split,\n",
        "                 'rf_classifier__max_features': max_features,\n",
        "                 'rf_classifier__min_samples_leaf': min_samples_leaf}"
      ],
      "execution_count": null,
      "outputs": []
    },
    {
      "cell_type": "code",
      "metadata": {
        "id": "GpC6NoMyylbl"
      },
      "source": [
        "rf_grid_pipeline = GridSearchCV(rf2pipeline, rf_grid_param, n_jobs=-1, scoring='f1_macro')"
      ],
      "execution_count": null,
      "outputs": []
    },
    {
      "cell_type": "code",
      "metadata": {
        "colab": {
          "base_uri": "https://localhost:8080/"
        },
        "id": "jJ2YrBYxy_oz",
        "outputId": "cf95da47-9f92-464e-edf5-7edf8e5cd8a1"
      },
      "source": [
        "rf_grid_pipeline.fit(X_train['tokenized_word2vec'],y_train)"
      ],
      "execution_count": null,
      "outputs": [
        {
          "output_type": "stream",
          "text": [
            "[Parallel(n_jobs=1)]: Using backend SequentialBackend with 1 concurrent workers.\n",
            "[Parallel(n_jobs=1)]: Done 100 out of 100 | elapsed:   11.9s finished\n"
          ],
          "name": "stderr"
        },
        {
          "output_type": "execute_result",
          "data": {
            "text/plain": [
              "GridSearchCV(cv=None, error_score=nan,\n",
              "             estimator=Pipeline(memory=None,\n",
              "                                steps=[('Word2Vec Vectorizer',\n",
              "                                        <__main__.W2vVectorizer object at 0x7f237096f510>),\n",
              "                                       ('rf_classifier',\n",
              "                                        RandomForestClassifier(bootstrap=True,\n",
              "                                                               ccp_alpha=0.0,\n",
              "                                                               class_weight=None,\n",
              "                                                               criterion='gini',\n",
              "                                                               max_depth=None,\n",
              "                                                               max_features='auto',\n",
              "                                                               max_leaf_nodes=None,\n",
              "                                                               max_samples=None,\n",
              "                                                               min_impurity_decrease=0.0,\n",
              "                                                               min...\n",
              "                                                               verbose=True,\n",
              "                                                               warm_start=False))],\n",
              "                                verbose=False),\n",
              "             iid='deprecated', n_jobs=-1,\n",
              "             param_grid={'rf_classifier__max_depth': [10, 20, 30],\n",
              "                         'rf_classifier__max_features': ['auto', 'sqrt',\n",
              "                                                         'log2'],\n",
              "                         'rf_classifier__min_samples_leaf': [1, 2, 5, 10],\n",
              "                         'rf_classifier__min_samples_split': [2, 5, 12]},\n",
              "             pre_dispatch='2*n_jobs', refit=True, return_train_score=False,\n",
              "             scoring='f1_macro', verbose=0)"
            ]
          },
          "metadata": {
            "tags": []
          },
          "execution_count": 74
        }
      ]
    },
    {
      "cell_type": "code",
      "metadata": {
        "colab": {
          "base_uri": "https://localhost:8080/"
        },
        "id": "sTVErM3fV8df",
        "outputId": "61fb2158-bb72-41a0-bd1a-c5bb70671729"
      },
      "source": [
        "rf_grid_pipeline.best_params_, rf_grid_pipeline.best_score_, "
      ],
      "execution_count": null,
      "outputs": [
        {
          "output_type": "execute_result",
          "data": {
            "text/plain": [
              "({'rf_classifier__max_depth': 30,\n",
              "  'rf_classifier__max_features': 'auto',\n",
              "  'rf_classifier__min_samples_leaf': 1,\n",
              "  'rf_classifier__min_samples_split': 2},\n",
              " 0.13082237174324718)"
            ]
          },
          "metadata": {
            "tags": []
          },
          "execution_count": 75
        }
      ]
    },
    {
      "cell_type": "code",
      "metadata": {
        "colab": {
          "base_uri": "https://localhost:8080/"
        },
        "id": "ZxbXX_glJDoL",
        "outputId": "509b2809-c936-4cbf-e8ef-4994a5b70d20"
      },
      "source": [
        "y_pred_test = rf_grid_pipeline.predict(X_test['tokenized_word2vec'])"
      ],
      "execution_count": null,
      "outputs": [
        {
          "output_type": "stream",
          "text": [
            "[Parallel(n_jobs=1)]: Using backend SequentialBackend with 1 concurrent workers.\n",
            "[Parallel(n_jobs=1)]: Done 100 out of 100 | elapsed:    0.2s finished\n"
          ],
          "name": "stderr"
        }
      ]
    },
    {
      "cell_type": "code",
      "metadata": {
        "colab": {
          "base_uri": "https://localhost:8080/"
        },
        "id": "J84K6BLZJY41",
        "outputId": "7a92a5ef-7b11-4132-c9d6-12f4da2ca2a9"
      },
      "source": [
        "gridsearch1 = classification_report(y_test, y_pred_test, output_dict=True)"
      ],
      "execution_count": null,
      "outputs": [
        {
          "output_type": "stream",
          "text": [
            "/usr/local/lib/python3.7/dist-packages/sklearn/metrics/_classification.py:1272: UndefinedMetricWarning: Precision and F-score are ill-defined and being set to 0.0 in labels with no predicted samples. Use `zero_division` parameter to control this behavior.\n",
            "  _warn_prf(average, modifier, msg_start, len(result))\n"
          ],
          "name": "stderr"
        },
        {
          "output_type": "execute_result",
          "data": {
            "text/plain": [
              "{'0': {'f1-score': 0.8861309339125037,\n",
              "  'precision': 0.7957965130164796,\n",
              "  'recall': 0.9996,\n",
              "  'support': 10000},\n",
              " '1': {'f1-score': 0.00923076923076923,\n",
              "  'precision': 1.0,\n",
              "  'recall': 0.00463678516228748,\n",
              "  'support': 647},\n",
              " '2': {'f1-score': 0.0, 'precision': 0.0, 'recall': 0.0, 'support': 484},\n",
              " '3': {'f1-score': 0.0, 'precision': 0.0, 'recall': 0.0, 'support': 342},\n",
              " '4': {'f1-score': 0.0, 'precision': 0.0, 'recall': 0.0, 'support': 264},\n",
              " '5': {'f1-score': 0.0, 'precision': 0.0, 'recall': 0.0, 'support': 143},\n",
              " '6': {'f1-score': 0.011379800853485063,\n",
              "  'precision': 0.5,\n",
              "  'recall': 0.0057553956834532375,\n",
              "  'support': 695},\n",
              " 'accuracy': 0.7954671968190855,\n",
              " 'macro avg': {'f1-score': 0.12953450057096544,\n",
              "  'precision': 0.3279709304309257,\n",
              "  'recall': 0.14428459726367726,\n",
              "  'support': 12575},\n",
              " 'weighted avg': {'f1-score': 0.7057805652811543,\n",
              "  'precision': 0.7119256564743376,\n",
              "  'recall': 0.7954671968190855,\n",
              "  'support': 12575}}"
            ]
          },
          "metadata": {
            "tags": []
          },
          "execution_count": 77
        }
      ]
    },
    {
      "cell_type": "markdown",
      "metadata": {
        "id": "VmLXnDcma3-h"
      },
      "source": [
        "This model also performed poorly, as even evaluating the paramaters based on f1_macro score, the model ignores less common classes.\n",
        "\n",
        "To address this, I create one more random forest classifier that applies weights inversely proportional to class frequencies. "
      ]
    },
    {
      "cell_type": "code",
      "metadata": {
        "id": "qqQnG_Y3jBMD"
      },
      "source": [
        "rf2pipeline2 =  Pipeline([('Word2Vec Vectorizer', W2vVectorizer(wv_dict)),\n",
        "              ('rf_classifier', RandomForestClassifier(class_weight='balanced',n_jobs=-1, verbose=True))])"
      ],
      "execution_count": 221,
      "outputs": []
    },
    {
      "cell_type": "code",
      "metadata": {
        "id": "F_SsTbGIkE2T"
      },
      "source": [
        "#parameters for the grid search \n",
        "\n",
        "max_features = ['auto', 'sqrt', 'log2']\n",
        "max_depth = [10, 20, 30, 40]\n",
        "min_samples_split = [2, 5, 12]\n",
        "min_samples_leaf = [1, 2, 5, 10]\n",
        "\n",
        "rf_grid_param = {'rf_classifier__max_depth': max_depth,\n",
        "                 'rf_classifier__min_samples_split': min_samples_split,\n",
        "                 'rf_classifier__max_features': max_features,\n",
        "                 'rf_classifier__min_samples_leaf': min_samples_leaf}"
      ],
      "execution_count": 222,
      "outputs": []
    },
    {
      "cell_type": "code",
      "metadata": {
        "id": "Ddev37PikPA1"
      },
      "source": [
        "#run the gridsearch, keeping the parameter values that give the best f1_macro score \n",
        "rf_grid_pipeline2 = GridSearchCV(rf2pipeline2, rf_grid_param, n_jobs=-1, scoring='f1_macro')"
      ],
      "execution_count": 223,
      "outputs": []
    },
    {
      "cell_type": "code",
      "metadata": {
        "colab": {
          "base_uri": "https://localhost:8080/"
        },
        "id": "_2qb4wJJb1pr",
        "outputId": "bec7b564-afb7-4216-bf2e-55833fabd9d7"
      },
      "source": [
        "rf_grid_pipeline2.fit(X_train['tokenized_word2vec'],y_train)"
      ],
      "execution_count": 224,
      "outputs": [
        {
          "output_type": "stream",
          "text": [
            "[Parallel(n_jobs=-1)]: Using backend ThreadingBackend with 4 concurrent workers.\n",
            "[Parallel(n_jobs=-1)]: Done  42 tasks      | elapsed:    0.7s\n",
            "[Parallel(n_jobs=-1)]: Done 100 out of 100 | elapsed:    1.6s finished\n"
          ],
          "name": "stderr"
        },
        {
          "output_type": "execute_result",
          "data": {
            "text/plain": [
              "GridSearchCV(cv=None, error_score=nan,\n",
              "             estimator=Pipeline(memory=None,\n",
              "                                steps=[('Word2Vec Vectorizer',\n",
              "                                        <__main__.W2vVectorizer object at 0x7ff8c9a5ff10>),\n",
              "                                       ('rf_classifier',\n",
              "                                        RandomForestClassifier(bootstrap=True,\n",
              "                                                               ccp_alpha=0.0,\n",
              "                                                               class_weight='balanced',\n",
              "                                                               criterion='gini',\n",
              "                                                               max_depth=None,\n",
              "                                                               max_features='auto',\n",
              "                                                               max_leaf_nodes=None,\n",
              "                                                               max_samples=None,\n",
              "                                                               min_impurity_decrease=0...\n",
              "                                                               verbose=True,\n",
              "                                                               warm_start=False))],\n",
              "                                verbose=False),\n",
              "             iid='deprecated', n_jobs=-1,\n",
              "             param_grid={'rf_classifier__max_depth': [10, 20, 30, 40],\n",
              "                         'rf_classifier__max_features': ['auto', 'sqrt',\n",
              "                                                         'log2'],\n",
              "                         'rf_classifier__min_samples_leaf': [1, 2, 5, 10],\n",
              "                         'rf_classifier__min_samples_split': [2, 5, 12]},\n",
              "             pre_dispatch='2*n_jobs', refit=True, return_train_score=False,\n",
              "             scoring='f1_macro', verbose=0)"
            ]
          },
          "metadata": {
            "tags": []
          },
          "execution_count": 224
        }
      ]
    },
    {
      "cell_type": "code",
      "metadata": {
        "colab": {
          "base_uri": "https://localhost:8080/"
        },
        "id": "Y7OF1pi6b5i-",
        "outputId": "1d6e1fa1-309b-486a-a349-be05552552ea"
      },
      "source": [
        "rf_grid_pipeline2.best_params_, rf_grid_pipeline2.best_score_, "
      ],
      "execution_count": 225,
      "outputs": [
        {
          "output_type": "execute_result",
          "data": {
            "text/plain": [
              "({'rf_classifier__max_depth': 10,\n",
              "  'rf_classifier__max_features': 'auto',\n",
              "  'rf_classifier__min_samples_leaf': 5,\n",
              "  'rf_classifier__min_samples_split': 5},\n",
              " 0.03729379947789506)"
            ]
          },
          "metadata": {
            "tags": []
          },
          "execution_count": 225
        }
      ]
    },
    {
      "cell_type": "code",
      "metadata": {
        "colab": {
          "base_uri": "https://localhost:8080/"
        },
        "id": "2fIDSH2Wb981",
        "outputId": "cef5f1cd-85bf-4aed-aff7-c2018c91a962"
      },
      "source": [
        "y_pred_test = rf_grid_pipeline2.predict(X_test['tokenized_word2vec'])"
      ],
      "execution_count": 226,
      "outputs": [
        {
          "output_type": "stream",
          "text": [
            "[Parallel(n_jobs=4)]: Using backend ThreadingBackend with 4 concurrent workers.\n",
            "[Parallel(n_jobs=4)]: Done  42 tasks      | elapsed:    0.0s\n",
            "[Parallel(n_jobs=4)]: Done 100 out of 100 | elapsed:    0.1s finished\n"
          ],
          "name": "stderr"
        }
      ]
    },
    {
      "cell_type": "code",
      "metadata": {
        "id": "TtiRZ-Rh4si-"
      },
      "source": [
        "cfn = confusion_matrix(y_test, y_pred_test)"
      ],
      "execution_count": 250,
      "outputs": []
    },
    {
      "cell_type": "code",
      "metadata": {
        "id": "GkrB-4Bu5TyD"
      },
      "source": [
        "def plot_confusion_matrix(cm, classes,\n",
        "                          normalize=False,\n",
        "                          title='Confusion matrix',\n",
        "                          cmap=plt.cm.Blues):\n",
        "    \"\"\"\n",
        "    This function prints and plots the confusion matrix.\n",
        "    Normalization can be applied by setting `normalize=True`.\n",
        "    code from: https://datascience.stackexchange.com/questions/40067/confusion-matrix-three-classes-python\n",
        "    \"\"\"\n",
        "    \n",
        "    import itertools\n",
        "    if normalize:\n",
        "        cm = cm.astype('float') / cm.sum(axis=1)[:, np.newaxis]\n",
        "        print(\"Normalized confusion matrix\")\n",
        "    else:\n",
        "        print('Confusion matrix, without normalization')\n",
        "\n",
        "    print(cm)\n",
        "\n",
        "    plt.imshow(cm, interpolation='nearest', cmap=cmap)\n",
        "    plt.title(title)\n",
        "    plt.colorbar()\n",
        "    tick_marks = np.arange(len(classes))\n",
        "    plt.xticks(tick_marks, classes, rotation=45)\n",
        "    plt.yticks(tick_marks, classes)\n",
        "\n",
        "    fmt = '.2f' if normalize else 'd'\n",
        "    thresh = cm.max() / 2.\n",
        "    for i, j in itertools.product(range(cm.shape[0]), range(cm.shape[1])):\n",
        "        plt.text(j, i, format(cm[i, j], fmt),\n",
        "                 horizontalalignment=\"center\",\n",
        "                 color=\"white\" if cm[i, j] > thresh else \"black\")\n",
        "\n",
        "    plt.ylabel('True label')\n",
        "    plt.xlabel('Predicted label')\n",
        "    plt.tight_layout()"
      ],
      "execution_count": 249,
      "outputs": []
    },
    {
      "cell_type": "code",
      "metadata": {
        "colab": {
          "base_uri": "https://localhost:8080/",
          "height": 435
        },
        "id": "zWK9l0Hy5ZvW",
        "outputId": "1783b36c-37dc-4d20-d717-eaa2f542942c"
      },
      "source": [
        "plot_confusion_matrix(cfn, classes=['Neutral', 'Anxiety', 'ADHD', 'Bipolar', 'BPD', 'Depression', 'PTSD'],\n",
        "                      title='Confusion matrix')"
      ],
      "execution_count": 252,
      "outputs": [
        {
          "output_type": "stream",
          "text": [
            "Confusion matrix, without normalization\n",
            "[[ 347   38  115   74   78 9252   96]\n",
            " [  21    8    6    4    4  592   12]\n",
            " [   7    4    5    4    6  454    4]\n",
            " [   7    4    7    5    5  311    3]\n",
            " [   3    0    2    4    2  249    4]\n",
            " [   2    0    1    1    3  134    2]\n",
            " [  15    6   11   10    7  631   15]]\n"
          ],
          "name": "stdout"
        },
        {
          "output_type": "display_data",
          "data": {
            "image/png": "[encoded data removed]",
            "text/plain": [
              "<Figure size 432x288 with 2 Axes>"
            ]
          },
          "metadata": {
            "tags": [],
            "needs_background": "light"
          }
        }
      ]
    },
    {
      "cell_type": "code",
      "metadata": {
        "id": "pYZpDepQcDe8"
      },
      "source": [
        "gridsearch2 = classification_report(y_test, y_pred_test, output_dict=True)"
      ],
      "execution_count": 227,
      "outputs": []
    },
    {
      "cell_type": "code",
      "metadata": {
        "id": "TztpIOkO17Ga"
      },
      "source": [
        "gridsearch2['anxiety'] = gridsearch2.pop('1')\n",
        "gridsearch2['adhd'] = gridsearch2.pop('2')\n",
        "gridsearch2['bipolar'] = gridsearch2.pop('3')\n",
        "gridsearch2['bpd'] = gridsearch2.pop('4')\n",
        "gridsearch2['depression'] = gridsearch2.pop('5')\n",
        "gridsearch2['ptsd'] = gridsearch2.pop('6')\n",
        "gridsearch2['neutral'] = gridsearch2.pop('0')"
      ],
      "execution_count": 229,
      "outputs": []
    },
    {
      "cell_type": "code",
      "metadata": {
        "colab": {
          "base_uri": "https://localhost:8080/"
        },
        "id": "0xeqf5H41uog",
        "outputId": "ccdf66db-5e15-44b8-cfeb-0336cc50e4b8"
      },
      "source": [
        "pprint.pprint(gridsearch2)"
      ],
      "execution_count": 230,
      "outputs": [
        {
          "output_type": "stream",
          "text": [
            "{'accuracy': 0.0410337972166998,\n",
            " 'adhd': {'f1-score': 0.01584786053882726,\n",
            "          'precision': 0.034013605442176874,\n",
            "          'recall': 0.010330578512396695,\n",
            "          'support': 484},\n",
            " 'anxiety': {'f1-score': 0.02263083451202263,\n",
            "             'precision': 0.13333333333333333,\n",
            "             'recall': 0.012364760432766615,\n",
            "             'support': 647},\n",
            " 'bipolar': {'f1-score': 0.022522522522522525,\n",
            "             'precision': 0.049019607843137254,\n",
            "             'recall': 0.014619883040935672,\n",
            "             'support': 342},\n",
            " 'bpd': {'f1-score': 0.010840108401084013,\n",
            "         'precision': 0.01904761904761905,\n",
            "         'recall': 0.007575757575757576,\n",
            "         'support': 264},\n",
            " 'depression': {'f1-score': 0.022777494475607687,\n",
            "                'precision': 0.011528865181106428,\n",
            "                'recall': 0.9370629370629371,\n",
            "                'support': 143},\n",
            " 'macro avg': {'f1-score': 0.028205406048638144,\n",
            "               'precision': 0.17434588972806028,\n",
            "               'recall': 0.1483195214911062,\n",
            "               'support': 12575},\n",
            " 'neutral': {'f1-score': 0.06671793885791194,\n",
            "             'precision': 0.8631840796019901,\n",
            "             'recall': 0.0347,\n",
            "             'support': 10000},\n",
            " 'ptsd': {'f1-score': 0.03610108303249098,\n",
            "          'precision': 0.11029411764705882,\n",
            "          'recall': 0.02158273381294964,\n",
            "          'support': 695},\n",
            " 'weighted avg': {'f1-score': 0.057924757753270176,\n",
            "                  'precision': 0.7025579613930107,\n",
            "                  'recall': 0.0410337972166998,\n",
            "                  'support': 12575}}\n"
          ],
          "name": "stdout"
        }
      ]
    },
    {
      "cell_type": "markdown",
      "metadata": {
        "id": "bxwy0BOmJRKH"
      },
      "source": [
        "This model performs better, though still not well. It does not ignore the smaller classes. Interestingly, anxiety has a precision of 13%, even though recall is only 1%.  Depression only has a precision of 1% but has a recall score of 93.7%, meaning the model tries to guess it often, but usually is wrong.  PTSD has a precision of 11% and a recall of 2%.\n",
        "\n",
        "\n"
      ]
    },
    {
      "cell_type": "markdown",
      "metadata": {
        "id": "zTyE1_1vu0IY"
      },
      "source": [
        "## Model 2: LSTM \n",
        "\n",
        "I create encodings for the 50,000 most common words in the comment data, and train them using Keras LSTM. I do this because the vocabulary is very large, with numerous strange \"words\" that are only used once.  I then try to classify indviduals as neutral (not-diagnosed), or in one of the 6 diagnoses.  This model also does not perform well, likely because I chose poorly for the hidden dimension sizes. It completely ignores several classes and does not atempt to predict them.  \n"
      ]
    },
    {
      "cell_type": "code",
      "metadata": {
        "id": "4eFXJG7cu4M8"
      },
      "source": [
        "def check_encoding(word, token_map):\n",
        "  \"\"\" This function checks if encoding exists for a word. \n",
        "\n",
        "  Parameters:\n",
        "  word (string): word to check\n",
        "  token_map (set): mapping of words to their numerical representation\n",
        "\n",
        "  Returns:\n",
        "  int: encoding if it exists, 0 if it does not \n",
        "\n",
        "  \"\"\"\n",
        "  if word in token_map:\n",
        "    return token_map.get(word)\n",
        "  else: \n",
        "    return 0"
      ],
      "execution_count": 231,
      "outputs": []
    },
    {
      "cell_type": "code",
      "metadata": {
        "id": "A0NAHeoEpTQv"
      },
      "source": [
        "#calculates the frequency of each word\n",
        "word_freq = Counter()\n",
        "for entry in X_train['tokenized_stemmed']:\n",
        "  word_freq.update(entry)"
      ],
      "execution_count": 232,
      "outputs": []
    },
    {
      "cell_type": "code",
      "metadata": {
        "colab": {
          "base_uri": "https://localhost:8080/"
        },
        "id": "DDIkU-vwq0Uq",
        "outputId": "3fb3b17b-3eba-4434-a2c8-75b67447bfd5"
      },
      "source": [
        "word_freq.most_common(20)"
      ],
      "execution_count": 233,
      "outputs": [
        {
          "output_type": "execute_result",
          "data": {
            "text/plain": [
              "[('not', 95725),\n",
              " ('like', 29419),\n",
              " ('would', 25106),\n",
              " ('get', 24526),\n",
              " ('peopl', 19464),\n",
              " ('go', 17815),\n",
              " ('one', 16473),\n",
              " ('time', 15662),\n",
              " ('think', 15655),\n",
              " ('want', 14750),\n",
              " ('make', 14589),\n",
              " ('know', 13731),\n",
              " ('thing', 12912),\n",
              " ('feel', 11544),\n",
              " ('even', 11343),\n",
              " ('also', 11284),\n",
              " ('realli', 11136),\n",
              " ('say', 10644),\n",
              " ('work', 10597),\n",
              " ('need', 10372)]"
            ]
          },
          "metadata": {
            "tags": []
          },
          "execution_count": 233
        }
      ]
    },
    {
      "cell_type": "code",
      "metadata": {
        "colab": {
          "base_uri": "https://localhost:8080/"
        },
        "id": "zWiwEJlduG_T",
        "outputId": "3f082a55-8ffb-4f75-b00b-27f8335c7623"
      },
      "source": [
        "word_freq.most_common()[:-5:-1]"
      ],
      "execution_count": null,
      "outputs": [
        {
          "output_type": "execute_result",
          "data": {
            "text/plain": [
              "[('bkund', 1), ('enviroment', 1), ('reqd', 1), ('odiou', 1)]"
            ]
          },
          "metadata": {
            "tags": []
          },
          "execution_count": 81
        }
      ]
    },
    {
      "cell_type": "code",
      "metadata": {
        "id": "JFUit5VWuQAz"
      },
      "source": [
        "#I narrow down the vocabulary to 50,000 words to get rid of words that appear very few times. \n",
        "final_word = word_freq.most_common(50000) #list of tuples of word and frequency "
      ],
      "execution_count": 234,
      "outputs": []
    },
    {
      "cell_type": "code",
      "metadata": {
        "colab": {
          "base_uri": "https://localhost:8080/"
        },
        "id": "F2susamauxfy",
        "outputId": "4e57f28f-4953-41ac-fc16-62e6925052b4"
      },
      "source": [
        "final_word[0:10] "
      ],
      "execution_count": 95,
      "outputs": [
        {
          "output_type": "execute_result",
          "data": {
            "text/plain": [
              "[('not', 72228),\n",
              " ('like', 21997),\n",
              " ('would', 18856),\n",
              " ('get', 17984),\n",
              " ('peopl', 14832),\n",
              " ('go', 13419),\n",
              " ('one', 12384),\n",
              " ('time', 11943),\n",
              " ('think', 11836),\n",
              " ('want', 11012)]"
            ]
          },
          "metadata": {
            "tags": []
          },
          "execution_count": 95
        }
      ]
    },
    {
      "cell_type": "code",
      "metadata": {
        "id": "pcvlqkzYvWGm"
      },
      "source": [
        "final_word_dict = dict(final_word)"
      ],
      "execution_count": 235,
      "outputs": []
    },
    {
      "cell_type": "code",
      "metadata": {
        "id": "1AwTB3mSvuov"
      },
      "source": [
        "#this is the list of vocabulary words the model will use \n",
        "vocab = final_word_dict.keys()"
      ],
      "execution_count": 236,
      "outputs": []
    },
    {
      "cell_type": "code",
      "metadata": {
        "id": "M0SMs9ytwAWT"
      },
      "source": [
        "#I create a dictionary mapping each word to a number representing it \n",
        "token_map = {word: i+1 for i, word in enumerate(vocab)} #offset by 1 to allow for padding value\n",
        "token_map['<#PAD>'] = 0\n"
      ],
      "execution_count": 237,
      "outputs": []
    },
    {
      "cell_type": "code",
      "metadata": {
        "id": "PIXz8PW9FTBK"
      },
      "source": [
        "#create our sentences out of numbers \n",
        "X_train_indices = [[check_encoding(word, token_map) for word in sent] for sent in X_train['tokenized_stemmed']]\n",
        "\n",
        "#use the encoding on the test data\n",
        "X_test_indices = [[check_encoding(word, token_map) for word in sent] for sent in X_test['tokenized_stemmed']]\n"
      ],
      "execution_count": 238,
      "outputs": []
    },
    {
      "cell_type": "code",
      "metadata": {
        "id": "JnfU-vFp_PBE"
      },
      "source": [
        "def eval_metric(model, history, metric_name, ep=7):\n",
        "    '''\n",
        "    Function to evaluate a trained model on a chosen metric. \n",
        "    Training and validation metric are plotted in a\n",
        "    line chart for each epoch.\n",
        "    code from: https://towardsdatascience.com/handling-overfitting-in-deep-learning-models-c760ee047c6e\n",
        "\n",
        "    Parameters:\n",
        "        history : model training history\n",
        "        metric_name : loss or accuracy\n",
        "    Output:\n",
        "        line chart with epochs of x-axis and metric on\n",
        "        y-axis\n",
        "    '''\n",
        "    metric = history.history[metric_name]\n",
        "    val_metric = history.history['val_' + metric_name]\n",
        "    e = range(1, ep + 1)\n",
        "    plt.plot(e, metric, 'bo', label='Train ' + metric_name)\n",
        "    plt.plot(e, val_metric, 'b', label='Validation ' + metric_name)\n",
        "    plt.xlabel('Epoch number')\n",
        "    plt.ylabel(metric_name)\n",
        "    plt.title('Comparing training and validation' + metric_name + ' for ' + model.name)\n",
        "    plt.legend()\n",
        "    plt.show()"
      ],
      "execution_count": 284,
      "outputs": []
    },
    {
      "cell_type": "code",
      "metadata": {
        "id": "uzb8wNPrJbww"
      },
      "source": [
        "#pad the sentences so they're the same length \n",
        "X_train_indices = tf.keras.preprocessing.sequence.pad_sequences(X_train_indices, padding='post').tolist()\n",
        "X_test_indices = tf.keras.preprocessing.sequence.pad_sequences(X_test_indices, padding = 'post').tolist()"
      ],
      "execution_count": 240,
      "outputs": []
    },
    {
      "cell_type": "code",
      "metadata": {
        "colab": {
          "base_uri": "https://localhost:8080/"
        },
        "id": "XaxlOpKMvAUz",
        "outputId": "8050a527-13d2-42f6-cf09-37560fc28c8b"
      },
      "source": [
        "#building a LSTM model. Creating an embedding layer with indices to vectors\n",
        "\n",
        "dim = 128\n",
        "hid_dim = 64\n",
        "\n",
        "model_lstm = tf.keras.models.Sequential([\n",
        "                                    tf.keras.layers.Embedding(len(vocab)+1, dim, embeddings_initializer='orthogonal', mask_zero=True), #+1 because of padding index\n",
        "                                    tf.keras.layers.LSTM(hid_dim, return_sequences=False), \n",
        "                                    tf.keras.layers.Dense(7, activation=tf.nn.leaky_relu), \n",
        "                                    tf.keras.layers.Softmax()\n",
        "])\n",
        "model_lstm.summary()"
      ],
      "execution_count": 144,
      "outputs": [
        {
          "output_type": "stream",
          "text": [
            "Model: \"sequential_3\"\n",
            "_________________________________________________________________\n",
            "Layer (type)                 Output Shape              Param #   \n",
            "=================================================================\n",
            "embedding_3 (Embedding)      (None, None, 128)         6400128   \n",
            "_________________________________________________________________\n",
            "lstm_3 (LSTM)                (None, 64)                49408     \n",
            "_________________________________________________________________\n",
            "dense_3 (Dense)              (None, 7)                 455       \n",
            "_________________________________________________________________\n",
            "softmax_3 (Softmax)          (None, 7)                 0         \n",
            "=================================================================\n",
            "Total params: 6,449,991\n",
            "Trainable params: 6,449,991\n",
            "Non-trainable params: 0\n",
            "_________________________________________________________________\n"
          ],
          "name": "stdout"
        }
      ]
    },
    {
      "cell_type": "code",
      "metadata": {
        "id": "VQ4A9R3T1auH"
      },
      "source": [
        "def recall(y_true, y_pred):\n",
        "  \"\"\"calculates recall for multiclass.  Code from: https://neptune.ai/blog/keras-metrics\"\"\"\n",
        "  y_true = K.ones_like(y_true) \n",
        "  true_positives = K.sum(K.round(K.clip(y_true * y_pred, 0, 1)))\n",
        "  all_positives = K.sum(K.round(K.clip(y_true, 0, 1)))\n",
        "    \n",
        "  recall = true_positives / (all_positives + K.epsilon())\n",
        "  return recall"
      ],
      "execution_count": 84,
      "outputs": []
    },
    {
      "cell_type": "code",
      "metadata": {
        "id": "9YG4fYqt5E77"
      },
      "source": [
        "model_lstm.compile(optimizer='adam', loss=tf.keras.losses.SparseCategoricalCrossentropy(),\n",
        "              metrics=[keras.metrics.SparseCategoricalAccuracy(),\n",
        "                       recall]) \n",
        "callback = [tf.keras.callbacks.EarlyStopping(monitor='loss', patience=2),\n",
        "            tf.keras.callbacks.ModelCheckpoint(filepath='{epoch:02d}.hdf5')]"
      ],
      "execution_count": 145,
      "outputs": []
    },
    {
      "cell_type": "code",
      "metadata": {
        "colab": {
          "base_uri": "https://localhost:8080/"
        },
        "id": "JH2FNHq9abvo",
        "outputId": "35255b32-5897-4989-dff3-886311959baf"
      },
      "source": [
        "\n",
        "history = model_lstm.fit(x=np.array(X_train_indices), y=y_train, validation_split=.2,\n",
        "                         workers=-1,\n",
        "                         epochs=7, callbacks=callback)"
      ],
      "execution_count": 136,
      "outputs": [
        {
          "output_type": "stream",
          "text": [
            "Epoch 1/7\n",
            "1258/1258 [==============================] - 2316s 2s/step - loss: 0.8594 - sparse_categorical_accuracy: 0.7931 - recall: 0.9831 - val_loss: 0.8230 - val_sparse_categorical_accuracy: 0.7941 - val_recall: 0.9938\n",
            "Epoch 2/7\n",
            "1258/1258 [==============================] - 2337s 2s/step - loss: 0.7750 - sparse_categorical_accuracy: 0.7940 - recall: 0.9407 - val_loss: 0.8360 - val_sparse_categorical_accuracy: 0.7949 - val_recall: 0.9745\n",
            "Epoch 3/7\n",
            "1258/1258 [==============================] - 2321s 2s/step - loss: 0.6484 - sparse_categorical_accuracy: 0.7973 - recall: 0.8647 - val_loss: 0.8841 - val_sparse_categorical_accuracy: 0.7985 - val_recall: 0.8899\n",
            "Epoch 4/7\n",
            "1258/1258 [==============================] - 2268s 2s/step - loss: 0.4872 - sparse_categorical_accuracy: 0.8040 - recall: 0.8719 - val_loss: 0.9768 - val_sparse_categorical_accuracy: 0.8076 - val_recall: 0.8946\n",
            "Epoch 5/7\n",
            "1258/1258 [==============================] - 2266s 2s/step - loss: 0.3329 - sparse_categorical_accuracy: 0.8150 - recall: 0.9083 - val_loss: 1.2260 - val_sparse_categorical_accuracy: 0.8194 - val_recall: 0.8951\n",
            "Epoch 6/7\n",
            "1258/1258 [==============================] - 2304s 2s/step - loss: 0.2168 - sparse_categorical_accuracy: 0.8261 - recall: 0.9413 - val_loss: 1.4006 - val_sparse_categorical_accuracy: 0.8317 - val_recall: 0.9184\n",
            "Epoch 7/7\n",
            "1258/1258 [==============================] - 2312s 2s/step - loss: 0.1385 - sparse_categorical_accuracy: 0.8381 - recall: 0.9682 - val_loss: 1.6228 - val_sparse_categorical_accuracy: 0.8430 - val_recall: 0.9249\n"
          ],
          "name": "stdout"
        }
      ]
    },
    {
      "cell_type": "code",
      "metadata": {
        "colab": {
          "base_uri": "https://localhost:8080/"
        },
        "id": "1CLWlW6WA4UU",
        "outputId": "cbe6e771-da8b-4601-e64d-9b6353f3f4fa"
      },
      "source": [
        "print(history.history.keys())"
      ],
      "execution_count": 137,
      "outputs": [
        {
          "output_type": "stream",
          "text": [
            "dict_keys(['loss', 'sparse_categorical_accuracy', 'recall', 'val_loss', 'val_sparse_categorical_accuracy', 'val_recall'])\n"
          ],
          "name": "stdout"
        }
      ]
    },
    {
      "cell_type": "code",
      "metadata": {
        "colab": {
          "base_uri": "https://localhost:8080/",
          "height": 295
        },
        "id": "yV2KxTE77P6Z",
        "outputId": "4eadb876-8ac4-4d13-ddeb-8041b9c19c64"
      },
      "source": [
        "eval_metric(model_lstm, history, 'loss')"
      ],
      "execution_count": 138,
      "outputs": [
        {
          "output_type": "display_data",
          "data": {
            "image/png": "[encoded data removed]",
            "text/plain": [
              "<Figure size 432x288 with 1 Axes>"
            ]
          },
          "metadata": {
            "tags": [],
            "needs_background": "light"
          }
        }
      ]
    },
    {
      "cell_type": "code",
      "metadata": {
        "colab": {
          "base_uri": "https://localhost:8080/",
          "height": 295
        },
        "id": "6jlVXFCt7lz6",
        "outputId": "45af36f6-ea9d-445a-dd3e-94f2cf2f1bc1"
      },
      "source": [
        "eval_metric(model_lstm, history, 'recall')"
      ],
      "execution_count": 139,
      "outputs": [
        {
          "output_type": "display_data",
          "data": {
            "image/png": "[encoded data removed]",
            "text/plain": [
              "<Figure size 432x288 with 1 Axes>"
            ]
          },
          "metadata": {
            "tags": [],
            "needs_background": "light"
          }
        }
      ]
    },
    {
      "cell_type": "code",
      "metadata": {
        "colab": {
          "base_uri": "https://localhost:8080/",
          "height": 295
        },
        "id": "2JuiiT0zcHst",
        "outputId": "f46058da-4ecc-458b-b88c-5c53718afb61"
      },
      "source": [
        "eval_metric(model_lstm, history, 'sparse_categorical_accuracy')"
      ],
      "execution_count": 149,
      "outputs": [
        {
          "output_type": "display_data",
          "data": {
            "image/png": "[encoded data removed]",
            "text/plain": [
              "<Figure size 432x288 with 1 Axes>"
            ]
          },
          "metadata": {
            "tags": [],
            "needs_background": "light"
          }
        }
      ]
    },
    {
      "cell_type": "markdown",
      "metadata": {
        "id": "XMygEmDdfr1I"
      },
      "source": [
        "The graphs show that the model begins to overfit after the first training epoch as validation loss increases. I build the model again and only train it for one epoch. "
      ]
    },
    {
      "cell_type": "code",
      "metadata": {
        "colab": {
          "base_uri": "https://localhost:8080/"
        },
        "id": "444dWywkb83l",
        "outputId": "8689e867-ced1-41f5-bf66-a4ff4ac8117d"
      },
      "source": [
        "\n",
        "dim = 128\n",
        "hid_dim = 64\n",
        "\n",
        "model_lstm_epoch2 = tf.keras.models.Sequential([\n",
        "                                    tf.keras.layers.Embedding(len(vocab)+1, dim, embeddings_initializer='orthogonal', mask_zero=True), #+1 because of padding index\n",
        "                                    tf.keras.layers.LSTM(hid_dim, return_sequences=False), \n",
        "                                    tf.keras.layers.Dense(7, activation=tf.nn.leaky_relu), \n",
        "                                    tf.keras.layers.Softmax()\n",
        "])\n",
        "model_lstm.summary()"
      ],
      "execution_count": 146,
      "outputs": [
        {
          "output_type": "stream",
          "text": [
            "Model: \"sequential_3\"\n",
            "_________________________________________________________________\n",
            "Layer (type)                 Output Shape              Param #   \n",
            "=================================================================\n",
            "embedding_3 (Embedding)      (None, None, 128)         6400128   \n",
            "_________________________________________________________________\n",
            "lstm_3 (LSTM)                (None, 64)                49408     \n",
            "_________________________________________________________________\n",
            "dense_3 (Dense)              (None, 7)                 455       \n",
            "_________________________________________________________________\n",
            "softmax_3 (Softmax)          (None, 7)                 0         \n",
            "=================================================================\n",
            "Total params: 6,449,991\n",
            "Trainable params: 6,449,991\n",
            "Non-trainable params: 0\n",
            "_________________________________________________________________\n"
          ],
          "name": "stdout"
        }
      ]
    },
    {
      "cell_type": "code",
      "metadata": {
        "id": "Zmvm69KtPogz"
      },
      "source": [
        "model_lstm_epoch2.compile(optimizer='adam', loss=tf.keras.losses.SparseCategoricalCrossentropy(),\n",
        "              metrics=[keras.metrics.SparseCategoricalAccuracy(),\n",
        "                       recall]) \n",
        "callback = tf.keras.callbacks.EarlyStopping(monitor='loss', patience=2)"
      ],
      "execution_count": 147,
      "outputs": []
    },
    {
      "cell_type": "code",
      "metadata": {
        "colab": {
          "base_uri": "https://localhost:8080/"
        },
        "id": "umCfKpHscaly",
        "outputId": "5791b67d-a4d9-462d-c96e-8b75848b16ce"
      },
      "source": [
        "history = model_lstm_epoch2.fit(x=np.array(X_train_indices), y=y_train, validation_split=.2,\n",
        "                         workers=-1, callbacks=callback)"
      ],
      "execution_count": 151,
      "outputs": [
        {
          "output_type": "stream",
          "text": [
            "1258/1258 [==============================] - 2312s 2s/step - loss: 0.8577 - sparse_categorical_accuracy: 0.7884 - recall: 0.9827 - val_loss: 0.8215 - val_sparse_categorical_accuracy: 0.7942 - val_recall: 0.9996\n"
          ],
          "name": "stdout"
        }
      ]
    },
    {
      "cell_type": "code",
      "metadata": {
        "colab": {
          "base_uri": "https://localhost:8080/"
        },
        "id": "5PB-jKr4Ugla",
        "outputId": "5ad12d6f-2bf6-4b42-fdbb-63f085d98146"
      },
      "source": [
        "\n",
        "score = model_lstm_epoch2.evaluate(x=np.array(X_test_indices), y=y_test, verbose = 1)\n",
        "score_train = model_lstm_epoch2.evaluate(x=np.array(X_train_indices), y=y_train, verbose = 1)\n",
        "\n",
        "print(\"Evaluate on test data\")\n",
        "print(f'Test loss: {score[0]} / Test accuracy: {score[1]}')\n",
        "\n",
        "print(\"Evaluate on train data\")\n",
        "print(f'Train loss: {score_train[0]} / Train accuracy: {score_train[1]}')\n"
      ],
      "execution_count": 152,
      "outputs": [
        {
          "output_type": "stream",
          "text": [
            "393/393 [==============================] - 43s 107ms/step - loss: 0.8249 - sparse_categorical_accuracy: 0.7951 - recall: 0.9996\n",
            "1572/1572 [==============================] - 223s 142ms/step - loss: 0.7944 - sparse_categorical_accuracy: 0.7948 - recall: 0.9988\n",
            "Evaluate on test data\n",
            "Test loss: 0.8248648047447205 / Test accuracy: 0.7950572371482849\n",
            "Evaluate on train data\n",
            "Train loss: 0.7944040298461914 / Train accuracy: 0.7948065400123596\n"
          ],
          "name": "stdout"
        }
      ]
    },
    {
      "cell_type": "code",
      "metadata": {
        "colab": {
          "base_uri": "https://localhost:8080/"
        },
        "id": "hrOQIfwWf5wt",
        "outputId": "2798bd6b-afef-43a1-f89f-c15266b55450"
      },
      "source": [
        "model_lstm_epoch2.save('model_lstm_undersampled2')"
      ],
      "execution_count": 154,
      "outputs": [
        {
          "output_type": "stream",
          "text": [
            "WARNING:absl:Found untraced functions such as lstm_cell_4_layer_call_and_return_conditional_losses, lstm_cell_4_layer_call_fn, lstm_cell_4_layer_call_fn, lstm_cell_4_layer_call_and_return_conditional_losses, lstm_cell_4_layer_call_and_return_conditional_losses while saving (showing 5 of 5). These functions will not be directly callable after loading.\n"
          ],
          "name": "stderr"
        },
        {
          "output_type": "stream",
          "text": [
            "INFO:tensorflow:Assets written to: model_lstm_undersampled2/assets\n"
          ],
          "name": "stdout"
        },
        {
          "output_type": "stream",
          "text": [
            "INFO:tensorflow:Assets written to: model_lstm_undersampled2/assets\n"
          ],
          "name": "stderr"
        }
      ]
    },
    {
      "cell_type": "code",
      "metadata": {
        "colab": {
          "base_uri": "https://localhost:8080/"
        },
        "id": "swZI8VopWIBY",
        "outputId": "eda5952d-f250-4f72-d8e5-4b45682ac006"
      },
      "source": [
        "X_test_indices_padded = tf.keras.preprocessing.sequence.pad_sequences(X_test_indices, padding = 'post').tolist()\n",
        "y_pred1 = model_lstm_epoch2.predict(X_test_indices_padded)\n",
        "y_pred = np.argmax(y_pred1, axis=1).astype(int)\n",
        "\n",
        "lstm = classification_report(y_test, y_pred, output_dict=True)"
      ],
      "execution_count": 155,
      "outputs": [
        {
          "output_type": "stream",
          "text": [
            "/usr/local/lib/python3.7/dist-packages/sklearn/metrics/_classification.py:1272: UndefinedMetricWarning: Precision and F-score are ill-defined and being set to 0.0 in labels with no predicted samples. Use `zero_division` parameter to control this behavior.\n",
            "  _warn_prf(average, modifier, msg_start, len(result))\n"
          ],
          "name": "stderr"
        }
      ]
    },
    {
      "cell_type": "code",
      "metadata": {
        "colab": {
          "base_uri": "https://localhost:8080/"
        },
        "id": "z3AkuRoXnWe-",
        "outputId": "9a5ecd7e-004a-4f88-c206-a44dad11fa5b"
      },
      "source": [
        "lstm.keys()   classes = {'anxiety': 1, 'adhd': 2, 'bipolar': 3, 'bpd': 4, 'depression': 5, 'ptsd': 6, 'control': 0}"
      ],
      "execution_count": 157,
      "outputs": [
        {
          "output_type": "execute_result",
          "data": {
            "text/plain": [
              "dict_keys(['0', '1', '2', '3', '4', '5', '6', 'accuracy', 'macro avg', 'weighted avg'])"
            ]
          },
          "metadata": {
            "tags": []
          },
          "execution_count": 157
        }
      ]
    },
    {
      "cell_type": "code",
      "metadata": {
        "id": "b2ayZZXQnot5"
      },
      "source": [
        "lstm['anxiety'] = lstm.pop('1')\n",
        "lstm['adhd'] = lstm.pop('2')\n",
        "lstm['bipolar'] = lstm.pop('3')\n",
        "lstm['bpd'] = lstm.pop('4')\n",
        "lstm['depression'] = lstm.pop('5')\n",
        "lstm['ptsd'] = lstm.pop('6')\n",
        "lstm['neutral'] = lstm.pop('0')\n"
      ],
      "execution_count": 158,
      "outputs": []
    },
    {
      "cell_type": "code",
      "metadata": {
        "colab": {
          "base_uri": "https://localhost:8080/"
        },
        "id": "NjAaIN5AoGve",
        "outputId": "d7a8ca14-d12a-48d8-e448-2ee2a4b3e6de"
      },
      "source": [
        "pprint.pprint(lstm)"
      ],
      "execution_count": 161,
      "outputs": [
        {
          "output_type": "stream",
          "text": [
            "{'accuracy': 0.7952286282306164,\n",
            " 'adhd': {'f1-score': 0.0, 'precision': 0.0, 'recall': 0.0, 'support': 484},\n",
            " 'anxiety': {'f1-score': 0.0, 'precision': 0.0, 'recall': 0.0, 'support': 647},\n",
            " 'bipolar': {'f1-score': 0.0, 'precision': 0.0, 'recall': 0.0, 'support': 342},\n",
            " 'bpd': {'f1-score': 0.0, 'precision': 0.0, 'recall': 0.0, 'support': 264},\n",
            " 'depression': {'f1-score': 0.0,\n",
            "                'precision': 0.0,\n",
            "                'recall': 0.0,\n",
            "                'support': 143},\n",
            " 'macro avg': {'f1-score': 0.1265622528081,\n",
            "               'precision': 0.11360408974723091,\n",
            "               'recall': 0.14285714285714285,\n",
            "               'support': 12575},\n",
            " 'neutral': {'f1-score': 0.8859357696567,\n",
            "             'precision': 0.7952286282306164,\n",
            "             'recall': 1.0,\n",
            "             'support': 10000},\n",
            " 'ptsd': {'f1-score': 0.0, 'precision': 0.0, 'recall': 0.0, 'support': 695},\n",
            " 'weighted avg': {'f1-score': 0.7045214868045327,\n",
            "                  'precision': 0.6323885711575478,\n",
            "                  'recall': 0.7952286282306164,\n",
            "                  'support': 12575}}\n"
          ],
          "name": "stdout"
        }
      ]
    },
    {
      "cell_type": "code",
      "metadata": {
        "colab": {
          "base_uri": "https://localhost:8080/",
          "height": 435
        },
        "id": "RZwa_Apy_P0W",
        "outputId": "4e821b39-24a5-46c1-f032-8a8fa9eb8c72"
      },
      "source": [
        "cfn = confusion_matrix(y_test, y_pred)\n",
        "plot_confusion_matrix(cfn, classes=['Neutral', 'Anxiety', 'ADHD', 'Bipolar', 'BPD', 'Depression', 'PTSD'],\n",
        "                      title='Confusion matrix')"
      ],
      "execution_count": 262,
      "outputs": [
        {
          "output_type": "stream",
          "text": [
            "Confusion matrix, without normalization\n",
            "[[10000     0     0     0     0     0     0]\n",
            " [  647     0     0     0     0     0     0]\n",
            " [  484     0     0     0     0     0     0]\n",
            " [  342     0     0     0     0     0     0]\n",
            " [  264     0     0     0     0     0     0]\n",
            " [  143     0     0     0     0     0     0]\n",
            " [  695     0     0     0     0     0     0]]\n"
          ],
          "name": "stdout"
        },
        {
          "output_type": "display_data",
          "data": {
            "image/png": "[encoded data removed]",
            "text/plain": [
              "<Figure size 432x288 with 2 Axes>"
            ]
          },
          "metadata": {
            "tags": [],
            "needs_background": "light"
          }
        }
      ]
    },
    {
      "cell_type": "markdown",
      "metadata": {
        "id": "abKyzlPqwI9M"
      },
      "source": [
        "This model doesn't perform well as it ignores the smaller classes. I use 'balanced' class weights to make up for the class imbalance in the next model.  "
      ]
    },
    {
      "cell_type": "code",
      "metadata": {
        "id": "j3ZZF3HP7ohV",
        "colab": {
          "base_uri": "https://localhost:8080/"
        },
        "outputId": "4419f9ad-e1da-421c-edcd-06492ee0ad19"
      },
      "source": [
        "#building a LSTM model. Creating an embeddg layer with indices to vectors\n",
        "\n",
        "dim = 128\n",
        "hid_dim = 64\n",
        "\n",
        "model_lstm_cw = tf.keras.models.Sequential([\n",
        "                                    tf.keras.layers.Embedding(len(vocab)+1, dim, embeddings_initializer='orthogonal', mask_zero=True), #+1 because of padding index\n",
        "                                    tf.keras.layers.LSTM(hid_dim, return_sequences=False), \n",
        "                                    tf.keras.layers.Dense(7, activation=tf.nn.leaky_relu), \n",
        "                                    tf.keras.layers.Softmax()\n",
        "])\n",
        "model_lstm_cw.summary()"
      ],
      "execution_count": 279,
      "outputs": [
        {
          "output_type": "stream",
          "text": [
            "Model: \"sequential_7\"\n",
            "_________________________________________________________________\n",
            "Layer (type)                 Output Shape              Param #   \n",
            "=================================================================\n",
            "embedding_7 (Embedding)      (None, None, 128)         6400128   \n",
            "_________________________________________________________________\n",
            "lstm_8 (LSTM)                (None, 64)                49408     \n",
            "_________________________________________________________________\n",
            "dense_8 (Dense)              (None, 7)                 455       \n",
            "_________________________________________________________________\n",
            "softmax_7 (Softmax)          (None, 7)                 0         \n",
            "=================================================================\n",
            "Total params: 6,449,991\n",
            "Trainable params: 6,449,991\n",
            "Non-trainable params: 0\n",
            "_________________________________________________________________\n"
          ],
          "name": "stdout"
        }
      ]
    },
    {
      "cell_type": "code",
      "metadata": {
        "id": "NxO1l3FB91NZ"
      },
      "source": [
        "model_lstm_cw.compile(optimizer='adam', loss=tf.keras.losses.SparseCategoricalCrossentropy(),\n",
        "              metrics=[keras.metrics.SparseCategoricalAccuracy(),\n",
        "                       recall]) \n",
        "callback = [tf.keras.callbacks.EarlyStopping(monitor='loss', patience=2),\n",
        "            tf.keras.callbacks.ModelCheckpoint(filepath='{epoch:02d}.hdf5')]\n",
        "\n"
      ],
      "execution_count": 280,
      "outputs": []
    },
    {
      "cell_type": "code",
      "metadata": {
        "id": "FCtPZAfj7dWY"
      },
      "source": [
        "unique = np.unique(y_train)\n",
        "class_weights = class_weight.compute_class_weight('balanced', unique, y_train)\n",
        "class_weight_dict = dict(enumerate(class_weights))"
      ],
      "execution_count": 274,
      "outputs": []
    },
    {
      "cell_type": "code",
      "metadata": {
        "colab": {
          "base_uri": "https://localhost:8080/"
        },
        "id": "0r2bsgGNALLs",
        "outputId": "f9b10074-618b-403d-8a0d-2c135e7e676e"
      },
      "source": [
        "class_weight_dict"
      ],
      "execution_count": 275,
      "outputs": [
        {
          "output_type": "execute_result",
          "data": {
            "text/plain": [
              "{0: 0.1796357142857143,\n",
              " 1: 2.7785880013258204,\n",
              " 2: 3.7114817001180636,\n",
              " 3: 5.256348625770718,\n",
              " 4: 6.7851072440307565,\n",
              " 5: 12.5839379534651,\n",
              " 6: 2.585616614403948}"
            ]
          },
          "metadata": {
            "tags": []
          },
          "execution_count": 275
        }
      ]
    },
    {
      "cell_type": "code",
      "metadata": {
        "id": "oQpz_aXkEXIL",
        "colab": {
          "base_uri": "https://localhost:8080/"
        },
        "outputId": "3a4c9d5e-6663-4401-ec7a-238c64aa5c7b"
      },
      "source": [
        "history2 = model_lstm_cw.fit(x=np.array(X_train_indices), y=y_train, validation_split=.2,\n",
        "                          class_weight=class_weight_dict, workers=-1, epochs=2, callbacks=callback)"
      ],
      "execution_count": 281,
      "outputs": [
        {
          "output_type": "stream",
          "text": [
            "Epoch 1/2\n",
            "1258/1258 [==============================] - 2584s 2s/step - loss: 1.9382 - sparse_categorical_accuracy: 0.3259 - recall: 6.9555e-04 - val_loss: 1.8356 - val_sparse_categorical_accuracy: 0.3401 - val_recall: 0.0017\n",
            "Epoch 2/2\n",
            "1258/1258 [==============================] - 2572s 2s/step - loss: 1.7472 - sparse_categorical_accuracy: 0.3552 - recall: 0.1160 - val_loss: 1.8402 - val_sparse_categorical_accuracy: 0.3505 - val_recall: 0.0878\n"
          ],
          "name": "stdout"
        }
      ]
    },
    {
      "cell_type": "code",
      "metadata": {
        "colab": {
          "base_uri": "https://localhost:8080/",
          "height": 295
        },
        "id": "SKFYfx_UXvFq",
        "outputId": "4f9e03fa-f2af-4fa8-93b3-8fbece388847"
      },
      "source": [
        "eval_metric(model_lstm_cw, history2, 'loss', ep=2)"
      ],
      "execution_count": 285,
      "outputs": [
        {
          "output_type": "display_data",
          "data": {
            "image/png": "[encoded data removed]",
            "text/plain": [
              "<Figure size 432x288 with 1 Axes>"
            ]
          },
          "metadata": {
            "tags": [],
            "needs_background": "light"
          }
        }
      ]
    },
    {
      "cell_type": "code",
      "metadata": {
        "id": "HhV4kWLvdI3Z",
        "colab": {
          "base_uri": "https://localhost:8080/"
        },
        "outputId": "549c3c46-cff1-4d1a-bd3a-b56cd18823d3"
      },
      "source": [
        "\n",
        "score = model_lstm_cw.evaluate(x=np.array(X_test_indices), y=y_test, verbose = 1)\n",
        "score_train = model_lstm_cw.evaluate(x=np.array(X_train_indices), y=y_train, verbose = 1)\n",
        "\n",
        "print(\"Evaluate on test data\")\n",
        "print(f'Test loss: {score[0]} / Test accuracy: {score[1]}')\n",
        "\n",
        "print(\"Evaluate on train data\")\n",
        "print(f'Train loss: {score_train[0]} / Train accuracy: {score_train[1]}')"
      ],
      "execution_count": 286,
      "outputs": [
        {
          "output_type": "stream",
          "text": [
            "393/393 [==============================] - 49s 122ms/step - loss: 1.8310 - sparse_categorical_accuracy: 0.3403 - recall: 0.0944\n",
            "1572/1572 [==============================] - 130s 83ms/step - loss: 1.6482 - sparse_categorical_accuracy: 0.3463 - recall: 0.1273\n",
            "Evaluate on test data\n",
            "Test loss: 1.8310335874557495 / Test accuracy: 0.34027591347694397\n",
            "Evaluate on train data\n",
            "Train loss: 1.6482223272323608 / Train accuracy: 0.34629321098327637\n"
          ],
          "name": "stdout"
        }
      ]
    },
    {
      "cell_type": "code",
      "metadata": {
        "id": "b9W0tQtedaGj"
      },
      "source": [
        "y_pred1 = model_lstm_cw.predict(X_test_indices_padded)\n",
        "y_pred = np.argmax(y_pred1, axis=1).astype(int)\n",
        "\n",
        "lstm_cw = classification_report(y_test, y_pred, output_dict=True)"
      ],
      "execution_count": 288,
      "outputs": []
    },
    {
      "cell_type": "code",
      "metadata": {
        "id": "2LSon-ERYp6a"
      },
      "source": [
        "lstm_cw['anxiety'] = lstm_cw.pop('1')\n",
        "lstm_cw['adhd'] = lstm_cw.pop('2')\n",
        "lstm_cw['bipolar'] = lstm_cw.pop('3')\n",
        "lstm_cw['bpd'] = lstm_cw.pop('4')\n",
        "lstm_cw['depression'] = lstm_cw.pop('5')\n",
        "lstm_cw['ptsd'] = lstm_cw.pop('6')\n",
        "lstm_cw['neutral'] = lstm_cw.pop('0')"
      ],
      "execution_count": 289,
      "outputs": []
    },
    {
      "cell_type": "code",
      "metadata": {
        "colab": {
          "base_uri": "https://localhost:8080/"
        },
        "id": "GcLGh6s0ESui",
        "outputId": "bcf536cf-0d1f-4c43-b670-3f502e0aa7d6"
      },
      "source": [
        "pprint.pprint(lstm_cw)"
      ],
      "execution_count": 290,
      "outputs": [
        {
          "output_type": "stream",
          "text": [
            "{'accuracy': 0.22823061630218688,\n",
            " 'adhd': {'f1-score': 0.07014333638304361,\n",
            "          'precision': 0.04114490161001789,\n",
            "          'recall': 0.23760330578512398,\n",
            "          'support': 484},\n",
            " 'anxiety': {'f1-score': 0.06371329019412644,\n",
            "             'precision': 0.04698972099853157,\n",
            "             'recall': 0.09891808346213292,\n",
            "             'support': 647},\n",
            " 'bipolar': {'f1-score': 0.036226415094339624,\n",
            "             'precision': 0.024415055951169887,\n",
            "             'recall': 0.07017543859649122,\n",
            "             'support': 342},\n",
            " 'bpd': {'f1-score': 0.034383954154727794,\n",
            "         'precision': 0.022988505747126436,\n",
            "         'recall': 0.06818181818181818,\n",
            "         'support': 264},\n",
            " 'depression': {'f1-score': 0.03306797305572566,\n",
            "                'precision': 0.018120805369127517,\n",
            "                'recall': 0.1888111888111888,\n",
            "                'support': 143},\n",
            " 'macro avg': {'f1-score': 0.10209153064816394,\n",
            "               'precision': 0.1494418097944056,\n",
            "               'recall': 0.1580906341647574,\n",
            "               'support': 12575},\n",
            " 'neutral': {'f1-score': 0.3827331486611265,\n",
            "             'precision': 0.8301068090787717,\n",
            "             'recall': 0.2487,\n",
            "             'support': 10000},\n",
            " 'ptsd': {'f1-score': 0.09437259699405802,\n",
            "          'precision': 0.062326869806094184,\n",
            "          'recall': 0.19424460431654678,\n",
            "          'support': 695},\n",
            " 'weighted avg': {'f1-score': 0.3176372034268954,\n",
            "                  'precision': 0.6689234144722527,\n",
            "                  'recall': 0.22823061630218688,\n",
            "                  'support': 12575}}\n"
          ],
          "name": "stdout"
        }
      ]
    },
    {
      "cell_type": "code",
      "metadata": {
        "colab": {
          "base_uri": "https://localhost:8080/",
          "height": 435
        },
        "id": "HfYpakUbEZ8u",
        "outputId": "348f492f-f825-401e-d2bf-8ddfa4b5b58b"
      },
      "source": [
        "cfn = confusion_matrix(y_test, y_pred)\n",
        "plot_confusion_matrix(cfn, classes=['Neutral', 'Anxiety', 'ADHD', 'Bipolar', 'BPD', 'Depression', 'PTSD'],\n",
        "                      title='Confusion matrix')"
      ],
      "execution_count": 291,
      "outputs": [
        {
          "output_type": "stream",
          "text": [
            "Confusion matrix, without normalization\n",
            "[[2487 1072 2204  785  609 1155 1688]\n",
            " [ 111   64  142   54   46  105  125]\n",
            " [ 105   45  115   40   33   58   88]\n",
            " [  74   35   94   24   16   36   63]\n",
            " [  58   39   61   21   18   27   40]\n",
            " [  24   16   30    8   11   27   27]\n",
            " [ 137   91  149   51   50   82  135]]\n"
          ],
          "name": "stdout"
        },
        {
          "output_type": "display_data",
          "data": {
            "image/png": "[encoded data removed]",
            "text/plain": [
              "<Figure size 432x288 with 2 Axes>"
            ]
          },
          "metadata": {
            "tags": [],
            "needs_background": "light"
          }
        }
      ]
    },
    {
      "cell_type": "code",
      "metadata": {
        "id": "s4QvkgO_KdbC"
      },
      "source": [
        "model_lstm_cw.save('model_lstm_cw.h5')\n"
      ],
      "execution_count": 292,
      "outputs": []
    },
    {
      "cell_type": "markdown",
      "metadata": {
        "id": "NV8jQte7bISB"
      },
      "source": [
        "Based on the results of the above model, I only trained this one for 2 epochs. Looking at the graph, it would likely overfit very quickly as well so stopping at 2 epochs was warrented. The model tries to identify each class, but struggles to do so well. The neutral class has a recall of 24.87%, and a precision of 83%. \n",
        "\n",
        "ADHD - 23.8% recall, 4% Precision\n",
        "\n",
        "Anxiety - Recall 9.89%, Precision 5%\n",
        "\n",
        "Bipolar - Recall 7% Precision 2.4%\n",
        "\n",
        "BPD - Recall 6.8%, Precision 2.3%\n",
        "\n",
        "Depression - Recall 18.88%, Precision 1.8%\n",
        "\n",
        "PTSD - Recall 19.4%, Precision 6.2%\n"
      ]
    },
    {
      "cell_type": "markdown",
      "metadata": {
        "id": "h31oaTbDN1eb"
      },
      "source": [
        "## Strategy Change, and a More Successful Model\n",
        "\n",
        "I decide that comment data alone is not enough, so I use both the submission and comment data. I also use sbert to increase the accuracy of my word embeddings. In addition, I undersample from the \"control\" group. Finally, I break the process into 2 different classifications - first a binary classification of whether someone is struggling with their mental health or not, and then for those that are, a second model to classify which mental illness they may be struggling with.  \n",
        "\n",
        "### Model with all data from non-mental health subreddits\n",
        "This is my first time using both comment and submission data combined, so I have to do train test split. \n"
      ]
    },
    {
      "cell_type": "code",
      "metadata": {
        "id": "VwSGRHMNL277"
      },
      "source": [
        "#column classifying the user as either \"neutral\" or having a mental health classification \n",
        "all_df['class_bin'] = [y if y == 0 else 1 for y in all_df['class']]"
      ],
      "execution_count": 293,
      "outputs": []
    },
    {
      "cell_type": "code",
      "metadata": {
        "id": "6vtE8jwBLv5t"
      },
      "source": [
        "#I sample 50,000 users from the \"neutral\" class. I then combine those with the mental health classes to create the model. \n",
        "undersampled_all = all_df[all_df['class_bin'] == 0].sample(50000).index\n",
        "non_neutral_indices = all_df[all_df['class_bin'] ==1].index\n",
        "all_df_models = all_df.loc[undersampled_all.union(non_neutral_indices)]"
      ],
      "execution_count": 326,
      "outputs": []
    },
    {
      "cell_type": "code",
      "metadata": {
        "id": "vhqMPWMXmFyC"
      },
      "source": [
        "X=all_df_models['text']\n",
        "y=all_df_models['class']\n",
        "X_train, X_test, y_train, y_test = train_test_split(X, y, test_size = 0.20, random_state=42)"
      ],
      "execution_count": 327,
      "outputs": []
    },
    {
      "cell_type": "code",
      "metadata": {
        "id": "uxZRJL2RedQC"
      },
      "source": [
        "#y_train and y_test for the binary classification \n",
        "y_train_bin = [y if y == 0 else 1 for y in y_train]\n",
        "y_test_bin = [y if y == 0 else 1 for y in y_test]"
      ],
      "execution_count": 328,
      "outputs": []
    },
    {
      "cell_type": "code",
      "metadata": {
        "colab": {
          "base_uri": "https://localhost:8080/"
        },
        "id": "HxhvsnMPlhfq",
        "outputId": "75ca9bd2-c6a6-48aa-e6dc-974ce774d070"
      },
      "source": [
        "all_df['class_bin'].value_counts()"
      ],
      "execution_count": 325,
      "outputs": [
        {
          "output_type": "execute_result",
          "data": {
            "text/plain": [
              "0    352137\n",
              "1     23422\n",
              "Name: class_bin, dtype: int64"
            ]
          },
          "metadata": {
            "tags": []
          },
          "execution_count": 325
        }
      ]
    },
    {
      "cell_type": "code",
      "metadata": {
        "colab": {
          "base_uri": "https://localhost:8080/"
        },
        "id": "cPCQE8URltA8",
        "outputId": "17c6fc08-0ae5-49b1-9fc9-07641187f8b5"
      },
      "source": [
        "all_df_models['class_bin'].value_counts()"
      ],
      "execution_count": 329,
      "outputs": [
        {
          "output_type": "execute_result",
          "data": {
            "text/plain": [
              "0    50000\n",
              "1    23422\n",
              "Name: class_bin, dtype: int64"
            ]
          },
          "metadata": {
            "tags": []
          },
          "execution_count": 329
        }
      ]
    },
    {
      "cell_type": "markdown",
      "metadata": {
        "id": "et0jYliuvvxw"
      },
      "source": [
        "### Sbert Encodings\n",
        "I feed the sentences to the sentence transformer in order to get their encodings. "
      ]
    },
    {
      "cell_type": "code",
      "metadata": {
        "colab": {
          "base_uri": "https://localhost:8080/",
          "height": 66,
          "referenced_widgets": [
            "351f9be5087b4030be43a2075f931e5a",
            "bb080793a9dd4661a3426e28caf26df7",
            "d5dca2284dae4285ac74d88b09fece54",
            "41f0e4f95b694697b30ec06af4323e0d",
            "950d904d2a5e42f8916424ed71db09fe",
            "bbbffe27781e4bdeb520e8f13975e4b0",
            "75466c07be494caa96abc8c4df284525",
            "70599b8fa5484baeb3664cff591f24aa"
          ]
        },
        "id": "vAg3ShF9nK7V",
        "outputId": "81abd498-0f18-46be-c1f2-2880410d4e6f"
      },
      "source": [
        "model_sbert = SentenceTransformer('paraphrase-distilroberta-base-v1')\n"
      ],
      "execution_count": 297,
      "outputs": [
        {
          "output_type": "display_data",
          "data": {
            "application/vnd.jupyter.widget-view+json": {
              "model_id": "351f9be5087b4030be43a2075f931e5a",
              "version_minor": 0,
              "version_major": 2
            },
            "text/plain": [
              "HBox(children=(FloatProgress(value=0.0, max=305584576.0), HTML(value='')))"
            ]
          },
          "metadata": {
            "tags": []
          }
        },
        {
          "output_type": "stream",
          "text": [
            "\n"
          ],
          "name": "stdout"
        }
      ]
    },
    {
      "cell_type": "code",
      "metadata": {
        "colab": {
          "base_uri": "https://localhost:8080/",
          "height": 66,
          "referenced_widgets": [
            "56ab178ba9d64275973947677ffe91f4",
            "ddbdb53c2d2b44f1b5da1c3ada59e7b0",
            "5e9ca23163124e98966ad1f90cb27aa5",
            "4d65db8ac595491eba6a4ffb95be1e1c",
            "291485dbfbeb401caf7a286404c73fe6",
            "bc410813979847f5975172cd1d67d197",
            "2e6396bfc311446da9da16199de1ddb3",
            "e08881a7230e40999d6dddd1b6ec675e"
          ]
        },
        "id": "bLKumbgiaN-W",
        "outputId": "3c7db41f-4fd2-4303-a395-9679797ebe4b"
      },
      "source": [
        "embeddings2 = model_sbert.encode(X_train.to_list(), show_progress_bar=True)"
      ],
      "execution_count": 330,
      "outputs": [
        {
          "output_type": "display_data",
          "data": {
            "application/vnd.jupyter.widget-view+json": {
              "model_id": "56ab178ba9d64275973947677ffe91f4",
              "version_minor": 0,
              "version_major": 2
            },
            "text/plain": [
              "HBox(children=(FloatProgress(value=0.0, description='Batches', max=1836.0, style=ProgressStyle(description_wid…"
            ]
          },
          "metadata": {
            "tags": []
          }
        },
        {
          "output_type": "stream",
          "text": [
            "\n"
          ],
          "name": "stdout"
        }
      ]
    },
    {
      "cell_type": "code",
      "metadata": {
        "colab": {
          "base_uri": "https://localhost:8080/"
        },
        "id": "kRcn-N8ndXhP",
        "outputId": "e3eaf09f-716a-421a-df62-002a0439ee36"
      },
      "source": [
        "embeddings2.shape #I use the shape dimension to decide the dimensions for my model "
      ],
      "execution_count": 331,
      "outputs": [
        {
          "output_type": "execute_result",
          "data": {
            "text/plain": [
              "(58737, 768)"
            ]
          },
          "metadata": {
            "tags": []
          },
          "execution_count": 331
        }
      ]
    },
    {
      "cell_type": "code",
      "metadata": {
        "colab": {
          "base_uri": "https://localhost:8080/",
          "height": 66,
          "referenced_widgets": [
            "7e213241f77f478e8a13e14812072cea",
            "b52013f9a0ad490c88945d86779fb6f4",
            "7541c43940c44cf99b76f9ee549eeb9f",
            "b7e2d652fbc24eafb74502c2ebcd94a6",
            "a3450694134e4fc9837d421b5e2c8cd2",
            "48fc26714572466494b249a079457eb6",
            "23cd21e1db0748cbbf597872a71db77b",
            "d55bf629404c431db06f41daf9fce587"
          ]
        },
        "id": "Xj4DjN0Ef8Ih",
        "outputId": "16d3c306-8ddd-4f2b-e8a9-b4dbfca5c745"
      },
      "source": [
        "embeddings_test = model_sbert.encode(X_test.to_list(), show_progress_bar=True)"
      ],
      "execution_count": 332,
      "outputs": [
        {
          "output_type": "display_data",
          "data": {
            "application/vnd.jupyter.widget-view+json": {
              "model_id": "7e213241f77f478e8a13e14812072cea",
              "version_minor": 0,
              "version_major": 2
            },
            "text/plain": [
              "HBox(children=(FloatProgress(value=0.0, description='Batches', max=459.0, style=ProgressStyle(description_widt…"
            ]
          },
          "metadata": {
            "tags": []
          }
        },
        {
          "output_type": "stream",
          "text": [
            "\n"
          ],
          "name": "stdout"
        }
      ]
    },
    {
      "cell_type": "markdown",
      "metadata": {
        "id": "efoM2fKCwGBV"
      },
      "source": [
        "### Binary Classifier\n",
        "This model is a binary classifer to classify whether entries belong to the neutral class or the mental health class. "
      ]
    },
    {
      "cell_type": "code",
      "metadata": {
        "id": "DqsYmRIXrVcu"
      },
      "source": [
        "hid_dim1 = 768\n",
        "hid_dim2 = 384\n",
        "model_bin_sbert = tf.keras.models.Sequential([\n",
        "                                             tf.keras.layers.Dense(hid_dim1, activation=tf.nn.leaky_relu),\n",
        "                                             tf.keras.layers.Dense(hid_dim2, activation=tf.nn.leaky_relu),\n",
        "                                             tf.keras.layers.Dense(2, activation=tf.nn.leaky_relu),\n",
        "                                             tf.keras.layers.Dense(1, activation='sigmoid')\n",
        "])\n"
      ],
      "execution_count": 333,
      "outputs": []
    },
    {
      "cell_type": "code",
      "metadata": {
        "id": "PiEzDWWq0mNm"
      },
      "source": [
        "model_bin_sbert.compile(optimizer='adam', loss=tf.keras.losses.BinaryCrossentropy(),\n",
        "                   metrics=[tf.keras.metrics.Recall()])"
      ],
      "execution_count": 334,
      "outputs": []
    },
    {
      "cell_type": "code",
      "metadata": {
        "colab": {
          "base_uri": "https://localhost:8080/"
        },
        "id": "OjxSZjJg0tq9",
        "outputId": "95912efc-10ae-4e50-cc20-101091fbb545"
      },
      "source": [
        "history = model_bin_sbert.fit(x=np.array(embeddings2), y=np.array(y_train_bin), validation_split=.20, workers=-1, epochs=15)\n"
      ],
      "execution_count": 335,
      "outputs": [
        {
          "output_type": "stream",
          "text": [
            "Epoch 1/15\n",
            "1469/1469 [==============================] - 5s 3ms/step - loss: 0.5480 - recall_2: 0.3378 - val_loss: 0.5349 - val_recall_2: 0.3283\n",
            "Epoch 2/15\n",
            "1469/1469 [==============================] - 4s 3ms/step - loss: 0.5215 - recall_2: 0.3965 - val_loss: 0.5237 - val_recall_2: 0.4375\n",
            "Epoch 3/15\n",
            "1469/1469 [==============================] - 4s 3ms/step - loss: 0.5061 - recall_2: 0.4203 - val_loss: 0.5206 - val_recall_2: 0.4227\n",
            "Epoch 4/15\n",
            "1469/1469 [==============================] - 4s 3ms/step - loss: 0.4915 - recall_2: 0.4420 - val_loss: 0.5312 - val_recall_2: 0.3498\n",
            "Epoch 5/15\n",
            "1469/1469 [==============================] - 4s 3ms/step - loss: 0.4741 - recall_2: 0.4685 - val_loss: 0.5266 - val_recall_2: 0.4297\n",
            "Epoch 6/15\n",
            "1469/1469 [==============================] - 4s 3ms/step - loss: 0.4534 - recall_2: 0.4954 - val_loss: 0.5276 - val_recall_2: 0.4019\n",
            "Epoch 7/15\n",
            "1469/1469 [==============================] - 4s 3ms/step - loss: 0.4285 - recall_2: 0.5317 - val_loss: 0.5579 - val_recall_2: 0.4527\n",
            "Epoch 8/15\n",
            "1469/1469 [==============================] - 4s 3ms/step - loss: 0.4023 - recall_2: 0.5623 - val_loss: 0.5667 - val_recall_2: 0.4596\n",
            "Epoch 9/15\n",
            "1469/1469 [==============================] - 4s 3ms/step - loss: 0.3754 - recall_2: 0.6051 - val_loss: 0.5804 - val_recall_2: 0.3988\n",
            "Epoch 10/15\n",
            "1469/1469 [==============================] - 4s 3ms/step - loss: 0.3448 - recall_2: 0.6390 - val_loss: 0.6800 - val_recall_2: 0.5478\n",
            "Epoch 11/15\n",
            "1469/1469 [==============================] - 4s 3ms/step - loss: 0.3133 - recall_2: 0.6879 - val_loss: 0.6972 - val_recall_2: 0.3428\n",
            "Epoch 12/15\n",
            "1469/1469 [==============================] - 4s 3ms/step - loss: 0.2838 - recall_2: 0.7192 - val_loss: 0.7293 - val_recall_2: 0.4937\n",
            "Epoch 13/15\n",
            "1469/1469 [==============================] - 4s 3ms/step - loss: 0.2589 - recall_2: 0.7490 - val_loss: 0.7791 - val_recall_2: 0.4473\n",
            "Epoch 14/15\n",
            "1469/1469 [==============================] - 4s 3ms/step - loss: 0.2312 - recall_2: 0.7809 - val_loss: 0.8670 - val_recall_2: 0.5316\n",
            "Epoch 15/15\n",
            "1469/1469 [==============================] - 4s 3ms/step - loss: 0.2072 - recall_2: 0.8070 - val_loss: 1.0869 - val_recall_2: 0.6056\n"
          ],
          "name": "stdout"
        }
      ]
    },
    {
      "cell_type": "code",
      "metadata": {
        "colab": {
          "base_uri": "https://localhost:8080/",
          "height": 295
        },
        "id": "lklQirpYfZK9",
        "outputId": "454a5d79-cfc0-4bdb-9e1c-91680e5431bf"
      },
      "source": [
        "eval_metric(model_bin_sbert, history, 'loss', ep=15)"
      ],
      "execution_count": 336,
      "outputs": [
        {
          "output_type": "display_data",
          "data": {
            "image/png": "[encoded data removed]",
            "text/plain": [
              "<Figure size 432x288 with 1 Axes>"
            ]
          },
          "metadata": {
            "tags": [],
            "needs_background": "light"
          }
        }
      ]
    },
    {
      "cell_type": "markdown",
      "metadata": {
        "id": "EKv9VvPGwWr2"
      },
      "source": [
        "Based on the loss graph above, the model begins to overfit around the 4th epoch.  I initialize the model again and train it for four epochs.  "
      ]
    },
    {
      "cell_type": "code",
      "metadata": {
        "id": "b7Yvr_oUgD7a"
      },
      "source": [
        "hid_dim1 = 768\n",
        "hid_dim2 = 384\n",
        "model_bin_sbert_2 = tf.keras.models.Sequential([\n",
        "                                             tf.keras.layers.Dense(hid_dim1, activation=tf.nn.leaky_relu),\n",
        "                                             tf.keras.layers.Dense(hid_dim2, activation=tf.nn.leaky_relu),\n",
        "                                             tf.keras.layers.Dense(2, activation=tf.nn.leaky_relu),\n",
        "                                             tf.keras.layers.Dense(1, activation='sigmoid')\n",
        "])\n"
      ],
      "execution_count": 337,
      "outputs": []
    },
    {
      "cell_type": "code",
      "metadata": {
        "id": "NReoo-15gLSG"
      },
      "source": [
        "model_bin_sbert_2.compile(optimizer='adam', loss=tf.keras.losses.BinaryCrossentropy(),\n",
        "                   metrics=[tf.keras.metrics.Recall()])"
      ],
      "execution_count": 338,
      "outputs": []
    },
    {
      "cell_type": "code",
      "metadata": {
        "colab": {
          "base_uri": "https://localhost:8080/"
        },
        "id": "BKAwXdFmgRfI",
        "outputId": "20371214-899a-4db9-cc3a-475efe5ba8ad"
      },
      "source": [
        "history2 = model_bin_sbert_2.fit(x=np.array(embeddings2), y=np.array(y_train_bin), validation_split=.20, workers=-1, epochs=4)\n"
      ],
      "execution_count": 339,
      "outputs": [
        {
          "output_type": "stream",
          "text": [
            "Epoch 1/4\n",
            "1469/1469 [==============================] - 5s 3ms/step - loss: 0.5485 - recall_3: 0.3009 - val_loss: 0.5376 - val_recall_3: 0.2765\n",
            "Epoch 2/4\n",
            "1469/1469 [==============================] - 4s 3ms/step - loss: 0.5242 - recall_3: 0.3454 - val_loss: 0.5282 - val_recall_3: 0.3771\n",
            "Epoch 3/4\n",
            "1469/1469 [==============================] - 4s 3ms/step - loss: 0.5102 - recall_3: 0.3636 - val_loss: 0.5173 - val_recall_3: 0.3820\n",
            "Epoch 4/4\n",
            "1469/1469 [==============================] - 4s 3ms/step - loss: 0.4972 - recall_3: 0.3913 - val_loss: 0.5257 - val_recall_3: 0.3861\n"
          ],
          "name": "stdout"
        }
      ]
    },
    {
      "cell_type": "code",
      "metadata": {
        "colab": {
          "base_uri": "https://localhost:8080/"
        },
        "id": "xqCfPq_0fSgl",
        "outputId": "0babff24-26ab-46e6-bcc1-5e2ffcddf24b"
      },
      "source": [
        "score = model_bin_sbert_2.evaluate(np.array(embeddings_test), np.array(y_test_bin), verbose = 1)\n",
        "score_train = model_bin_sbert_2.evaluate(np.array(embeddings2), np.array(y_train_bin), verbose = 1)\n",
        "\n",
        "print()\n",
        "print(\"Evaluate on test data\")\n",
        "print(f'Test loss: {score[0]} / Test accuracy: {score[1]}')\n",
        "\n",
        "print(\"Evaluate on train data\")\n",
        "print(f'Train loss: {score_train[0]} / Train accuracy: {score_train[1]}')\n",
        "\n",
        "#from sklearn.metrics import f1_score, precision_score, recall_score\n",
        "y_pred1 = model_bin_sbert_2.predict(np.array(embeddings_test))\n",
        "#y_pred = np.argmax(y_pred1, axis=1)\n",
        "y_pred = np.round(y_pred1).astype(int)\n",
        "\n",
        "print((y_pred==1).sum())\n",
        "\n",
        "\n",
        "\n",
        "print()\n",
        "print('Precision Score')\n",
        "print(precision_score(y_test_bin, y_pred, average='macro'))\n",
        "print()\n",
        "print('Recall Score')\n",
        "print(recall_score(y_test_bin, y_pred, average='macro'))\n",
        "print()\n",
        "print('F1 Score')\n",
        "print(f1_score(y_test_bin, y_pred, average='macro'))"
      ],
      "execution_count": 340,
      "outputs": [
        {
          "output_type": "stream",
          "text": [
            "459/459 [==============================] - 1s 2ms/step - loss: 0.5185 - recall_3: 0.3806\n",
            "1836/1836 [==============================] - 3s 2ms/step - loss: 0.4906 - recall_3: 0.4177\n",
            "\n",
            "Evaluate on test data\n",
            "Test loss: 0.5185146927833557 / Test accuracy: 0.3805597722530365\n",
            "Evaluate on train data\n",
            "Train loss: 0.4905955493450165 / Train accuracy: 0.417743057012558\n",
            "2559\n",
            "\n",
            "Precision Score\n",
            "0.7249897471624148\n",
            "\n",
            "Recall Score\n",
            "0.650333479872776\n",
            "\n",
            "F1 Score\n",
            "0.6622736539581376\n"
          ],
          "name": "stdout"
        }
      ]
    },
    {
      "cell_type": "code",
      "metadata": {
        "id": "TQt6JYlEgzgg"
      },
      "source": [
        "lstm_cw_2 = classification_report(y_test_bin, y_pred, output_dict=True)\n"
      ],
      "execution_count": 341,
      "outputs": []
    },
    {
      "cell_type": "code",
      "metadata": {
        "colab": {
          "base_uri": "https://localhost:8080/"
        },
        "id": "lo93smwUhY4t",
        "outputId": "8edc625c-5634-42e4-dfb8-2b6b1e2ea52e"
      },
      "source": [
        "pprint.pprint(lstm_cw_2)"
      ],
      "execution_count": 342,
      "outputs": [
        {
          "output_type": "stream",
          "text": [
            "{'0': {'f1-score': 0.8351499864877038,\n",
            "       'precision': 0.764555500577272,\n",
            "       'recall': 0.9201071853910282,\n",
            "       'support': 10076},\n",
            " '1': {'f1-score': 0.48939732142857145,\n",
            "       'precision': 0.6854239937475577,\n",
            "       'recall': 0.38055977435452376,\n",
            "       'support': 4609},\n",
            " 'accuracy': 0.7507660878447395,\n",
            " 'macro avg': {'f1-score': 0.6622736539581376,\n",
            "               'precision': 0.7249897471624148,\n",
            "               'recall': 0.650333479872776,\n",
            "               'support': 14685},\n",
            " 'weighted avg': {'f1-score': 0.7266328579036017,\n",
            "                  'precision': 0.7397194695947624,\n",
            "                  'recall': 0.7507660878447395,\n",
            "                  'support': 14685}}\n"
          ],
          "name": "stdout"
        }
      ]
    },
    {
      "cell_type": "code",
      "metadata": {
        "colab": {
          "base_uri": "https://localhost:8080/",
          "height": 349
        },
        "id": "owHlyViph72Z",
        "outputId": "b19de358-195b-4337-f261-c6a06effdd72"
      },
      "source": [
        "cfn = confusion_matrix(y_test_bin, y_pred)\n",
        "plot_confusion_matrix(cfn, classes=['Neutral', 'Mental Health'],\n",
        "                      title='Confusion matrix')"
      ],
      "execution_count": 343,
      "outputs": [
        {
          "output_type": "stream",
          "text": [
            "Confusion matrix, without normalization\n",
            "[[9271  805]\n",
            " [2855 1754]]\n"
          ],
          "name": "stdout"
        },
        {
          "output_type": "display_data",
          "data": {
            "image/png": "[encoded data removed]",
            "text/plain": [
              "<Figure size 432x288 with 2 Axes>"
            ]
          },
          "metadata": {
            "tags": [],
            "needs_background": "light"
          }
        }
      ]
    },
    {
      "cell_type": "markdown",
      "metadata": {
        "id": "1wUzMnadws7i"
      },
      "source": [
        "The model has a macro f1-score of 0.66, precision score of .72, and recall of .65.  However, for the mental health class, the f1 score is only .49, precision score of .69, and recall score of .38. Based on this, I create a second version of this model that uses class weights to address the class imbalance. \n",
        "\n",
        "\n",
        "\n"
      ]
    },
    {
      "cell_type": "code",
      "metadata": {
        "id": "H_GPeE6bn0wX"
      },
      "source": [
        "hid_dim1 = 768\n",
        "hid_dim2 = 384\n",
        "model_bin_sbert_balanced = tf.keras.models.Sequential([\n",
        "                                             tf.keras.layers.Dense(hid_dim1, activation=tf.nn.leaky_relu),\n",
        "                                             tf.keras.layers.Dense(hid_dim2, activation=tf.nn.leaky_relu),\n",
        "                                             tf.keras.layers.Dense(2, activation=tf.nn.leaky_relu),\n",
        "                                             tf.keras.layers.Dense(1, activation='sigmoid')\n",
        "])"
      ],
      "execution_count": 344,
      "outputs": []
    },
    {
      "cell_type": "code",
      "metadata": {
        "id": "lqIm43EDn32B"
      },
      "source": [
        "model_bin_sbert_balanced.compile(optimizer='adam', loss=tf.keras.losses.BinaryCrossentropy(),\n",
        "                   metrics=[tf.keras.metrics.Recall()])"
      ],
      "execution_count": 345,
      "outputs": []
    },
    {
      "cell_type": "code",
      "metadata": {
        "colab": {
          "base_uri": "https://localhost:8080/"
        },
        "id": "nV0-5a0OoM8a",
        "outputId": "2172e9c5-0b79-4d68-e27a-6aaf5b2c52b5"
      },
      "source": [
        "#calculate the class weights for the model\n",
        "unique = np.unique(y_train_bin)\n",
        "class_weights = class_weight.compute_class_weight('balanced', unique, y_train_bin)\n",
        "class_weight_dict = dict(enumerate(class_weights))\n",
        "class_weight_dict"
      ],
      "execution_count": 348,
      "outputs": [
        {
          "output_type": "execute_result",
          "data": {
            "text/plain": [
              "{0: 0.735610159302675, 1: 1.5610747887099345}"
            ]
          },
          "metadata": {
            "tags": []
          },
          "execution_count": 348
        }
      ]
    },
    {
      "cell_type": "code",
      "metadata": {
        "colab": {
          "base_uri": "https://localhost:8080/"
        },
        "id": "Il_2quQFoBry",
        "outputId": "93641f5a-53fc-4d82-c4b2-ba9162a68cca"
      },
      "source": [
        "history3 = model_bin_sbert_balanced.fit(x=np.array(embeddings2), y=np.array(y_train_bin), validation_split=.20, class_weight=class_weight_dict, workers=-1, epochs=15)\n"
      ],
      "execution_count": 350,
      "outputs": [
        {
          "output_type": "stream",
          "text": [
            "Epoch 1/15\n",
            "1469/1469 [==============================] - 5s 3ms/step - loss: 0.6041 - recall_4: 0.6909 - val_loss: 0.5867 - val_recall_4: 0.6778\n",
            "Epoch 2/15\n",
            "1469/1469 [==============================] - 4s 3ms/step - loss: 0.5767 - recall_4: 0.6602 - val_loss: 0.5483 - val_recall_4: 0.6183\n",
            "Epoch 3/15\n",
            "1469/1469 [==============================] - 4s 3ms/step - loss: 0.5605 - recall_4: 0.6703 - val_loss: 0.5765 - val_recall_4: 0.7093\n",
            "Epoch 4/15\n",
            "1469/1469 [==============================] - 4s 3ms/step - loss: 0.5449 - recall_4: 0.6869 - val_loss: 0.5556 - val_recall_4: 0.6288\n",
            "Epoch 5/15\n",
            "1469/1469 [==============================] - 4s 3ms/step - loss: 0.5277 - recall_4: 0.7003 - val_loss: 0.5572 - val_recall_4: 0.6239\n",
            "Epoch 6/15\n",
            "1469/1469 [==============================] - 4s 3ms/step - loss: 0.5045 - recall_4: 0.7221 - val_loss: 0.6342 - val_recall_4: 0.7480\n",
            "Epoch 7/15\n",
            "1469/1469 [==============================] - 4s 3ms/step - loss: 0.4777 - recall_4: 0.7453 - val_loss: 0.6095 - val_recall_4: 0.7011\n",
            "Epoch 8/15\n",
            "1469/1469 [==============================] - 4s 3ms/step - loss: 0.4464 - recall_4: 0.7736 - val_loss: 0.6111 - val_recall_4: 0.6544\n",
            "Epoch 9/15\n",
            "1469/1469 [==============================] - 4s 3ms/step - loss: 0.4159 - recall_4: 0.8026 - val_loss: 0.7005 - val_recall_4: 0.7715\n",
            "Epoch 10/15\n",
            "1469/1469 [==============================] - 4s 3ms/step - loss: 0.3782 - recall_4: 0.8416 - val_loss: 0.6854 - val_recall_4: 0.6600\n",
            "Epoch 11/15\n",
            "1469/1469 [==============================] - 4s 3ms/step - loss: 0.3505 - recall_4: 0.8579 - val_loss: 0.7358 - val_recall_4: 0.6332\n",
            "Epoch 12/15\n",
            "1469/1469 [==============================] - 4s 3ms/step - loss: 0.3202 - recall_4: 0.8807 - val_loss: 0.7503 - val_recall_4: 0.6915\n",
            "Epoch 13/15\n",
            "1469/1469 [==============================] - 4s 3ms/step - loss: 0.2830 - recall_4: 0.9031 - val_loss: 0.8329 - val_recall_4: 0.6363\n",
            "Epoch 14/15\n",
            "1469/1469 [==============================] - 4s 3ms/step - loss: 0.2597 - recall_4: 0.9173 - val_loss: 0.9150 - val_recall_4: 0.6704\n",
            "Epoch 15/15\n",
            "1469/1469 [==============================] - 4s 3ms/step - loss: 0.2354 - recall_4: 0.9285 - val_loss: 0.9128 - val_recall_4: 0.6079\n"
          ],
          "name": "stdout"
        }
      ]
    },
    {
      "cell_type": "code",
      "metadata": {
        "colab": {
          "base_uri": "https://localhost:8080/",
          "height": 295
        },
        "id": "uPBSzVy3olMC",
        "outputId": "dfa4345d-321f-4a05-8a2d-5e5f21589222"
      },
      "source": [
        "eval_metric(model_bin_sbert_balanced, history3, 'loss', ep=15)"
      ],
      "execution_count": 351,
      "outputs": [
        {
          "output_type": "display_data",
          "data": {
            "image/png": "[encoded data removed]",
            "text/plain": [
              "<Figure size 432x288 with 1 Axes>"
            ]
          },
          "metadata": {
            "tags": [],
            "needs_background": "light"
          }
        }
      ]
    },
    {
      "cell_type": "markdown",
      "metadata": {
        "id": "7Nb9JzzvyRWK"
      },
      "source": [
        "Based on the graph above, the model starts to overfit very quickly, so I only train it for 2 epochs. "
      ]
    },
    {
      "cell_type": "code",
      "metadata": {
        "id": "tE-sHyMIpHOL"
      },
      "source": [
        "hid_dim1 = 768\n",
        "hid_dim2 = 384\n",
        "model_bin_sbert_balanced = tf.keras.models.Sequential([\n",
        "                                             tf.keras.layers.Dense(hid_dim1, activation=tf.nn.leaky_relu),\n",
        "                                             tf.keras.layers.Dense(hid_dim2, activation=tf.nn.leaky_relu),\n",
        "                                             tf.keras.layers.Dense(2, activation=tf.nn.leaky_relu),\n",
        "                                             tf.keras.layers.Dense(1, activation='sigmoid')\n",
        "])"
      ],
      "execution_count": 352,
      "outputs": []
    },
    {
      "cell_type": "code",
      "metadata": {
        "id": "LZAP6CjHpIN2"
      },
      "source": [
        "model_bin_sbert_balanced.compile(optimizer='adam', loss=tf.keras.losses.BinaryCrossentropy(),\n",
        "                   metrics=[tf.keras.metrics.Recall()])"
      ],
      "execution_count": 353,
      "outputs": []
    },
    {
      "cell_type": "code",
      "metadata": {
        "colab": {
          "base_uri": "https://localhost:8080/"
        },
        "id": "BD5tfrn0pLVU",
        "outputId": "4c741f65-02b7-4509-8714-1f2ee92240c3"
      },
      "source": [
        "history3 = model_bin_sbert_balanced.fit(x=np.array(embeddings2), y=np.array(y_train_bin), validation_split=.20, class_weight=class_weight_dict, workers=-1, epochs=2)\n"
      ],
      "execution_count": 354,
      "outputs": [
        {
          "output_type": "stream",
          "text": [
            "Epoch 1/2\n",
            "1469/1469 [==============================] - 5s 3ms/step - loss: 0.6032 - recall_5: 0.6320 - val_loss: 0.5887 - val_recall_5: 0.6753\n",
            "Epoch 2/2\n",
            "1469/1469 [==============================] - 4s 3ms/step - loss: 0.5778 - recall_5: 0.6401 - val_loss: 0.5767 - val_recall_5: 0.6471\n"
          ],
          "name": "stdout"
        }
      ]
    },
    {
      "cell_type": "code",
      "metadata": {
        "colab": {
          "base_uri": "https://localhost:8080/"
        },
        "id": "ptOFDpR4pPgm",
        "outputId": "2deaf4bc-2f53-4cf3-f97a-4b48127d7e5b"
      },
      "source": [
        "score = model_bin_sbert_balanced.evaluate(np.array(embeddings_test), np.array(y_test_bin), verbose = 1)\n",
        "score_train = model_bin_sbert_balanced.evaluate(np.array(embeddings2), np.array(y_train_bin), verbose = 1)\n",
        "\n",
        "print()\n",
        "print(\"Evaluate on test data\")\n",
        "print(f'Test loss: {score[0]} / Test accuracy: {score[1]}')\n",
        "\n",
        "print(\"Evaluate on train data\")\n",
        "print(f'Train loss: {score_train[0]} / Train accuracy: {score_train[1]}')\n",
        "\n",
        "#from sklearn.metrics import f1_score, precision_score, recall_score\n",
        "y_pred1 = model_bin_sbert_balanced.predict(np.array(embeddings_test))\n",
        "#y_pred = np.argmax(y_pred1, axis=1)\n",
        "y_pred = np.round(y_pred1).astype(int)\n",
        "\n",
        "print((y_pred==1).sum())\n",
        "\n",
        "\n",
        "\n",
        "print()\n",
        "print('Precision Score')\n",
        "print(precision_score(y_test_bin, y_pred, average='macro'))\n",
        "print()\n",
        "print('Recall Score')\n",
        "print(recall_score(y_test_bin, y_pred, average='macro'))\n",
        "print()\n",
        "print('F1 Score')\n",
        "print(f1_score(y_test_bin, y_pred, average='macro'))"
      ],
      "execution_count": 355,
      "outputs": [
        {
          "output_type": "stream",
          "text": [
            "459/459 [==============================] - 1s 2ms/step - loss: 0.5818 - recall_5: 0.6444\n",
            "1836/1836 [==============================] - 3s 2ms/step - loss: 0.5670 - recall_5: 0.6604\n",
            "\n",
            "Evaluate on test data\n",
            "Test loss: 0.5817810893058777 / Test accuracy: 0.6443914175033569\n",
            "Evaluate on train data\n",
            "Train loss: 0.5669608116149902 / Train accuracy: 0.6604475378990173\n",
            "5432\n",
            "\n",
            "Precision Score\n",
            "0.6848141000164417\n",
            "\n",
            "Recall Score\n",
            "0.7000242074316341\n",
            "\n",
            "F1 Score\n",
            "0.6897031498807706\n"
          ],
          "name": "stdout"
        }
      ]
    },
    {
      "cell_type": "code",
      "metadata": {
        "id": "uc_K_4Nqpkmo"
      },
      "source": [
        "lstm_cw_balanced = classification_report(y_test_bin, y_pred, output_dict=True)\n"
      ],
      "execution_count": 356,
      "outputs": []
    },
    {
      "cell_type": "code",
      "metadata": {
        "colab": {
          "base_uri": "https://localhost:8080/"
        },
        "id": "GWw2HxMspn6w",
        "outputId": "0bfe59b5-81f6-4839-a5da-6e7a108f6685"
      },
      "source": [
        "pprint.pprint(lstm_cw_balanced)"
      ],
      "execution_count": 357,
      "outputs": [
        {
          "output_type": "stream",
          "text": [
            "{'0': {'f1-score': 0.7878317553934504,\n",
            "       'precision': 0.8228682589430455,\n",
            "       'recall': 0.7556570067487098,\n",
            "       'support': 10076},\n",
            " '1': {'f1-score': 0.5915745443680908,\n",
            "       'precision': 0.5467599410898379,\n",
            "       'recall': 0.6443914081145584,\n",
            "       'support': 4609},\n",
            " 'accuracy': 0.7207354443309499,\n",
            " 'macro avg': {'f1-score': 0.6897031498807706,\n",
            "               'precision': 0.6848141000164417,\n",
            "               'recall': 0.7000242074316341,\n",
            "               'support': 14685},\n",
            " 'weighted avg': {'f1-score': 0.7262349228693862,\n",
            "                  'precision': 0.7362095434520388,\n",
            "                  'recall': 0.7207354443309499,\n",
            "                  'support': 14685}}\n"
          ],
          "name": "stdout"
        }
      ]
    },
    {
      "cell_type": "code",
      "metadata": {
        "colab": {
          "base_uri": "https://localhost:8080/",
          "height": 349
        },
        "id": "rhHP08HNpwI3",
        "outputId": "8af001f0-4549-413f-a70d-6f2801d279a6"
      },
      "source": [
        "cfn = confusion_matrix(y_test_bin, y_pred)\n",
        "plot_confusion_matrix(cfn, classes=['Neutral', 'Mental Health'],\n",
        "                      title='Confusion matrix')"
      ],
      "execution_count": 358,
      "outputs": [
        {
          "output_type": "stream",
          "text": [
            "Confusion matrix, without normalization\n",
            "[[7614 2462]\n",
            " [1639 2970]]\n"
          ],
          "name": "stdout"
        },
        {
          "output_type": "display_data",
          "data": {
            "image/png": "[encoded data removed]",
            "text/plain": [
              "<Figure size 432x288 with 2 Axes>"
            ]
          },
          "metadata": {
            "tags": [],
            "needs_background": "light"
          }
        }
      ]
    },
    {
      "cell_type": "markdown",
      "metadata": {
        "id": "m3Lv7SPiyhk-"
      },
      "source": [
        "The macro f1 score is .69, precision is .68, and recall is .7.  For the mental health class, the f1-score is .59, precision is .55, and recall is .64. Although the precision for mental health classifications decreases from the previous version of the model, the recall score almost doubles. It catches much more mental health classes this time.  \n",
        "\n"
      ]
    },
    {
      "cell_type": "markdown",
      "metadata": {
        "id": "KMk2qpeovK73"
      },
      "source": [
        "### Second model to classify which mental health \n",
        "\n",
        "I now train a model that takes only individuals who are strugglng with their mental health, and predicts which mental illness they are struggling with. "
      ]
    },
    {
      "cell_type": "code",
      "metadata": {
        "id": "0D0P-KBo0FGZ"
      },
      "source": [
        "#remove entries from the neutral class, and finds the sentence embeddings for the remaining entries\n",
        "X_train_second = []\n",
        "y_train_second = []\n",
        "for i, val in enumerate(y_train):\n",
        "  if val != 0:\n",
        "    X_train_second.append(embeddings2[i])\n",
        "    if val == 6:\n",
        "      y_train_second.append(0)\n",
        "    else:\n",
        "      y_train_second.append(val)\n",
        "    \n"
      ],
      "execution_count": 360,
      "outputs": []
    },
    {
      "cell_type": "code",
      "metadata": {
        "id": "1LNggwsK1MOx"
      },
      "source": [
        "X_test_second = []\n",
        "y_test_second = []\n",
        "for i, val in enumerate(y_test):\n",
        "  if val != 0:\n",
        "    X_test_second.append(embeddings_test[i])\n",
        "    if val == 6:\n",
        "      y_test_second.append(0)\n",
        "    else:\n",
        "      y_test_second.append(val)\n",
        "    "
      ],
      "execution_count": 361,
      "outputs": []
    },
    {
      "cell_type": "code",
      "metadata": {
        "id": "5LDj5W-H2z7N"
      },
      "source": [
        "hid_dim1 = 768\n",
        "hid_dim2 = 384\n",
        "model_sbert_subclass = tf.keras.models.Sequential([\n",
        "                                             tf.keras.layers.Dense(hid_dim1, activation=tf.nn.leaky_relu),\n",
        "                                             tf.keras.layers.Dense(hid_dim2, activation=tf.nn.leaky_relu),\n",
        "                                             tf.keras.layers.Dense(6, activation=tf.nn.leaky_relu),\n",
        "                                             tf.keras.layers.Dense(6, use_bias=False),\n",
        "                                              tf.keras.layers.Softmax()\n",
        "\n",
        "])\n"
      ],
      "execution_count": 365,
      "outputs": []
    },
    {
      "cell_type": "code",
      "metadata": {
        "id": "st1VCy263dNs"
      },
      "source": [
        "model_sbert_subclass.compile(optimizer='adam', loss=tf.keras.losses.SparseCategoricalCrossentropy(),\n",
        "              metrics=['accuracy']) "
      ],
      "execution_count": 366,
      "outputs": []
    },
    {
      "cell_type": "code",
      "metadata": {
        "colab": {
          "base_uri": "https://localhost:8080/"
        },
        "id": "uAe3mMLm3Syf",
        "outputId": "eae197b7-048b-4c9f-da16-ca6405bb2e8a"
      },
      "source": [
        "history = model_sbert_subclass.fit(x=np.array(X_train_second), y=np.array(y_train_second), validation_split=.20, workers=-1, epochs=15)\n"
      ],
      "execution_count": 367,
      "outputs": [
        {
          "output_type": "stream",
          "text": [
            "Epoch 1/15\n",
            "471/471 [==============================] - 1s 2ms/step - loss: 1.6638 - accuracy: 0.3136 - val_loss: 1.6540 - val_accuracy: 0.3425\n",
            "Epoch 2/15\n",
            "471/471 [==============================] - 1s 2ms/step - loss: 1.6039 - accuracy: 0.3454 - val_loss: 1.6324 - val_accuracy: 0.3468\n",
            "Epoch 3/15\n",
            "471/471 [==============================] - 1s 2ms/step - loss: 1.5518 - accuracy: 0.3734 - val_loss: 1.6496 - val_accuracy: 0.3255\n",
            "Epoch 4/15\n",
            "471/471 [==============================] - 1s 2ms/step - loss: 1.4869 - accuracy: 0.4062 - val_loss: 1.6367 - val_accuracy: 0.3524\n",
            "Epoch 5/15\n",
            "471/471 [==============================] - 1s 2ms/step - loss: 1.4103 - accuracy: 0.4458 - val_loss: 1.6407 - val_accuracy: 0.3667\n",
            "Epoch 6/15\n",
            "471/471 [==============================] - 1s 2ms/step - loss: 1.3055 - accuracy: 0.4922 - val_loss: 1.6881 - val_accuracy: 0.3534\n",
            "Epoch 7/15\n",
            "471/471 [==============================] - 1s 2ms/step - loss: 1.1915 - accuracy: 0.5460 - val_loss: 1.7707 - val_accuracy: 0.3521\n",
            "Epoch 8/15\n",
            "471/471 [==============================] - 1s 2ms/step - loss: 1.0660 - accuracy: 0.5940 - val_loss: 1.8327 - val_accuracy: 0.3604\n",
            "Epoch 9/15\n",
            "471/471 [==============================] - 1s 2ms/step - loss: 0.9277 - accuracy: 0.6573 - val_loss: 2.0570 - val_accuracy: 0.3503\n",
            "Epoch 10/15\n",
            "471/471 [==============================] - 1s 2ms/step - loss: 0.7993 - accuracy: 0.7087 - val_loss: 2.2079 - val_accuracy: 0.3540\n",
            "Epoch 11/15\n",
            "471/471 [==============================] - 1s 2ms/step - loss: 0.6819 - accuracy: 0.7494 - val_loss: 2.3947 - val_accuracy: 0.3574\n",
            "Epoch 12/15\n",
            "471/471 [==============================] - 1s 2ms/step - loss: 0.5782 - accuracy: 0.7923 - val_loss: 2.6339 - val_accuracy: 0.3537\n",
            "Epoch 13/15\n",
            "471/471 [==============================] - 1s 2ms/step - loss: 0.4879 - accuracy: 0.8270 - val_loss: 2.7144 - val_accuracy: 0.3569\n",
            "Epoch 14/15\n",
            "471/471 [==============================] - 1s 2ms/step - loss: 0.3968 - accuracy: 0.8613 - val_loss: 3.1050 - val_accuracy: 0.3492\n",
            "Epoch 15/15\n",
            "471/471 [==============================] - 1s 2ms/step - loss: 0.3611 - accuracy: 0.8738 - val_loss: 3.3287 - val_accuracy: 0.3665\n"
          ],
          "name": "stdout"
        }
      ]
    },
    {
      "cell_type": "code",
      "metadata": {
        "colab": {
          "base_uri": "https://localhost:8080/",
          "height": 295
        },
        "id": "DQ48od2-scxm",
        "outputId": "762b9da6-5f75-4e32-e24b-e0cc80fa0dcd"
      },
      "source": [
        "eval_metric(model_sbert_subclass, history, 'loss', ep=15)"
      ],
      "execution_count": 368,
      "outputs": [
        {
          "output_type": "display_data",
          "data": {
            "image/png": "[encoded data removed]",
            "text/plain": [
              "<Figure size 432x288 with 1 Axes>"
            ]
          },
          "metadata": {
            "tags": [],
            "needs_background": "light"
          }
        }
      ]
    },
    {
      "cell_type": "markdown",
      "metadata": {
        "id": "eZI5y38q0J3B"
      },
      "source": [
        "According to the graph above, the model begins to overfit after the fourth epoch.  I restart the model, only training it for four epochs. "
      ]
    },
    {
      "cell_type": "code",
      "metadata": {
        "id": "iM9cpF1osrC-"
      },
      "source": [
        "hid_dim1 = 768\n",
        "hid_dim2 = 384\n",
        "model_sbert_subclass = tf.keras.models.Sequential([\n",
        "                                             tf.keras.layers.Dense(hid_dim1, activation=tf.nn.leaky_relu),\n",
        "                                             tf.keras.layers.Dense(hid_dim2, activation=tf.nn.leaky_relu),\n",
        "                                             tf.keras.layers.Dense(6, activation=tf.nn.leaky_relu),\n",
        "                                             tf.keras.layers.Dense(6, use_bias=False),\n",
        "                                              tf.keras.layers.Softmax()\n",
        "\n",
        "])\n"
      ],
      "execution_count": 369,
      "outputs": []
    },
    {
      "cell_type": "code",
      "metadata": {
        "id": "2BkIUXdDssK5"
      },
      "source": [
        "model_sbert_subclass.compile(optimizer='adam', loss=tf.keras.losses.SparseCategoricalCrossentropy(),\n",
        "              metrics=['accuracy']) "
      ],
      "execution_count": 370,
      "outputs": []
    },
    {
      "cell_type": "code",
      "metadata": {
        "colab": {
          "base_uri": "https://localhost:8080/"
        },
        "id": "VZR_2ywHswbJ",
        "outputId": "b15d4ee9-fcb1-47a9-85a5-2a832453122f"
      },
      "source": [
        "history2 = model_sbert_subclass.fit(x=np.array(X_train_second), y=np.array(y_train_second), validation_split=.20, workers=-1, epochs=4)\n"
      ],
      "execution_count": 371,
      "outputs": [
        {
          "output_type": "stream",
          "text": [
            "Epoch 1/4\n",
            "471/471 [==============================] - 1s 2ms/step - loss: 1.6644 - accuracy: 0.3139 - val_loss: 1.6519 - val_accuracy: 0.3117\n",
            "Epoch 2/4\n",
            "471/471 [==============================] - 1s 2ms/step - loss: 1.5965 - accuracy: 0.3501 - val_loss: 1.6389 - val_accuracy: 0.3537\n",
            "Epoch 3/4\n",
            "471/471 [==============================] - 1s 2ms/step - loss: 1.5390 - accuracy: 0.3847 - val_loss: 1.6454 - val_accuracy: 0.3271\n",
            "Epoch 4/4\n",
            "471/471 [==============================] - 1s 2ms/step - loss: 1.4720 - accuracy: 0.4126 - val_loss: 1.6298 - val_accuracy: 0.3627\n"
          ],
          "name": "stdout"
        }
      ]
    },
    {
      "cell_type": "code",
      "metadata": {
        "colab": {
          "base_uri": "https://localhost:8080/"
        },
        "id": "r9_XNRdq-jOm",
        "outputId": "c8fa1476-9da0-4844-9a0e-a33ec854de5f"
      },
      "source": [
        "score = model_sbert_subclass.evaluate(np.array(X_test_second), np.array(y_test_second), verbose = 1)\n",
        "score_train = model_sbert_subclass.evaluate(np.array(X_train_second), np.array(y_train_second), verbose = 1)\n",
        "target_names = ['class 0', 'class 1', 'class 2', 'class 3', 'class 4', 'class 5']\n",
        "\n",
        "\n",
        "print(\"Evaluate on test data\")\n",
        "print(f'Test loss: {score[0]} / Test accuracy: {score[1]}')\n",
        "\n",
        "print(\"Evaluate on train data\")\n",
        "print(f'Train loss: {score_train[0]} / Train accuracy: {score_train[1]}')\n",
        "\n",
        "\n",
        "y_pred1 = model_sbert_subclass.predict(np.array(X_test_second))\n",
        "y_pred = np.argmax(y_pred1, axis=1).astype(int)\n"
      ],
      "execution_count": 372,
      "outputs": [
        {
          "output_type": "stream",
          "text": [
            "145/145 [==============================] - 0s 1ms/step - loss: 1.6421 - accuracy: 0.3558\n",
            "588/588 [==============================] - 1s 1ms/step - loss: 1.4300 - accuracy: 0.4436\n",
            "Evaluate on test data\n",
            "Test loss: 1.6420669555664062 / Test accuracy: 0.3558255732059479\n",
            "Evaluate on train data\n",
            "Train loss: 1.4299757480621338 / Train accuracy: 0.4436294138431549\n"
          ],
          "name": "stdout"
        }
      ]
    },
    {
      "cell_type": "code",
      "metadata": {
        "id": "3JfJXgs_tJ1h"
      },
      "source": [
        "sbert_sub = classification_report(y_test_second, y_pred, output_dict=True)\n"
      ],
      "execution_count": 373,
      "outputs": []
    },
    {
      "cell_type": "code",
      "metadata": {
        "id": "gGqZhzE8tbMJ"
      },
      "source": [
        "sbert_sub['anxiety'] = sbert_sub.pop('1')\n",
        "sbert_sub['adhd'] = sbert_sub.pop('2')\n",
        "sbert_sub['bipolar'] = sbert_sub.pop('3')\n",
        "sbert_sub['bpd'] = sbert_sub.pop('4')\n",
        "sbert_sub['depression'] = sbert_sub.pop('5')\n",
        "sbert_sub['ptsd'] = sbert_sub.pop('0')\n"
      ],
      "execution_count": 374,
      "outputs": []
    },
    {
      "cell_type": "code",
      "metadata": {
        "colab": {
          "base_uri": "https://localhost:8080/"
        },
        "id": "XIoDi5jSuCwJ",
        "outputId": "968aae1e-da2b-43f7-851e-ef1de2b28aff"
      },
      "source": [
        "pprint.pprint(sbert_sub)"
      ],
      "execution_count": 375,
      "outputs": [
        {
          "output_type": "stream",
          "text": [
            "{'accuracy': 0.3558255586895205,\n",
            " 'adhd': {'f1-score': 0.14480587618048268,\n",
            "          'precision': 0.3791208791208791,\n",
            "          'recall': 0.08949416342412451,\n",
            "          'support': 771},\n",
            " 'anxiety': {'f1-score': 0.4614967462039046,\n",
            "             'precision': 0.3571128829206882,\n",
            "             'recall': 0.6521072796934866,\n",
            "             'support': 1305},\n",
            " 'bipolar': {'f1-score': 0.16216216216216217,\n",
            "             'precision': 0.3125,\n",
            "             'recall': 0.10948905109489052,\n",
            "             'support': 548},\n",
            " 'bpd': {'f1-score': 0.05179282868525897,\n",
            "         'precision': 0.2653061224489796,\n",
            "         'recall': 0.02869757174392936,\n",
            "         'support': 453},\n",
            " 'depression': {'f1-score': 0.08888888888888889,\n",
            "                'precision': 0.26865671641791045,\n",
            "                'recall': 0.05325443786982249,\n",
            "                'support': 338},\n",
            " 'macro avg': {'f1-score': 0.22308300632614578,\n",
            "               'precision': 0.32417063164142496,\n",
            "               'recall': 0.24330719564050063,\n",
            "               'support': 4609},\n",
            " 'ptsd': {'f1-score': 0.4293515358361775,\n",
            "          'precision': 0.3623271889400922,\n",
            "          'recall': 0.5268006700167505,\n",
            "          'support': 1194},\n",
            " 'weighted avg': {'f1-score': 0.29700928158458995,\n",
            "                  'precision': 0.3413306177537009,\n",
            "                  'recall': 0.3558255586895205,\n",
            "                  'support': 4609}}\n"
          ],
          "name": "stdout"
        }
      ]
    },
    {
      "cell_type": "code",
      "metadata": {
        "colab": {
          "base_uri": "https://localhost:8080/",
          "height": 418
        },
        "id": "8tEaXOHFuK8J",
        "outputId": "d3a7479f-d926-47b3-8206-ea5eca353197"
      },
      "source": [
        "cfn = confusion_matrix(y_test_second, y_pred)\n",
        "plot_confusion_matrix(cfn, classes=['ptsd', 'anxiety', 'adhd', 'bipolar', 'bpd', 'depression'],\n",
        "                      title='Confusion matrix')"
      ],
      "execution_count": 377,
      "outputs": [
        {
          "output_type": "stream",
          "text": [
            "Confusion matrix, without normalization\n",
            "[[629 473  32  39   8  13]\n",
            " [358 851  43  28   9  16]\n",
            " [260 403  69  24   4  11]\n",
            " [201 254  16  60  12   5]\n",
            " [177 223  12  24  13   4]\n",
            " [111 179  10  17   3  18]]\n"
          ],
          "name": "stdout"
        },
        {
          "output_type": "display_data",
          "data": {
            "image/png": "[encoded data removed]",
            "text/plain": [
              "<Figure size 432x288 with 2 Axes>"
            ]
          },
          "metadata": {
            "tags": [],
            "needs_background": "light"
          }
        }
      ]
    },
    {
      "cell_type": "markdown",
      "metadata": {
        "id": "5zef3kCh0dBe"
      },
      "source": [
        "Overall, the model has a f1 score of .297.  It does best with anxiety (recall of .65 and precision of .36) and PTSD (recall of .53 and precision of .36). Also interestingly, PTSD is misclassified as anxiety 473 times, and anxiety is misclassified as PTSD 358 times. These disorders are closely linked, so it makes sense the model is picking up on this. \n",
        "\n",
        "\n"
      ]
    },
    {
      "cell_type": "code",
      "metadata": {
        "id": "bCd8b3tK1Z36"
      },
      "source": [
        "hid_dim1 = 768\n",
        "hid_dim2 = 384\n",
        "model_sbert_subclass_cw = tf.keras.models.Sequential([\n",
        "                                             tf.keras.layers.Dense(hid_dim1, activation=tf.nn.leaky_relu),\n",
        "                                             tf.keras.layers.Dense(hid_dim2, activation=tf.nn.leaky_relu),\n",
        "                                             tf.keras.layers.Dense(6, activation=tf.nn.leaky_relu),\n",
        "                                             tf.keras.layers.Dense(6, use_bias=False),\n",
        "                                              tf.keras.layers.Softmax()\n",
        "\n",
        "])\n"
      ],
      "execution_count": 381,
      "outputs": []
    },
    {
      "cell_type": "code",
      "metadata": {
        "id": "Lk1nVTjM1gZT"
      },
      "source": [
        "model_sbert_subclass_cw.compile(optimizer='adam', loss=tf.keras.losses.SparseCategoricalCrossentropy(),\n",
        "              metrics=['accuracy']) "
      ],
      "execution_count": 382,
      "outputs": []
    },
    {
      "cell_type": "code",
      "metadata": {
        "colab": {
          "base_uri": "https://localhost:8080/"
        },
        "id": "5_rvbkLd11cu",
        "outputId": "894d56ca-49e9-43a7-ce6b-4b4ef6f8fac1"
      },
      "source": [
        "#calculate the class weights for the model\n",
        "unique = np.unique(y_train_second)\n",
        "class_weights = class_weight.compute_class_weight('balanced', unique, y_train_second)\n",
        "class_weight_dict = dict(enumerate(class_weights))\n",
        "class_weight_dict"
      ],
      "execution_count": 383,
      "outputs": [
        {
          "output_type": "execute_result",
          "data": {
            "text/plain": [
              "{0: 0.6264735264735265,\n",
              " 1: 0.5900451637184795,\n",
              " 2: 1.047261189044756,\n",
              " 3: 1.3503445305770887,\n",
              " 4: 1.7371191135734072,\n",
              " 5: 2.283685360524399}"
            ]
          },
          "metadata": {
            "tags": []
          },
          "execution_count": 383
        }
      ]
    },
    {
      "cell_type": "code",
      "metadata": {
        "colab": {
          "base_uri": "https://localhost:8080/"
        },
        "id": "9Uk7r_AZ1mpi",
        "outputId": "e620e2cd-e18c-4946-cc0a-d655c7aaa13d"
      },
      "source": [
        "history3 = model_sbert_subclass_cw.fit(x=np.array(X_train_second), y=np.array(y_train_second), validation_split=.20, class_weight=class_weight_dict, workers=-1, epochs=15)\n"
      ],
      "execution_count": 384,
      "outputs": [
        {
          "output_type": "stream",
          "text": [
            "Epoch 1/15\n",
            "471/471 [==============================] - 2s 3ms/step - loss: 1.7714 - accuracy: 0.1783 - val_loss: 1.7898 - val_accuracy: 0.1927\n",
            "Epoch 2/15\n",
            "471/471 [==============================] - 1s 2ms/step - loss: 1.7126 - accuracy: 0.2290 - val_loss: 1.7515 - val_accuracy: 0.2341\n",
            "Epoch 3/15\n",
            "471/471 [==============================] - 1s 2ms/step - loss: 1.6574 - accuracy: 0.2702 - val_loss: 1.7289 - val_accuracy: 0.2556\n",
            "Epoch 4/15\n",
            "471/471 [==============================] - 1s 2ms/step - loss: 1.5917 - accuracy: 0.3014 - val_loss: 1.7219 - val_accuracy: 0.2679\n",
            "Epoch 5/15\n",
            "471/471 [==============================] - 1s 2ms/step - loss: 1.5111 - accuracy: 0.3374 - val_loss: 1.7734 - val_accuracy: 0.2788\n",
            "Epoch 6/15\n",
            "471/471 [==============================] - 1s 2ms/step - loss: 1.4098 - accuracy: 0.3819 - val_loss: 1.7751 - val_accuracy: 0.2798\n",
            "Epoch 7/15\n",
            "471/471 [==============================] - 1s 2ms/step - loss: 1.2820 - accuracy: 0.4371 - val_loss: 1.8925 - val_accuracy: 0.2958\n",
            "Epoch 8/15\n",
            "471/471 [==============================] - 1s 2ms/step - loss: 1.1654 - accuracy: 0.4843 - val_loss: 1.8518 - val_accuracy: 0.2974\n",
            "Epoch 9/15\n",
            "471/471 [==============================] - 1s 2ms/step - loss: 1.0292 - accuracy: 0.5379 - val_loss: 2.0707 - val_accuracy: 0.3245\n",
            "Epoch 10/15\n",
            "471/471 [==============================] - 1s 2ms/step - loss: 0.9226 - accuracy: 0.5860 - val_loss: 2.2291 - val_accuracy: 0.3109\n",
            "Epoch 11/15\n",
            "471/471 [==============================] - 1s 2ms/step - loss: 0.7826 - accuracy: 0.6452 - val_loss: 2.1297 - val_accuracy: 0.3433\n",
            "Epoch 12/15\n",
            "471/471 [==============================] - 1s 2ms/step - loss: 0.6622 - accuracy: 0.7011 - val_loss: 2.5308 - val_accuracy: 0.3226\n",
            "Epoch 13/15\n",
            "471/471 [==============================] - 1s 2ms/step - loss: 0.6015 - accuracy: 0.7320 - val_loss: 2.7102 - val_accuracy: 0.3314\n",
            "Epoch 14/15\n",
            "471/471 [==============================] - 1s 2ms/step - loss: 0.4733 - accuracy: 0.7795 - val_loss: 2.8503 - val_accuracy: 0.3335\n",
            "Epoch 15/15\n",
            "471/471 [==============================] - 1s 2ms/step - loss: 0.4253 - accuracy: 0.8055 - val_loss: 2.9538 - val_accuracy: 0.3396\n"
          ],
          "name": "stdout"
        }
      ]
    },
    {
      "cell_type": "code",
      "metadata": {
        "colab": {
          "base_uri": "https://localhost:8080/",
          "height": 295
        },
        "id": "OdsmCifD2Py0",
        "outputId": "9b652add-fd03-4cc3-8edb-f04c84ec52e7"
      },
      "source": [
        "eval_metric(model_sbert_subclass_cw, history3, 'loss', ep=15)"
      ],
      "execution_count": 385,
      "outputs": [
        {
          "output_type": "display_data",
          "data": {
            "image/png": "[encoded data removed]",
            "text/plain": [
              "<Figure size 432x288 with 1 Axes>"
            ]
          },
          "metadata": {
            "tags": [],
            "needs_background": "light"
          }
        }
      ]
    },
    {
      "cell_type": "markdown",
      "metadata": {
        "id": "YxCtn2vr7as8"
      },
      "source": [
        "This model also begins to overfit around the fourth epoch. "
      ]
    },
    {
      "cell_type": "code",
      "metadata": {
        "id": "fHQkmxR12YES"
      },
      "source": [
        "hid_dim1 = 768\n",
        "hid_dim2 = 384\n",
        "model_sbert_subclass_cw = tf.keras.models.Sequential([\n",
        "                                             tf.keras.layers.Dense(hid_dim1, activation=tf.nn.leaky_relu),\n",
        "                                             tf.keras.layers.Dense(hid_dim2, activation=tf.nn.leaky_relu),\n",
        "                                             tf.keras.layers.Dense(6, activation=tf.nn.leaky_relu),\n",
        "                                             tf.keras.layers.Dense(6, use_bias=False),\n",
        "                                              tf.keras.layers.Softmax()\n",
        "\n",
        "])"
      ],
      "execution_count": 386,
      "outputs": []
    },
    {
      "cell_type": "code",
      "metadata": {
        "id": "kTzuVwzL2i14"
      },
      "source": [
        "model_sbert_subclass_cw.compile(optimizer='adam', loss=tf.keras.losses.SparseCategoricalCrossentropy(),\n",
        "              metrics=['accuracy']) "
      ],
      "execution_count": 387,
      "outputs": []
    },
    {
      "cell_type": "code",
      "metadata": {
        "colab": {
          "base_uri": "https://localhost:8080/"
        },
        "id": "s55hBDPc2oda",
        "outputId": "102419f7-056f-4742-a2d2-ff2e72e5f30c"
      },
      "source": [
        "history3 = model_sbert_subclass_cw.fit(x=np.array(X_train_second), y=np.array(y_train_second), validation_split=.20, class_weight=class_weight_dict, workers=-1, epochs=4)\n"
      ],
      "execution_count": 388,
      "outputs": [
        {
          "output_type": "stream",
          "text": [
            "Epoch 1/4\n",
            "471/471 [==============================] - 2s 3ms/step - loss: 1.7744 - accuracy: 0.2008 - val_loss: 1.7594 - val_accuracy: 0.2171\n",
            "Epoch 2/4\n",
            "471/471 [==============================] - 1s 2ms/step - loss: 1.7215 - accuracy: 0.2380 - val_loss: 1.7540 - val_accuracy: 0.2312\n",
            "Epoch 3/4\n",
            "471/471 [==============================] - 1s 2ms/step - loss: 1.6592 - accuracy: 0.2829 - val_loss: 1.7306 - val_accuracy: 0.2580\n",
            "Epoch 4/4\n",
            "471/471 [==============================] - 1s 2ms/step - loss: 1.5845 - accuracy: 0.3247 - val_loss: 1.7120 - val_accuracy: 0.2796\n"
          ],
          "name": "stdout"
        }
      ]
    },
    {
      "cell_type": "code",
      "metadata": {
        "colab": {
          "base_uri": "https://localhost:8080/"
        },
        "id": "00qkM0jk2tGr",
        "outputId": "5a524908-04f0-434e-a660-9033734734d3"
      },
      "source": [
        "score = model_sbert_subclass_cw.evaluate(np.array(X_test_second), np.array(y_test_second), verbose = 1)\n",
        "score_train = model_sbert_subclass_cw.evaluate(np.array(X_train_second), np.array(y_train_second), verbose = 1)\n",
        "\n",
        "\n",
        "print(\"Evaluate on test data\")\n",
        "print(f'Test loss: {score[0]} / Test accuracy: {score[1]}')\n",
        "\n",
        "print(\"Evaluate on train data\")\n",
        "print(f'Train loss: {score_train[0]} / Train accuracy: {score_train[1]}')\n",
        "\n",
        "\n",
        "y_pred1 = model_sbert_subclass_cw.predict(np.array(X_test_second))\n",
        "y_pred = np.argmax(y_pred1, axis=1).astype(int)"
      ],
      "execution_count": 389,
      "outputs": [
        {
          "output_type": "stream",
          "text": [
            "145/145 [==============================] - 0s 1ms/step - loss: 1.7177 - accuracy: 0.2749\n",
            "588/588 [==============================] - 1s 1ms/step - loss: 1.5254 - accuracy: 0.3787\n",
            "Evaluate on test data\n",
            "Test loss: 1.717745304107666 / Test accuracy: 0.2748969495296478\n",
            "Evaluate on train data\n",
            "Train loss: 1.5254179239273071 / Train accuracy: 0.37867432832717896\n"
          ],
          "name": "stdout"
        }
      ]
    },
    {
      "cell_type": "code",
      "metadata": {
        "id": "6HzAE-9a278N"
      },
      "source": [
        "sbert_sub_cw = classification_report(y_test_second, y_pred, output_dict=True)\n"
      ],
      "execution_count": 390,
      "outputs": []
    },
    {
      "cell_type": "code",
      "metadata": {
        "id": "rCOWznJm3DZ5"
      },
      "source": [
        "sbert_sub_cw['anxiety'] = sbert_sub_cw.pop('1')\n",
        "sbert_sub_cw['adhd'] = sbert_sub_cw.pop('2')\n",
        "sbert_sub_cw['bipolar'] = sbert_sub_cw.pop('3')\n",
        "sbert_sub_cw['bpd'] = sbert_sub_cw.pop('4')\n",
        "sbert_sub_cw['depression'] = sbert_sub_cw.pop('5')\n",
        "sbert_sub_cw['ptsd'] = sbert_sub_cw.pop('0')"
      ],
      "execution_count": 391,
      "outputs": []
    },
    {
      "cell_type": "code",
      "metadata": {
        "colab": {
          "base_uri": "https://localhost:8080/"
        },
        "id": "C7ZN-P7e3TNW",
        "outputId": "87786cc0-0042-48a4-c476-23d6e2c65055"
      },
      "source": [
        "pprint.pprint(sbert_sub_cw)"
      ],
      "execution_count": 392,
      "outputs": [
        {
          "output_type": "stream",
          "text": [
            "{'accuracy': 0.2748969407680625,\n",
            " 'adhd': {'f1-score': 0.26192075218267297,\n",
            "          'precision': 0.27158774373259054,\n",
            "          'recall': 0.2529182879377432,\n",
            "          'support': 771},\n",
            " 'anxiety': {'f1-score': 0.25418060200668896,\n",
            "             'precision': 0.4662576687116564,\n",
            "             'recall': 0.17471264367816092,\n",
            "             'support': 1305},\n",
            " 'bipolar': {'f1-score': 0.27674418604651163,\n",
            "             'precision': 0.2030716723549488,\n",
            "             'recall': 0.4343065693430657,\n",
            "             'support': 548},\n",
            " 'bpd': {'f1-score': 0.23353819139596138,\n",
            "         'precision': 0.19387755102040816,\n",
            "         'recall': 0.293598233995585,\n",
            "         'support': 453},\n",
            " 'depression': {'f1-score': 0.17464788732394362,\n",
            "                'precision': 0.16666666666666666,\n",
            "                'recall': 0.1834319526627219,\n",
            "                'support': 338},\n",
            " 'macro avg': {'f1-score': 0.2580755713193415,\n",
            "               'precision': 0.27535731605715436,\n",
            "               'recall': 0.2805314655241525,\n",
            "               'support': 4609},\n",
            " 'ptsd': {'f1-score': 0.34742180896027053,\n",
            "          'precision': 0.3506825938566553,\n",
            "          'recall': 0.3442211055276382,\n",
            "          'support': 1194},\n",
            " 'weighted avg': {'f1-score': 0.27445168713853,\n",
            "                  'precision': 0.3237184997933338,\n",
            "                  'recall': 0.2748969407680625,\n",
            "                  'support': 4609}}\n"
          ],
          "name": "stdout"
        }
      ]
    },
    {
      "cell_type": "code",
      "metadata": {
        "colab": {
          "base_uri": "https://localhost:8080/",
          "height": 418
        },
        "id": "qpIbByVL3Wyg",
        "outputId": "44c64663-b3b6-4781-afb3-d80ce4dbe035"
      },
      "source": [
        "cfn = confusion_matrix(y_test_second, y_pred)\n",
        "plot_confusion_matrix(cfn, classes=['ptsd', 'anxiety', 'adhd', 'bipolar', 'bpd', 'depression'],\n",
        "                      title='Confusion matrix')"
      ],
      "execution_count": 393,
      "outputs": [
        {
          "output_type": "stream",
          "text": [
            "Confusion matrix, without normalization\n",
            "[[411  90 132 331 157  73]\n",
            " [285 228 213 261 185 133]\n",
            " [200  64 195 164  94  54]\n",
            " [113  39  69 238  63  26]\n",
            " [ 96  35  56 109 133  24]\n",
            " [ 67  33  53  69  54  62]]\n"
          ],
          "name": "stdout"
        },
        {
          "output_type": "display_data",
          "data": {
            "image/png": "[encoded data removed]",
            "text/plain": [
              "<Figure size 432x288 with 2 Axes>"
            ]
          },
          "metadata": {
            "tags": [],
            "needs_background": "light"
          }
        }
      ]
    },
    {
      "cell_type": "markdown",
      "metadata": {
        "id": "6-6et3yv3iUz"
      },
      "source": [
        "This model has a weighted f1-score of .27, precision of .32, and recall of .27.  ADHD's recall and precision are similiar to each other at .25 and .27.  Anxiety's precision is .47 and recall is .17.  Bipolar's recall is .43 but precision is .2.  BPD's recall is .29 and precision is .19.  Depression has a recall of .18 and precision of .17.  PTSD's recall is .34 and precision is .35. Interestingly, in this model PTSD is linked more closely to bipolar than anxiety.  "
      ]
    },
    {
      "cell_type": "markdown",
      "metadata": {
        "id": "e5fxhqlsVYk1"
      },
      "source": [
        "# Conclusions \n",
        "\n",
        "Posts in non-mental health subreddits can also show a lot about whether someone is struggling with their mental health, whether from patterns in speech or from the content of the posts. I was able to train a model on non-mental health related social media posts that could classify users as struggling with their mental health or not, but was unable to train a model solely on non-mental health posts that could classfy which mental health illness someone is likely to have with a high degree of precision or recall. The models struggled to distinguish between the disorders. \n",
        "\n",
        "\n",
        "\n",
        "## Business Recommendations \n",
        "\n",
        "*   Create an online support group: Many people form strong relationships and groups online.  Some people feel more comfortable opening up when not having to speak out loud or show their face.  Creating a support group that's entirely online could be very successful and helpful for individuals. \n",
        "*   Respond to users: Talk about the benefits of counseling, programs the agency offers, post information.  Always obey subreddit/community rules! \n",
        "*   Subreddits of note: AskReddit, Relationships, RelationshipAdvice, AmITheAsshole - had high post rates for users struggling wth their mental health.  Monitor those subreddits as well as the subreddits focused on mental health. \n",
        "\n",
        "## Future Work\n",
        "\n",
        "*   Continue to refine the models to analyze language\n",
        "*   Creating an informational and encouraging (not too positive) bot \n",
        "*   Examine comorbidity and how it could affect language\n",
        "\n",
        "\n"
      ]
    },
    {
      "cell_type": "code",
      "metadata": {
        "id": "oEDiOAt1ZhnD"
      },
      "source": [
        ""
      ],
      "execution_count": null,
      "outputs": []
    }
  ]
}